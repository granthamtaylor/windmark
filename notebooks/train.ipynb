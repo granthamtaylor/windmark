{
 "cells": [
  {
   "cell_type": "code",
   "execution_count": 1,
   "metadata": {},
   "outputs": [],
   "source": [
    "import sys\n",
    "import os\n",
    "\n",
    "sys.path.append(os.path.abspath(\"..\"))\n",
    "\n",
    "%load_ext autoreload\n",
    "%autoreload 2"
   ]
  },
  {
   "cell_type": "code",
   "execution_count": 2,
   "metadata": {},
   "outputs": [
    {
     "ename": "ModuleNotFoundError",
     "evalue": "No module named 'source.core.data'",
     "output_type": "error",
     "traceback": [
      "\u001b[0;31m---------------------------------------------------------------------------\u001b[0m",
      "\u001b[0;31mModuleNotFoundError\u001b[0m                       Traceback (most recent call last)",
      "Cell \u001b[0;32mIn[2], line 6\u001b[0m\n\u001b[1;32m      1\u001b[0m \u001b[38;5;66;03m# from lightning.pytorch import Trainer\u001b[39;00m\n\u001b[1;32m      2\u001b[0m \u001b[38;5;66;03m# from tdigest import TDigest\u001b[39;00m\n\u001b[1;32m      3\u001b[0m \n\u001b[1;32m      4\u001b[0m \u001b[38;5;66;03m# from source import SequenceModule, DataModule, Field, Hyperparameters\u001b[39;00m\n\u001b[0;32m----> 6\u001b[0m \u001b[38;5;28;01mfrom\u001b[39;00m \u001b[38;5;21;01msource\u001b[39;00m\u001b[38;5;21;01m.\u001b[39;00m\u001b[38;5;21;01mcore\u001b[39;00m\u001b[38;5;21;01m.\u001b[39;00m\u001b[38;5;21;01mdata\u001b[39;00m \u001b[38;5;28;01mimport\u001b[39;00m iterops\n",
      "\u001b[0;31mModuleNotFoundError\u001b[0m: No module named 'source.core.data'"
     ]
    }
   ],
   "source": [
    "from lightning.pytorch import Trainer\n",
    "from tdigest import TDigest\n",
    "\n",
    "from source import SequenceModule, DataModule, Field, Hyperparameters"
   ]
  },
  {
   "cell_type": "code",
   "execution_count": 3,
   "metadata": {},
   "outputs": [
    {
     "name": "stderr",
     "output_type": "stream",
     "text": [
      "GPU available: True (mps), used: False\n",
      "TPU available: False, using: 0 TPU cores\n",
      "IPU available: False, using: 0 IPUs\n",
      "HPU available: False, using: 0 HPUs\n",
      "/Users/grantham/Library/Caches/pypoetry/virtualenvs/windmark-f6A5bTdG-py3.11/lib/python3.11/site-packages/lightning/pytorch/trainer/setup.py:187: GPU available but not used. You can set it by doing `Trainer(accelerator='gpu')`.\n",
      "/Users/grantham/Library/Caches/pypoetry/virtualenvs/windmark-f6A5bTdG-py3.11/lib/python3.11/site-packages/lightning/pytorch/trainer/connectors/logger_connector/logger_connector.py:75: Starting from v1.9.0, `tensorboardX` has been removed as a dependency of the `lightning.pytorch` package, due to potential conflicts with other packages in the ML ecosystem. For this reason, `logger=True` will use `CSVLogger` as the default logger, unless the `tensorboard` or `tensorboardX` packages are found. Please `pip install lightning[extra]` or one of them to enable TensorBoard support by default\n",
      "Running in `fast_dev_run` mode: will run the requested loop using 1 batch(es). Logging and checkpointing is suppressed.\n"
     ]
    },
    {
     "name": "stdout",
     "output_type": "stream",
     "text": [
      "5.0 MB\n"
     ]
    },
    {
     "name": "stderr",
     "output_type": "stream",
     "text": [
      "\n",
      "  | Name               | Type                 | Params\n",
      "------------------------------------------------------------\n",
      "0 | modular_embeddings | ModularFieldEmbedder | 320 K \n",
      "1 | field_encoder      | FieldEncoder         | 35.2 K\n",
      "2 | event_encoder      | EventEncoder         | 172 K \n",
      "3 | event_decoder      | EventDecoder         | 1.6 M \n",
      "4 | decision_head      | ClassificationHead   | 734   \n",
      "------------------------------------------------------------\n",
      "2.2 M     Trainable params\n",
      "0         Non-trainable params\n",
      "2.2 M     Total params\n",
      "8.687     Total estimated model params size (MB)\n"
     ]
    },
    {
     "name": "stdout",
     "output_type": "stream",
     "text": [
      "Epoch 0: 100%|██████████| 1/1 [00:03<00:00,  0.30it/s]"
     ]
    },
    {
     "name": "stderr",
     "output_type": "stream",
     "text": [
      "`Trainer.fit` stopped: `max_steps=1` reached.\n"
     ]
    },
    {
     "name": "stdout",
     "output_type": "stream",
     "text": [
      "Epoch 0: 100%|██████████| 1/1 [00:03<00:00,  0.30it/s]\n"
     ]
    }
   ],
   "source": [
    "digests = dict(amount=TDigest())\n",
    "\n",
    "fields: list[Field] = [\n",
    "    Field(\"amount\", \"continuous\"),\n",
    "    Field(\"use_chip\", \"discrete\", n_levels=10000),\n",
    "    Field(\"merchant_state\", \"discrete\", n_levels=10000),\n",
    "    Field(\"merchant_city\", \"discrete\", n_levels=10000),\n",
    "    Field(\"mcc\", \"discrete\", n_levels=10000),\n",
    "]\n",
    "\n",
    "params = Hyperparameters(batch_size=32, n_context=4, fields=fields, n_targets=2, d_field=8, n_layers_event_encoder=1)\n",
    "\n",
    "module = SequenceModule(params=params)\n",
    "print(module.complexity(format=True))\n",
    "data = DataModule(params=params, digests=digests)\n",
    "\n",
    "\n",
    "trainer = Trainer(accelerator=\"cpu\", fast_dev_run=True)\n",
    "trainer.fit(module, datamodule=data)"
   ]
  },
  {
   "cell_type": "code",
   "execution_count": null,
   "metadata": {},
   "outputs": [],
   "source": []
  }
 ],
 "metadata": {
  "kernelspec": {
   "display_name": "windmark-f6A5bTdG-py3.11",
   "language": "python",
   "name": "python3"
  },
  "language_info": {
   "codemirror_mode": {
    "name": "ipython",
    "version": 3
   },
   "file_extension": ".py",
   "mimetype": "text/x-python",
   "name": "python",
   "nbconvert_exporter": "python",
   "pygments_lexer": "ipython3",
   "version": "3.11.7"
  }
 },
 "nbformat": 4,
 "nbformat_minor": 2
}

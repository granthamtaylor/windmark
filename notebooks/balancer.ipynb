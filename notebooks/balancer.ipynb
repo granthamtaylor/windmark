{
 "cells": [
  {
   "cell_type": "code",
   "execution_count": 43,
   "metadata": {},
   "outputs": [
    {
     "name": "stdout",
     "output_type": "stream",
     "text": [
      "The autoreload extension is already loaded. To reload it, use:\n",
      "  %reload_ext autoreload\n"
     ]
    }
   ],
   "source": [
    "import sys\n",
    "import os\n",
    "\n",
    "sys.path.append(os.path.abspath(\"..\"))\n",
    "\n",
    "%load_ext autoreload\n",
    "%autoreload 2"
   ]
  },
  {
   "cell_type": "code",
   "execution_count": 44,
   "metadata": {},
   "outputs": [],
   "source": [
    "from source.core.utils import SupervisedTaskManager"
   ]
  },
  {
   "cell_type": "markdown",
   "metadata": {},
   "source": []
  },
  {
   "cell_type": "code",
   "execution_count": 49,
   "metadata": {},
   "outputs": [],
   "source": [
    "balancer = SupervisedTaskManager(\n",
    "    labels=[\"is_fraud\", \"is_not_fraud\", \"probably_but_idc\"], counts=[34244, 1824832904, 3124324], kappa=0.9\n",
    ")"
   ]
  },
  {
   "cell_type": "code",
   "execution_count": 50,
   "metadata": {},
   "outputs": [
    {
     "data": {
      "text/html": [
       "<pre style=\"white-space:pre;overflow-x:auto;line-height:normal;font-family:Menlo,'DejaVu Sans Mono',consolas,'Courier New',monospace\"><span style=\"font-style: italic\">                                Label Balancer                                 </span>\n",
       "┏━━━━━━━━━━━━━━━━━━━━━━━━━━┳━━━━━━━━━━━━┳━━━━━━━━━━━━━━━━┳━━━━━━━━━━━━━━━━━━━━┓\n",
       "┃<span style=\"font-weight: bold\">                   Metric </span>┃<span style=\"font-weight: bold\"> \"is_fraud\" </span>┃<span style=\"font-weight: bold\"> \"is_not_fraud\" </span>┃<span style=\"font-weight: bold\"> \"probably_but_idc\" </span>┃\n",
       "┡━━━━━━━━━━━━━━━━━━━━━━━━━━╇━━━━━━━━━━━━╇━━━━━━━━━━━━━━━━╇━━━━━━━━━━━━━━━━━━━━┩\n",
       "│<span style=\"color: #008080; text-decoration-color: #008080\">             Label Counts </span>│<span style=\"color: #800080; text-decoration-color: #800080\"> 34,244     </span>│<span style=\"color: #800080; text-decoration-color: #800080\"> 1,824,832,904  </span>│<span style=\"color: #800080; text-decoration-color: #800080\"> 3,124,324          </span>│\n",
       "│<span style=\"color: #008080; text-decoration-color: #008080\">  Population Distribution </span>│<span style=\"color: #800080; text-decoration-color: #800080\"> 0.0019%    </span>│<span style=\"color: #800080; text-decoration-color: #800080\"> 99.8272%       </span>│<span style=\"color: #800080; text-decoration-color: #800080\"> 0.1709%            </span>│\n",
       "│<span style=\"color: #008080; text-decoration-color: #008080\">             Loss Weights </span>│<span style=\"color: #800080; text-decoration-color: #800080\"> 5.996e+03  </span>│<span style=\"color: #800080; text-decoration-color: #800080\"> 4.499e+03      </span>│<span style=\"color: #800080; text-decoration-color: #800080\"> 5.993e+03          </span>│\n",
       "│<span style=\"color: #008080; text-decoration-color: #008080\">        Sample Thresholds </span>│<span style=\"color: #800080; text-decoration-color: #800080\"> 100.0000%  </span>│<span style=\"color: #800080; text-decoration-color: #800080\"> 0.0025%        </span>│<span style=\"color: #800080; text-decoration-color: #800080\"> 1.0967%            </span>│\n",
       "│<span style=\"color: #008080; text-decoration-color: #008080\"> Observation Distribution </span>│<span style=\"color: #800080; text-decoration-color: #800080\"> 30.0002%   </span>│<span style=\"color: #800080; text-decoration-color: #800080\"> 39.9827%       </span>│<span style=\"color: #800080; text-decoration-color: #800080\"> 30.0171%           </span>│\n",
       "└──────────────────────────┴────────────┴────────────────┴────────────────────┘\n",
       "</pre>\n"
      ],
      "text/plain": [
       "\u001b[3m                                Label Balancer                                 \u001b[0m\n",
       "┏━━━━━━━━━━━━━━━━━━━━━━━━━━┳━━━━━━━━━━━━┳━━━━━━━━━━━━━━━━┳━━━━━━━━━━━━━━━━━━━━┓\n",
       "┃\u001b[1m \u001b[0m\u001b[1m                  Metric\u001b[0m\u001b[1m \u001b[0m┃\u001b[1m \u001b[0m\u001b[1m\"is_fraud\"\u001b[0m\u001b[1m \u001b[0m┃\u001b[1m \u001b[0m\u001b[1m\"is_not_fraud\"\u001b[0m\u001b[1m \u001b[0m┃\u001b[1m \u001b[0m\u001b[1m\"probably_but_idc\"\u001b[0m\u001b[1m \u001b[0m┃\n",
       "┡━━━━━━━━━━━━━━━━━━━━━━━━━━╇━━━━━━━━━━━━╇━━━━━━━━━━━━━━━━╇━━━━━━━━━━━━━━━━━━━━┩\n",
       "│\u001b[36m \u001b[0m\u001b[36m            Label Counts\u001b[0m\u001b[36m \u001b[0m│\u001b[35m \u001b[0m\u001b[35m34,244    \u001b[0m\u001b[35m \u001b[0m│\u001b[35m \u001b[0m\u001b[35m1,824,832,904 \u001b[0m\u001b[35m \u001b[0m│\u001b[35m \u001b[0m\u001b[35m3,124,324         \u001b[0m\u001b[35m \u001b[0m│\n",
       "│\u001b[36m \u001b[0m\u001b[36m Population Distribution\u001b[0m\u001b[36m \u001b[0m│\u001b[35m \u001b[0m\u001b[35m0.0019%   \u001b[0m\u001b[35m \u001b[0m│\u001b[35m \u001b[0m\u001b[35m99.8272%      \u001b[0m\u001b[35m \u001b[0m│\u001b[35m \u001b[0m\u001b[35m0.1709%           \u001b[0m\u001b[35m \u001b[0m│\n",
       "│\u001b[36m \u001b[0m\u001b[36m            Loss Weights\u001b[0m\u001b[36m \u001b[0m│\u001b[35m \u001b[0m\u001b[35m5.996e+03 \u001b[0m\u001b[35m \u001b[0m│\u001b[35m \u001b[0m\u001b[35m4.499e+03     \u001b[0m\u001b[35m \u001b[0m│\u001b[35m \u001b[0m\u001b[35m5.993e+03         \u001b[0m\u001b[35m \u001b[0m│\n",
       "│\u001b[36m \u001b[0m\u001b[36m       Sample Thresholds\u001b[0m\u001b[36m \u001b[0m│\u001b[35m \u001b[0m\u001b[35m100.0000% \u001b[0m\u001b[35m \u001b[0m│\u001b[35m \u001b[0m\u001b[35m0.0025%       \u001b[0m\u001b[35m \u001b[0m│\u001b[35m \u001b[0m\u001b[35m1.0967%           \u001b[0m\u001b[35m \u001b[0m│\n",
       "│\u001b[36m \u001b[0m\u001b[36mObservation Distribution\u001b[0m\u001b[36m \u001b[0m│\u001b[35m \u001b[0m\u001b[35m30.0002%  \u001b[0m\u001b[35m \u001b[0m│\u001b[35m \u001b[0m\u001b[35m39.9827%      \u001b[0m\u001b[35m \u001b[0m│\u001b[35m \u001b[0m\u001b[35m30.0171%          \u001b[0m\u001b[35m \u001b[0m│\n",
       "└──────────────────────────┴────────────┴────────────────┴────────────────────┘\n"
      ]
     },
     "metadata": {},
     "output_type": "display_data"
    }
   ],
   "source": [
    "balancer.show()"
   ]
  },
  {
   "cell_type": "code",
   "execution_count": null,
   "metadata": {},
   "outputs": [],
   "source": []
  },
  {
   "cell_type": "code",
   "execution_count": null,
   "metadata": {},
   "outputs": [],
   "source": []
  }
 ],
 "metadata": {
  "kernelspec": {
   "display_name": "windmark-XVYwV8Ge-py3.11",
   "language": "python",
   "name": "python3"
  },
  "language_info": {
   "codemirror_mode": {
    "name": "ipython",
    "version": 3
   },
   "file_extension": ".py",
   "mimetype": "text/x-python",
   "name": "python",
   "nbconvert_exporter": "python",
   "pygments_lexer": "ipython3",
   "version": "3.11.8"
  }
 },
 "nbformat": 4,
 "nbformat_minor": 2
}

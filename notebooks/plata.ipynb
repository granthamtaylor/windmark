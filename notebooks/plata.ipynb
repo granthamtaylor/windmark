{
 "cells": [
  {
   "cell_type": "code",
   "execution_count": 1,
   "metadata": {},
   "outputs": [],
   "source": [
    "import polars as pl\n",
    "import polars.selectors as cs"
   ]
  },
  {
   "cell_type": "code",
   "execution_count": 2,
   "metadata": {},
   "outputs": [],
   "source": [
    "df = pl.read_ndjson('../data/ledgers/plata.ndjson')"
   ]
  },
  {
   "cell_type": "code",
   "execution_count": 3,
   "metadata": {},
   "outputs": [],
   "source": [
    "from zlib import crc32\n",
    "\n",
    "def assign_split(column: str) -> pl.Expr:\n",
    "\n",
    "    seed = (\n",
    "        pl.col(column)\n",
    "        .cast(pl.String)\n",
    "        .map_elements(lambda x: float(crc32(str.encode(x)) & 0xFFFFFFFF), return_dtype=pl.Float32)\n",
    "        .mul(1 / 2**32)\n",
    "    )\n",
    "\n",
    "    return (\n",
    "        pl.when(seed.is_between(0.0, 0.6))\n",
    "        .then(pl.lit(\"train\"))\n",
    "        .when(seed.is_between(0.6, 0.8))\n",
    "        .then(pl.lit(\"validate\"))\n",
    "        .when(seed.is_between(0.8, 1.0))\n",
    "        .then(pl.lit(\"test\"))\n",
    "        .otherwise(pl.lit(\"train\"))\n",
    "    )"
   ]
  },
  {
   "cell_type": "code",
   "execution_count": 4,
   "metadata": {},
   "outputs": [],
   "source": [
    "dynamic = (\n",
    "    df.select(\n",
    "        \"bureau_search_ref\",\n",
    "        pl.col(\"created_at\").str.replace(\"\\+00\", \"\").str.to_date(format=\"%Y-%m-%d %H:%M:%S%.f\"),\n",
    "        cs.by_dtype(pl.List(pl.String)) | cs.by_dtype(pl.List(pl.Int64)),\n",
    "        target=pl.col(\"irb\"),\n",
    "    )\n",
    "    .explode(pl.exclude(\"created_at\",\"bureau_search_ref\", \"target\"))\n",
    "    .select(\n",
    "        cs.all() - cs.string() - cs.by_name(\"account_index\"),\n",
    "        (cs.string() - cs.by_name(\"m\")).replace(\"\", None),\n",
    "        statement_id=pl.concat_str(\"accgroupid\", pl.lit(\"$\"), \"m\"),\n",
    "        account_open=pl.col(\"accstartdate\").str.to_date(),\n",
    "        account_index=pl.col(\"accgroupid\").cast(pl.String),\n",
    "        statement_date=pl.col(\"m\").str.to_date(format=\"%Y-%m\"),\n",
    "    )\n",
    "    # filter out statements of accounts with empty balances\n",
    "    .filter(pl.col(\"bal\") > 0)\n",
    "    .select(\n",
    "        \"payamt\", \"bal\", \"history_limit\", \"bureau_search_ref\", \"pay\", \"acctypecode\", \"target\", \"statement_id\", \"account_index\",\n",
    "        # calculate two duration fields (time diff between statement and application date, statement and account open date)\n",
    "        statement_tenure=(pl.col(\"statement_date\") - pl.col(\"created_at\")).dt.total_days(),\n",
    "        account_tenure=(pl.col(\"account_open\") - pl.col(\"created_at\")).dt.total_days(),\n",
    "    )\n",
    "    # .select(\n",
    "    #     pl.exclude(\"payamt\", \"history_limit\"),\n",
    "    #     pl.col(\"payamt\").fill_null(-1),\n",
    "    #     pl.col(\"history_limit\").fill_null(-1),\n",
    "    # )\n",
    "    .sort(\"bureau_search_ref\", \"statement_tenure\")\n",
    "    .group_by(\"bureau_search_ref\")\n",
    "    .agg(cs.all())\n",
    ")"
   ]
  },
  {
   "cell_type": "code",
   "execution_count": 5,
   "metadata": {},
   "outputs": [
    {
     "data": {
      "text/html": [
       "<div><style>\n",
       ".dataframe > thead > tr,\n",
       ".dataframe > tbody > tr {\n",
       "  text-align: right;\n",
       "  white-space: pre-wrap;\n",
       "}\n",
       "</style>\n",
       "<small>shape: (9, 12)</small><table border=\"1\" class=\"dataframe\"><thead><tr><th>statistic</th><th>bureau_search_ref</th><th>payamt</th><th>bal</th><th>history_limit</th><th>pay</th><th>acctypecode</th><th>target</th><th>statement_id</th><th>account_index</th><th>statement_tenure</th><th>account_tenure</th></tr><tr><td>str</td><td>str</td><td>f64</td><td>f64</td><td>f64</td><td>f64</td><td>f64</td><td>f64</td><td>f64</td><td>f64</td><td>f64</td><td>f64</td></tr></thead><tbody><tr><td>&quot;count&quot;</td><td>&quot;4542&quot;</td><td>4542.0</td><td>4542.0</td><td>4542.0</td><td>4542.0</td><td>4542.0</td><td>4542.0</td><td>4542.0</td><td>4542.0</td><td>4542.0</td><td>4542.0</td></tr><tr><td>&quot;null_count&quot;</td><td>&quot;0&quot;</td><td>0.0</td><td>0.0</td><td>0.0</td><td>0.0</td><td>0.0</td><td>0.0</td><td>0.0</td><td>0.0</td><td>0.0</td><td>0.0</td></tr><tr><td>&quot;mean&quot;</td><td>null</td><td>null</td><td>null</td><td>null</td><td>null</td><td>null</td><td>null</td><td>null</td><td>null</td><td>null</td><td>null</td></tr><tr><td>&quot;std&quot;</td><td>null</td><td>null</td><td>null</td><td>null</td><td>null</td><td>null</td><td>null</td><td>null</td><td>null</td><td>null</td><td>null</td></tr><tr><td>&quot;min&quot;</td><td>&quot;BS43GGXB&quot;</td><td>null</td><td>null</td><td>null</td><td>null</td><td>null</td><td>null</td><td>null</td><td>null</td><td>null</td><td>null</td></tr><tr><td>&quot;25%&quot;</td><td>null</td><td>null</td><td>null</td><td>null</td><td>null</td><td>null</td><td>null</td><td>null</td><td>null</td><td>null</td><td>null</td></tr><tr><td>&quot;50%&quot;</td><td>null</td><td>null</td><td>null</td><td>null</td><td>null</td><td>null</td><td>null</td><td>null</td><td>null</td><td>null</td><td>null</td></tr><tr><td>&quot;75%&quot;</td><td>null</td><td>null</td><td>null</td><td>null</td><td>null</td><td>null</td><td>null</td><td>null</td><td>null</td><td>null</td><td>null</td></tr><tr><td>&quot;max&quot;</td><td>&quot;BS45AMVB&quot;</td><td>null</td><td>null</td><td>null</td><td>null</td><td>null</td><td>null</td><td>null</td><td>null</td><td>null</td><td>null</td></tr></tbody></table></div>"
      ],
      "text/plain": [
       "shape: (9, 12)\n",
       "┌────────────┬────────────┬────────┬────────┬───┬────────────┬────────────┬────────────┬───────────┐\n",
       "│ statistic  ┆ bureau_sea ┆ payamt ┆ bal    ┆ … ┆ statement_ ┆ account_in ┆ statement_ ┆ account_t │\n",
       "│ ---        ┆ rch_ref    ┆ ---    ┆ ---    ┆   ┆ id         ┆ dex        ┆ tenure     ┆ enure     │\n",
       "│ str        ┆ ---        ┆ f64    ┆ f64    ┆   ┆ ---        ┆ ---        ┆ ---        ┆ ---       │\n",
       "│            ┆ str        ┆        ┆        ┆   ┆ f64        ┆ f64        ┆ f64        ┆ f64       │\n",
       "╞════════════╪════════════╪════════╪════════╪═══╪════════════╪════════════╪════════════╪═══════════╡\n",
       "│ count      ┆ 4542       ┆ 4542.0 ┆ 4542.0 ┆ … ┆ 4542.0     ┆ 4542.0     ┆ 4542.0     ┆ 4542.0    │\n",
       "│ null_count ┆ 0          ┆ 0.0    ┆ 0.0    ┆ … ┆ 0.0        ┆ 0.0        ┆ 0.0        ┆ 0.0       │\n",
       "│ mean       ┆ null       ┆ null   ┆ null   ┆ … ┆ null       ┆ null       ┆ null       ┆ null      │\n",
       "│ std        ┆ null       ┆ null   ┆ null   ┆ … ┆ null       ┆ null       ┆ null       ┆ null      │\n",
       "│ min        ┆ BS43GGXB   ┆ null   ┆ null   ┆ … ┆ null       ┆ null       ┆ null       ┆ null      │\n",
       "│ 25%        ┆ null       ┆ null   ┆ null   ┆ … ┆ null       ┆ null       ┆ null       ┆ null      │\n",
       "│ 50%        ┆ null       ┆ null   ┆ null   ┆ … ┆ null       ┆ null       ┆ null       ┆ null      │\n",
       "│ 75%        ┆ null       ┆ null   ┆ null   ┆ … ┆ null       ┆ null       ┆ null       ┆ null      │\n",
       "│ max        ┆ BS45AMVB   ┆ null   ┆ null   ┆ … ┆ null       ┆ null       ┆ null       ┆ null      │\n",
       "└────────────┴────────────┴────────┴────────┴───┴────────────┴────────────┴────────────┴───────────┘"
      ]
     },
     "execution_count": 5,
     "metadata": {},
     "output_type": "execute_result"
    }
   ],
   "source": [
    "dynamic.describe()"
   ]
  },
  {
   "cell_type": "code",
   "execution_count": 6,
   "metadata": {},
   "outputs": [],
   "source": [
    "static = (\n",
    "    df.select(\n",
    "        (cs.string() - cs.by_name('loan_account_ref')).replace(\"\", None),\n",
    "        # cs.integer().fill_null(-1),\n",
    "        cs.integer(),\n",
    "        split=assign_split('bureau_search_ref'),\n",
    "    )\n",
    ")"
   ]
  },
  {
   "cell_type": "code",
   "execution_count": 7,
   "metadata": {},
   "outputs": [
    {
     "data": {
      "text/html": [
       "<div><style>\n",
       ".dataframe > thead > tr,\n",
       ".dataframe > tbody > tr {\n",
       "  text-align: right;\n",
       "  white-space: pre-wrap;\n",
       "}\n",
       "</style>\n",
       "<small>shape: (9, 82)</small><table border=\"1\" class=\"dataframe\"><thead><tr><th>statistic</th><th>oq</th><th>irb</th><th>hrb</th><th>cbc</th><th>nq</th><th>oyb</th><th>bf</th><th>urb</th><th>created_at</th><th>nob</th><th>ibc</th><th>ubc</th><th>bureau_search_ref</th><th>an</th><th>total_balance_on_default_accoun4</th><th>seb</th><th>total_repayments_on_active_acco2</th><th>tic</th><th>ef</th><th>izb</th><th>yeb</th><th>as</th><th>drb</th><th>zd</th><th>total_balance_on_active_account1</th><th>ueb</th><th>hh</th><th>tg</th><th>em</th><th>ah</th><th>tp</th><th>ej</th><th>bn</th><th>nic</th><th>total_repayments_on_active_acco5</th><th>azb</th><th>&hellip;</th><th>lrb</th><th>fb</th><th>gauge2_score</th><th>ccc</th><th>teb</th><th>eb</th><th>ye</th><th>qic</th><th>oic</th><th>vm</th><th>gsb</th><th>ygc</th><th>st</th><th>tr</th><th>hn</th><th>wmb</th><th>vyb</th><th>mu</th><th>wm</th><th>pob</th><th>mhc</th><th>pn</th><th>sr</th><th>pic</th><th>jyb</th><th>peb</th><th>reb</th><th>xm</th><th>bh</th><th>xe</th><th>cs</th><th>xzb</th><th>rh</th><th>gg</th><th>mzb</th><th>fs</th><th>split</th></tr><tr><td>str</td><td>str</td><td>str</td><td>str</td><td>str</td><td>str</td><td>str</td><td>str</td><td>str</td><td>str</td><td>str</td><td>str</td><td>str</td><td>str</td><td>f64</td><td>f64</td><td>f64</td><td>f64</td><td>f64</td><td>f64</td><td>f64</td><td>f64</td><td>f64</td><td>f64</td><td>f64</td><td>f64</td><td>f64</td><td>f64</td><td>f64</td><td>f64</td><td>f64</td><td>f64</td><td>f64</td><td>f64</td><td>f64</td><td>f64</td><td>f64</td><td>&hellip;</td><td>f64</td><td>f64</td><td>f64</td><td>f64</td><td>f64</td><td>f64</td><td>f64</td><td>f64</td><td>f64</td><td>f64</td><td>f64</td><td>f64</td><td>f64</td><td>f64</td><td>f64</td><td>f64</td><td>f64</td><td>f64</td><td>f64</td><td>f64</td><td>f64</td><td>f64</td><td>f64</td><td>f64</td><td>f64</td><td>f64</td><td>f64</td><td>f64</td><td>f64</td><td>f64</td><td>f64</td><td>f64</td><td>f64</td><td>f64</td><td>f64</td><td>f64</td><td>str</td></tr></thead><tbody><tr><td>&quot;count&quot;</td><td>&quot;4401&quot;</td><td>&quot;4542&quot;</td><td>&quot;4542&quot;</td><td>&quot;4123&quot;</td><td>&quot;4176&quot;</td><td>&quot;31&quot;</td><td>&quot;4542&quot;</td><td>&quot;4101&quot;</td><td>&quot;4542&quot;</td><td>&quot;3982&quot;</td><td>&quot;1177&quot;</td><td>&quot;4542&quot;</td><td>&quot;4542&quot;</td><td>4410.0</td><td>4542.0</td><td>4542.0</td><td>4542.0</td><td>3997.0</td><td>4532.0</td><td>3388.0</td><td>4542.0</td><td>583.0</td><td>4526.0</td><td>307.0</td><td>4542.0</td><td>4542.0</td><td>1374.0</td><td>4542.0</td><td>1475.0</td><td>4542.0</td><td>4542.0</td><td>4542.0</td><td>4316.0</td><td>4542.0</td><td>4542.0</td><td>4113.0</td><td>&hellip;</td><td>4542.0</td><td>4542.0</td><td>4542.0</td><td>2181.0</td><td>4542.0</td><td>4540.0</td><td>4137.0</td><td>4542.0</td><td>4542.0</td><td>4508.0</td><td>4101.0</td><td>4542.0</td><td>4542.0</td><td>1278.0</td><td>4437.0</td><td>4094.0</td><td>884.0</td><td>727.0</td><td>4482.0</td><td>4463.0</td><td>4542.0</td><td>4192.0</td><td>1352.0</td><td>4542.0</td><td>3778.0</td><td>4542.0</td><td>4542.0</td><td>4350.0</td><td>4542.0</td><td>4033.0</td><td>774.0</td><td>4509.0</td><td>4542.0</td><td>4542.0</td><td>4255.0</td><td>286.0</td><td>&quot;4542&quot;</td></tr><tr><td>&quot;null_count&quot;</td><td>&quot;141&quot;</td><td>&quot;0&quot;</td><td>&quot;0&quot;</td><td>&quot;419&quot;</td><td>&quot;366&quot;</td><td>&quot;4511&quot;</td><td>&quot;0&quot;</td><td>&quot;441&quot;</td><td>&quot;0&quot;</td><td>&quot;560&quot;</td><td>&quot;3365&quot;</td><td>&quot;0&quot;</td><td>&quot;0&quot;</td><td>132.0</td><td>0.0</td><td>0.0</td><td>0.0</td><td>545.0</td><td>10.0</td><td>1154.0</td><td>0.0</td><td>3959.0</td><td>16.0</td><td>4235.0</td><td>0.0</td><td>0.0</td><td>3168.0</td><td>0.0</td><td>3067.0</td><td>0.0</td><td>0.0</td><td>0.0</td><td>226.0</td><td>0.0</td><td>0.0</td><td>429.0</td><td>&hellip;</td><td>0.0</td><td>0.0</td><td>0.0</td><td>2361.0</td><td>0.0</td><td>2.0</td><td>405.0</td><td>0.0</td><td>0.0</td><td>34.0</td><td>441.0</td><td>0.0</td><td>0.0</td><td>3264.0</td><td>105.0</td><td>448.0</td><td>3658.0</td><td>3815.0</td><td>60.0</td><td>79.0</td><td>0.0</td><td>350.0</td><td>3190.0</td><td>0.0</td><td>764.0</td><td>0.0</td><td>0.0</td><td>192.0</td><td>0.0</td><td>509.0</td><td>3768.0</td><td>33.0</td><td>0.0</td><td>0.0</td><td>287.0</td><td>4256.0</td><td>&quot;0&quot;</td></tr><tr><td>&quot;mean&quot;</td><td>null</td><td>null</td><td>null</td><td>null</td><td>null</td><td>null</td><td>null</td><td>null</td><td>null</td><td>null</td><td>null</td><td>null</td><td>null</td><td>122.934467</td><td>8.733598</td><td>2.353369</td><td>260.233377</td><td>72.482612</td><td>7.119153</td><td>10.804014</td><td>0.091369</td><td>1921.957118</td><td>12997.057667</td><td>1919.322476</td><td>13051.100837</td><td>4.245046</td><td>41.0</td><td>0.045575</td><td>138053.352542</td><td>1.32915</td><td>0.614927</td><td>0.369661</td><td>161.775023</td><td>0.056363</td><td>20.749229</td><td>3.170921</td><td>&hellip;</td><td>5.979304</td><td>11.325407</td><td>598.522017</td><td>34.552499</td><td>3.288639</td><td>22.905507</td><td>114.309161</td><td>0.3155</td><td>0.117349</td><td>111.043035</td><td>11.073884</td><td>0.27675</td><td>0.046455</td><td>47.934272</td><td>329.372324</td><td>61.228627</td><td>371.355204</td><td>23.887208</td><td>145.074743</td><td>162.913511</td><td>3.601937</td><td>1422.912929</td><td>2462.503698</td><td>0.203435</td><td>7.459767</td><td>0.004844</td><td>1.180537</td><td>256.216782</td><td>2.677455</td><td>83.449293</td><td>1857.892765</td><td>34.934575</td><td>10.839938</td><td>181.733818</td><td>71.93396</td><td>675.090909</td><td>null</td></tr><tr><td>&quot;std&quot;</td><td>null</td><td>null</td><td>null</td><td>null</td><td>null</td><td>null</td><td>null</td><td>null</td><td>null</td><td>null</td><td>null</td><td>null</td><td>null</td><td>153.850077</td><td>99.73381</td><td>2.533364</td><td>561.634963</td><td>64.60219</td><td>7.883975</td><td>101.883511</td><td>0.301608</td><td>4740.351252</td><td>14213.846725</td><td>4316.041548</td><td>16439.995266</td><td>4.109926</td><td>20.114747</td><td>0.256845</td><td>142182.796299</td><td>1.713125</td><td>1.652976</td><td>1.155813</td><td>278.982599</td><td>0.298115</td><td>64.728232</td><td>66.37034</td><td>&hellip;</td><td>5.588117</td><td>4.999781</td><td>29.543869</td><td>20.954639</td><td>3.31196</td><td>11.950995</td><td>113.743116</td><td>1.08125</td><td>0.502461</td><td>192.543185</td><td>5.65566</td><td>0.694003</td><td>0.265127</td><td>16.10081</td><td>580.295634</td><td>69.690857</td><td>479.708876</td><td>16.38495</td><td>364.919228</td><td>462.132109</td><td>2.594537</td><td>2031.884654</td><td>7110.997351</td><td>0.73393</td><td>13.828313</td><td>0.083806</td><td>1.534738</td><td>704.004027</td><td>2.861882</td><td>81.735212</td><td>4368.261381</td><td>29.804947</td><td>4.882559</td><td>85.662969</td><td>55.129898</td><td>1434.695314</td><td>null</td></tr><tr><td>&quot;min&quot;</td><td>&quot;0&quot;</td><td>&quot;0&quot;</td><td>&quot;0&quot;</td><td>&quot;0&quot;</td><td>&quot;0&quot;</td><td>&quot;0&quot;</td><td>&quot;A&quot;</td><td>&quot;1&quot;</td><td>&quot;2024-03-01 00:10:01.968293+00&quot;</td><td>&quot;1&quot;</td><td>&quot;0&quot;</td><td>&quot;0&quot;</td><td>&quot;BS43GGXB&quot;</td><td>0.0</td><td>0.0</td><td>0.0</td><td>0.0</td><td>0.0</td><td>0.0</td><td>0.0</td><td>0.0</td><td>0.0</td><td>0.0</td><td>117.0</td><td>0.0</td><td>0.0</td><td>0.0</td><td>0.0</td><td>0.0</td><td>0.0</td><td>0.0</td><td>0.0</td><td>0.0</td><td>0.0</td><td>0.0</td><td>0.0</td><td>&hellip;</td><td>0.0</td><td>1.0</td><td>517.0</td><td>0.0</td><td>0.0</td><td>2.0</td><td>0.0</td><td>0.0</td><td>0.0</td><td>0.0</td><td>1.0</td><td>0.0</td><td>0.0</td><td>13.0</td><td>0.0</td><td>0.0</td><td>10.0</td><td>3.0</td><td>0.0</td><td>0.0</td><td>0.0</td><td>0.0</td><td>0.0</td><td>0.0</td><td>0.0</td><td>0.0</td><td>0.0</td><td>0.0</td><td>0.0</td><td>0.0</td><td>0.0</td><td>0.0</td><td>1.0</td><td>12.0</td><td>0.0</td><td>0.0</td><td>&quot;test&quot;</td></tr><tr><td>&quot;25%&quot;</td><td>null</td><td>null</td><td>null</td><td>null</td><td>null</td><td>null</td><td>null</td><td>null</td><td>null</td><td>null</td><td>null</td><td>null</td><td>null</td><td>100.0</td><td>0.0</td><td>1.0</td><td>0.0</td><td>43.0</td><td>2.0</td><td>0.0</td><td>0.0</td><td>0.0</td><td>2698.0</td><td>409.0</td><td>1523.0</td><td>2.0</td><td>24.0</td><td>0.0</td><td>33059.0</td><td>0.0</td><td>0.0</td><td>0.0</td><td>100.0</td><td>0.0</td><td>0.0</td><td>0.0</td><td>&hellip;</td><td>2.0</td><td>8.0</td><td>577.0</td><td>16.0</td><td>1.0</td><td>15.0</td><td>27.0</td><td>0.0</td><td>0.0</td><td>95.0</td><td>6.0</td><td>0.0</td><td>0.0</td><td>38.0</td><td>98.0</td><td>16.0</td><td>70.0</td><td>12.0</td><td>92.0</td><td>73.0</td><td>2.0</td><td>371.0</td><td>0.0</td><td>0.0</td><td>1.0</td><td>0.0</td><td>0.0</td><td>93.0</td><td>1.0</td><td>27.0</td><td>0.0</td><td>10.0</td><td>7.0</td><td>119.0</td><td>48.0</td><td>0.0</td><td>null</td></tr><tr><td>&quot;50%&quot;</td><td>null</td><td>null</td><td>null</td><td>null</td><td>null</td><td>null</td><td>null</td><td>null</td><td>null</td><td>null</td><td>null</td><td>null</td><td>null</td><td>100.0</td><td>0.0</td><td>2.0</td><td>0.0</td><td>74.0</td><td>5.0</td><td>0.0</td><td>0.0</td><td>0.0</td><td>8431.0</td><td>843.0</td><td>7364.0</td><td>3.0</td><td>45.0</td><td>0.0</td><td>113397.0</td><td>1.0</td><td>0.0</td><td>0.0</td><td>111.0</td><td>0.0</td><td>0.0</td><td>0.0</td><td>&hellip;</td><td>4.0</td><td>11.0</td><td>597.0</td><td>36.0</td><td>2.0</td><td>21.0</td><td>75.0</td><td>0.0</td><td>0.0</td><td>98.0</td><td>11.0</td><td>0.0</td><td>0.0</td><td>50.0</td><td>167.0</td><td>41.0</td><td>200.0</td><td>19.0</td><td>98.0</td><td>92.0</td><td>3.0</td><td>866.0</td><td>46.0</td><td>0.0</td><td>2.0</td><td>0.0</td><td>1.0</td><td>103.0</td><td>2.0</td><td>58.0</td><td>0.0</td><td>29.0</td><td>10.0</td><td>174.0</td><td>76.0</td><td>0.0</td><td>null</td></tr><tr><td>&quot;75%&quot;</td><td>null</td><td>null</td><td>null</td><td>null</td><td>null</td><td>null</td><td>null</td><td>null</td><td>null</td><td>null</td><td>null</td><td>null</td><td>null</td><td>115.0</td><td>0.0</td><td>3.0</td><td>281.0</td><td>92.0</td><td>9.0</td><td>0.0</td><td>0.0</td><td>995.0</td><td>18900.0</td><td>1964.0</td><td>18814.0</td><td>6.0</td><td>58.0</td><td>0.0</td><td>193956.0</td><td>2.0</td><td>0.0</td><td>0.0</td><td>144.0</td><td>0.0</td><td>0.0</td><td>0.0</td><td>&hellip;</td><td>8.0</td><td>14.0</td><td>619.0</td><td>52.0</td><td>4.0</td><td>29.0</td><td>173.0</td><td>0.0</td><td>0.0</td><td>101.0</td><td>16.0</td><td>0.0</td><td>0.0</td><td>61.0</td><td>329.0</td><td>81.0</td><td>500.0</td><td>30.0</td><td>107.0</td><td>121.0</td><td>5.0</td><td>1757.0</td><td>1785.0</td><td>0.0</td><td>6.0</td><td>0.0</td><td>2.0</td><td>144.0</td><td>4.0</td><td>115.0</td><td>1790.0</td><td>54.0</td><td>14.0</td><td>233.0</td><td>92.0</td><td>756.0</td><td>null</td></tr><tr><td>&quot;max&quot;</td><td>&quot;U&quot;</td><td>&quot;U&quot;</td><td>&quot;U&quot;</td><td>&quot;U&quot;</td><td>&quot;U&quot;</td><td>&quot;U&quot;</td><td>&quot;H&quot;</td><td>&quot;X&quot;</td><td>&quot;2024-03-27 05:50:20.178265+00&quot;</td><td>&quot;XX&quot;</td><td>&quot;U&quot;</td><td>&quot;U&quot;</td><td>&quot;BS45AMVB&quot;</td><td>6500.0</td><td>3652.0</td><td>27.0</td><td>6805.0</td><td>1072.0</td><td>98.0</td><td>3571.0</td><td>3.0</td><td>38265.0</td><td>165920.0</td><td>55932.0</td><td>200376.0</td><td>49.0</td><td>72.0</td><td>4.0</td><td>1.454554e6</td><td>16.0</td><td>17.0</td><td>14.0</td><td>8700.0</td><td>4.0</td><td>874.0</td><td>4000.0</td><td>&hellip;</td><td>69.0</td><td>47.0</td><td>702.0</td><td>72.0</td><td>33.0</td><td>99.0</td><td>497.0</td><td>16.0</td><td>7.0</td><td>8087.0</td><td>20.0</td><td>19.0</td><td>4.0</td><td>72.0</td><td>9831.0</td><td>842.0</td><td>2900.0</td><td>103.0</td><td>9494.0</td><td>9700.0</td><td>25.0</td><td>46642.0</td><td>128215.0</td><td>11.0</td><td>72.0</td><td>2.0</td><td>19.0</td><td>9841.0</td><td>26.0</td><td>497.0</td><td>49104.0</td><td>500.0</td><td>47.0</td><td>806.0</td><td>1520.0</td><td>11244.0</td><td>&quot;validate&quot;</td></tr></tbody></table></div>"
      ],
      "text/plain": [
       "shape: (9, 82)\n",
       "┌────────────┬──────┬──────┬──────┬───┬────────────┬───────────┬─────────────┬──────────┐\n",
       "│ statistic  ┆ oq   ┆ irb  ┆ hrb  ┆ … ┆ gg         ┆ mzb       ┆ fs          ┆ split    │\n",
       "│ ---        ┆ ---  ┆ ---  ┆ ---  ┆   ┆ ---        ┆ ---       ┆ ---         ┆ ---      │\n",
       "│ str        ┆ str  ┆ str  ┆ str  ┆   ┆ f64        ┆ f64       ┆ f64         ┆ str      │\n",
       "╞════════════╪══════╪══════╪══════╪═══╪════════════╪═══════════╪═════════════╪══════════╡\n",
       "│ count      ┆ 4401 ┆ 4542 ┆ 4542 ┆ … ┆ 4542.0     ┆ 4255.0    ┆ 286.0       ┆ 4542     │\n",
       "│ null_count ┆ 141  ┆ 0    ┆ 0    ┆ … ┆ 0.0        ┆ 287.0     ┆ 4256.0      ┆ 0        │\n",
       "│ mean       ┆ null ┆ null ┆ null ┆ … ┆ 181.733818 ┆ 71.93396  ┆ 675.090909  ┆ null     │\n",
       "│ std        ┆ null ┆ null ┆ null ┆ … ┆ 85.662969  ┆ 55.129898 ┆ 1434.695314 ┆ null     │\n",
       "│ min        ┆ 0    ┆ 0    ┆ 0    ┆ … ┆ 12.0       ┆ 0.0       ┆ 0.0         ┆ test     │\n",
       "│ 25%        ┆ null ┆ null ┆ null ┆ … ┆ 119.0      ┆ 48.0      ┆ 0.0         ┆ null     │\n",
       "│ 50%        ┆ null ┆ null ┆ null ┆ … ┆ 174.0      ┆ 76.0      ┆ 0.0         ┆ null     │\n",
       "│ 75%        ┆ null ┆ null ┆ null ┆ … ┆ 233.0      ┆ 92.0      ┆ 756.0       ┆ null     │\n",
       "│ max        ┆ U    ┆ U    ┆ U    ┆ … ┆ 806.0      ┆ 1520.0    ┆ 11244.0     ┆ validate │\n",
       "└────────────┴──────┴──────┴──────┴───┴────────────┴───────────┴─────────────┴──────────┘"
      ]
     },
     "execution_count": 7,
     "metadata": {},
     "output_type": "execute_result"
    }
   ],
   "source": [
    "static.describe()"
   ]
  },
  {
   "cell_type": "code",
   "execution_count": 8,
   "metadata": {},
   "outputs": [
    {
     "data": {
      "text/html": [
       "<div><style>\n",
       ".dataframe > thead > tr,\n",
       ".dataframe > tbody > tr {\n",
       "  text-align: right;\n",
       "  white-space: pre-wrap;\n",
       "}\n",
       "</style>\n",
       "<small>shape: (9, 68)</small><table border=\"1\" class=\"dataframe\"><thead><tr><th>statistic</th><th>an</th><th>total_balance_on_default_accoun4</th><th>seb</th><th>total_repayments_on_active_acco2</th><th>tic</th><th>ef</th><th>izb</th><th>yeb</th><th>as</th><th>drb</th><th>zd</th><th>total_balance_on_active_account1</th><th>ueb</th><th>hh</th><th>tg</th><th>em</th><th>ah</th><th>tp</th><th>ej</th><th>bn</th><th>nic</th><th>total_repayments_on_active_acco5</th><th>azb</th><th>kn</th><th>dm</th><th>rrb</th><th>jg</th><th>mr</th><th>qeb</th><th>yqb</th><th>bcc</th><th>lrb</th><th>fb</th><th>gauge2_score</th><th>ccc</th><th>teb</th><th>eb</th><th>ye</th><th>qic</th><th>oic</th><th>vm</th><th>gsb</th><th>ygc</th><th>st</th><th>tr</th><th>hn</th><th>wmb</th><th>vyb</th><th>mu</th><th>wm</th><th>pob</th><th>mhc</th><th>pn</th><th>sr</th><th>pic</th><th>jyb</th><th>peb</th><th>reb</th><th>xm</th><th>bh</th><th>xe</th><th>cs</th><th>xzb</th><th>rh</th><th>gg</th><th>mzb</th><th>fs</th></tr><tr><td>str</td><td>f64</td><td>f64</td><td>f64</td><td>f64</td><td>f64</td><td>f64</td><td>f64</td><td>f64</td><td>f64</td><td>f64</td><td>f64</td><td>f64</td><td>f64</td><td>f64</td><td>f64</td><td>f64</td><td>f64</td><td>f64</td><td>f64</td><td>f64</td><td>f64</td><td>f64</td><td>f64</td><td>f64</td><td>f64</td><td>f64</td><td>f64</td><td>f64</td><td>f64</td><td>f64</td><td>f64</td><td>f64</td><td>f64</td><td>f64</td><td>f64</td><td>f64</td><td>f64</td><td>f64</td><td>f64</td><td>f64</td><td>f64</td><td>f64</td><td>f64</td><td>f64</td><td>f64</td><td>f64</td><td>f64</td><td>f64</td><td>f64</td><td>f64</td><td>f64</td><td>f64</td><td>f64</td><td>f64</td><td>f64</td><td>f64</td><td>f64</td><td>f64</td><td>f64</td><td>f64</td><td>f64</td><td>f64</td><td>f64</td><td>f64</td><td>f64</td><td>f64</td><td>f64</td></tr></thead><tbody><tr><td>&quot;count&quot;</td><td>4410.0</td><td>4542.0</td><td>4542.0</td><td>4542.0</td><td>3997.0</td><td>4532.0</td><td>3388.0</td><td>4542.0</td><td>583.0</td><td>4526.0</td><td>307.0</td><td>4542.0</td><td>4542.0</td><td>1374.0</td><td>4542.0</td><td>1475.0</td><td>4542.0</td><td>4542.0</td><td>4542.0</td><td>4316.0</td><td>4542.0</td><td>4542.0</td><td>4113.0</td><td>4295.0</td><td>4468.0</td><td>1140.0</td><td>4538.0</td><td>4542.0</td><td>4542.0</td><td>4542.0</td><td>3060.0</td><td>4542.0</td><td>4542.0</td><td>4542.0</td><td>2181.0</td><td>4542.0</td><td>4540.0</td><td>4137.0</td><td>4542.0</td><td>4542.0</td><td>4508.0</td><td>4101.0</td><td>4542.0</td><td>4542.0</td><td>1278.0</td><td>4437.0</td><td>4094.0</td><td>884.0</td><td>727.0</td><td>4482.0</td><td>4463.0</td><td>4542.0</td><td>4192.0</td><td>1352.0</td><td>4542.0</td><td>3778.0</td><td>4542.0</td><td>4542.0</td><td>4350.0</td><td>4542.0</td><td>4033.0</td><td>774.0</td><td>4509.0</td><td>4542.0</td><td>4542.0</td><td>4255.0</td><td>286.0</td></tr><tr><td>&quot;null_count&quot;</td><td>132.0</td><td>0.0</td><td>0.0</td><td>0.0</td><td>545.0</td><td>10.0</td><td>1154.0</td><td>0.0</td><td>3959.0</td><td>16.0</td><td>4235.0</td><td>0.0</td><td>0.0</td><td>3168.0</td><td>0.0</td><td>3067.0</td><td>0.0</td><td>0.0</td><td>0.0</td><td>226.0</td><td>0.0</td><td>0.0</td><td>429.0</td><td>247.0</td><td>74.0</td><td>3402.0</td><td>4.0</td><td>0.0</td><td>0.0</td><td>0.0</td><td>1482.0</td><td>0.0</td><td>0.0</td><td>0.0</td><td>2361.0</td><td>0.0</td><td>2.0</td><td>405.0</td><td>0.0</td><td>0.0</td><td>34.0</td><td>441.0</td><td>0.0</td><td>0.0</td><td>3264.0</td><td>105.0</td><td>448.0</td><td>3658.0</td><td>3815.0</td><td>60.0</td><td>79.0</td><td>0.0</td><td>350.0</td><td>3190.0</td><td>0.0</td><td>764.0</td><td>0.0</td><td>0.0</td><td>192.0</td><td>0.0</td><td>509.0</td><td>3768.0</td><td>33.0</td><td>0.0</td><td>0.0</td><td>287.0</td><td>4256.0</td></tr><tr><td>&quot;mean&quot;</td><td>122.934467</td><td>8.733598</td><td>2.353369</td><td>260.233377</td><td>72.482612</td><td>7.119153</td><td>10.804014</td><td>0.091369</td><td>1921.957118</td><td>12997.057667</td><td>1919.322476</td><td>13051.100837</td><td>4.245046</td><td>41.0</td><td>0.045575</td><td>138053.352542</td><td>1.32915</td><td>0.614927</td><td>0.369661</td><td>161.775023</td><td>0.056363</td><td>20.749229</td><td>3.170921</td><td>324.660303</td><td>13531.567144</td><td>1011.564912</td><td>64799.355663</td><td>0.541832</td><td>0.615148</td><td>5.713122</td><td>26.156209</td><td>5.979304</td><td>11.325407</td><td>598.522017</td><td>34.552499</td><td>3.288639</td><td>22.905507</td><td>114.309161</td><td>0.3155</td><td>0.117349</td><td>111.043035</td><td>11.073884</td><td>0.27675</td><td>0.046455</td><td>47.934272</td><td>329.372324</td><td>61.228627</td><td>371.355204</td><td>23.887208</td><td>145.074743</td><td>162.913511</td><td>3.601937</td><td>1422.912929</td><td>2462.503698</td><td>0.203435</td><td>7.459767</td><td>0.004844</td><td>1.180537</td><td>256.216782</td><td>2.677455</td><td>83.449293</td><td>1857.892765</td><td>34.934575</td><td>10.839938</td><td>181.733818</td><td>71.93396</td><td>675.090909</td></tr><tr><td>&quot;std&quot;</td><td>153.850077</td><td>99.73381</td><td>2.533364</td><td>561.634963</td><td>64.60219</td><td>7.883975</td><td>101.883511</td><td>0.301608</td><td>4740.351252</td><td>14213.846725</td><td>4316.041548</td><td>16439.995266</td><td>4.109926</td><td>20.114747</td><td>0.256845</td><td>142182.796299</td><td>1.713125</td><td>1.652976</td><td>1.155813</td><td>278.982599</td><td>0.298115</td><td>64.728232</td><td>66.37034</td><td>707.399857</td><td>16462.684406</td><td>1680.646749</td><td>111544.691889</td><td>1.423955</td><td>1.043987</td><td>5.358153</td><td>21.028797</td><td>5.588117</td><td>4.999781</td><td>29.543869</td><td>20.954639</td><td>3.31196</td><td>11.950995</td><td>113.743116</td><td>1.08125</td><td>0.502461</td><td>192.543185</td><td>5.65566</td><td>0.694003</td><td>0.265127</td><td>16.10081</td><td>580.295634</td><td>69.690857</td><td>479.708876</td><td>16.38495</td><td>364.919228</td><td>462.132109</td><td>2.594537</td><td>2031.884654</td><td>7110.997351</td><td>0.73393</td><td>13.828313</td><td>0.083806</td><td>1.534738</td><td>704.004027</td><td>2.861882</td><td>81.735212</td><td>4368.261381</td><td>29.804947</td><td>4.882559</td><td>85.662969</td><td>55.129898</td><td>1434.695314</td></tr><tr><td>&quot;min&quot;</td><td>0.0</td><td>0.0</td><td>0.0</td><td>0.0</td><td>0.0</td><td>0.0</td><td>0.0</td><td>0.0</td><td>0.0</td><td>0.0</td><td>117.0</td><td>0.0</td><td>0.0</td><td>0.0</td><td>0.0</td><td>0.0</td><td>0.0</td><td>0.0</td><td>0.0</td><td>0.0</td><td>0.0</td><td>0.0</td><td>0.0</td><td>0.0</td><td>0.0</td><td>0.0</td><td>0.0</td><td>0.0</td><td>0.0</td><td>0.0</td><td>0.0</td><td>0.0</td><td>1.0</td><td>517.0</td><td>0.0</td><td>0.0</td><td>2.0</td><td>0.0</td><td>0.0</td><td>0.0</td><td>0.0</td><td>1.0</td><td>0.0</td><td>0.0</td><td>13.0</td><td>0.0</td><td>0.0</td><td>10.0</td><td>3.0</td><td>0.0</td><td>0.0</td><td>0.0</td><td>0.0</td><td>0.0</td><td>0.0</td><td>0.0</td><td>0.0</td><td>0.0</td><td>0.0</td><td>0.0</td><td>0.0</td><td>0.0</td><td>0.0</td><td>1.0</td><td>12.0</td><td>0.0</td><td>0.0</td></tr><tr><td>&quot;25%&quot;</td><td>100.0</td><td>0.0</td><td>1.0</td><td>0.0</td><td>43.0</td><td>2.0</td><td>0.0</td><td>0.0</td><td>0.0</td><td>2698.0</td><td>409.0</td><td>1523.0</td><td>2.0</td><td>24.0</td><td>0.0</td><td>33059.0</td><td>0.0</td><td>0.0</td><td>0.0</td><td>100.0</td><td>0.0</td><td>0.0</td><td>0.0</td><td>79.0</td><td>1997.0</td><td>85.0</td><td>7107.0</td><td>0.0</td><td>0.0</td><td>2.0</td><td>7.0</td><td>2.0</td><td>8.0</td><td>577.0</td><td>16.0</td><td>1.0</td><td>15.0</td><td>27.0</td><td>0.0</td><td>0.0</td><td>95.0</td><td>6.0</td><td>0.0</td><td>0.0</td><td>38.0</td><td>98.0</td><td>16.0</td><td>70.0</td><td>12.0</td><td>92.0</td><td>73.0</td><td>2.0</td><td>371.0</td><td>0.0</td><td>0.0</td><td>1.0</td><td>0.0</td><td>0.0</td><td>93.0</td><td>1.0</td><td>27.0</td><td>0.0</td><td>10.0</td><td>7.0</td><td>119.0</td><td>48.0</td><td>0.0</td></tr><tr><td>&quot;50%&quot;</td><td>100.0</td><td>0.0</td><td>2.0</td><td>0.0</td><td>74.0</td><td>5.0</td><td>0.0</td><td>0.0</td><td>0.0</td><td>8431.0</td><td>843.0</td><td>7364.0</td><td>3.0</td><td>45.0</td><td>0.0</td><td>113397.0</td><td>1.0</td><td>0.0</td><td>0.0</td><td>111.0</td><td>0.0</td><td>0.0</td><td>0.0</td><td>137.0</td><td>8000.0</td><td>479.0</td><td>19103.0</td><td>0.0</td><td>0.0</td><td>4.0</td><td>21.0</td><td>4.0</td><td>11.0</td><td>597.0</td><td>36.0</td><td>2.0</td><td>21.0</td><td>75.0</td><td>0.0</td><td>0.0</td><td>98.0</td><td>11.0</td><td>0.0</td><td>0.0</td><td>50.0</td><td>167.0</td><td>41.0</td><td>200.0</td><td>19.0</td><td>98.0</td><td>92.0</td><td>3.0</td><td>866.0</td><td>46.0</td><td>0.0</td><td>2.0</td><td>0.0</td><td>1.0</td><td>103.0</td><td>2.0</td><td>58.0</td><td>0.0</td><td>29.0</td><td>10.0</td><td>174.0</td><td>76.0</td><td>0.0</td></tr><tr><td>&quot;75%&quot;</td><td>115.0</td><td>0.0</td><td>3.0</td><td>281.0</td><td>92.0</td><td>9.0</td><td>0.0</td><td>0.0</td><td>995.0</td><td>18900.0</td><td>1964.0</td><td>18814.0</td><td>6.0</td><td>58.0</td><td>0.0</td><td>193956.0</td><td>2.0</td><td>0.0</td><td>0.0</td><td>144.0</td><td>0.0</td><td>0.0</td><td>0.0</td><td>292.0</td><td>19502.0</td><td>1159.0</td><td>62181.0</td><td>0.0</td><td>1.0</td><td>8.0</td><td>44.0</td><td>8.0</td><td>14.0</td><td>619.0</td><td>52.0</td><td>4.0</td><td>29.0</td><td>173.0</td><td>0.0</td><td>0.0</td><td>101.0</td><td>16.0</td><td>0.0</td><td>0.0</td><td>61.0</td><td>329.0</td><td>81.0</td><td>500.0</td><td>30.0</td><td>107.0</td><td>121.0</td><td>5.0</td><td>1757.0</td><td>1785.0</td><td>0.0</td><td>6.0</td><td>0.0</td><td>2.0</td><td>144.0</td><td>4.0</td><td>115.0</td><td>1790.0</td><td>54.0</td><td>14.0</td><td>233.0</td><td>92.0</td><td>756.0</td></tr><tr><td>&quot;max&quot;</td><td>6500.0</td><td>3652.0</td><td>27.0</td><td>6805.0</td><td>1072.0</td><td>98.0</td><td>3571.0</td><td>3.0</td><td>38265.0</td><td>165920.0</td><td>55932.0</td><td>200376.0</td><td>49.0</td><td>72.0</td><td>4.0</td><td>1.454554e6</td><td>16.0</td><td>17.0</td><td>14.0</td><td>8700.0</td><td>4.0</td><td>874.0</td><td>4000.0</td><td>9808.0</td><td>200376.0</td><td>20800.0</td><td>1.463756e6</td><td>15.0</td><td>19.0</td><td>43.0</td><td>72.0</td><td>69.0</td><td>47.0</td><td>702.0</td><td>72.0</td><td>33.0</td><td>99.0</td><td>497.0</td><td>16.0</td><td>7.0</td><td>8087.0</td><td>20.0</td><td>19.0</td><td>4.0</td><td>72.0</td><td>9831.0</td><td>842.0</td><td>2900.0</td><td>103.0</td><td>9494.0</td><td>9700.0</td><td>25.0</td><td>46642.0</td><td>128215.0</td><td>11.0</td><td>72.0</td><td>2.0</td><td>19.0</td><td>9841.0</td><td>26.0</td><td>497.0</td><td>49104.0</td><td>500.0</td><td>47.0</td><td>806.0</td><td>1520.0</td><td>11244.0</td></tr></tbody></table></div>"
      ],
      "text/plain": [
       "shape: (9, 68)\n",
       "┌───────────┬───────────┬───────────┬──────────┬───┬───────────┬───────────┬───────────┬───────────┐\n",
       "│ statistic ┆ an        ┆ total_bal ┆ seb      ┆ … ┆ rh        ┆ gg        ┆ mzb       ┆ fs        │\n",
       "│ ---       ┆ ---       ┆ ance_on_d ┆ ---      ┆   ┆ ---       ┆ ---       ┆ ---       ┆ ---       │\n",
       "│ str       ┆ f64       ┆ efault_ac ┆ f64      ┆   ┆ f64       ┆ f64       ┆ f64       ┆ f64       │\n",
       "│           ┆           ┆ cou…      ┆          ┆   ┆           ┆           ┆           ┆           │\n",
       "│           ┆           ┆ ---       ┆          ┆   ┆           ┆           ┆           ┆           │\n",
       "│           ┆           ┆ f64       ┆          ┆   ┆           ┆           ┆           ┆           │\n",
       "╞═══════════╪═══════════╪═══════════╪══════════╪═══╪═══════════╪═══════════╪═══════════╪═══════════╡\n",
       "│ count     ┆ 4410.0    ┆ 4542.0    ┆ 4542.0   ┆ … ┆ 4542.0    ┆ 4542.0    ┆ 4255.0    ┆ 286.0     │\n",
       "│ null_coun ┆ 132.0     ┆ 0.0       ┆ 0.0      ┆ … ┆ 0.0       ┆ 0.0       ┆ 287.0     ┆ 4256.0    │\n",
       "│ t         ┆           ┆           ┆          ┆   ┆           ┆           ┆           ┆           │\n",
       "│ mean      ┆ 122.93446 ┆ 8.733598  ┆ 2.353369 ┆ … ┆ 10.839938 ┆ 181.73381 ┆ 71.93396  ┆ 675.09090 │\n",
       "│           ┆ 7         ┆           ┆          ┆   ┆           ┆ 8         ┆           ┆ 9         │\n",
       "│ std       ┆ 153.85007 ┆ 99.73381  ┆ 2.533364 ┆ … ┆ 4.882559  ┆ 85.662969 ┆ 55.129898 ┆ 1434.6953 │\n",
       "│           ┆ 7         ┆           ┆          ┆   ┆           ┆           ┆           ┆ 14        │\n",
       "│ min       ┆ 0.0       ┆ 0.0       ┆ 0.0      ┆ … ┆ 1.0       ┆ 12.0      ┆ 0.0       ┆ 0.0       │\n",
       "│ 25%       ┆ 100.0     ┆ 0.0       ┆ 1.0      ┆ … ┆ 7.0       ┆ 119.0     ┆ 48.0      ┆ 0.0       │\n",
       "│ 50%       ┆ 100.0     ┆ 0.0       ┆ 2.0      ┆ … ┆ 10.0      ┆ 174.0     ┆ 76.0      ┆ 0.0       │\n",
       "│ 75%       ┆ 115.0     ┆ 0.0       ┆ 3.0      ┆ … ┆ 14.0      ┆ 233.0     ┆ 92.0      ┆ 756.0     │\n",
       "│ max       ┆ 6500.0    ┆ 3652.0    ┆ 27.0     ┆ … ┆ 47.0      ┆ 806.0     ┆ 1520.0    ┆ 11244.0   │\n",
       "└───────────┴───────────┴───────────┴──────────┴───┴───────────┴───────────┴───────────┴───────────┘"
      ]
     },
     "execution_count": 8,
     "metadata": {},
     "output_type": "execute_result"
    }
   ],
   "source": [
    "static.select(cs.all() - cs.string()).describe()"
   ]
  },
  {
   "cell_type": "code",
   "execution_count": 9,
   "metadata": {},
   "outputs": [],
   "source": [
    "ledger = dynamic.join(static, on='bureau_search_ref')"
   ]
  },
  {
   "cell_type": "code",
   "execution_count": 10,
   "metadata": {},
   "outputs": [],
   "source": [
    "out = {}\n",
    "\n",
    "for field, dtype in dict(static.schema).items():\n",
    "    out[field] = \"category\" if dtype == pl.String else \"number\""
   ]
  },
  {
   "cell_type": "code",
   "execution_count": 11,
   "metadata": {},
   "outputs": [
    {
     "data": {
      "text/plain": [
       "['08',\n",
       " '11',\n",
       " '07',\n",
       " '24',\n",
       " '12',\n",
       " '19',\n",
       " '13',\n",
       " '09',\n",
       " '22',\n",
       " '01',\n",
       " '06',\n",
       " '18',\n",
       " '23',\n",
       " '02',\n",
       " None,\n",
       " '10',\n",
       " 'XX',\n",
       " '15',\n",
       " '21',\n",
       " '16',\n",
       " '04',\n",
       " '03',\n",
       " '05',\n",
       " '17',\n",
       " '20',\n",
       " '14']"
      ]
     },
     "execution_count": 11,
     "metadata": {},
     "output_type": "execute_result"
    }
   ],
   "source": [
    "static['nob'].unique().to_list()"
   ]
  },
  {
   "cell_type": "code",
   "execution_count": 12,
   "metadata": {},
   "outputs": [],
   "source": [
    "for index, shard in enumerate(ledger.iter_slices(5)):\n",
    "    shard.write_ndjson(f\"../data/lifestreams/plata/plata-{index}.ndjson\")"
   ]
  },
  {
   "cell_type": "code",
   "execution_count": 13,
   "metadata": {},
   "outputs": [
    {
     "data": {
      "application/javascript": "(function(root) {\n  function now() {\n    return new Date();\n  }\n\n  var force = true;\n  var py_version = '3.4.2'.replace('rc', '-rc.').replace('.dev', '-dev.');\n  var reloading = false;\n  var Bokeh = root.Bokeh;\n\n  if (typeof (root._bokeh_timeout) === \"undefined\" || force) {\n    root._bokeh_timeout = Date.now() + 5000;\n    root._bokeh_failed_load = false;\n  }\n\n  function run_callbacks() {\n    try {\n      root._bokeh_onload_callbacks.forEach(function(callback) {\n        if (callback != null)\n          callback();\n      });\n    } finally {\n      delete root._bokeh_onload_callbacks;\n    }\n    console.debug(\"Bokeh: all callbacks have finished\");\n  }\n\n  function load_libs(css_urls, js_urls, js_modules, js_exports, callback) {\n    if (css_urls == null) css_urls = [];\n    if (js_urls == null) js_urls = [];\n    if (js_modules == null) js_modules = [];\n    if (js_exports == null) js_exports = {};\n\n    root._bokeh_onload_callbacks.push(callback);\n\n    if (root._bokeh_is_loading > 0) {\n      console.debug(\"Bokeh: BokehJS is being loaded, scheduling callback at\", now());\n      return null;\n    }\n    if (js_urls.length === 0 && js_modules.length === 0 && Object.keys(js_exports).length === 0) {\n      run_callbacks();\n      return null;\n    }\n    if (!reloading) {\n      console.debug(\"Bokeh: BokehJS not loaded, scheduling load and callback at\", now());\n    }\n\n    function on_load() {\n      root._bokeh_is_loading--;\n      if (root._bokeh_is_loading === 0) {\n        console.debug(\"Bokeh: all BokehJS libraries/stylesheets loaded\");\n        run_callbacks()\n      }\n    }\n    window._bokeh_on_load = on_load\n\n    function on_error() {\n      console.error(\"failed to load \" + url);\n    }\n\n    var skip = [];\n    if (window.requirejs) {\n      window.requirejs.config({'packages': {}, 'paths': {}, 'shim': {}});\n      root._bokeh_is_loading = css_urls.length + 0;\n    } else {\n      root._bokeh_is_loading = css_urls.length + js_urls.length + js_modules.length + Object.keys(js_exports).length;\n    }\n\n    var existing_stylesheets = []\n    var links = document.getElementsByTagName('link')\n    for (var i = 0; i < links.length; i++) {\n      var link = links[i]\n      if (link.href != null) {\n\texisting_stylesheets.push(link.href)\n      }\n    }\n    for (var i = 0; i < css_urls.length; i++) {\n      var url = css_urls[i];\n      if (existing_stylesheets.indexOf(url) !== -1) {\n\ton_load()\n\tcontinue;\n      }\n      const element = document.createElement(\"link\");\n      element.onload = on_load;\n      element.onerror = on_error;\n      element.rel = \"stylesheet\";\n      element.type = \"text/css\";\n      element.href = url;\n      console.debug(\"Bokeh: injecting link tag for BokehJS stylesheet: \", url);\n      document.body.appendChild(element);\n    }    var existing_scripts = []\n    var scripts = document.getElementsByTagName('script')\n    for (var i = 0; i < scripts.length; i++) {\n      var script = scripts[i]\n      if (script.src != null) {\n\texisting_scripts.push(script.src)\n      }\n    }\n    for (var i = 0; i < js_urls.length; i++) {\n      var url = js_urls[i];\n      if (skip.indexOf(url) !== -1 || existing_scripts.indexOf(url) !== -1) {\n\tif (!window.requirejs) {\n\t  on_load();\n\t}\n\tcontinue;\n      }\n      var element = document.createElement('script');\n      element.onload = on_load;\n      element.onerror = on_error;\n      element.async = false;\n      element.src = url;\n      console.debug(\"Bokeh: injecting script tag for BokehJS library: \", url);\n      document.head.appendChild(element);\n    }\n    for (var i = 0; i < js_modules.length; i++) {\n      var url = js_modules[i];\n      if (skip.indexOf(url) !== -1 || existing_scripts.indexOf(url) !== -1) {\n\tif (!window.requirejs) {\n\t  on_load();\n\t}\n\tcontinue;\n      }\n      var element = document.createElement('script');\n      element.onload = on_load;\n      element.onerror = on_error;\n      element.async = false;\n      element.src = url;\n      element.type = \"module\";\n      console.debug(\"Bokeh: injecting script tag for BokehJS library: \", url);\n      document.head.appendChild(element);\n    }\n    for (const name in js_exports) {\n      var url = js_exports[name];\n      if (skip.indexOf(url) >= 0 || root[name] != null) {\n\tif (!window.requirejs) {\n\t  on_load();\n\t}\n\tcontinue;\n      }\n      var element = document.createElement('script');\n      element.onerror = on_error;\n      element.async = false;\n      element.type = \"module\";\n      console.debug(\"Bokeh: injecting script tag for BokehJS library: \", url);\n      element.textContent = `\n      import ${name} from \"${url}\"\n      window.${name} = ${name}\n      window._bokeh_on_load()\n      `\n      document.head.appendChild(element);\n    }\n    if (!js_urls.length && !js_modules.length) {\n      on_load()\n    }\n  };\n\n  function inject_raw_css(css) {\n    const element = document.createElement(\"style\");\n    element.appendChild(document.createTextNode(css));\n    document.body.appendChild(element);\n  }\n\n  var js_urls = [\"https://cdn.bokeh.org/bokeh/release/bokeh-3.4.2.min.js\", \"https://cdn.bokeh.org/bokeh/release/bokeh-gl-3.4.2.min.js\", \"https://cdn.bokeh.org/bokeh/release/bokeh-widgets-3.4.2.min.js\", \"https://cdn.bokeh.org/bokeh/release/bokeh-tables-3.4.2.min.js\", \"https://cdn.holoviz.org/panel/1.4.4/dist/panel.min.js\"];\n  var js_modules = [];\n  var js_exports = {};\n  var css_urls = [];\n  var inline_js = [    function(Bokeh) {\n      Bokeh.set_log_level(\"info\");\n    },\nfunction(Bokeh) {} // ensure no trailing comma for IE\n  ];\n\n  function run_inline_js() {\n    if ((root.Bokeh !== undefined) || (force === true)) {\n      for (var i = 0; i < inline_js.length; i++) {\n\ttry {\n          inline_js[i].call(root, root.Bokeh);\n\t} catch(e) {\n\t  if (!reloading) {\n\t    throw e;\n\t  }\n\t}\n      }\n      // Cache old bokeh versions\n      if (Bokeh != undefined && !reloading) {\n\tvar NewBokeh = root.Bokeh;\n\tif (Bokeh.versions === undefined) {\n\t  Bokeh.versions = new Map();\n\t}\n\tif (NewBokeh.version !== Bokeh.version) {\n\t  Bokeh.versions.set(NewBokeh.version, NewBokeh)\n\t}\n\troot.Bokeh = Bokeh;\n      }} else if (Date.now() < root._bokeh_timeout) {\n      setTimeout(run_inline_js, 100);\n    } else if (!root._bokeh_failed_load) {\n      console.log(\"Bokeh: BokehJS failed to load within specified timeout.\");\n      root._bokeh_failed_load = true;\n    }\n    root._bokeh_is_initializing = false\n  }\n\n  function load_or_wait() {\n    // Implement a backoff loop that tries to ensure we do not load multiple\n    // versions of Bokeh and its dependencies at the same time.\n    // In recent versions we use the root._bokeh_is_initializing flag\n    // to determine whether there is an ongoing attempt to initialize\n    // bokeh, however for backward compatibility we also try to ensure\n    // that we do not start loading a newer (Panel>=1.0 and Bokeh>3) version\n    // before older versions are fully initialized.\n    if (root._bokeh_is_initializing && Date.now() > root._bokeh_timeout) {\n      root._bokeh_is_initializing = false;\n      root._bokeh_onload_callbacks = undefined;\n      console.log(\"Bokeh: BokehJS was loaded multiple times but one version failed to initialize.\");\n      load_or_wait();\n    } else if (root._bokeh_is_initializing || (typeof root._bokeh_is_initializing === \"undefined\" && root._bokeh_onload_callbacks !== undefined)) {\n      setTimeout(load_or_wait, 100);\n    } else {\n      root._bokeh_is_initializing = true\n      root._bokeh_onload_callbacks = []\n      var bokeh_loaded = Bokeh != null && (Bokeh.version === py_version || (Bokeh.versions !== undefined && Bokeh.versions.has(py_version)));\n      if (!reloading && !bokeh_loaded) {\n\troot.Bokeh = undefined;\n      }\n      load_libs(css_urls, js_urls, js_modules, js_exports, function() {\n\tconsole.debug(\"Bokeh: BokehJS plotting callback run at\", now());\n\trun_inline_js();\n      });\n    }\n  }\n  // Give older versions of the autoload script a head-start to ensure\n  // they initialize before we start loading newer version.\n  setTimeout(load_or_wait, 100)\n}(window));",
      "application/vnd.holoviews_load.v0+json": ""
     },
     "metadata": {},
     "output_type": "display_data"
    },
    {
     "data": {
      "application/javascript": "\nif ((window.PyViz === undefined) || (window.PyViz instanceof HTMLElement)) {\n  window.PyViz = {comms: {}, comm_status:{}, kernels:{}, receivers: {}, plot_index: []}\n}\n\n\n    function JupyterCommManager() {\n    }\n\n    JupyterCommManager.prototype.register_target = function(plot_id, comm_id, msg_handler) {\n      if (window.comm_manager || ((window.Jupyter !== undefined) && (Jupyter.notebook.kernel != null))) {\n        var comm_manager = window.comm_manager || Jupyter.notebook.kernel.comm_manager;\n        comm_manager.register_target(comm_id, function(comm) {\n          comm.on_msg(msg_handler);\n        });\n      } else if ((plot_id in window.PyViz.kernels) && (window.PyViz.kernels[plot_id])) {\n        window.PyViz.kernels[plot_id].registerCommTarget(comm_id, function(comm) {\n          comm.onMsg = msg_handler;\n        });\n      } else if (typeof google != 'undefined' && google.colab.kernel != null) {\n        google.colab.kernel.comms.registerTarget(comm_id, (comm) => {\n          var messages = comm.messages[Symbol.asyncIterator]();\n          function processIteratorResult(result) {\n            var message = result.value;\n            console.log(message)\n            var content = {data: message.data, comm_id};\n            var buffers = []\n            for (var buffer of message.buffers || []) {\n              buffers.push(new DataView(buffer))\n            }\n            var metadata = message.metadata || {};\n            var msg = {content, buffers, metadata}\n            msg_handler(msg);\n            return messages.next().then(processIteratorResult);\n          }\n          return messages.next().then(processIteratorResult);\n        })\n      }\n    }\n\n    JupyterCommManager.prototype.get_client_comm = function(plot_id, comm_id, msg_handler) {\n      if (comm_id in window.PyViz.comms) {\n        return window.PyViz.comms[comm_id];\n      } else if (window.comm_manager || ((window.Jupyter !== undefined) && (Jupyter.notebook.kernel != null))) {\n        var comm_manager = window.comm_manager || Jupyter.notebook.kernel.comm_manager;\n        var comm = comm_manager.new_comm(comm_id, {}, {}, {}, comm_id);\n        if (msg_handler) {\n          comm.on_msg(msg_handler);\n        }\n      } else if ((plot_id in window.PyViz.kernels) && (window.PyViz.kernels[plot_id])) {\n        var comm = window.PyViz.kernels[plot_id].connectToComm(comm_id);\n        comm.open();\n        if (msg_handler) {\n          comm.onMsg = msg_handler;\n        }\n      } else if (typeof google != 'undefined' && google.colab.kernel != null) {\n        var comm_promise = google.colab.kernel.comms.open(comm_id)\n        comm_promise.then((comm) => {\n          window.PyViz.comms[comm_id] = comm;\n          if (msg_handler) {\n            var messages = comm.messages[Symbol.asyncIterator]();\n            function processIteratorResult(result) {\n              var message = result.value;\n              var content = {data: message.data};\n              var metadata = message.metadata || {comm_id};\n              var msg = {content, metadata}\n              msg_handler(msg);\n              return messages.next().then(processIteratorResult);\n            }\n            return messages.next().then(processIteratorResult);\n          }\n        }) \n        var sendClosure = (data, metadata, buffers, disposeOnDone) => {\n          return comm_promise.then((comm) => {\n            comm.send(data, metadata, buffers, disposeOnDone);\n          });\n        };\n        var comm = {\n          send: sendClosure\n        };\n      }\n      window.PyViz.comms[comm_id] = comm;\n      return comm;\n    }\n    window.PyViz.comm_manager = new JupyterCommManager();\n    \n\n\nvar JS_MIME_TYPE = 'application/javascript';\nvar HTML_MIME_TYPE = 'text/html';\nvar EXEC_MIME_TYPE = 'application/vnd.holoviews_exec.v0+json';\nvar CLASS_NAME = 'output';\n\n/**\n * Render data to the DOM node\n */\nfunction render(props, node) {\n  var div = document.createElement(\"div\");\n  var script = document.createElement(\"script\");\n  node.appendChild(div);\n  node.appendChild(script);\n}\n\n/**\n * Handle when a new output is added\n */\nfunction handle_add_output(event, handle) {\n  var output_area = handle.output_area;\n  var output = handle.output;\n  if ((output.data == undefined) || (!output.data.hasOwnProperty(EXEC_MIME_TYPE))) {\n    return\n  }\n  var id = output.metadata[EXEC_MIME_TYPE][\"id\"];\n  var toinsert = output_area.element.find(\".\" + CLASS_NAME.split(' ')[0]);\n  if (id !== undefined) {\n    var nchildren = toinsert.length;\n    var html_node = toinsert[nchildren-1].children[0];\n    html_node.innerHTML = output.data[HTML_MIME_TYPE];\n    var scripts = [];\n    var nodelist = html_node.querySelectorAll(\"script\");\n    for (var i in nodelist) {\n      if (nodelist.hasOwnProperty(i)) {\n        scripts.push(nodelist[i])\n      }\n    }\n\n    scripts.forEach( function (oldScript) {\n      var newScript = document.createElement(\"script\");\n      var attrs = [];\n      var nodemap = oldScript.attributes;\n      for (var j in nodemap) {\n        if (nodemap.hasOwnProperty(j)) {\n          attrs.push(nodemap[j])\n        }\n      }\n      attrs.forEach(function(attr) { newScript.setAttribute(attr.name, attr.value) });\n      newScript.appendChild(document.createTextNode(oldScript.innerHTML));\n      oldScript.parentNode.replaceChild(newScript, oldScript);\n    });\n    if (JS_MIME_TYPE in output.data) {\n      toinsert[nchildren-1].children[1].textContent = output.data[JS_MIME_TYPE];\n    }\n    output_area._hv_plot_id = id;\n    if ((window.Bokeh !== undefined) && (id in Bokeh.index)) {\n      window.PyViz.plot_index[id] = Bokeh.index[id];\n    } else {\n      window.PyViz.plot_index[id] = null;\n    }\n  } else if (output.metadata[EXEC_MIME_TYPE][\"server_id\"] !== undefined) {\n    var bk_div = document.createElement(\"div\");\n    bk_div.innerHTML = output.data[HTML_MIME_TYPE];\n    var script_attrs = bk_div.children[0].attributes;\n    for (var i = 0; i < script_attrs.length; i++) {\n      toinsert[toinsert.length - 1].childNodes[1].setAttribute(script_attrs[i].name, script_attrs[i].value);\n    }\n    // store reference to server id on output_area\n    output_area._bokeh_server_id = output.metadata[EXEC_MIME_TYPE][\"server_id\"];\n  }\n}\n\n/**\n * Handle when an output is cleared or removed\n */\nfunction handle_clear_output(event, handle) {\n  var id = handle.cell.output_area._hv_plot_id;\n  var server_id = handle.cell.output_area._bokeh_server_id;\n  if (((id === undefined) || !(id in PyViz.plot_index)) && (server_id !== undefined)) { return; }\n  var comm = window.PyViz.comm_manager.get_client_comm(\"hv-extension-comm\", \"hv-extension-comm\", function () {});\n  if (server_id !== null) {\n    comm.send({event_type: 'server_delete', 'id': server_id});\n    return;\n  } else if (comm !== null) {\n    comm.send({event_type: 'delete', 'id': id});\n  }\n  delete PyViz.plot_index[id];\n  if ((window.Bokeh !== undefined) & (id in window.Bokeh.index)) {\n    var doc = window.Bokeh.index[id].model.document\n    doc.clear();\n    const i = window.Bokeh.documents.indexOf(doc);\n    if (i > -1) {\n      window.Bokeh.documents.splice(i, 1);\n    }\n  }\n}\n\n/**\n * Handle kernel restart event\n */\nfunction handle_kernel_cleanup(event, handle) {\n  delete PyViz.comms[\"hv-extension-comm\"];\n  window.PyViz.plot_index = {}\n}\n\n/**\n * Handle update_display_data messages\n */\nfunction handle_update_output(event, handle) {\n  handle_clear_output(event, {cell: {output_area: handle.output_area}})\n  handle_add_output(event, handle)\n}\n\nfunction register_renderer(events, OutputArea) {\n  function append_mime(data, metadata, element) {\n    // create a DOM node to render to\n    var toinsert = this.create_output_subarea(\n    metadata,\n    CLASS_NAME,\n    EXEC_MIME_TYPE\n    );\n    this.keyboard_manager.register_events(toinsert);\n    // Render to node\n    var props = {data: data, metadata: metadata[EXEC_MIME_TYPE]};\n    render(props, toinsert[0]);\n    element.append(toinsert);\n    return toinsert\n  }\n\n  events.on('output_added.OutputArea', handle_add_output);\n  events.on('output_updated.OutputArea', handle_update_output);\n  events.on('clear_output.CodeCell', handle_clear_output);\n  events.on('delete.Cell', handle_clear_output);\n  events.on('kernel_ready.Kernel', handle_kernel_cleanup);\n\n  OutputArea.prototype.register_mime_type(EXEC_MIME_TYPE, append_mime, {\n    safe: true,\n    index: 0\n  });\n}\n\nif (window.Jupyter !== undefined) {\n  try {\n    var events = require('base/js/events');\n    var OutputArea = require('notebook/js/outputarea').OutputArea;\n    if (OutputArea.prototype.mime_types().indexOf(EXEC_MIME_TYPE) == -1) {\n      register_renderer(events, OutputArea);\n    }\n  } catch(err) {\n  }\n}\n",
      "application/vnd.holoviews_load.v0+json": ""
     },
     "metadata": {},
     "output_type": "display_data"
    },
    {
     "data": {
      "text/html": [
       "<style>*[data-root-id],\n",
       "*[data-root-id] > * {\n",
       "  box-sizing: border-box;\n",
       "  font-family: var(--jp-ui-font-family);\n",
       "  font-size: var(--jp-ui-font-size1);\n",
       "  color: var(--vscode-editor-foreground, var(--jp-ui-font-color1));\n",
       "}\n",
       "\n",
       "/* Override VSCode background color */\n",
       ".cell-output-ipywidget-background:has(\n",
       "    > .cell-output-ipywidget-background > .lm-Widget > *[data-root-id]\n",
       "  ),\n",
       ".cell-output-ipywidget-background:has(> .lm-Widget > *[data-root-id]) {\n",
       "  background-color: transparent !important;\n",
       "}\n",
       "</style>"
      ]
     },
     "metadata": {},
     "output_type": "display_data"
    },
    {
     "data": {
      "application/vnd.holoviews_exec.v0+json": "",
      "text/html": [
       "<div id='p1002'>\n",
       "  <div id=\"f5e31771-7023-4036-9411-dffa36ae109f\" data-root-id=\"p1002\" style=\"display: contents;\"></div>\n",
       "</div>\n",
       "<script type=\"application/javascript\">(function(root) {\n",
       "  var docs_json = {\"fa08ef98-4b7e-4d16-a815-ecb371fd5da8\":{\"version\":\"3.4.2\",\"title\":\"Bokeh Application\",\"roots\":[{\"type\":\"object\",\"name\":\"panel.models.browser.BrowserInfo\",\"id\":\"p1002\"},{\"type\":\"object\",\"name\":\"panel.models.comm_manager.CommManager\",\"id\":\"p1003\",\"attributes\":{\"plot_id\":\"p1002\",\"comm_id\":\"6eae8f71bbc042a196e71c3e99d8c0a7\",\"client_comm_id\":\"998edfb84f4549629f77b085230aae5e\"}}],\"defs\":[{\"type\":\"model\",\"name\":\"ReactiveHTML1\"},{\"type\":\"model\",\"name\":\"FlexBox1\",\"properties\":[{\"name\":\"align_content\",\"kind\":\"Any\",\"default\":\"flex-start\"},{\"name\":\"align_items\",\"kind\":\"Any\",\"default\":\"flex-start\"},{\"name\":\"flex_direction\",\"kind\":\"Any\",\"default\":\"row\"},{\"name\":\"flex_wrap\",\"kind\":\"Any\",\"default\":\"wrap\"},{\"name\":\"gap\",\"kind\":\"Any\",\"default\":\"\"},{\"name\":\"justify_content\",\"kind\":\"Any\",\"default\":\"flex-start\"}]},{\"type\":\"model\",\"name\":\"FloatPanel1\",\"properties\":[{\"name\":\"config\",\"kind\":\"Any\",\"default\":{\"type\":\"map\"}},{\"name\":\"contained\",\"kind\":\"Any\",\"default\":true},{\"name\":\"position\",\"kind\":\"Any\",\"default\":\"right-top\"},{\"name\":\"offsetx\",\"kind\":\"Any\",\"default\":null},{\"name\":\"offsety\",\"kind\":\"Any\",\"default\":null},{\"name\":\"theme\",\"kind\":\"Any\",\"default\":\"primary\"},{\"name\":\"status\",\"kind\":\"Any\",\"default\":\"normalized\"}]},{\"type\":\"model\",\"name\":\"GridStack1\",\"properties\":[{\"name\":\"mode\",\"kind\":\"Any\",\"default\":\"warn\"},{\"name\":\"ncols\",\"kind\":\"Any\",\"default\":null},{\"name\":\"nrows\",\"kind\":\"Any\",\"default\":null},{\"name\":\"allow_resize\",\"kind\":\"Any\",\"default\":true},{\"name\":\"allow_drag\",\"kind\":\"Any\",\"default\":true},{\"name\":\"state\",\"kind\":\"Any\",\"default\":[]}]},{\"type\":\"model\",\"name\":\"drag1\",\"properties\":[{\"name\":\"slider_width\",\"kind\":\"Any\",\"default\":5},{\"name\":\"slider_color\",\"kind\":\"Any\",\"default\":\"black\"},{\"name\":\"value\",\"kind\":\"Any\",\"default\":50}]},{\"type\":\"model\",\"name\":\"click1\",\"properties\":[{\"name\":\"terminal_output\",\"kind\":\"Any\",\"default\":\"\"},{\"name\":\"debug_name\",\"kind\":\"Any\",\"default\":\"\"},{\"name\":\"clears\",\"kind\":\"Any\",\"default\":0}]},{\"type\":\"model\",\"name\":\"FastWrapper1\",\"properties\":[{\"name\":\"object\",\"kind\":\"Any\",\"default\":null},{\"name\":\"style\",\"kind\":\"Any\",\"default\":null}]},{\"type\":\"model\",\"name\":\"NotificationAreaBase1\",\"properties\":[{\"name\":\"js_events\",\"kind\":\"Any\",\"default\":{\"type\":\"map\"}},{\"name\":\"position\",\"kind\":\"Any\",\"default\":\"bottom-right\"},{\"name\":\"_clear\",\"kind\":\"Any\",\"default\":0}]},{\"type\":\"model\",\"name\":\"NotificationArea1\",\"properties\":[{\"name\":\"js_events\",\"kind\":\"Any\",\"default\":{\"type\":\"map\"}},{\"name\":\"notifications\",\"kind\":\"Any\",\"default\":[]},{\"name\":\"position\",\"kind\":\"Any\",\"default\":\"bottom-right\"},{\"name\":\"_clear\",\"kind\":\"Any\",\"default\":0},{\"name\":\"types\",\"kind\":\"Any\",\"default\":[{\"type\":\"map\",\"entries\":[[\"type\",\"warning\"],[\"background\",\"#ffc107\"],[\"icon\",{\"type\":\"map\",\"entries\":[[\"className\",\"fas fa-exclamation-triangle\"],[\"tagName\",\"i\"],[\"color\",\"white\"]]}]]},{\"type\":\"map\",\"entries\":[[\"type\",\"info\"],[\"background\",\"#007bff\"],[\"icon\",{\"type\":\"map\",\"entries\":[[\"className\",\"fas fa-info-circle\"],[\"tagName\",\"i\"],[\"color\",\"white\"]]}]]}]}]},{\"type\":\"model\",\"name\":\"Notification\",\"properties\":[{\"name\":\"background\",\"kind\":\"Any\",\"default\":null},{\"name\":\"duration\",\"kind\":\"Any\",\"default\":3000},{\"name\":\"icon\",\"kind\":\"Any\",\"default\":null},{\"name\":\"message\",\"kind\":\"Any\",\"default\":\"\"},{\"name\":\"notification_type\",\"kind\":\"Any\",\"default\":null},{\"name\":\"_destroyed\",\"kind\":\"Any\",\"default\":false}]},{\"type\":\"model\",\"name\":\"TemplateActions1\",\"properties\":[{\"name\":\"open_modal\",\"kind\":\"Any\",\"default\":0},{\"name\":\"close_modal\",\"kind\":\"Any\",\"default\":0}]},{\"type\":\"model\",\"name\":\"BootstrapTemplateActions1\",\"properties\":[{\"name\":\"open_modal\",\"kind\":\"Any\",\"default\":0},{\"name\":\"close_modal\",\"kind\":\"Any\",\"default\":0}]},{\"type\":\"model\",\"name\":\"TemplateEditor1\",\"properties\":[{\"name\":\"layout\",\"kind\":\"Any\",\"default\":[]}]},{\"type\":\"model\",\"name\":\"MaterialTemplateActions1\",\"properties\":[{\"name\":\"open_modal\",\"kind\":\"Any\",\"default\":0},{\"name\":\"close_modal\",\"kind\":\"Any\",\"default\":0}]},{\"type\":\"model\",\"name\":\"copy_to_clipboard1\",\"properties\":[{\"name\":\"fill\",\"kind\":\"Any\",\"default\":\"none\"},{\"name\":\"value\",\"kind\":\"Any\",\"default\":null}]}]}};\n",
       "  var render_items = [{\"docid\":\"fa08ef98-4b7e-4d16-a815-ecb371fd5da8\",\"roots\":{\"p1002\":\"f5e31771-7023-4036-9411-dffa36ae109f\"},\"root_ids\":[\"p1002\"]}];\n",
       "  var docs = Object.values(docs_json)\n",
       "  if (!docs) {\n",
       "    return\n",
       "  }\n",
       "  const py_version = docs[0].version.replace('rc', '-rc.').replace('.dev', '-dev.')\n",
       "  async function embed_document(root) {\n",
       "    var Bokeh = get_bokeh(root)\n",
       "    await Bokeh.embed.embed_items_notebook(docs_json, render_items);\n",
       "    for (const render_item of render_items) {\n",
       "      for (const root_id of render_item.root_ids) {\n",
       "\tconst id_el = document.getElementById(root_id)\n",
       "\tif (id_el.children.length && id_el.children[0].hasAttribute('data-root-id')) {\n",
       "\t  const root_el = id_el.children[0]\n",
       "\t  root_el.id = root_el.id + '-rendered'\n",
       "\t  for (const child of root_el.children) {\n",
       "            // Ensure JupyterLab does not capture keyboard shortcuts\n",
       "            // see: https://jupyterlab.readthedocs.io/en/4.1.x/extension/notebook.html#keyboard-interaction-model\n",
       "\t    child.setAttribute('data-lm-suppress-shortcuts', 'true')\n",
       "\t  }\n",
       "\t}\n",
       "      }\n",
       "    }\n",
       "  }\n",
       "  function get_bokeh(root) {\n",
       "    if (root.Bokeh === undefined) {\n",
       "      return null\n",
       "    } else if (root.Bokeh.version !== py_version) {\n",
       "      if (root.Bokeh.versions === undefined || !root.Bokeh.versions.has(py_version)) {\n",
       "\treturn null\n",
       "      }\n",
       "      return root.Bokeh.versions.get(py_version);\n",
       "    } else if (root.Bokeh.version === py_version) {\n",
       "      return root.Bokeh\n",
       "    }\n",
       "    return null\n",
       "  }\n",
       "  function is_loaded(root) {\n",
       "    var Bokeh = get_bokeh(root)\n",
       "    return (Bokeh != null && Bokeh.Panel !== undefined)\n",
       "  }\n",
       "  if (is_loaded(root)) {\n",
       "    embed_document(root);\n",
       "  } else {\n",
       "    var attempts = 0;\n",
       "    var timer = setInterval(function(root) {\n",
       "      if (is_loaded(root)) {\n",
       "        clearInterval(timer);\n",
       "        embed_document(root);\n",
       "      } else if (document.readyState == \"complete\") {\n",
       "        attempts++;\n",
       "        if (attempts > 200) {\n",
       "          clearInterval(timer);\n",
       "\t  var Bokeh = get_bokeh(root)\n",
       "\t  if (Bokeh == null || Bokeh.Panel == null) {\n",
       "            console.warn(\"Panel: ERROR: Unable to run Panel code because Bokeh or Panel library is missing\");\n",
       "\t  } else {\n",
       "\t    console.warn(\"Panel: WARNING: Attempting to render but not all required libraries could be resolved.\")\n",
       "\t    embed_document(root)\n",
       "\t  }\n",
       "        }\n",
       "      }\n",
       "    }, 25, root)\n",
       "  }\n",
       "})(window);</script>"
      ]
     },
     "metadata": {
      "application/vnd.holoviews_exec.v0+json": {
       "id": "p1002"
      }
     },
     "output_type": "display_data"
    },
    {
     "data": {},
     "metadata": {},
     "output_type": "display_data"
    },
    {
     "data": {
      "application/vnd.holoviews_exec.v0+json": "",
      "text/html": [
       "<div id='p1004'>\n",
       "  <div id=\"bc587a67-5086-4e77-bfc5-40e06dcd3b2d\" data-root-id=\"p1004\" style=\"display: contents;\"></div>\n",
       "</div>\n",
       "<script type=\"application/javascript\">(function(root) {\n",
       "  var docs_json = {\"758414f5-0913-402c-9805-33f42646092c\":{\"version\":\"3.4.2\",\"title\":\"Bokeh Application\",\"roots\":[{\"type\":\"object\",\"name\":\"Row\",\"id\":\"p1004\",\"attributes\":{\"name\":\"Row00936\",\"tags\":[\"embedded\"],\"stylesheets\":[\"\\n:host(.pn-loading):before, .pn-loading:before {\\n  background-color: #c3c3c3;\\n  mask-size: auto calc(min(50%, 400px));\\n  -webkit-mask-size: auto calc(min(50%, 400px));\\n}\",{\"type\":\"object\",\"name\":\"ImportedStyleSheet\",\"id\":\"p1007\",\"attributes\":{\"url\":\"https://cdn.holoviz.org/panel/1.4.4/dist/css/loading.css\"}},{\"type\":\"object\",\"name\":\"ImportedStyleSheet\",\"id\":\"p1063\",\"attributes\":{\"url\":\"https://cdn.holoviz.org/panel/1.4.4/dist/css/listpanel.css\"}},{\"type\":\"object\",\"name\":\"ImportedStyleSheet\",\"id\":\"p1005\",\"attributes\":{\"url\":\"https://cdn.holoviz.org/panel/1.4.4/dist/bundled/theme/default.css\"}},{\"type\":\"object\",\"name\":\"ImportedStyleSheet\",\"id\":\"p1006\",\"attributes\":{\"url\":\"https://cdn.holoviz.org/panel/1.4.4/dist/bundled/theme/native.css\"}}],\"min_width\":700,\"margin\":0,\"sizing_mode\":\"stretch_width\",\"align\":\"start\",\"children\":[{\"type\":\"object\",\"name\":\"Spacer\",\"id\":\"p1008\",\"attributes\":{\"name\":\"HSpacer00943\",\"stylesheets\":[\"\\n:host(.pn-loading):before, .pn-loading:before {\\n  background-color: #c3c3c3;\\n  mask-size: auto calc(min(50%, 400px));\\n  -webkit-mask-size: auto calc(min(50%, 400px));\\n}\",{\"id\":\"p1007\"},{\"id\":\"p1005\"},{\"id\":\"p1006\"}],\"margin\":0,\"sizing_mode\":\"stretch_width\",\"align\":\"start\"}},{\"type\":\"object\",\"name\":\"Figure\",\"id\":\"p1016\",\"attributes\":{\"width\":700,\"height\":300,\"margin\":[5,10],\"sizing_mode\":\"fixed\",\"align\":\"start\",\"x_range\":{\"type\":\"object\",\"name\":\"Range1d\",\"id\":\"p1009\",\"attributes\":{\"tags\":[[[\"acctypecode\",null]],[]],\"start\":-71.91428571428571,\"end\":1825.9142857142856,\"reset_start\":-71.91428571428571,\"reset_end\":1825.9142857142856}},\"y_range\":{\"type\":\"object\",\"name\":\"Range1d\",\"id\":\"p1010\",\"attributes\":{\"tags\":[[[\"Count\",null]],{\"type\":\"map\",\"entries\":[[\"invert_yaxis\",false],[\"autorange\",false]]}],\"end\":875.6,\"reset_start\":0.0,\"reset_end\":875.6}},\"x_scale\":{\"type\":\"object\",\"name\":\"LinearScale\",\"id\":\"p1026\"},\"y_scale\":{\"type\":\"object\",\"name\":\"LinearScale\",\"id\":\"p1027\"},\"title\":{\"type\":\"object\",\"name\":\"Title\",\"id\":\"p1019\",\"attributes\":{\"text_color\":\"black\",\"text_font_size\":\"12pt\"}},\"renderers\":[{\"type\":\"object\",\"name\":\"GlyphRenderer\",\"id\":\"p1056\",\"attributes\":{\"data_source\":{\"type\":\"object\",\"name\":\"ColumnDataSource\",\"id\":\"p1047\",\"attributes\":{\"selected\":{\"type\":\"object\",\"name\":\"Selection\",\"id\":\"p1048\",\"attributes\":{\"indices\":[],\"line_indices\":[]}},\"selection_policy\":{\"type\":\"object\",\"name\":\"UnionRenderers\",\"id\":\"p1049\"},\"data\":{\"type\":\"map\",\"entries\":[[\"top\",{\"type\":\"ndarray\",\"array\":{\"type\":\"bytes\",\"data\":\"FAEAAPsBAAD1AgAAHAMAAHYCAAAyAgAAewEAAPQAAAChAAAAaAAAADQAAAAhAAAADwAAAAwAAAAIAAAAAQAAAAMAAAABAAAAAAAAAAEAAAA=\"},\"shape\":[20],\"dtype\":\"int32\",\"order\":\"little\"}],[\"left\",{\"type\":\"ndarray\",\"array\":{\"type\":\"bytes\",\"data\":\"AAAAAAAACECamZmZmZlWQJqZmZmZOWZANDMzMzOTcECamZmZmQl2QAAAAAAAgHtANDMzMzN7gEBnZmZmZjaDQJqZmZmZ8YVAzczMzMysiEAAAAAAAGiLQDQzMzMzI45ANDMzMzNvkEDNzMzMzMyRQGdmZmZmKpNAAAAAAACIlECamZmZmeWVQDQzMzMzQ5dAzczMzMygmEBnZmZmZv6ZQA==\"},\"shape\":[20],\"dtype\":\"float64\",\"order\":\"little\"}],[\"right\",{\"type\":\"ndarray\",\"array\":{\"type\":\"bytes\",\"data\":\"mpmZmZmZVkCamZmZmTlmQDQzMzMzk3BAmpmZmZkJdkAAAAAAAIB7QDQzMzMze4BAZ2ZmZmY2g0CamZmZmfGFQM3MzMzMrIhAAAAAAABoi0A0MzMzMyOOQDQzMzMzb5BAzczMzMzMkUBnZmZmZiqTQAAAAAAAiJRAmpmZmZnllUA0MzMzM0OXQM3MzMzMoJhAZ2ZmZmb+mUAAAAAAAFybQA==\"},\"shape\":[20],\"dtype\":\"float64\",\"order\":\"little\"}],[\"acctypecode\",{\"type\":\"ndarray\",\"array\":{\"type\":\"bytes\",\"data\":\"mpmZmZlZR0A0MzMzM8NgQAEAAAAAsGtAZ2ZmZmZOc0DNzMzMzMR4QDQzMzMzO35AzszMzMzYgUAAAAAAAJSEQDQzMzMzT4dAZmZmZmYKikCamZmZmcWMQM7MzMzMgI9AAAAAAAAekUCamZmZmXuSQDQzMzMz2ZNAzczMzMw2lUBnZmZmZpSWQAAAAAAA8pdAmpmZmZlPmUA0MzMzM62aQA==\"},\"shape\":[20],\"dtype\":\"float64\",\"order\":\"little\"}],[\"acctypecode_count\",{\"type\":\"ndarray\",\"array\":{\"type\":\"bytes\",\"data\":\"FAEAAPsBAAD1AgAAHAMAAHYCAAAyAgAAewEAAPQAAAChAAAAaAAAADQAAAAhAAAADwAAAAwAAAAIAAAAAQAAAAMAAAABAAAAAAAAAAEAAAA=\"},\"shape\":[20],\"dtype\":\"int32\",\"order\":\"little\"}]]}}},\"view\":{\"type\":\"object\",\"name\":\"CDSView\",\"id\":\"p1057\",\"attributes\":{\"filter\":{\"type\":\"object\",\"name\":\"AllIndices\",\"id\":\"p1058\"}}},\"glyph\":{\"type\":\"object\",\"name\":\"Quad\",\"id\":\"p1053\",\"attributes\":{\"tags\":[\"apply_ranges\"],\"left\":{\"type\":\"field\",\"field\":\"left\"},\"right\":{\"type\":\"field\",\"field\":\"right\"},\"bottom\":{\"type\":\"value\",\"value\":0},\"top\":{\"type\":\"field\",\"field\":\"top\"},\"fill_color\":{\"type\":\"value\",\"value\":\"#30a2da\"},\"hatch_color\":{\"type\":\"value\",\"value\":\"#30a2da\"}}},\"selection_glyph\":{\"type\":\"object\",\"name\":\"Quad\",\"id\":\"p1059\",\"attributes\":{\"tags\":[\"apply_ranges\"],\"left\":{\"type\":\"field\",\"field\":\"left\"},\"right\":{\"type\":\"field\",\"field\":\"right\"},\"bottom\":{\"type\":\"value\",\"value\":0},\"top\":{\"type\":\"field\",\"field\":\"top\"},\"line_color\":{\"type\":\"value\",\"value\":\"black\"},\"line_alpha\":{\"type\":\"value\",\"value\":1.0},\"line_width\":{\"type\":\"value\",\"value\":1},\"line_join\":{\"type\":\"value\",\"value\":\"bevel\"},\"line_cap\":{\"type\":\"value\",\"value\":\"butt\"},\"line_dash\":{\"type\":\"value\",\"value\":[]},\"line_dash_offset\":{\"type\":\"value\",\"value\":0},\"fill_color\":{\"type\":\"value\",\"value\":\"#30a2da\"},\"fill_alpha\":{\"type\":\"value\",\"value\":1.0},\"hatch_color\":{\"type\":\"value\",\"value\":\"#30a2da\"},\"hatch_alpha\":{\"type\":\"value\",\"value\":1.0},\"hatch_scale\":{\"type\":\"value\",\"value\":12.0},\"hatch_pattern\":{\"type\":\"value\",\"value\":null},\"hatch_weight\":{\"type\":\"value\",\"value\":1.0}}},\"nonselection_glyph\":{\"type\":\"object\",\"name\":\"Quad\",\"id\":\"p1054\",\"attributes\":{\"tags\":[\"apply_ranges\"],\"left\":{\"type\":\"field\",\"field\":\"left\"},\"right\":{\"type\":\"field\",\"field\":\"right\"},\"bottom\":{\"type\":\"value\",\"value\":0},\"top\":{\"type\":\"field\",\"field\":\"top\"},\"line_alpha\":{\"type\":\"value\",\"value\":0.1},\"fill_color\":{\"type\":\"value\",\"value\":\"#30a2da\"},\"fill_alpha\":{\"type\":\"value\",\"value\":0.1},\"hatch_color\":{\"type\":\"value\",\"value\":\"#30a2da\"},\"hatch_alpha\":{\"type\":\"value\",\"value\":0.1}}},\"muted_glyph\":{\"type\":\"object\",\"name\":\"Quad\",\"id\":\"p1055\",\"attributes\":{\"tags\":[\"apply_ranges\"],\"left\":{\"type\":\"field\",\"field\":\"left\"},\"right\":{\"type\":\"field\",\"field\":\"right\"},\"bottom\":{\"type\":\"value\",\"value\":0},\"top\":{\"type\":\"field\",\"field\":\"top\"},\"line_alpha\":{\"type\":\"value\",\"value\":0.2},\"fill_color\":{\"type\":\"value\",\"value\":\"#30a2da\"},\"fill_alpha\":{\"type\":\"value\",\"value\":0.2},\"hatch_color\":{\"type\":\"value\",\"value\":\"#30a2da\"},\"hatch_alpha\":{\"type\":\"value\",\"value\":0.2}}}}}],\"toolbar\":{\"type\":\"object\",\"name\":\"Toolbar\",\"id\":\"p1025\",\"attributes\":{\"tools\":[{\"type\":\"object\",\"name\":\"WheelZoomTool\",\"id\":\"p1014\",\"attributes\":{\"tags\":[\"hv_created\"],\"renderers\":\"auto\",\"zoom_together\":\"none\"}},{\"type\":\"object\",\"name\":\"HoverTool\",\"id\":\"p1015\",\"attributes\":{\"tags\":[\"hv_created\"],\"renderers\":[{\"id\":\"p1056\"}],\"tooltips\":[[\"acctypecode\",\"@{acctypecode}\"],[\"Count\",\"@{acctypecode_count}\"]]}},{\"type\":\"object\",\"name\":\"SaveTool\",\"id\":\"p1038\"},{\"type\":\"object\",\"name\":\"PanTool\",\"id\":\"p1039\"},{\"type\":\"object\",\"name\":\"BoxZoomTool\",\"id\":\"p1040\",\"attributes\":{\"overlay\":{\"type\":\"object\",\"name\":\"BoxAnnotation\",\"id\":\"p1041\",\"attributes\":{\"syncable\":false,\"level\":\"overlay\",\"visible\":false,\"left\":{\"type\":\"number\",\"value\":\"nan\"},\"right\":{\"type\":\"number\",\"value\":\"nan\"},\"top\":{\"type\":\"number\",\"value\":\"nan\"},\"bottom\":{\"type\":\"number\",\"value\":\"nan\"},\"left_units\":\"canvas\",\"right_units\":\"canvas\",\"top_units\":\"canvas\",\"bottom_units\":\"canvas\",\"line_color\":\"black\",\"line_alpha\":1.0,\"line_width\":2,\"line_dash\":[4,4],\"fill_color\":\"lightgrey\",\"fill_alpha\":0.5}}}},{\"type\":\"object\",\"name\":\"ResetTool\",\"id\":\"p1046\"}],\"active_drag\":{\"id\":\"p1039\"},\"active_scroll\":{\"id\":\"p1014\"}}},\"left\":[{\"type\":\"object\",\"name\":\"LinearAxis\",\"id\":\"p1033\",\"attributes\":{\"ticker\":{\"type\":\"object\",\"name\":\"BasicTicker\",\"id\":\"p1034\",\"attributes\":{\"mantissas\":[1,2,5]}},\"formatter\":{\"type\":\"object\",\"name\":\"BasicTickFormatter\",\"id\":\"p1035\"},\"axis_label\":\"\",\"major_label_policy\":{\"type\":\"object\",\"name\":\"AllLabels\",\"id\":\"p1036\"}}}],\"below\":[{\"type\":\"object\",\"name\":\"LinearAxis\",\"id\":\"p1028\",\"attributes\":{\"ticker\":{\"type\":\"object\",\"name\":\"BasicTicker\",\"id\":\"p1029\",\"attributes\":{\"mantissas\":[1,2,5]}},\"formatter\":{\"type\":\"object\",\"name\":\"BasicTickFormatter\",\"id\":\"p1030\"},\"axis_label\":\"acctypecode\",\"major_label_policy\":{\"type\":\"object\",\"name\":\"AllLabels\",\"id\":\"p1031\"}}}],\"center\":[{\"type\":\"object\",\"name\":\"Grid\",\"id\":\"p1032\",\"attributes\":{\"axis\":{\"id\":\"p1028\"},\"grid_line_color\":null}},{\"type\":\"object\",\"name\":\"Grid\",\"id\":\"p1037\",\"attributes\":{\"dimension\":1,\"axis\":{\"id\":\"p1033\"},\"grid_line_color\":null}}],\"min_border_top\":10,\"min_border_bottom\":10,\"min_border_left\":10,\"min_border_right\":10,\"output_backend\":\"webgl\"}},{\"type\":\"object\",\"name\":\"Spacer\",\"id\":\"p1061\",\"attributes\":{\"name\":\"HSpacer00944\",\"stylesheets\":[\"\\n:host(.pn-loading):before, .pn-loading:before {\\n  background-color: #c3c3c3;\\n  mask-size: auto calc(min(50%, 400px));\\n  -webkit-mask-size: auto calc(min(50%, 400px));\\n}\",{\"id\":\"p1007\"},{\"id\":\"p1005\"},{\"id\":\"p1006\"}],\"margin\":0,\"sizing_mode\":\"stretch_width\",\"align\":\"start\"}}]}}],\"defs\":[{\"type\":\"model\",\"name\":\"ReactiveHTML1\"},{\"type\":\"model\",\"name\":\"FlexBox1\",\"properties\":[{\"name\":\"align_content\",\"kind\":\"Any\",\"default\":\"flex-start\"},{\"name\":\"align_items\",\"kind\":\"Any\",\"default\":\"flex-start\"},{\"name\":\"flex_direction\",\"kind\":\"Any\",\"default\":\"row\"},{\"name\":\"flex_wrap\",\"kind\":\"Any\",\"default\":\"wrap\"},{\"name\":\"gap\",\"kind\":\"Any\",\"default\":\"\"},{\"name\":\"justify_content\",\"kind\":\"Any\",\"default\":\"flex-start\"}]},{\"type\":\"model\",\"name\":\"FloatPanel1\",\"properties\":[{\"name\":\"config\",\"kind\":\"Any\",\"default\":{\"type\":\"map\"}},{\"name\":\"contained\",\"kind\":\"Any\",\"default\":true},{\"name\":\"position\",\"kind\":\"Any\",\"default\":\"right-top\"},{\"name\":\"offsetx\",\"kind\":\"Any\",\"default\":null},{\"name\":\"offsety\",\"kind\":\"Any\",\"default\":null},{\"name\":\"theme\",\"kind\":\"Any\",\"default\":\"primary\"},{\"name\":\"status\",\"kind\":\"Any\",\"default\":\"normalized\"}]},{\"type\":\"model\",\"name\":\"GridStack1\",\"properties\":[{\"name\":\"mode\",\"kind\":\"Any\",\"default\":\"warn\"},{\"name\":\"ncols\",\"kind\":\"Any\",\"default\":null},{\"name\":\"nrows\",\"kind\":\"Any\",\"default\":null},{\"name\":\"allow_resize\",\"kind\":\"Any\",\"default\":true},{\"name\":\"allow_drag\",\"kind\":\"Any\",\"default\":true},{\"name\":\"state\",\"kind\":\"Any\",\"default\":[]}]},{\"type\":\"model\",\"name\":\"drag1\",\"properties\":[{\"name\":\"slider_width\",\"kind\":\"Any\",\"default\":5},{\"name\":\"slider_color\",\"kind\":\"Any\",\"default\":\"black\"},{\"name\":\"value\",\"kind\":\"Any\",\"default\":50}]},{\"type\":\"model\",\"name\":\"click1\",\"properties\":[{\"name\":\"terminal_output\",\"kind\":\"Any\",\"default\":\"\"},{\"name\":\"debug_name\",\"kind\":\"Any\",\"default\":\"\"},{\"name\":\"clears\",\"kind\":\"Any\",\"default\":0}]},{\"type\":\"model\",\"name\":\"FastWrapper1\",\"properties\":[{\"name\":\"object\",\"kind\":\"Any\",\"default\":null},{\"name\":\"style\",\"kind\":\"Any\",\"default\":null}]},{\"type\":\"model\",\"name\":\"NotificationAreaBase1\",\"properties\":[{\"name\":\"js_events\",\"kind\":\"Any\",\"default\":{\"type\":\"map\"}},{\"name\":\"position\",\"kind\":\"Any\",\"default\":\"bottom-right\"},{\"name\":\"_clear\",\"kind\":\"Any\",\"default\":0}]},{\"type\":\"model\",\"name\":\"NotificationArea1\",\"properties\":[{\"name\":\"js_events\",\"kind\":\"Any\",\"default\":{\"type\":\"map\"}},{\"name\":\"notifications\",\"kind\":\"Any\",\"default\":[]},{\"name\":\"position\",\"kind\":\"Any\",\"default\":\"bottom-right\"},{\"name\":\"_clear\",\"kind\":\"Any\",\"default\":0},{\"name\":\"types\",\"kind\":\"Any\",\"default\":[{\"type\":\"map\",\"entries\":[[\"type\",\"warning\"],[\"background\",\"#ffc107\"],[\"icon\",{\"type\":\"map\",\"entries\":[[\"className\",\"fas fa-exclamation-triangle\"],[\"tagName\",\"i\"],[\"color\",\"white\"]]}]]},{\"type\":\"map\",\"entries\":[[\"type\",\"info\"],[\"background\",\"#007bff\"],[\"icon\",{\"type\":\"map\",\"entries\":[[\"className\",\"fas fa-info-circle\"],[\"tagName\",\"i\"],[\"color\",\"white\"]]}]]}]}]},{\"type\":\"model\",\"name\":\"Notification\",\"properties\":[{\"name\":\"background\",\"kind\":\"Any\",\"default\":null},{\"name\":\"duration\",\"kind\":\"Any\",\"default\":3000},{\"name\":\"icon\",\"kind\":\"Any\",\"default\":null},{\"name\":\"message\",\"kind\":\"Any\",\"default\":\"\"},{\"name\":\"notification_type\",\"kind\":\"Any\",\"default\":null},{\"name\":\"_destroyed\",\"kind\":\"Any\",\"default\":false}]},{\"type\":\"model\",\"name\":\"TemplateActions1\",\"properties\":[{\"name\":\"open_modal\",\"kind\":\"Any\",\"default\":0},{\"name\":\"close_modal\",\"kind\":\"Any\",\"default\":0}]},{\"type\":\"model\",\"name\":\"BootstrapTemplateActions1\",\"properties\":[{\"name\":\"open_modal\",\"kind\":\"Any\",\"default\":0},{\"name\":\"close_modal\",\"kind\":\"Any\",\"default\":0}]},{\"type\":\"model\",\"name\":\"TemplateEditor1\",\"properties\":[{\"name\":\"layout\",\"kind\":\"Any\",\"default\":[]}]},{\"type\":\"model\",\"name\":\"MaterialTemplateActions1\",\"properties\":[{\"name\":\"open_modal\",\"kind\":\"Any\",\"default\":0},{\"name\":\"close_modal\",\"kind\":\"Any\",\"default\":0}]},{\"type\":\"model\",\"name\":\"copy_to_clipboard1\",\"properties\":[{\"name\":\"fill\",\"kind\":\"Any\",\"default\":\"none\"},{\"name\":\"value\",\"kind\":\"Any\",\"default\":null}]}]}};\n",
       "  var render_items = [{\"docid\":\"758414f5-0913-402c-9805-33f42646092c\",\"roots\":{\"p1004\":\"bc587a67-5086-4e77-bfc5-40e06dcd3b2d\"},\"root_ids\":[\"p1004\"]}];\n",
       "  var docs = Object.values(docs_json)\n",
       "  if (!docs) {\n",
       "    return\n",
       "  }\n",
       "  const py_version = docs[0].version.replace('rc', '-rc.').replace('.dev', '-dev.')\n",
       "  async function embed_document(root) {\n",
       "    var Bokeh = get_bokeh(root)\n",
       "    await Bokeh.embed.embed_items_notebook(docs_json, render_items);\n",
       "    for (const render_item of render_items) {\n",
       "      for (const root_id of render_item.root_ids) {\n",
       "\tconst id_el = document.getElementById(root_id)\n",
       "\tif (id_el.children.length && id_el.children[0].hasAttribute('data-root-id')) {\n",
       "\t  const root_el = id_el.children[0]\n",
       "\t  root_el.id = root_el.id + '-rendered'\n",
       "\t  for (const child of root_el.children) {\n",
       "            // Ensure JupyterLab does not capture keyboard shortcuts\n",
       "            // see: https://jupyterlab.readthedocs.io/en/4.1.x/extension/notebook.html#keyboard-interaction-model\n",
       "\t    child.setAttribute('data-lm-suppress-shortcuts', 'true')\n",
       "\t  }\n",
       "\t}\n",
       "      }\n",
       "    }\n",
       "  }\n",
       "  function get_bokeh(root) {\n",
       "    if (root.Bokeh === undefined) {\n",
       "      return null\n",
       "    } else if (root.Bokeh.version !== py_version) {\n",
       "      if (root.Bokeh.versions === undefined || !root.Bokeh.versions.has(py_version)) {\n",
       "\treturn null\n",
       "      }\n",
       "      return root.Bokeh.versions.get(py_version);\n",
       "    } else if (root.Bokeh.version === py_version) {\n",
       "      return root.Bokeh\n",
       "    }\n",
       "    return null\n",
       "  }\n",
       "  function is_loaded(root) {\n",
       "    var Bokeh = get_bokeh(root)\n",
       "    return (Bokeh != null && Bokeh.Panel !== undefined)\n",
       "  }\n",
       "  if (is_loaded(root)) {\n",
       "    embed_document(root);\n",
       "  } else {\n",
       "    var attempts = 0;\n",
       "    var timer = setInterval(function(root) {\n",
       "      if (is_loaded(root)) {\n",
       "        clearInterval(timer);\n",
       "        embed_document(root);\n",
       "      } else if (document.readyState == \"complete\") {\n",
       "        attempts++;\n",
       "        if (attempts > 200) {\n",
       "          clearInterval(timer);\n",
       "\t  var Bokeh = get_bokeh(root)\n",
       "\t  if (Bokeh == null || Bokeh.Panel == null) {\n",
       "            console.warn(\"Panel: ERROR: Unable to run Panel code because Bokeh or Panel library is missing\");\n",
       "\t  } else {\n",
       "\t    console.warn(\"Panel: WARNING: Attempting to render but not all required libraries could be resolved.\")\n",
       "\t    embed_document(root)\n",
       "\t  }\n",
       "        }\n",
       "      }\n",
       "    }, 25, root)\n",
       "  }\n",
       "})(window);</script>"
      ],
      "text/plain": [
       ":Histogram   [acctypecode]   (Count)"
      ]
     },
     "execution_count": 13,
     "metadata": {
      "application/vnd.holoviews_exec.v0+json": {
       "id": "p1004"
      }
     },
     "output_type": "execute_result"
    }
   ],
   "source": [
    "dynamic.select(\n",
    "    acctypecode=pl.col('bal').list.len()\n",
    ").get_column('acctypecode').plot.hist()"
   ]
  }
 ],
 "metadata": {
  "kernelspec": {
   "display_name": "windmark-gThMBSDt-py3.11",
   "language": "python",
   "name": "python3"
  },
  "language_info": {
   "codemirror_mode": {
    "name": "ipython",
    "version": 3
   },
   "file_extension": ".py",
   "mimetype": "text/x-python",
   "name": "python",
   "nbconvert_exporter": "python",
   "pygments_lexer": "ipython3",
   "version": "3.11.8"
  }
 },
 "nbformat": 4,
 "nbformat_minor": 2
}

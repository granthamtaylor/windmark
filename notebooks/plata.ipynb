{
 "cells": [
  {
   "cell_type": "code",
   "execution_count": 3,
   "metadata": {},
   "outputs": [],
   "source": [
    "import polars as pl\n",
    "import polars.selectors as cs"
   ]
  },
  {
   "cell_type": "code",
   "execution_count": 4,
   "metadata": {},
   "outputs": [],
   "source": [
    "df = pl.read_ndjson('../data/ledgers/plata.ndjson')"
   ]
  },
  {
   "cell_type": "code",
   "execution_count": 5,
   "metadata": {},
   "outputs": [],
   "source": [
    "from zlib import crc32\n",
    "\n",
    "def assign_split(column: str) -> pl.Expr:\n",
    "\n",
    "    seed = (\n",
    "        pl.col(column)\n",
    "        .cast(pl.String)\n",
    "        .map_elements(lambda x: float(crc32(str.encode(x)) & 0xFFFFFFFF), return_dtype=pl.Float32)\n",
    "        .mul(1 / 2**32)\n",
    "    )\n",
    "\n",
    "    return (\n",
    "        pl.when(seed.is_between(0.0, 0.6))\n",
    "        .then(pl.lit(\"train\"))\n",
    "        .when(seed.is_between(0.6, 0.8))\n",
    "        .then(pl.lit(\"validate\"))\n",
    "        .when(seed.is_between(0.8, 1.0))\n",
    "        .then(pl.lit(\"test\"))\n",
    "        .otherwise(pl.lit(\"train\"))\n",
    "    )"
   ]
  },
  {
   "cell_type": "code",
   "execution_count": 6,
   "metadata": {},
   "outputs": [],
   "source": [
    "dynamic = (\n",
    "    df.select(\n",
    "        \"bureau_search_ref\",\n",
    "        pl.col(\"created_at\").str.replace(\"\\+00\", \"\").str.to_date(format=\"%Y-%m-%d %H:%M:%S%.f\"),\n",
    "        cs.by_dtype(pl.List(pl.String)) | cs.by_dtype(pl.List(pl.Int64)),\n",
    "        target=pl.col(\"irb\"),\n",
    "    )\n",
    "    .explode(pl.exclude(\"created_at\",\"bureau_search_ref\", \"target\"))\n",
    "    .select(\n",
    "        cs.all() - cs.string() - cs.by_name(\"account_index\"),\n",
    "        (cs.string() - cs.by_name(\"m\")).replace(\"\", None),\n",
    "        statement_id=pl.concat_str(\"accgroupid\", pl.lit(\"$\"), \"m\"),\n",
    "        account_open=pl.col(\"accstartdate\").str.to_date(),\n",
    "        account_index=pl.col(\"accgroupid\").cast(pl.String),\n",
    "        statement_date=pl.col(\"m\").str.to_date(format=\"%Y-%m\"),\n",
    "    )\n",
    "    # filter out statements of accounts with empty balances\n",
    "    .filter(pl.col(\"bal\") > 0)\n",
    "    .select(\n",
    "        \"payamt\", \"bal\", \"history_limit\", \"bureau_search_ref\", \"pay\", \"acctypecode\", \"target\", \"statement_id\", \"account_index\",\n",
    "        # calculate two duration fields (time diff between statement and application date, statement and account open date)\n",
    "        statement_tenure=(pl.col(\"statement_date\") - pl.col(\"created_at\")).dt.total_days(),\n",
    "        account_tenure=(pl.col(\"account_open\") - pl.col(\"created_at\")).dt.total_days(),\n",
    "    )\n",
    "    .sort(\"bureau_search_ref\", \"statement_tenure\")\n",
    "    .group_by(\"bureau_search_ref\")\n",
    "    .agg(cs.all())\n",
    ")"
   ]
  },
  {
   "cell_type": "code",
   "execution_count": 7,
   "metadata": {},
   "outputs": [],
   "source": [
    "static = (\n",
    "    df.select(\n",
    "        (cs.string() - cs.by_name('loan_account_ref')).replace(\"\", None),\n",
    "        cs.integer(),\n",
    "        split=assign_split('bureau_search_ref'),\n",
    "    )\n",
    ")"
   ]
  },
  {
   "cell_type": "code",
   "execution_count": 8,
   "metadata": {},
   "outputs": [],
   "source": [
    "ledger = dynamic.join(static, on='bureau_search_ref')"
   ]
  },
  {
   "cell_type": "code",
   "execution_count": 9,
   "metadata": {},
   "outputs": [],
   "source": [
    "out = {}\n",
    "\n",
    "for field, dtype in dict(static.schema).items():\n",
    "    out[field] = \"category\" if dtype == pl.String else \"number\""
   ]
  },
  {
   "cell_type": "code",
   "execution_count": 10,
   "metadata": {},
   "outputs": [
    {
     "data": {
      "text/plain": [
       "['06',\n",
       " '17',\n",
       " '09',\n",
       " None,\n",
       " '02',\n",
       " '13',\n",
       " '05',\n",
       " '07',\n",
       " '10',\n",
       " '22',\n",
       " '14',\n",
       " '16',\n",
       " '04',\n",
       " '24',\n",
       " '12',\n",
       " '21',\n",
       " '19',\n",
       " 'XX',\n",
       " '20',\n",
       " '08',\n",
       " '03',\n",
       " '18',\n",
       " '23',\n",
       " '11',\n",
       " '01',\n",
       " '15']"
      ]
     },
     "execution_count": 10,
     "metadata": {},
     "output_type": "execute_result"
    }
   ],
   "source": [
    "static['nob'].unique().to_list()"
   ]
  },
  {
   "cell_type": "code",
   "execution_count": 12,
   "metadata": {},
   "outputs": [],
   "source": [
    "for index, shard in enumerate(ledger.iter_slices(10)):\n",
    "    shard.write_avro(f\"../data/lifestreams/plata/plata-{index}.avro\", name=\"plata\")"
   ]
  },
  {
   "cell_type": "code",
   "execution_count": null,
   "metadata": {},
   "outputs": [],
   "source": [
    "dynamic.select(\n",
    "    acctypecode=pl.col('bal').list.len()\n",
    ").get_column('acctypecode').plot.hist()"
   ]
  }
 ],
 "metadata": {
  "kernelspec": {
   "display_name": "windmark-gThMBSDt-py3.11",
   "language": "python",
   "name": "python3"
  },
  "language_info": {
   "codemirror_mode": {
    "name": "ipython",
    "version": 3
   },
   "file_extension": ".py",
   "mimetype": "text/x-python",
   "name": "python",
   "nbconvert_exporter": "python",
   "pygments_lexer": "ipython3",
   "version": "3.11.8"
  }
 },
 "nbformat": 4,
 "nbformat_minor": 2
}

{
 "cells": [
  {
   "cell_type": "code",
   "execution_count": 2,
   "metadata": {},
   "outputs": [],
   "source": [
    "import polars as pl\n",
    "import polars.selectors as cs"
   ]
  },
  {
   "cell_type": "code",
   "execution_count": 3,
   "metadata": {},
   "outputs": [
    {
     "ename": "FileNotFoundError",
     "evalue": "No such file or directory (os error 2): ../data/bamboo.ndjson",
     "output_type": "error",
     "traceback": [
      "\u001b[0;31m---------------------------------------------------------------------------\u001b[0m",
      "\u001b[0;31mFileNotFoundError\u001b[0m                         Traceback (most recent call last)",
      "Cell \u001b[0;32mIn[3], line 1\u001b[0m\n\u001b[0;32m----> 1\u001b[0m df \u001b[38;5;241m=\u001b[39m \u001b[43mpl\u001b[49m\u001b[38;5;241;43m.\u001b[39;49m\u001b[43mread_ndjson\u001b[49m\u001b[43m(\u001b[49m\u001b[38;5;124;43m'\u001b[39;49m\u001b[38;5;124;43m../data/bamboo.ndjson\u001b[39;49m\u001b[38;5;124;43m'\u001b[39;49m\u001b[43m)\u001b[49m\n",
      "File \u001b[0;32m~/.cache/pypoetry/virtualenvs/windmark-gThMBSDt-py3.11/lib/python3.11/site-packages/polars/io/ndjson.py:77\u001b[0m, in \u001b[0;36mread_ndjson\u001b[0;34m(source, schema, schema_overrides, ignore_errors)\u001b[0m\n\u001b[1;32m     74\u001b[0m \u001b[38;5;28;01melif\u001b[39;00m \u001b[38;5;28misinstance\u001b[39m(source, (\u001b[38;5;28mstr\u001b[39m, Path)):\n\u001b[1;32m     75\u001b[0m     source \u001b[38;5;241m=\u001b[39m normalize_filepath(source)\n\u001b[0;32m---> 77\u001b[0m pydf \u001b[38;5;241m=\u001b[39m \u001b[43mPyDataFrame\u001b[49m\u001b[38;5;241;43m.\u001b[39;49m\u001b[43mread_ndjson\u001b[49m\u001b[43m(\u001b[49m\n\u001b[1;32m     78\u001b[0m \u001b[43m    \u001b[49m\u001b[43msource\u001b[49m\u001b[43m,\u001b[49m\n\u001b[1;32m     79\u001b[0m \u001b[43m    \u001b[49m\u001b[43mignore_errors\u001b[49m\u001b[38;5;241;43m=\u001b[39;49m\u001b[43mignore_errors\u001b[49m\u001b[43m,\u001b[49m\n\u001b[1;32m     80\u001b[0m \u001b[43m    \u001b[49m\u001b[43mschema\u001b[49m\u001b[38;5;241;43m=\u001b[39;49m\u001b[43mschema\u001b[49m\u001b[43m,\u001b[49m\n\u001b[1;32m     81\u001b[0m \u001b[43m    \u001b[49m\u001b[43mschema_overrides\u001b[49m\u001b[38;5;241;43m=\u001b[39;49m\u001b[43mschema_overrides\u001b[49m\u001b[43m,\u001b[49m\n\u001b[1;32m     82\u001b[0m \u001b[43m\u001b[49m\u001b[43m)\u001b[49m\n\u001b[1;32m     83\u001b[0m \u001b[38;5;28;01mreturn\u001b[39;00m wrap_df(pydf)\n",
      "\u001b[0;31mFileNotFoundError\u001b[0m: No such file or directory (os error 2): ../data/bamboo.ndjson"
     ]
    }
   ],
   "source": [
    "df = pl.read_ndjson('../data/bamboo.ndjson')"
   ]
  },
  {
   "cell_type": "code",
   "execution_count": null,
   "metadata": {},
   "outputs": [],
   "source": [
    "from zlib import crc32\n",
    "\n",
    "def assign_split(column: str) -> pl.Expr:\n",
    "\n",
    "    seed = (\n",
    "        pl.col(column)\n",
    "        .cast(pl.String)\n",
    "        .map_elements(lambda x: float(crc32(str.encode(x)) & 0xFFFFFFFF), return_dtype=pl.Float32)\n",
    "        .mul(1 / 2**32)\n",
    "    )\n",
    "\n",
    "    return (\n",
    "        pl.when(seed.is_between(0.0, 0.6))\n",
    "        .then(pl.lit(\"train\"))\n",
    "        .when(seed.is_between(0.6, 0.8))\n",
    "        .then(pl.lit(\"validate\"))\n",
    "        .when(seed.is_between(0.8, 1.0))\n",
    "        .then(pl.lit(\"test\"))\n",
    "        .otherwise(pl.lit(\"train\"))\n",
    "    )"
   ]
  },
  {
   "cell_type": "code",
   "execution_count": null,
   "metadata": {},
   "outputs": [],
   "source": [
    "dynamic = (\n",
    "    df.select(\n",
    "        \"bureau_search_ref\",\n",
    "        pl.col(\"created_at\").str.replace(\"\\+00\", \"\").str.to_date(format=\"%Y-%m-%d %H:%M:%S%.f\"),\n",
    "        cs.by_dtype(pl.List(pl.String)) | cs.by_dtype(pl.List(pl.Int64)),\n",
    "        target=pl.col(\"irb\"),\n",
    "    )\n",
    "    .explode(pl.exclude(\"created_at\",\"bureau_search_ref\", \"target\"))\n",
    "    .select(\n",
    "        cs.all() - cs.string() - cs.by_name(\"account_index\"),\n",
    "        (cs.string() - cs.by_name(\"m\")).replace(\"\", None),\n",
    "        statement_id=pl.concat_str(\"accgroupid\", pl.lit(\"$\"), \"m\"),\n",
    "        account_open=pl.col(\"accstartdate\").str.to_date(),\n",
    "        account_index=pl.col(\"accgroupid\").cast(pl.String),\n",
    "        statement_date=pl.col(\"m\").str.to_date(format=\"%Y-%m\"),\n",
    "    )\n",
    "    # filter out statements of accounts with empty balances\n",
    "    .filter(pl.col(\"bal\") > 0)\n",
    "    .select(\n",
    "        \"payamt\", \"bal\", \"history_limit\", \"bureau_search_ref\", \"pay\", \"acctypecode\", \"target\", \"statement_id\", \"account_index\",\n",
    "        # calculate two duration fields (time diff between statement and application date, statement and account open date)\n",
    "        statement_tenure=(pl.col(\"statement_date\") - pl.col(\"created_at\")).dt.total_days(),\n",
    "        account_tenure=(pl.col(\"account_open\") - pl.col(\"created_at\")).dt.total_days(),\n",
    "    )\n",
    "    .sort(\"bureau_search_ref\", \"statement_tenure\")\n",
    "    .group_by(\"bureau_search_ref\")\n",
    "    .agg(cs.all())\n",
    ")"
   ]
  },
  {
   "cell_type": "code",
   "execution_count": null,
   "metadata": {},
   "outputs": [],
   "source": [
    "static = (\n",
    "    df.select(\n",
    "        (cs.string() - cs.by_name('loan_account_ref')).replace(\"\", None),\n",
    "        cs.integer(),\n",
    "        split=assign_split('bureau_search_ref'),\n",
    "    )\n",
    ")"
   ]
  },
  {
   "cell_type": "code",
   "execution_count": null,
   "metadata": {},
   "outputs": [],
   "source": [
    "ledger = dynamic.join(static, on='bureau_search_ref')"
   ]
  },
  {
   "cell_type": "code",
   "execution_count": null,
   "metadata": {},
   "outputs": [],
   "source": [
    "out = {}\n",
    "\n",
    "for field, dtype in dict(static.schema).items():\n",
    "    out[field] = \"category\" if dtype == pl.String else \"number\""
   ]
  },
  {
   "cell_type": "code",
   "execution_count": null,
   "metadata": {},
   "outputs": [],
   "source": [
    "static['nob'].unique().to_list()"
   ]
  },
  {
   "cell_type": "code",
   "execution_count": null,
   "metadata": {},
   "outputs": [],
   "source": [
    "for index, shard in enumerate(ledger.iter_slices(10)):\n",
    "    shard.write_avro(f\"../data/bamboo/bamboo-{index}.avro\", name=\"bamboo\")"
   ]
  },
  {
   "cell_type": "code",
   "execution_count": null,
   "metadata": {},
   "outputs": [],
   "source": [
    "dynamic.select(\n",
    "    acctypecode=pl.col('bal').list.len()\n",
    ").get_column('acctypecode').plot.hist()"
   ]
  }
 ],
 "metadata": {
  "kernelspec": {
   "display_name": "windmark-gThMBSDt-py3.11",
   "language": "python",
   "name": "python3"
  },
  "language_info": {
   "codemirror_mode": {
    "name": "ipython",
    "version": 3
   },
   "file_extension": ".py",
   "mimetype": "text/x-python",
   "name": "python",
   "nbconvert_exporter": "python",
   "pygments_lexer": "ipython3",
   "version": "3.11.8"
  }
 },
 "nbformat": 4,
 "nbformat_minor": 2
}

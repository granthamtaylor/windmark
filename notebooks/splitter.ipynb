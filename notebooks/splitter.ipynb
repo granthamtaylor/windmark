{
 "cells": [
  {
   "cell_type": "code",
   "execution_count": 28,
   "metadata": {},
   "outputs": [],
   "source": [
    "import polars as pl\n",
    "\n",
    "import random\n",
    " \n",
    "rand_list=[]\n",
    "n=100000\n",
    "for i in range(n):\n",
    "    rand_list.append(random.randint(0,100000000))"
   ]
  },
  {
   "cell_type": "code",
   "execution_count": 35,
   "metadata": {},
   "outputs": [],
   "source": [
    "df = pl.DataFrame(\n",
    "    {\n",
    "        \"ham\": rand_list,\n",
    "    }\n",
    ")"
   ]
  },
  {
   "cell_type": "code",
   "execution_count": 36,
   "metadata": {},
   "outputs": [
    {
     "data": {
      "text/html": [
       "<div><style>\n",
       ".dataframe > thead > tr,\n",
       ".dataframe > tbody > tr {\n",
       "  text-align: right;\n",
       "  white-space: pre-wrap;\n",
       "}\n",
       "</style>\n",
       "<small>shape: (100_000, 1)</small><table border=\"1\" class=\"dataframe\"><thead><tr><th>ham</th></tr><tr><td>f64</td></tr></thead><tbody><tr><td>0.196602</td></tr><tr><td>0.249771</td></tr><tr><td>0.066429</td></tr><tr><td>0.490775</td></tr><tr><td>0.928345</td></tr><tr><td>&hellip;</td></tr><tr><td>0.635933</td></tr><tr><td>0.227333</td></tr><tr><td>0.263378</td></tr><tr><td>0.846855</td></tr><tr><td>0.7734375</td></tr></tbody></table></div>"
      ],
      "text/plain": [
       "shape: (100_000, 1)\n",
       "┌───────────┐\n",
       "│ ham       │\n",
       "│ ---       │\n",
       "│ f64       │\n",
       "╞═══════════╡\n",
       "│ 0.196602  │\n",
       "│ 0.249771  │\n",
       "│ 0.066429  │\n",
       "│ 0.490775  │\n",
       "│ 0.928345  │\n",
       "│ …         │\n",
       "│ 0.635933  │\n",
       "│ 0.227333  │\n",
       "│ 0.263378  │\n",
       "│ 0.846855  │\n",
       "│ 0.7734375 │\n",
       "└───────────┘"
      ]
     },
     "execution_count": 36,
     "metadata": {},
     "output_type": "execute_result"
    }
   ],
   "source": [
    "def assign(column: str) -> pl.Expr:\n",
    "    value = 1/305175781\n",
    "    hash = pl.col(column).hash().mul(value)\n",
    "    return hash.ceil().sub(hash)\n",
    "\n",
    "df.select(\n",
    "    seed(\"ham\")\n",
    ")"
   ]
  },
  {
   "cell_type": "code",
   "execution_count": null,
   "metadata": {},
   "outputs": [],
   "source": []
  },
  {
   "cell_type": "code",
   "execution_count": null,
   "metadata": {},
   "outputs": [],
   "source": []
  }
 ],
 "metadata": {
  "kernelspec": {
   "display_name": "windmark-gThMBSDt-py3.11",
   "language": "python",
   "name": "python3"
  },
  "language_info": {
   "codemirror_mode": {
    "name": "ipython",
    "version": 3
   },
   "file_extension": ".py",
   "mimetype": "text/x-python",
   "name": "python",
   "nbconvert_exporter": "python",
   "pygments_lexer": "ipython3",
   "version": "3.11.8"
  }
 },
 "nbformat": 4,
 "nbformat_minor": 2
}

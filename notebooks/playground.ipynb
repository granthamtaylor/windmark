{
 "cells": [
  {
   "cell_type": "code",
   "execution_count": 25,
   "metadata": {},
   "outputs": [
    {
     "name": "stdout",
     "output_type": "stream",
     "text": [
      "The autoreload extension is already loaded. To reload it, use:\n",
      "  %reload_ext autoreload\n"
     ]
    },
    {
     "name": "stderr",
     "output_type": "stream",
     "text": [
      "[autoreload of windmark.core.structs failed: Traceback (most recent call last):\n",
      "  File \"/home/grantham/.cache/pypoetry/virtualenvs/windmark-gThMBSDt-py3.11/lib/python3.11/site-packages/IPython/extensions/autoreload.py\", line 276, in check\n",
      "    superreload(m, reload, self.old_objects)\n",
      "  File \"/home/grantham/.cache/pypoetry/virtualenvs/windmark-gThMBSDt-py3.11/lib/python3.11/site-packages/IPython/extensions/autoreload.py\", line 475, in superreload\n",
      "    module = reload(module)\n",
      "             ^^^^^^^^^^^^^^\n",
      "  File \"/home/grantham/.pyenv/versions/3.11.8/lib/python3.11/importlib/__init__.py\", line 169, in reload\n",
      "    _bootstrap._exec(spec, module)\n",
      "  File \"<frozen importlib._bootstrap>\", line 621, in _exec\n",
      "  File \"<frozen importlib._bootstrap_external>\", line 940, in exec_module\n",
      "  File \"<frozen importlib._bootstrap>\", line 241, in _call_with_frames_removed\n",
      "  File \"/home/grantham/windmark/windmark/core/structs.py\", line 76, in <module>\n",
      "    class Hyperparameters(pydantic.BaseModel):\n",
      "  File \"/home/grantham/.cache/pypoetry/virtualenvs/windmark-gThMBSDt-py3.11/lib/python3.11/site-packages/pydantic/_internal/_model_construction.py\", line 92, in __new__\n",
      "    private_attributes = inspect_namespace(\n",
      "                         ^^^^^^^^^^^^^^^^^^\n",
      "  File \"/home/grantham/.cache/pypoetry/virtualenvs/windmark-gThMBSDt-py3.11/lib/python3.11/site-packages/pydantic/_internal/_model_construction.py\", line 384, in inspect_namespace\n",
      "    raise PydanticUserError(\n",
      "pydantic.errors.PydanticUserError: A non-annotated attribute was detected: `arbitrary_types_allowed = True`. All model fields require a type annotation; if `arbitrary_types_allowed` is not meant to be a field, you may be able to resolve this error by annotating it as a `ClassVar` or updating `model_config['ignored_types']`.\n",
      "\n",
      "For further information visit https://errors.pydantic.dev/2.6/u/model-field-missing-annotation\n",
      "]\n"
     ]
    }
   ],
   "source": [
    "%load_ext autoreload\n",
    "%autoreload 2"
   ]
  },
  {
   "cell_type": "code",
   "execution_count": 26,
   "metadata": {},
   "outputs": [],
   "source": [
    "from windmark.core.structs import Schema"
   ]
  },
  {
   "cell_type": "code",
   "execution_count": 24,
   "metadata": {},
   "outputs": [],
   "source": [
    "schema = Schema(\n",
    "    use_chip=\"discrete\",\n",
    "    merchant_state=\"discrete\",\n",
    "    # merchant_city=\"discrete\",\n",
    "    # merchant_name=\"entity\",\n",
    "    # mcc=\"discrete\",\n",
    "    # amount=\"continuous\",\n",
    "    # timedelta=\"continuous\",\n",
    "    # timestamp=\"temporal\",\n",
    ")"
   ]
  },
  {
   "cell_type": "code",
   "execution_count": 1,
   "metadata": {},
   "outputs": [
    {
     "name": "stdout",
     "output_type": "stream",
     "text": [
      "0\n",
      "8\n",
      "16\n",
      "24\n",
      "32\n",
      "40\n",
      "48\n",
      "56\n",
      "64\n",
      "72\n",
      "80\n",
      "88\n",
      "96\n"
     ]
    }
   ],
   "source": [
    "cadence = 8\n",
    "\n",
    "for i in range(100):\n",
    "    if i % cadence == 0:\n",
    "        print(i)"
   ]
  },
  {
   "cell_type": "code",
   "execution_count": 15,
   "metadata": {},
   "outputs": [],
   "source": [
    "L = 192\n",
    "F = 12"
   ]
  },
  {
   "cell_type": "code",
   "execution_count": 16,
   "metadata": {},
   "outputs": [
    {
     "data": {
      "text/plain": [
       "5308416"
      ]
     },
     "execution_count": 16,
     "metadata": {},
     "output_type": "execute_result"
    }
   ],
   "source": [
    "(L * F) ** 2"
   ]
  },
  {
   "cell_type": "code",
   "execution_count": 19,
   "metadata": {},
   "outputs": [
    {
     "data": {
      "text/plain": [
       "470016"
      ]
     },
     "execution_count": 19,
     "metadata": {},
     "output_type": "execute_result"
    }
   ],
   "source": [
    "L * F * F + L * L * F"
   ]
  },
  {
   "cell_type": "code",
   "execution_count": 20,
   "metadata": {},
   "outputs": [
    {
     "data": {
      "text/plain": [
       "11.294117647058824"
      ]
     },
     "execution_count": 20,
     "metadata": {},
     "output_type": "execute_result"
    }
   ],
   "source": [
    "5308416 / 470016"
   ]
  },
  {
   "cell_type": "code",
   "execution_count": null,
   "metadata": {},
   "outputs": [],
   "source": []
  }
 ],
 "metadata": {
  "kernelspec": {
   "display_name": "windmark-gThMBSDt-py3.11",
   "language": "python",
   "name": "python3"
  },
  "language_info": {
   "codemirror_mode": {
    "name": "ipython",
    "version": 3
   },
   "file_extension": ".py",
   "mimetype": "text/x-python",
   "name": "python",
   "nbconvert_exporter": "python",
   "pygments_lexer": "ipython3",
   "version": "3.11.8"
  }
 },
 "nbformat": 4,
 "nbformat_minor": 2
}

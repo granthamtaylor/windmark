{
 "cells": [
  {
   "cell_type": "code",
   "execution_count": 1,
   "metadata": {},
   "outputs": [],
   "source": [
    "import sys\n",
    "import os\n",
    "\n",
    "sys.path.append(os.path.abspath(\"..\"))\n",
    "\n",
    "%load_ext autoreload\n",
    "%autoreload 2"
   ]
  },
  {
   "cell_type": "code",
   "execution_count": 7,
   "metadata": {},
   "outputs": [],
   "source": [
    "from source.core.iterops import mock\n",
    "from source.core.schema import Field, Hyperparameters\n",
    "from source.core.architecture import SequenceModule"
   ]
  },
  {
   "cell_type": "code",
   "execution_count": 14,
   "metadata": {},
   "outputs": [],
   "source": [
    "fields: list[Field] = [\n",
    "    Field(\"is_online\", \"discrete\", n_levels=2),\n",
    "    Field(\"is_foreign\", \"discrete\", n_levels=2),\n",
    "    Field(\"merchant_category\", \"discrete\", n_levels=100),\n",
    "    Field(\"transaction_type\", \"discrete\", n_levels=100),\n",
    "]"
   ]
  },
  {
   "cell_type": "code",
   "execution_count": 15,
   "metadata": {},
   "outputs": [],
   "source": [
    "params = Hyperparameters(fields=fields)"
   ]
  },
  {
   "cell_type": "code",
   "execution_count": 16,
   "metadata": {},
   "outputs": [
    {
     "data": {
      "text/plain": [
       "TensorDict(\n",
       "    fields={\n",
       "        is_foreign: TensorDict(\n",
       "            fields={\n",
       "                dtype: NonTensorData(\n",
       "                    data='discrete',\n",
       "                    batch_size=torch.Size([2]),\n",
       "                    device=None,\n",
       "                    is_shared=False),\n",
       "                lookup: Tensor(shape=torch.Size([2, 8]), device=cpu, dtype=torch.int64, is_shared=False)},\n",
       "            batch_size=torch.Size([2]),\n",
       "            device=None,\n",
       "            is_shared=False),\n",
       "        is_online: TensorDict(\n",
       "            fields={\n",
       "                dtype: NonTensorData(\n",
       "                    data='discrete',\n",
       "                    batch_size=torch.Size([2]),\n",
       "                    device=None,\n",
       "                    is_shared=False),\n",
       "                lookup: Tensor(shape=torch.Size([2, 8]), device=cpu, dtype=torch.int64, is_shared=False)},\n",
       "            batch_size=torch.Size([2]),\n",
       "            device=None,\n",
       "            is_shared=False),\n",
       "        merchant_category: TensorDict(\n",
       "            fields={\n",
       "                dtype: NonTensorData(\n",
       "                    data='discrete',\n",
       "                    batch_size=torch.Size([2]),\n",
       "                    device=None,\n",
       "                    is_shared=False),\n",
       "                lookup: Tensor(shape=torch.Size([2, 8]), device=cpu, dtype=torch.int64, is_shared=False)},\n",
       "            batch_size=torch.Size([2]),\n",
       "            device=None,\n",
       "            is_shared=False),\n",
       "        transaction_type: TensorDict(\n",
       "            fields={\n",
       "                dtype: NonTensorData(\n",
       "                    data='discrete',\n",
       "                    batch_size=torch.Size([2]),\n",
       "                    device=None,\n",
       "                    is_shared=False),\n",
       "                lookup: Tensor(shape=torch.Size([2, 8]), device=cpu, dtype=torch.int64, is_shared=False)},\n",
       "            batch_size=torch.Size([2]),\n",
       "            device=None,\n",
       "            is_shared=False)},\n",
       "    batch_size=torch.Size([2]),\n",
       "    device=None,\n",
       "    is_shared=False)"
      ]
     },
     "execution_count": 16,
     "metadata": {},
     "output_type": "execute_result"
    }
   ],
   "source": [
    "mock(params)"
   ]
  },
  {
   "cell_type": "code",
   "execution_count": 12,
   "metadata": {},
   "outputs": [
    {
     "data": {
      "text/plain": [
       "SequenceModule(\n",
       "  (modular_field_embedder): ModularFieldEmbedder(\n",
       "    (embedders): ModuleDict(\n",
       "      (is_online): DiscreteFieldEncoder(\n",
       "        (embeddings): Embedding(6, 8)\n",
       "      )\n",
       "      (is_foreign): DiscreteFieldEncoder(\n",
       "        (embeddings): Embedding(6, 8)\n",
       "      )\n",
       "      (merchant_category): DiscreteFieldEncoder(\n",
       "        (embeddings): Embedding(104, 8)\n",
       "      )\n",
       "      (transaction_type): DiscreteFieldEncoder(\n",
       "        (embeddings): Embedding(104, 8)\n",
       "      )\n",
       "    )\n",
       "  )\n",
       "  (field_encoder): FieldEncoder(\n",
       "    (encoder): TransformerEncoder(\n",
       "      (layers): ModuleList(\n",
       "        (0): TransformerEncoderLayer(\n",
       "          (self_attn): MultiheadAttention(\n",
       "            (out_proj): NonDynamicallyQuantizableLinear(in_features=8, out_features=8, bias=True)\n",
       "          )\n",
       "          (linear1): Linear(in_features=8, out_features=2048, bias=True)\n",
       "          (dropout): Dropout(p=0.1, inplace=False)\n",
       "          (linear2): Linear(in_features=2048, out_features=8, bias=True)\n",
       "          (norm1): LayerNorm((8,), eps=1e-05, elementwise_affine=True)\n",
       "          (norm2): LayerNorm((8,), eps=1e-05, elementwise_affine=True)\n",
       "          (dropout1): Dropout(p=0.1, inplace=False)\n",
       "          (dropout2): Dropout(p=0.1, inplace=False)\n",
       "        )\n",
       "      )\n",
       "    )\n",
       "    (positional): LearnedTensor()\n",
       "  )\n",
       "  (event_encoder): EventEncoder(\n",
       "    (encoder): TransformerEncoder(\n",
       "      (layers): ModuleList(\n",
       "        (0): TransformerEncoderLayer(\n",
       "          (self_attn): MultiheadAttention(\n",
       "            (out_proj): NonDynamicallyQuantizableLinear(in_features=32, out_features=32, bias=True)\n",
       "          )\n",
       "          (linear1): Linear(in_features=32, out_features=2048, bias=True)\n",
       "          (dropout): Dropout(p=0.1, inplace=False)\n",
       "          (linear2): Linear(in_features=2048, out_features=32, bias=True)\n",
       "          (norm1): LayerNorm((32,), eps=1e-05, elementwise_affine=True)\n",
       "          (norm2): LayerNorm((32,), eps=1e-05, elementwise_affine=True)\n",
       "          (dropout1): Dropout(p=0.1, inplace=False)\n",
       "          (dropout2): Dropout(p=0.1, inplace=False)\n",
       "        )\n",
       "      )\n",
       "    )\n",
       "    (positional): LearnedTensor()\n",
       "    (class_token): LearnedTensor()\n",
       "  )\n",
       "  (event_decoder): EventDecoder(\n",
       "    (projections): ModuleDict(\n",
       "      (is_online): Conv1d(32, 6, kernel_size=(1,), stride=(1,))\n",
       "      (is_foreign): Conv1d(32, 6, kernel_size=(1,), stride=(1,))\n",
       "      (merchant_category): Conv1d(32, 104, kernel_size=(1,), stride=(1,))\n",
       "      (transaction_type): Conv1d(32, 104, kernel_size=(1,), stride=(1,))\n",
       "    )\n",
       "  )\n",
       "  (decision_head): DecisionHead(\n",
       "    (mlp): Sequential(\n",
       "      (0): Sequential(\n",
       "        (dense): Linear(in_features=32, out_features=16, bias=True)\n",
       "        (act): ReLU()\n",
       "      )\n",
       "      (1): Sequential(\n",
       "        (dense): Linear(in_features=16, out_features=4, bias=True)\n",
       "        (act): ReLU()\n",
       "      )\n",
       "      (2): Sequential(\n",
       "        (dense): Linear(in_features=4, out_features=2, bias=True)\n",
       "        (act): Identity()\n",
       "      )\n",
       "    )\n",
       "  )\n",
       "  (metrics): ModuleDict(\n",
       "    (train_metrics): ModuleDict(\n",
       "      (ap): MulticlassAveragePrecision()\n",
       "      (f1): MulticlassF1Score()\n",
       "      (auc): MulticlassAUROC()\n",
       "      (acc): MulticlassAccuracy()\n",
       "    )\n",
       "    (valid_metrics): ModuleDict(\n",
       "      (ap): MulticlassAveragePrecision()\n",
       "      (f1): MulticlassF1Score()\n",
       "      (auc): MulticlassAUROC()\n",
       "      (acc): MulticlassAccuracy()\n",
       "    )\n",
       "    (test_metrics): ModuleDict(\n",
       "      (ap): MulticlassAveragePrecision()\n",
       "      (f1): MulticlassF1Score()\n",
       "      (auc): MulticlassAUROC()\n",
       "      (acc): MulticlassAccuracy()\n",
       "    )\n",
       "  )\n",
       ")"
      ]
     },
     "execution_count": 12,
     "metadata": {},
     "output_type": "execute_result"
    }
   ],
   "source": [
    "SequenceModule(datapath='.', params=params, digests={})"
   ]
  },
  {
   "cell_type": "code",
   "execution_count": null,
   "metadata": {},
   "outputs": [],
   "source": []
  }
 ],
 "metadata": {
  "kernelspec": {
   "display_name": "windmark-f6A5bTdG-py3.11",
   "language": "python",
   "name": "python3"
  },
  "language_info": {
   "codemirror_mode": {
    "name": "ipython",
    "version": 3
   },
   "file_extension": ".py",
   "mimetype": "text/x-python",
   "name": "python",
   "nbconvert_exporter": "python",
   "pygments_lexer": "ipython3",
   "version": "3.11.7"
  }
 },
 "nbformat": 4,
 "nbformat_minor": 2
}

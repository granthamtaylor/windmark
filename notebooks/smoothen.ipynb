{
 "cells": [
  {
   "cell_type": "code",
   "execution_count": 1,
   "metadata": {},
   "outputs": [],
   "source": [
    "import sys\n",
    "import os\n",
    "\n",
    "sys.path.append(os.path.abspath(\"..\"))\n",
    "\n",
    "%load_ext autoreload\n",
    "%autoreload 2"
   ]
  },
  {
   "cell_type": "code",
   "execution_count": 2,
   "metadata": {},
   "outputs": [],
   "source": [
    "from windmark.core.schema import Schema, Hyperparameters"
   ]
  },
  {
   "cell_type": "code",
   "execution_count": 3,
   "metadata": {},
   "outputs": [
    {
     "data": {
      "text/plain": [
       "<windmark.core.schema.Schema at 0x707c1bbc6190>"
      ]
     },
     "execution_count": 3,
     "metadata": {},
     "output_type": "execute_result"
    }
   ],
   "source": [
    "Schema(amount='continuous', event='discrete')"
   ]
  },
  {
   "cell_type": "code",
   "execution_count": 8,
   "metadata": {},
   "outputs": [],
   "source": [
    "params = Hyperparameters(n_fields=31)"
   ]
  },
  {
   "cell_type": "code",
   "execution_count": 12,
   "metadata": {},
   "outputs": [
    {
     "data": {
      "text/plain": [
       "31"
      ]
     },
     "execution_count": 12,
     "metadata": {},
     "output_type": "execute_result"
    }
   ],
   "source": [
    "params.n_fields"
   ]
  },
  {
   "cell_type": "code",
   "execution_count": 27,
   "metadata": {},
   "outputs": [
    {
     "data": {
      "text/html": [
       "<div><style>\n",
       ".dataframe > thead > tr,\n",
       ".dataframe > tbody > tr {\n",
       "  text-align: right;\n",
       "  white-space: pre-wrap;\n",
       "}\n",
       "</style>\n",
       "<small>shape: (10, 1)</small><table border=\"1\" class=\"dataframe\"><thead><tr><th>foo</th></tr><tr><td>struct[1]</td></tr></thead><tbody><tr><td>{[3, 3, 0]}</td></tr><tr><td>{[3, 3, 4]}</td></tr><tr><td>{[3, 0, 2]}</td></tr><tr><td>{[4, 2, 2]}</td></tr><tr><td>{[2, 1, 4]}</td></tr><tr><td>{[0, 0, 1]}</td></tr><tr><td>{[3, 4, 0]}</td></tr><tr><td>{[1, 3, 2]}</td></tr><tr><td>{[0, 1, 1]}</td></tr><tr><td>{[2, 0, 1]}</td></tr></tbody></table></div>"
      ],
      "text/plain": [
       "shape: (10, 1)\n",
       "┌─────────────┐\n",
       "│ foo         │\n",
       "│ ---         │\n",
       "│ struct[1]   │\n",
       "╞═════════════╡\n",
       "│ {[3, 3, 0]} │\n",
       "│ {[3, 3, 4]} │\n",
       "│ {[3, 0, 2]} │\n",
       "│ {[4, 2, 2]} │\n",
       "│ {[2, 1, 4]} │\n",
       "│ {[0, 0, 1]} │\n",
       "│ {[3, 4, 0]} │\n",
       "│ {[1, 3, 2]} │\n",
       "│ {[0, 1, 1]} │\n",
       "│ {[2, 0, 1]} │\n",
       "└─────────────┘"
      ]
     },
     "execution_count": 27,
     "metadata": {},
     "output_type": "execute_result"
    }
   ],
   "source": [
    "pl.DataFrame({'foo': array}).select(pl.struct('foo'))"
   ]
  },
  {
   "cell_type": "code",
   "execution_count": 22,
   "metadata": {},
   "outputs": [],
   "source": [
    "from enum import IntEnum\n",
    "\n",
    "class SpecialTokens(IntEnum):\n",
    "\n",
    "    VAL = 0\n",
    "    NAN = 1\n",
    "    UNK = 2\n",
    "    PAD = 3\n",
    "    MASK = 4"
   ]
  },
  {
   "cell_type": "code",
   "execution_count": 23,
   "metadata": {},
   "outputs": [
    {
     "data": {
      "text/plain": [
       "3"
      ]
     },
     "execution_count": 23,
     "metadata": {},
     "output_type": "execute_result"
    }
   ],
   "source": [
    "int(SpecialTokens.PAD)"
   ]
  },
  {
   "cell_type": "code",
   "execution_count": 24,
   "metadata": {},
   "outputs": [
    {
     "data": {
      "text/plain": [
       "5"
      ]
     },
     "execution_count": 24,
     "metadata": {},
     "output_type": "execute_result"
    }
   ],
   "source": [
    "len(SpecialTokens)"
   ]
  },
  {
   "cell_type": "code",
   "execution_count": null,
   "metadata": {},
   "outputs": [],
   "source": []
  }
 ],
 "metadata": {
  "kernelspec": {
   "display_name": "windmark-gThMBSDt-py3.11",
   "language": "python",
   "name": "python3"
  },
  "language_info": {
   "codemirror_mode": {
    "name": "ipython",
    "version": 3
   },
   "file_extension": ".py",
   "mimetype": "text/x-python",
   "name": "python",
   "nbconvert_exporter": "python",
   "pygments_lexer": "ipython3",
   "version": "3.11.8"
  }
 },
 "nbformat": 4,
 "nbformat_minor": 2
}

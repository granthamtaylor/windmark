{
 "cells": [
  {
   "cell_type": "code",
   "execution_count": 1,
   "metadata": {},
   "outputs": [],
   "source": [
    "from zlib import crc32\n",
    "\n",
    "import polars as pl\n",
    "import numpy as np"
   ]
  },
  {
   "cell_type": "code",
   "execution_count": 4,
   "metadata": {},
   "outputs": [],
   "source": [
    "df = pl.read_parquet(\"../data/predictions/2024-05-03 13:34:johnson-street:LPQZ.parquet\")"
   ]
  },
  {
   "cell_type": "code",
   "execution_count": 5,
   "metadata": {},
   "outputs": [
    {
     "data": {
      "text/html": [
       "<div><style>\n",
       ".dataframe > thead > tr,\n",
       ".dataframe > tbody > tr {\n",
       "  text-align: right;\n",
       "  white-space: pre-wrap;\n",
       "}\n",
       "</style>\n",
       "<small>shape: (4_924_800, 4)</small><table border=\"1\" class=\"dataframe\"><thead><tr><th>predictions</th><th>targets</th><th>sequence_id</th><th>event_id</th></tr><tr><td>list[f32]</td><td>i64</td><td>str</td><td>str</td></tr></thead><tbody><tr><td>[0.999823, 0.000177]</td><td>0</td><td>&quot;Brandy Bailey&quot;</td><td>&quot;2014-10-26 19:…</td></tr><tr><td>[0.999815, 0.000185]</td><td>0</td><td>&quot;Brandy Bailey&quot;</td><td>&quot;2017-03-23 16:…</td></tr><tr><td>[0.999733, 0.000267]</td><td>0</td><td>&quot;Brandy Bailey&quot;</td><td>&quot;2016-03-08 19:…</td></tr><tr><td>[0.999583, 0.000417]</td><td>0</td><td>&quot;Brandy Bailey&quot;</td><td>&quot;2015-09-10 08:…</td></tr><tr><td>[0.99981, 0.00019]</td><td>0</td><td>&quot;Brandy Bailey&quot;</td><td>&quot;2016-08-02 19:…</td></tr><tr><td>&hellip;</td><td>&hellip;</td><td>&hellip;</td><td>&hellip;</td></tr><tr><td>[0.999599, 0.000401]</td><td>0</td><td>&quot;Brandon Little…</td><td>&quot;2017-08-20 11:…</td></tr><tr><td>[0.999733, 0.000267]</td><td>0</td><td>&quot;Melanie Brewer…</td><td>&quot;2012-02-05 19:…</td></tr><tr><td>[0.999662, 0.000338]</td><td>0</td><td>&quot;Melanie Brewer…</td><td>&quot;2011-05-03 20:…</td></tr><tr><td>[0.999735, 0.000265]</td><td>0</td><td>&quot;Melanie Brewer…</td><td>&quot;2012-04-29 16:…</td></tr><tr><td>[0.999757, 0.000243]</td><td>0</td><td>&quot;Brandon Little…</td><td>&quot;2019-01-02 11:…</td></tr></tbody></table></div>"
      ],
      "text/plain": [
       "shape: (4_924_800, 4)\n",
       "┌──────────────────────┬─────────┬────────────────┬────────────────────────────┐\n",
       "│ predictions          ┆ targets ┆ sequence_id    ┆ event_id                   │\n",
       "│ ---                  ┆ ---     ┆ ---            ┆ ---                        │\n",
       "│ list[f32]            ┆ i64     ┆ str            ┆ str                        │\n",
       "╞══════════════════════╪═════════╪════════════════╪════════════════════════════╡\n",
       "│ [0.999823, 0.000177] ┆ 0       ┆ Brandy Bailey  ┆ 2014-10-26 19:10:00.000000 │\n",
       "│ [0.999815, 0.000185] ┆ 0       ┆ Brandy Bailey  ┆ 2017-03-23 16:01:00.000000 │\n",
       "│ [0.999733, 0.000267] ┆ 0       ┆ Brandy Bailey  ┆ 2016-03-08 19:04:00.000000 │\n",
       "│ [0.999583, 0.000417] ┆ 0       ┆ Brandy Bailey  ┆ 2015-09-10 08:56:00.000000 │\n",
       "│ [0.99981, 0.00019]   ┆ 0       ┆ Brandy Bailey  ┆ 2016-08-02 19:24:00.000000 │\n",
       "│ …                    ┆ …       ┆ …              ┆ …                          │\n",
       "│ [0.999599, 0.000401] ┆ 0       ┆ Brandon Little ┆ 2017-08-20 11:33:00.000000 │\n",
       "│ [0.999733, 0.000267] ┆ 0       ┆ Melanie Brewer ┆ 2012-02-05 19:02:00.000000 │\n",
       "│ [0.999662, 0.000338] ┆ 0       ┆ Melanie Brewer ┆ 2011-05-03 20:18:00.000000 │\n",
       "│ [0.999735, 0.000265] ┆ 0       ┆ Melanie Brewer ┆ 2012-04-29 16:27:00.000000 │\n",
       "│ [0.999757, 0.000243] ┆ 0       ┆ Brandon Little ┆ 2019-01-02 11:05:00.000000 │\n",
       "└──────────────────────┴─────────┴────────────────┴────────────────────────────┘"
      ]
     },
     "execution_count": 5,
     "metadata": {},
     "output_type": "execute_result"
    }
   ],
   "source": [
    "df"
   ]
  },
  {
   "cell_type": "code",
   "execution_count": 18,
   "metadata": {},
   "outputs": [],
   "source": [
    "\n",
    "seed = (\n",
    "    pl.col(\"event_id\")\n",
    "    .cast(pl.String)\n",
    "    .map_elements(lambda x: float(crc32(str.encode(f\"{x}_\")) & 0xFFFFFFFF), return_dtype=pl.Float32)\n",
    "    .mul(1 / 2**32)\n",
    ")\n",
    "\n",
    "filtered = df.filter((seed < 0.1) | (pl.col(\"targets\") == 1))"
   ]
  },
  {
   "cell_type": "code",
   "execution_count": 19,
   "metadata": {},
   "outputs": [
    {
     "data": {
      "text/plain": [
       "497326"
      ]
     },
     "execution_count": 19,
     "metadata": {},
     "output_type": "execute_result"
    }
   ],
   "source": [
    "len(filtered)"
   ]
  },
  {
   "cell_type": "code",
   "execution_count": 20,
   "metadata": {},
   "outputs": [
    {
     "data": {
      "text/html": [
       "<div><style>\n",
       ".dataframe > thead > tr,\n",
       ".dataframe > tbody > tr {\n",
       "  text-align: right;\n",
       "  white-space: pre-wrap;\n",
       "}\n",
       "</style>\n",
       "<small>shape: (9, 2)</small><table border=\"1\" class=\"dataframe\"><thead><tr><th>statistic</th><th>event_id</th></tr><tr><td>str</td><td>f64</td></tr></thead><tbody><tr><td>&quot;count&quot;</td><td>4.9248e6</td></tr><tr><td>&quot;null_count&quot;</td><td>0.0</td></tr><tr><td>&quot;mean&quot;</td><td>0.49939</td></tr><tr><td>&quot;std&quot;</td><td>0.288937</td></tr><tr><td>&quot;min&quot;</td><td>0.000001</td></tr><tr><td>&quot;25%&quot;</td><td>0.248706</td></tr><tr><td>&quot;50%&quot;</td><td>0.49859</td></tr><tr><td>&quot;75%&quot;</td><td>0.750504</td></tr><tr><td>&quot;max&quot;</td><td>0.999994</td></tr></tbody></table></div>"
      ],
      "text/plain": [
       "shape: (9, 2)\n",
       "┌────────────┬──────────┐\n",
       "│ statistic  ┆ event_id │\n",
       "│ ---        ┆ ---      │\n",
       "│ str        ┆ f64      │\n",
       "╞════════════╪══════════╡\n",
       "│ count      ┆ 4.9248e6 │\n",
       "│ null_count ┆ 0.0      │\n",
       "│ mean       ┆ 0.49939  │\n",
       "│ std        ┆ 0.288937 │\n",
       "│ min        ┆ 0.000001 │\n",
       "│ 25%        ┆ 0.248706 │\n",
       "│ 50%        ┆ 0.49859  │\n",
       "│ 75%        ┆ 0.750504 │\n",
       "│ max        ┆ 0.999994 │\n",
       "└────────────┴──────────┘"
      ]
     },
     "execution_count": 20,
     "metadata": {},
     "output_type": "execute_result"
    }
   ],
   "source": [
    "df.select(seed).describe()"
   ]
  },
  {
   "cell_type": "code",
   "execution_count": 21,
   "metadata": {},
   "outputs": [],
   "source": [
    "yhat = np.array(filtered.get_column('predictions').to_list())\n",
    "y = np.array(filtered.get_column(\"targets\").to_list())"
   ]
  },
  {
   "cell_type": "code",
   "execution_count": null,
   "metadata": {},
   "outputs": [],
   "source": []
  },
  {
   "cell_type": "code",
   "execution_count": 22,
   "metadata": {},
   "outputs": [],
   "source": [
    "from sklearn.metrics import average_precision_score as ap\n",
    "from sklearn.metrics import roc_auc_score as auc\n",
    "from sklearn.metrics import f1_score as f1\n",
    "from sklearn.metrics import accuracy_score as acc\n"
   ]
  },
  {
   "cell_type": "code",
   "execution_count": 24,
   "metadata": {},
   "outputs": [
    {
     "name": "stdout",
     "output_type": "stream",
     "text": [
      "Average Precision: 0.90920\n",
      "ROC AUC: 0.99951\n",
      "F1: 0.88251\n",
      "Accuracy: 0.99771\n"
     ]
    }
   ],
   "source": [
    "print(f'Average Precision: {ap(y_true=y, y_score=yhat[:,1]):.5f}')\n",
    "print(f'ROC AUC: {auc(y_true=y, y_score=yhat[:,1]):.5f}')\n",
    "print(f'F1: {f1(y_true=y, y_pred=yhat[:,1].round()):.5f}')\n",
    "print(f'Accuracy: {acc(y_true=y, y_pred=yhat[:,1].round()):.5f}')\n"
   ]
  },
  {
   "cell_type": "code",
   "execution_count": null,
   "metadata": {},
   "outputs": [],
   "source": []
  },
  {
   "cell_type": "code",
   "execution_count": null,
   "metadata": {},
   "outputs": [],
   "source": []
  },
  {
   "cell_type": "code",
   "execution_count": null,
   "metadata": {},
   "outputs": [],
   "source": []
  }
 ],
 "metadata": {
  "kernelspec": {
   "display_name": "windmark-gThMBSDt-py3.11",
   "language": "python",
   "name": "python3"
  },
  "language_info": {
   "codemirror_mode": {
    "name": "ipython",
    "version": 3
   },
   "file_extension": ".py",
   "mimetype": "text/x-python",
   "name": "python",
   "nbconvert_exporter": "python",
   "pygments_lexer": "ipython3",
   "version": "3.11.8"
  }
 },
 "nbformat": 4,
 "nbformat_minor": 2
}

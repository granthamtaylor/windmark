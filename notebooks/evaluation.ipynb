{
 "cells": [
  {
   "cell_type": "code",
   "execution_count": 42,
   "metadata": {},
   "outputs": [],
   "source": [
    "from zlib import crc32\n",
    "\n",
    "import polars as pl\n",
    "import numpy as np"
   ]
  },
  {
   "cell_type": "code",
   "execution_count": 43,
   "metadata": {},
   "outputs": [],
   "source": [
    "df = pl.read_parquet(\"../data/predictions/2024-04-29 08:29:woods-hill:DCQO.parquet\")"
   ]
  },
  {
   "cell_type": "code",
   "execution_count": 44,
   "metadata": {},
   "outputs": [
    {
     "data": {
      "text/html": [
       "<div><style>\n",
       ".dataframe > thead > tr,\n",
       ".dataframe > tbody > tr {\n",
       "  text-align: right;\n",
       "  white-space: pre-wrap;\n",
       "}\n",
       "</style>\n",
       "<small>shape: (4_940_640, 4)</small><table border=\"1\" class=\"dataframe\"><thead><tr><th>predictions</th><th>targets</th><th>sequence_id</th><th>event_id</th></tr><tr><td>list[f32]</td><td>i64</td><td>str</td><td>str</td></tr></thead><tbody><tr><td>[0.0, 1.0]</td><td>1</td><td>&quot;Roger Brown&quot;</td><td>&quot;2010-06-02 11:…</td></tr><tr><td>[0.0, 1.0]</td><td>1</td><td>&quot;Roger Brown&quot;</td><td>&quot;2010-08-20 13:…</td></tr><tr><td>[0.0, 1.0]</td><td>1</td><td>&quot;Roger Brown&quot;</td><td>&quot;2020-01-22 10:…</td></tr><tr><td>[0.0, 1.0]</td><td>1</td><td>&quot;Roger Brown&quot;</td><td>&quot;2018-12-19 10:…</td></tr><tr><td>[0.0, 1.0]</td><td>1</td><td>&quot;Roger Brown&quot;</td><td>&quot;2019-04-16 12:…</td></tr><tr><td>&hellip;</td><td>&hellip;</td><td>&hellip;</td><td>&hellip;</td></tr><tr><td>[0.0, 1.0]</td><td>1</td><td>&quot;Haley Johnson&quot;</td><td>&quot;2010-12-24 11:…</td></tr><tr><td>[0.0, 1.0]</td><td>1</td><td>&quot;Haley Johnson&quot;</td><td>&quot;2012-07-01 19:…</td></tr><tr><td>[0.0, 1.0]</td><td>1</td><td>&quot;Haley Johnson&quot;</td><td>&quot;2009-12-11 09:…</td></tr><tr><td>[0.0, 1.0]</td><td>1</td><td>&quot;Haley Johnson&quot;</td><td>&quot;2012-10-19 20:…</td></tr><tr><td>[0.0, 1.0]</td><td>1</td><td>&quot;Haley Johnson&quot;</td><td>&quot;2010-02-23 06:…</td></tr></tbody></table></div>"
      ],
      "text/plain": [
       "shape: (4_940_640, 4)\n",
       "┌─────────────┬─────────┬───────────────┬────────────────────────────┐\n",
       "│ predictions ┆ targets ┆ sequence_id   ┆ event_id                   │\n",
       "│ ---         ┆ ---     ┆ ---           ┆ ---                        │\n",
       "│ list[f32]   ┆ i64     ┆ str           ┆ str                        │\n",
       "╞═════════════╪═════════╪═══════════════╪════════════════════════════╡\n",
       "│ [0.0, 1.0]  ┆ 1       ┆ Roger Brown   ┆ 2010-06-02 11:41:00.000000 │\n",
       "│ [0.0, 1.0]  ┆ 1       ┆ Roger Brown   ┆ 2010-08-20 13:14:00.000000 │\n",
       "│ [0.0, 1.0]  ┆ 1       ┆ Roger Brown   ┆ 2020-01-22 10:54:00.000000 │\n",
       "│ [0.0, 1.0]  ┆ 1       ┆ Roger Brown   ┆ 2018-12-19 10:33:00.000000 │\n",
       "│ [0.0, 1.0]  ┆ 1       ┆ Roger Brown   ┆ 2019-04-16 12:12:00.000000 │\n",
       "│ …           ┆ …       ┆ …             ┆ …                          │\n",
       "│ [0.0, 1.0]  ┆ 1       ┆ Haley Johnson ┆ 2010-12-24 11:13:00.000000 │\n",
       "│ [0.0, 1.0]  ┆ 1       ┆ Haley Johnson ┆ 2012-07-01 19:23:00.000000 │\n",
       "│ [0.0, 1.0]  ┆ 1       ┆ Haley Johnson ┆ 2009-12-11 09:15:00.000000 │\n",
       "│ [0.0, 1.0]  ┆ 1       ┆ Haley Johnson ┆ 2012-10-19 20:23:00.000000 │\n",
       "│ [0.0, 1.0]  ┆ 1       ┆ Haley Johnson ┆ 2010-02-23 06:49:00.000000 │\n",
       "└─────────────┴─────────┴───────────────┴────────────────────────────┘"
      ]
     },
     "execution_count": 44,
     "metadata": {},
     "output_type": "execute_result"
    }
   ],
   "source": [
    "df"
   ]
  },
  {
   "cell_type": "code",
   "execution_count": 45,
   "metadata": {},
   "outputs": [],
   "source": [
    "\n",
    "seed = (\n",
    "    pl.col(\"sequence_id\")\n",
    "    .cast(pl.String)\n",
    "    .map_elements(lambda x: float(crc32(str.encode(f\"{x}_\")) & 0xFFFFFFFF), return_dtype=pl.Float32)\n",
    "    .mul(1 / 2**32)\n",
    ")\n",
    "\n",
    "filtered = df.filter((seed < 0.1) | (pl.col(\"targets\") == 0))"
   ]
  },
  {
   "cell_type": "code",
   "execution_count": 46,
   "metadata": {},
   "outputs": [
    {
     "data": {
      "text/html": [
       "<div><style>\n",
       ".dataframe > thead > tr,\n",
       ".dataframe > tbody > tr {\n",
       "  text-align: right;\n",
       "  white-space: pre-wrap;\n",
       "}\n",
       "</style>\n",
       "<small>shape: (9, 2)</small><table border=\"1\" class=\"dataframe\"><thead><tr><th>statistic</th><th>sequence_id</th></tr><tr><td>str</td><td>f64</td></tr></thead><tbody><tr><td>&quot;count&quot;</td><td>4.94064e6</td></tr><tr><td>&quot;null_count&quot;</td><td>0.0</td></tr><tr><td>&quot;mean&quot;</td><td>0.491245</td></tr><tr><td>&quot;std&quot;</td><td>0.292947</td></tr><tr><td>&quot;min&quot;</td><td>0.002965</td></tr><tr><td>&quot;25%&quot;</td><td>0.228349</td></tr><tr><td>&quot;50%&quot;</td><td>0.51162</td></tr><tr><td>&quot;75%&quot;</td><td>0.758447</td></tr><tr><td>&quot;max&quot;</td><td>0.993054</td></tr></tbody></table></div>"
      ],
      "text/plain": [
       "shape: (9, 2)\n",
       "┌────────────┬─────────────┐\n",
       "│ statistic  ┆ sequence_id │\n",
       "│ ---        ┆ ---         │\n",
       "│ str        ┆ f64         │\n",
       "╞════════════╪═════════════╡\n",
       "│ count      ┆ 4.94064e6   │\n",
       "│ null_count ┆ 0.0         │\n",
       "│ mean       ┆ 0.491245    │\n",
       "│ std        ┆ 0.292947    │\n",
       "│ min        ┆ 0.002965    │\n",
       "│ 25%        ┆ 0.228349    │\n",
       "│ 50%        ┆ 0.51162     │\n",
       "│ 75%        ┆ 0.758447    │\n",
       "│ max        ┆ 0.993054    │\n",
       "└────────────┴─────────────┘"
      ]
     },
     "execution_count": 46,
     "metadata": {},
     "output_type": "execute_result"
    }
   ],
   "source": [
    "df.select(seed).describe()"
   ]
  },
  {
   "cell_type": "code",
   "execution_count": 47,
   "metadata": {},
   "outputs": [],
   "source": [
    "yhat = np.array(filtered.get_column('predictions').to_list())\n",
    "y = np.array(filtered.get_column(\"targets\").to_list())"
   ]
  },
  {
   "cell_type": "code",
   "execution_count": null,
   "metadata": {},
   "outputs": [],
   "source": []
  },
  {
   "cell_type": "code",
   "execution_count": 48,
   "metadata": {},
   "outputs": [],
   "source": [
    "from sklearn.metrics import average_precision_score as ap\n",
    "from sklearn.metrics import roc_auc_score as auc\n",
    "from sklearn.metrics import f1_score as f1\n",
    "from sklearn.metrics import accuracy_score as acc\n"
   ]
  },
  {
   "cell_type": "code",
   "execution_count": 49,
   "metadata": {},
   "outputs": [
    {
     "name": "stdout",
     "output_type": "stream",
     "text": [
      "Average Precision: 0.97714\n",
      "ROC AUC: 0.99985\n",
      "F1: 0.99956\n",
      "Accuracy: 0.99912\n"
     ]
    }
   ],
   "source": [
    "print(f'Average Precision: {ap(y_true=y, y_score=yhat[:,0]):.5f}')\n",
    "print(f'ROC AUC: {auc(y_true=y, y_score=yhat[:,1]):.5f}')\n",
    "print(f'F1: {f1(y_true=y, y_pred=yhat[:,1].round()):.5f}')\n",
    "print(f'Accuracy: {acc(y_true=y, y_pred=yhat[:,1].round()):.5f}')\n"
   ]
  },
  {
   "cell_type": "code",
   "execution_count": null,
   "metadata": {},
   "outputs": [],
   "source": []
  },
  {
   "cell_type": "code",
   "execution_count": null,
   "metadata": {},
   "outputs": [],
   "source": []
  },
  {
   "cell_type": "code",
   "execution_count": null,
   "metadata": {},
   "outputs": [],
   "source": []
  }
 ],
 "metadata": {
  "kernelspec": {
   "display_name": "windmark-gThMBSDt-py3.11",
   "language": "python",
   "name": "python3"
  },
  "language_info": {
   "codemirror_mode": {
    "name": "ipython",
    "version": 3
   },
   "file_extension": ".py",
   "mimetype": "text/x-python",
   "name": "python",
   "nbconvert_exporter": "python",
   "pygments_lexer": "ipython3",
   "version": "3.11.8"
  }
 },
 "nbformat": 4,
 "nbformat_minor": 2
}

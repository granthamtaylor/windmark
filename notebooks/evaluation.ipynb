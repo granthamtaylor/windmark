{
 "cells": [
  {
   "cell_type": "code",
   "execution_count": 5,
   "metadata": {},
   "outputs": [],
   "source": [
    "from zlib import crc32\n",
    "\n",
    "import polars as pl\n",
    "import numpy as np\n",
    "from sklearn.metrics import average_precision_score as ap\n",
    "from sklearn.metrics import roc_auc_score as auc\n",
    "from sklearn.metrics import f1_score as f1\n",
    "from sklearn.metrics import accuracy_score as acc"
   ]
  },
  {
   "cell_type": "code",
   "execution_count": 4,
   "metadata": {},
   "outputs": [],
   "source": [
    "df = pl.read_parquet(\"../data/predictions/2024-05-03 13:34:johnson-street:LPQZ.parquet\")"
   ]
  },
  {
   "cell_type": "code",
   "execution_count": 4,
   "metadata": {},
   "outputs": [
    {
     "ename": "NameError",
     "evalue": "name 'pl' is not defined",
     "output_type": "error",
     "traceback": [
      "\u001b[0;31m---------------------------------------------------------------------------\u001b[0m",
      "\u001b[0;31mNameError\u001b[0m                                 Traceback (most recent call last)",
      "Cell \u001b[0;32mIn[4], line 2\u001b[0m\n\u001b[1;32m      1\u001b[0m seed \u001b[38;5;241m=\u001b[39m (\n\u001b[0;32m----> 2\u001b[0m     \u001b[43mpl\u001b[49m\u001b[38;5;241m.\u001b[39mcol(\u001b[38;5;124m\"\u001b[39m\u001b[38;5;124mevent_id\u001b[39m\u001b[38;5;124m\"\u001b[39m)\n\u001b[1;32m      3\u001b[0m     \u001b[38;5;241m.\u001b[39mcast(pl\u001b[38;5;241m.\u001b[39mString)\n\u001b[1;32m      4\u001b[0m     \u001b[38;5;241m.\u001b[39mmap_elements(\u001b[38;5;28;01mlambda\u001b[39;00m x: \u001b[38;5;28mfloat\u001b[39m(crc32(\u001b[38;5;28mstr\u001b[39m\u001b[38;5;241m.\u001b[39mencode(\u001b[38;5;124mf\u001b[39m\u001b[38;5;124m\"\u001b[39m\u001b[38;5;132;01m{\u001b[39;00mx\u001b[38;5;132;01m}\u001b[39;00m\u001b[38;5;124m_\u001b[39m\u001b[38;5;124m\"\u001b[39m)) \u001b[38;5;241m&\u001b[39m \u001b[38;5;241m0xFFFFFFFF\u001b[39m), return_dtype\u001b[38;5;241m=\u001b[39mpl\u001b[38;5;241m.\u001b[39mFloat32)\n\u001b[1;32m      5\u001b[0m     \u001b[38;5;241m.\u001b[39mmul(\u001b[38;5;241m1\u001b[39m \u001b[38;5;241m/\u001b[39m \u001b[38;5;241m2\u001b[39m\u001b[38;5;241m*\u001b[39m\u001b[38;5;241m*\u001b[39m\u001b[38;5;241m32\u001b[39m)\n\u001b[1;32m      6\u001b[0m )\n\u001b[1;32m      8\u001b[0m filtered \u001b[38;5;241m=\u001b[39m df\u001b[38;5;241m.\u001b[39mfilter((seed \u001b[38;5;241m<\u001b[39m \u001b[38;5;241m0.1\u001b[39m) \u001b[38;5;241m|\u001b[39m (pl\u001b[38;5;241m.\u001b[39mcol(\u001b[38;5;124m\"\u001b[39m\u001b[38;5;124mtargets\u001b[39m\u001b[38;5;124m\"\u001b[39m) \u001b[38;5;241m==\u001b[39m \u001b[38;5;241m1\u001b[39m))\n",
      "\u001b[0;31mNameError\u001b[0m: name 'pl' is not defined"
     ]
    }
   ],
   "source": [
    "seed = (\n",
    "    pl.col(\"event_id\")\n",
    "    .cast(pl.String)\n",
    "    .map_elements(lambda x: float(crc32(str.encode(f\"{x}_\")) & 0xFFFFFFFF), return_dtype=pl.Float32)\n",
    "    .mul(1 / 2**32)\n",
    ")\n",
    "\n",
    "filtered = df.filter((seed < 0.1) | (pl.col(\"targets\") == 1))"
   ]
  },
  {
   "cell_type": "code",
   "execution_count": 20,
   "metadata": {},
   "outputs": [
    {
     "data": {
      "text/html": [
       "<div><style>\n",
       ".dataframe > thead > tr,\n",
       ".dataframe > tbody > tr {\n",
       "  text-align: right;\n",
       "  white-space: pre-wrap;\n",
       "}\n",
       "</style>\n",
       "<small>shape: (9, 2)</small><table border=\"1\" class=\"dataframe\"><thead><tr><th>statistic</th><th>event_id</th></tr><tr><td>str</td><td>f64</td></tr></thead><tbody><tr><td>&quot;count&quot;</td><td>4.9248e6</td></tr><tr><td>&quot;null_count&quot;</td><td>0.0</td></tr><tr><td>&quot;mean&quot;</td><td>0.49939</td></tr><tr><td>&quot;std&quot;</td><td>0.288937</td></tr><tr><td>&quot;min&quot;</td><td>0.000001</td></tr><tr><td>&quot;25%&quot;</td><td>0.248706</td></tr><tr><td>&quot;50%&quot;</td><td>0.49859</td></tr><tr><td>&quot;75%&quot;</td><td>0.750504</td></tr><tr><td>&quot;max&quot;</td><td>0.999994</td></tr></tbody></table></div>"
      ],
      "text/plain": [
       "shape: (9, 2)\n",
       "┌────────────┬──────────┐\n",
       "│ statistic  ┆ event_id │\n",
       "│ ---        ┆ ---      │\n",
       "│ str        ┆ f64      │\n",
       "╞════════════╪══════════╡\n",
       "│ count      ┆ 4.9248e6 │\n",
       "│ null_count ┆ 0.0      │\n",
       "│ mean       ┆ 0.49939  │\n",
       "│ std        ┆ 0.288937 │\n",
       "│ min        ┆ 0.000001 │\n",
       "│ 25%        ┆ 0.248706 │\n",
       "│ 50%        ┆ 0.49859  │\n",
       "│ 75%        ┆ 0.750504 │\n",
       "│ max        ┆ 0.999994 │\n",
       "└────────────┴──────────┘"
      ]
     },
     "execution_count": 20,
     "metadata": {},
     "output_type": "execute_result"
    }
   ],
   "source": [
    "df.select(seed).describe()"
   ]
  },
  {
   "cell_type": "code",
   "execution_count": 21,
   "metadata": {},
   "outputs": [],
   "source": [
    "yhat = np.array(filtered.get_column('predictions').to_list())\n",
    "y = np.array(filtered.get_column(\"targets\").to_list())"
   ]
  },
  {
   "cell_type": "code",
   "execution_count": 24,
   "metadata": {},
   "outputs": [
    {
     "name": "stdout",
     "output_type": "stream",
     "text": [
      "Average Precision: 0.90920\n",
      "ROC AUC: 0.99951\n",
      "F1: 0.88251\n",
      "Accuracy: 0.99771\n"
     ]
    }
   ],
   "source": [
    "print(f'Average Precision: {ap(y_true=y, y_score=yhat[:,1]):.5f}')\n",
    "print(f'ROC AUC: {auc(y_true=y, y_score=yhat[:,1]):.5f}')\n",
    "print(f'F1: {f1(y_true=y, y_pred=yhat[:,1].round()):.5f}')\n",
    "print(f'Accuracy: {acc(y_true=y, y_pred=yhat[:,1].round()):.5f}')\n"
   ]
  }
 ],
 "metadata": {
  "kernelspec": {
   "display_name": "windmark-gThMBSDt-py3.11",
   "language": "python",
   "name": "python3"
  },
  "language_info": {
   "codemirror_mode": {
    "name": "ipython",
    "version": 3
   },
   "file_extension": ".py",
   "mimetype": "text/x-python",
   "name": "python",
   "nbconvert_exporter": "python",
   "pygments_lexer": "ipython3",
   "version": "3.11.8"
  }
 },
 "nbformat": 4,
 "nbformat_minor": 2
}

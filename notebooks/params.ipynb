{
 "cells": [
  {
   "cell_type": "code",
   "execution_count": 2,
   "metadata": {},
   "outputs": [],
   "source": [
    "import sys\n",
    "import os\n",
    "\n",
    "sys.path.append(os.path.abspath(\"..\"))\n",
    "\n",
    "%load_ext autoreload\n",
    "%autoreload 2"
   ]
  },
  {
   "cell_type": "code",
   "execution_count": 2,
   "metadata": {},
   "outputs": [],
   "source": [
    "import param\n",
    "from param import Parameter, Parameterized"
   ]
  },
  {
   "cell_type": "code",
   "execution_count": 3,
   "metadata": {},
   "outputs": [],
   "source": [
    "class MyClass(Parameterized):\n",
    "    l = Parameter(default=[1,2,3], instantiate=True)"
   ]
  },
  {
   "cell_type": "code",
   "execution_count": 4,
   "metadata": {},
   "outputs": [
    {
     "data": {
      "text/plain": [
       "MyClass(l=[1, 2, 3], name='MyClass00002')"
      ]
     },
     "execution_count": 4,
     "metadata": {},
     "output_type": "execute_result"
    }
   ],
   "source": [
    "MyClass()"
   ]
  },
  {
   "cell_type": "code",
   "execution_count": 6,
   "metadata": {},
   "outputs": [],
   "source": [
    "class Hyperparameters(Parameterized):\n",
    "\n",
    "    fields: list[Field] = param.List(item_type=Field)\n",
    "\n",
    "    # architecture hyperparameters\n",
    "    batch_size: int = param.Integer(64, bounds=(1, 2048))\n",
    "    n_context: int = param.Integer(64, bounds=(1, 2048))\n",
    "    n_targets: int = param.Integer(2, bounds=(2, 2048))\n",
    "    p_mask_event: float = param.Magnitude(0.0)\n",
    "    p_mask_field: float = param.Magnitude(0.0)\n",
    "    d_field: int = param.Integer(64, bounds=(2, 256))\n",
    "    n_heads_field_encoder: int = param.Integer(8, bounds=(1, 32))\n",
    "    n_layers_field_encoder: int = param.Integer(1, bounds=(1, 32))\n",
    "    n_heads_event_encoder: int = param.Integer(8, bounds=(1, 32))\n",
    "    n_layers_event_encoder: int = param.Integer(4, bounds=(1, 32))\n",
    "    precision: int = param.Integer(8, bounds=(2, 512))\n",
    "    dropout: float = param.Magnitude(0.1)\n",
    "    n_quantiles: int = param.Integer(16, bounds=(1, 512))\n",
    "    head_shape_log_base: int = param.Integer(4, bounds=(1, 32))\n",
    "\n",
    "    # pretraining hyperparameters\n",
    "    pretrain_lr: float = param.Magnitude(0.0001)\n",
    "    pretrain_sample_rate: float = param.Magnitude(0.01)\n",
    "    pretrain_val_interval: int = param.Integer(4, bounds=(1, 32))\n",
    "\n",
    "    # finetuning hyperparameters\n",
    "    finetune_lr: float = param.Magnitude(0.00001)\n",
    "    finetune_head_lr_ratio: float = param.Number(10., bounds=(0, 1000))\n",
    "    finetune_sample_rate: float = param.Magnitude(1.0)\n",
    "    finetune_interpolation_rate: float = param.Magnitude(0.1)\n",
    "    finetune_val_interval: int = param.Integer(1, bounds=(1, 32))\n",
    "\n",
    "    @property\n",
    "    def n_fields(self) -> int:\n",
    "        return len(self.fields)\n"
   ]
  },
  {
   "cell_type": "code",
   "execution_count": 7,
   "metadata": {},
   "outputs": [
    {
     "data": {
      "text/plain": [
       "Hyperparameters(batch_size=2, d_field=64, dropout=0.1, finetune_head_lr_ratio=10.0, finetune_interpolation_rate=0.1, finetune_lr=1e-05, finetune_sample_rate=1.0, finetune_val_interval=1, head_shape_log_base=4, n_context=64, n_heads_event_encoder=8, n_heads_field_encoder=8, n_layers_event_encoder=4, n_layers_field_encoder=1, n_quantiles=16, n_targets=2, name='Hyperparameters00003', p_mask_event=0.0, p_mask_field=0.0, precision=8, pretrain_lr=0.0001, pretrain_sample_rate=0.01, pretrain_val_interval=4)"
      ]
     },
     "execution_count": 7,
     "metadata": {},
     "output_type": "execute_result"
    }
   ],
   "source": [
    "Hyperparameters(batch_size=2)"
   ]
  },
  {
   "cell_type": "code",
   "execution_count": null,
   "metadata": {},
   "outputs": [],
   "source": []
  }
 ],
 "metadata": {
  "kernelspec": {
   "display_name": "windmark-XVYwV8Ge-py3.11",
   "language": "python",
   "name": "python3"
  },
  "language_info": {
   "codemirror_mode": {
    "name": "ipython",
    "version": 3
   },
   "file_extension": ".py",
   "mimetype": "text/x-python",
   "name": "python",
   "nbconvert_exporter": "python",
   "pygments_lexer": "ipython3",
   "version": "3.11.8"
  }
 },
 "nbformat": 4,
 "nbformat_minor": 2
}

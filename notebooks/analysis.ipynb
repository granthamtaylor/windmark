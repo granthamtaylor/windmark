{
 "cells": [
  {
   "cell_type": "code",
   "execution_count": 1,
   "metadata": {},
   "outputs": [],
   "source": [
    "import sys\n",
    "import os\n",
    "\n",
    "sys.path.append(os.path.abspath(\"..\"))\n",
    "\n",
    "%load_ext autoreload\n",
    "%autoreload 2a"
   ]
  },
  {
   "cell_type": "code",
   "execution_count": 1,
   "metadata": {},
   "outputs": [],
   "source": [
    "import polars as pl"
   ]
  },
  {
   "cell_type": "code",
   "execution_count": 6,
   "metadata": {},
   "outputs": [],
   "source": [
    "df = pl.read_parquet(\"../data/ledger.parquet\")"
   ]
  },
  {
   "cell_type": "code",
   "execution_count": 7,
   "metadata": {},
   "outputs": [
    {
     "data": {
      "text/plain": [
       "24386900"
      ]
     },
     "execution_count": 7,
     "metadata": {},
     "output_type": "execute_result"
    }
   ],
   "source": [
    "len(df)"
   ]
  },
  {
   "cell_type": "code",
   "execution_count": 3,
   "metadata": {},
   "outputs": [
    {
     "data": {
      "text/html": [
       "<div><style>\n",
       ".dataframe > thead > tr,\n",
       ".dataframe > tbody > tr {\n",
       "  text-align: right;\n",
       "  white-space: pre-wrap;\n",
       "}\n",
       "</style>\n",
       "<small>shape: (5, 12)</small><table border=\"1\" class=\"dataframe\"><thead><tr><th>use_chip</th><th>merchant_state</th><th>merchant_city</th><th>mcc</th><th>timestamp</th><th>amount</th><th>merchant_name</th><th>target</th><th>event_id</th><th>sequence_id</th><th>event_order</th><th>timedelta</th></tr><tr><td>str</td><td>str</td><td>str</td><td>i64</td><td>datetime[μs]</td><td>f64</td><td>str</td><td>str</td><td>str</td><td>i64</td><td>u32</td><td>i64</td></tr></thead><tbody><tr><td>&quot;Swipe Transact…</td><td>&quot;TX&quot;</td><td>&quot;Frisco&quot;</td><td>5311</td><td>1996-04-01 09:07:00</td><td>39.09</td><td>&quot;-2451783070255…</td><td>&quot;No&quot;</td><td>&quot;1996-04-01 09:…</td><td>74</td><td>1</td><td>null</td></tr><tr><td>&quot;Online Transac…</td><td>null</td><td>&quot; ONLINE&quot;</td><td>5311</td><td>1996-04-01 11:20:00</td><td>157.04</td><td>&quot;70356025694091…</td><td>&quot;No&quot;</td><td>&quot;1996-04-01 11:…</td><td>74</td><td>2</td><td>7980</td></tr><tr><td>&quot;Swipe Transact…</td><td>&quot;TX&quot;</td><td>&quot;Rockwall&quot;</td><td>5411</td><td>1996-04-01 21:48:00</td><td>17.61</td><td>&quot;-8346396146708…</td><td>&quot;No&quot;</td><td>&quot;1996-04-01 21:…</td><td>74</td><td>3</td><td>37680</td></tr><tr><td>&quot;Swipe Transact…</td><td>&quot;TX&quot;</td><td>&quot;Rockwall&quot;</td><td>5812</td><td>1996-04-01 22:54:00</td><td>73.96</td><td>&quot;17041725880521…</td><td>&quot;No&quot;</td><td>&quot;1996-04-01 22:…</td><td>74</td><td>4</td><td>3960</td></tr><tr><td>&quot;Swipe Transact…</td><td>&quot;TX&quot;</td><td>&quot;Rockwall&quot;</td><td>5912</td><td>1996-04-02 11:22:00</td><td>125.56</td><td>&quot;-5467922351692…</td><td>&quot;No&quot;</td><td>&quot;1996-04-02 11:…</td><td>74</td><td>5</td><td>44880</td></tr></tbody></table></div>"
      ],
      "text/plain": [
       "shape: (5, 12)\n",
       "┌────────────┬────────────┬────────────┬──────┬───┬────────────┬───────────┬───────────┬───────────┐\n",
       "│ use_chip   ┆ merchant_s ┆ merchant_c ┆ mcc  ┆ … ┆ event_id   ┆ sequence_ ┆ event_ord ┆ timedelta │\n",
       "│ ---        ┆ tate       ┆ ity        ┆ ---  ┆   ┆ ---        ┆ id        ┆ er        ┆ ---       │\n",
       "│ str        ┆ ---        ┆ ---        ┆ i64  ┆   ┆ str        ┆ ---       ┆ ---       ┆ i64       │\n",
       "│            ┆ str        ┆ str        ┆      ┆   ┆            ┆ i64       ┆ u32       ┆           │\n",
       "╞════════════╪════════════╪════════════╪══════╪═══╪════════════╪═══════════╪═══════════╪═══════════╡\n",
       "│ Swipe Tran ┆ TX         ┆ Frisco     ┆ 5311 ┆ … ┆ 1996-04-01 ┆ 74        ┆ 1         ┆ null      │\n",
       "│ saction    ┆            ┆            ┆      ┆   ┆ 09:07:00.0 ┆           ┆           ┆           │\n",
       "│            ┆            ┆            ┆      ┆   ┆ 00000      ┆           ┆           ┆           │\n",
       "│ Online Tra ┆ null       ┆  ONLINE    ┆ 5311 ┆ … ┆ 1996-04-01 ┆ 74        ┆ 2         ┆ 7980      │\n",
       "│ nsaction   ┆            ┆            ┆      ┆   ┆ 11:20:00.0 ┆           ┆           ┆           │\n",
       "│            ┆            ┆            ┆      ┆   ┆ 00000      ┆           ┆           ┆           │\n",
       "│ Swipe Tran ┆ TX         ┆ Rockwall   ┆ 5411 ┆ … ┆ 1996-04-01 ┆ 74        ┆ 3         ┆ 37680     │\n",
       "│ saction    ┆            ┆            ┆      ┆   ┆ 21:48:00.0 ┆           ┆           ┆           │\n",
       "│            ┆            ┆            ┆      ┆   ┆ 00000      ┆           ┆           ┆           │\n",
       "│ Swipe Tran ┆ TX         ┆ Rockwall   ┆ 5812 ┆ … ┆ 1996-04-01 ┆ 74        ┆ 4         ┆ 3960      │\n",
       "│ saction    ┆            ┆            ┆      ┆   ┆ 22:54:00.0 ┆           ┆           ┆           │\n",
       "│            ┆            ┆            ┆      ┆   ┆ 00000      ┆           ┆           ┆           │\n",
       "│ Swipe Tran ┆ TX         ┆ Rockwall   ┆ 5912 ┆ … ┆ 1996-04-02 ┆ 74        ┆ 5         ┆ 44880     │\n",
       "│ saction    ┆            ┆            ┆      ┆   ┆ 11:22:00.0 ┆           ┆           ┆           │\n",
       "│            ┆            ┆            ┆      ┆   ┆ 00000      ┆           ┆           ┆           │\n",
       "└────────────┴────────────┴────────────┴──────┴───┴────────────┴───────────┴───────────┴───────────┘"
      ]
     },
     "execution_count": 3,
     "metadata": {},
     "output_type": "execute_result"
    }
   ],
   "source": [
    "df.head()"
   ]
  },
  {
   "cell_type": "code",
   "execution_count": 4,
   "metadata": {},
   "outputs": [
    {
     "name": "stdout",
     "output_type": "stream",
     "text": [
      "3\n",
      "127\n",
      "5544\n",
      "109\n",
      "12511\n"
     ]
    }
   ],
   "source": [
    "print(df.get_column(\"use_chip\").n_unique())\n",
    "print(df.get_column(\"merchant_state\").n_unique())\n",
    "print(df.get_column(\"merchant_city\").n_unique())\n",
    "print(df.get_column(\"mcc\").n_unique())\n",
    "print(df.get_column(\"merchant_name\").n_unique())"
   ]
  },
  {
   "cell_type": "code",
   "execution_count": 2,
   "metadata": {},
   "outputs": [],
   "source": [
    "from windmark.core.schema import Hyperparameters"
   ]
  },
  {
   "cell_type": "code",
   "execution_count": 4,
   "metadata": {},
   "outputs": [
    {
     "data": {
      "text/plain": [
       "Hyperparameters(batch_size=72, d_field=64, dropout=0.1, finetune_sample_rate=0.1, freeze_epochs=1, gradient_clip_val=0.05, head_shape_log_base=4, interpolation_rate=0.125, learning_rate=0.0001, max_epochs=2, n_context=128, n_fields=None, n_heads_event_encoder=16, n_heads_field_encoder=16, n_layers_event_encoder=8, n_layers_field_encoder=2, n_quantiles=16, n_targets=2, name='Hyperparameters00002', p_mask_event=0.05, p_mask_field=0.05, precision=8, pretrain_sample_rate=0.01, sigma=1.0, weight_decay=0.001)"
      ]
     },
     "execution_count": 4,
     "metadata": {},
     "output_type": "execute_result"
    }
   ],
   "source": [
    "Hyperparameters()"
   ]
  },
  {
   "cell_type": "code",
   "execution_count": null,
   "metadata": {},
   "outputs": [],
   "source": []
  }
 ],
 "metadata": {
  "kernelspec": {
   "display_name": "windmark-f6A5bTdG-py3.11",
   "language": "python",
   "name": "python3"
  },
  "language_info": {
   "codemirror_mode": {
    "name": "ipython",
    "version": 3
   },
   "file_extension": ".py",
   "mimetype": "text/x-python",
   "name": "python",
   "nbconvert_exporter": "python",
   "pygments_lexer": "ipython3",
   "version": "3.11.8"
  }
 },
 "nbformat": 4,
 "nbformat_minor": 2
}

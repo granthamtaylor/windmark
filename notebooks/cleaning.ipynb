{
 "cells": [
  {
   "cell_type": "code",
   "execution_count": 1,
   "metadata": {},
   "outputs": [],
   "source": [
    "from typing import Callable\n",
    "\n",
    "import polars as pl\n",
    "from faker import Faker\n",
    "\n",
    "fake = Faker()\n",
    "\n",
    "%load_ext autoreload\n",
    "%autoreload 2"
   ]
  },
  {
   "cell_type": "code",
   "execution_count": 2,
   "metadata": {},
   "outputs": [
    {
     "name": "stdout",
     "output_type": "stream",
     "text": [
      "{'Bad Zipcode', 'Bad Card Number', 'Insufficient Balance', 'Bad PIN', 'Technical Glitch', 'Bad CVV', 'Bad Expiration'}\n"
     ]
    }
   ],
   "source": [
    "errors = (\n",
    "    pl.read_csv(\"/home/grantham/windmark/data/transactions.v1.csv\")\n",
    "    .get_column(\"Errors?\")\n",
    "    .drop_nulls()\n",
    "    .unique()\n",
    "    .to_list()\n",
    ")\n",
    "\n",
    "unique_errors = set(\"\".join(errors).split(\",\"))\n",
    "\n",
    "unique_errors.remove(\"\")\n",
    "\n",
    "print(unique_errors)"
   ]
  },
  {
   "cell_type": "code",
   "execution_count": 3,
   "metadata": {},
   "outputs": [
    {
     "name": "stdout",
     "output_type": "stream",
     "text": [
      "shape: (5, 15)\n",
      "┌──────┬──────┬──────┬───────┬───┬─────────┬──────┬────────┬──────────┐\n",
      "│ user ┆ card ┆ year ┆ month ┆ … ┆ zip     ┆ mcc  ┆ errors ┆ is_fraud │\n",
      "│ ---  ┆ ---  ┆ ---  ┆ ---   ┆   ┆ ---     ┆ ---  ┆ ---    ┆ ---      │\n",
      "│ i64  ┆ i64  ┆ i64  ┆ i64   ┆   ┆ f64     ┆ i64  ┆ str    ┆ str      │\n",
      "╞══════╪══════╪══════╪═══════╪═══╪═════════╪══════╪════════╪══════════╡\n",
      "│ 0    ┆ 0    ┆ 2002 ┆ 9     ┆ … ┆ 91750.0 ┆ 5300 ┆ null   ┆ No       │\n",
      "│ 0    ┆ 0    ┆ 2002 ┆ 9     ┆ … ┆ 91754.0 ┆ 5411 ┆ null   ┆ No       │\n",
      "│ 0    ┆ 0    ┆ 2002 ┆ 9     ┆ … ┆ 91754.0 ┆ 5411 ┆ null   ┆ No       │\n",
      "│ 0    ┆ 0    ┆ 2002 ┆ 9     ┆ … ┆ 91754.0 ┆ 5651 ┆ null   ┆ No       │\n",
      "│ 0    ┆ 0    ┆ 2002 ┆ 9     ┆ … ┆ 91750.0 ┆ 5912 ┆ null   ┆ No       │\n",
      "└──────┴──────┴──────┴───────┴───┴─────────┴──────┴────────┴──────────┘\n"
     ]
    }
   ],
   "source": [
    "df = pl.read_csv(\"/home/grantham/windmark/data/transactions.v1.csv\") # .filter(pl.col(\"User\") < 500)\n",
    "\n",
    "df.columns = [col.lower().replace(\"?\", \"\").replace(\" \", \"_\") for col in df.columns]\n",
    "\n",
    "print(df.head())\n",
    "\n",
    "\n",
    "def mock(dataframe: pl.DataFrame, name: str, generator: Callable = fake.unique.company):\n",
    "    values: list[str] = dataframe.get_column(name).cast(pl.String).unique().to_list()\n",
    "\n",
    "    mapping = {value: generator() for value in values}\n",
    "\n",
    "    return dataframe.select(pl.exclude(name), pl.col(name).replace(mapping).alias(name))\n",
    "\n",
    "\n",
    "df = mock(dataframe=df, name=\"merchant_name\", generator=fake.unique.company)\n",
    "df = mock(dataframe=df, name=\"card\", generator=fake.unique.credit_card_number)\n",
    "df = mock(dataframe=df, name=\"user\", generator=fake.unique.name)\n",
    "\n",
    "output = (\n",
    "    df\n",
    "    # .filter(pl.col(\"user\") < 100)\n",
    "    .select(pl.all(), timeparts=pl.col(\"time\").str.split(\":\"))\n",
    "    .select(\n",
    "        pl.all(),\n",
    "        hour=pl.col(\"timeparts\").list.first(),\n",
    "        minute=pl.col(\"timeparts\").list.last(),\n",
    "    )\n",
    "    .select(\n",
    "        pl.all(),\n",
    "        timestamp=pl.datetime(pl.col(\"year\"), pl.col(\"month\"), pl.col(\"day\"), pl.col(\"hour\"), pl.col(\"minute\")),\n",
    "    )\n",
    "    .select(\n",
    "        \"use_chip\",\n",
    "        \"merchant_state\",\n",
    "        \"merchant_city\",\n",
    "        \"mcc\",\n",
    "        \"card\",\n",
    "        \"timestamp\",\n",
    "        *[\n",
    "            pl.col(\"errors\").fill_null(\"\").str.contains(error).alias(f'has_{error.lower().replace(\" \", \"_\")}')\n",
    "            for error in unique_errors\n",
    "        ],\n",
    "        amount=pl.col(\"amount\").str.strip_prefix(\"$\").str.to_decimal(),\n",
    "        merchant_name=pl.col(\"merchant_name\").cast(pl.Utf8),\n",
    "        is_fraud=pl.col(\"is_fraud\"),\n",
    "        transaction_id=pl.col(\"timestamp\").cast(pl.Utf8),\n",
    "        customer_id=pl.col(\"user\"),\n",
    "    )\n",
    "    .sort(\"timestamp\")\n",
    "    .select(\n",
    "        pl.all(),\n",
    "        order_id=pl.col(\"transaction_id\").cum_count().over(\"customer_id\"),\n",
    "        # timedelta=pl.col(\"timestamp\").sub(pl.col(\"timestamp\").shift()).dt.seconds(),\n",
    "    )\n",
    "    .write_parquet(\"quarter_ledger.parquet\")\n",
    ")"
   ]
  },
  {
   "cell_type": "code",
   "execution_count": 4,
   "metadata": {},
   "outputs": [
    {
     "ename": "AttributeError",
     "evalue": "'NoneType' object has no attribute 'columns'",
     "output_type": "error",
     "traceback": [
      "\u001b[0;31m---------------------------------------------------------------------------\u001b[0m",
      "\u001b[0;31mAttributeError\u001b[0m                            Traceback (most recent call last)",
      "Cell \u001b[0;32mIn[4], line 1\u001b[0m\n\u001b[0;32m----> 1\u001b[0m \u001b[43moutput\u001b[49m\u001b[38;5;241;43m.\u001b[39;49m\u001b[43mcolumns\u001b[49m\n",
      "\u001b[0;31mAttributeError\u001b[0m: 'NoneType' object has no attribute 'columns'"
     ]
    }
   ],
   "source": [
    "output.columns"
   ]
  }
 ],
 "metadata": {
  "kernelspec": {
   "display_name": "muvartis-o4TcNzRh-py3.10",
   "language": "python",
   "name": "python3"
  },
  "language_info": {
   "codemirror_mode": {
    "name": "ipython",
    "version": 3
   },
   "file_extension": ".py",
   "mimetype": "text/x-python",
   "name": "python",
   "nbconvert_exporter": "python",
   "pygments_lexer": "ipython3",
   "version": "3.11.8"
  }
 },
 "nbformat": 4,
 "nbformat_minor": 2
}

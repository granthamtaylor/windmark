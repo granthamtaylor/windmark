{
 "cells": [
  {
   "cell_type": "code",
   "execution_count": 1,
   "metadata": {},
   "outputs": [],
   "source": [
    "import polars as pl\n",
    "\n",
    "%load_ext autoreload\n",
    "%autoreload 2"
   ]
  },
  {
   "cell_type": "markdown",
   "metadata": {},
   "source": []
  },
  {
   "cell_type": "code",
   "execution_count": 2,
   "metadata": {},
   "outputs": [],
   "source": [
    "df = pl.read_csv(\"/home/grantham/windmark/data/transactions.v1.csv\")\n",
    "\n",
    "df.columns = [col.lower().replace(\"?\", \"\").replace(\" \", \"_\") for col in df.columns]"
   ]
  },
  {
   "cell_type": "code",
   "execution_count": 3,
   "metadata": {},
   "outputs": [
    {
     "data": {
      "text/html": [
       "<div><style>\n",
       ".dataframe > thead > tr,\n",
       ".dataframe > tbody > tr {\n",
       "  text-align: right;\n",
       "  white-space: pre-wrap;\n",
       "}\n",
       "</style>\n",
       "<small>shape: (5, 15)</small><table border=\"1\" class=\"dataframe\"><thead><tr><th>user</th><th>card</th><th>year</th><th>month</th><th>day</th><th>time</th><th>amount</th><th>use_chip</th><th>merchant_name</th><th>merchant_city</th><th>merchant_state</th><th>zip</th><th>mcc</th><th>errors</th><th>is_fraud</th></tr><tr><td>i64</td><td>i64</td><td>i64</td><td>i64</td><td>i64</td><td>str</td><td>str</td><td>str</td><td>i64</td><td>str</td><td>str</td><td>f64</td><td>i64</td><td>str</td><td>str</td></tr></thead><tbody><tr><td>0</td><td>0</td><td>2002</td><td>9</td><td>1</td><td>&quot;06:21&quot;</td><td>&quot;$134.09&quot;</td><td>&quot;Swipe Transact…</td><td>3527213246127876953</td><td>&quot;La Verne&quot;</td><td>&quot;CA&quot;</td><td>91750.0</td><td>5300</td><td>null</td><td>&quot;No&quot;</td></tr><tr><td>0</td><td>0</td><td>2002</td><td>9</td><td>1</td><td>&quot;06:42&quot;</td><td>&quot;$38.48&quot;</td><td>&quot;Swipe Transact…</td><td>-727612092139916043</td><td>&quot;Monterey Park&quot;</td><td>&quot;CA&quot;</td><td>91754.0</td><td>5411</td><td>null</td><td>&quot;No&quot;</td></tr><tr><td>0</td><td>0</td><td>2002</td><td>9</td><td>2</td><td>&quot;06:22&quot;</td><td>&quot;$120.34&quot;</td><td>&quot;Swipe Transact…</td><td>-727612092139916043</td><td>&quot;Monterey Park&quot;</td><td>&quot;CA&quot;</td><td>91754.0</td><td>5411</td><td>null</td><td>&quot;No&quot;</td></tr><tr><td>0</td><td>0</td><td>2002</td><td>9</td><td>2</td><td>&quot;17:45&quot;</td><td>&quot;$128.95&quot;</td><td>&quot;Swipe Transact…</td><td>3414527459579106770</td><td>&quot;Monterey Park&quot;</td><td>&quot;CA&quot;</td><td>91754.0</td><td>5651</td><td>null</td><td>&quot;No&quot;</td></tr><tr><td>0</td><td>0</td><td>2002</td><td>9</td><td>3</td><td>&quot;06:23&quot;</td><td>&quot;$104.71&quot;</td><td>&quot;Swipe Transact…</td><td>5817218446178736267</td><td>&quot;La Verne&quot;</td><td>&quot;CA&quot;</td><td>91750.0</td><td>5912</td><td>null</td><td>&quot;No&quot;</td></tr></tbody></table></div>"
      ],
      "text/plain": [
       "shape: (5, 15)\n",
       "┌──────┬──────┬──────┬───────┬───┬─────────┬──────┬────────┬──────────┐\n",
       "│ user ┆ card ┆ year ┆ month ┆ … ┆ zip     ┆ mcc  ┆ errors ┆ is_fraud │\n",
       "│ ---  ┆ ---  ┆ ---  ┆ ---   ┆   ┆ ---     ┆ ---  ┆ ---    ┆ ---      │\n",
       "│ i64  ┆ i64  ┆ i64  ┆ i64   ┆   ┆ f64     ┆ i64  ┆ str    ┆ str      │\n",
       "╞══════╪══════╪══════╪═══════╪═══╪═════════╪══════╪════════╪══════════╡\n",
       "│ 0    ┆ 0    ┆ 2002 ┆ 9     ┆ … ┆ 91750.0 ┆ 5300 ┆ null   ┆ No       │\n",
       "│ 0    ┆ 0    ┆ 2002 ┆ 9     ┆ … ┆ 91754.0 ┆ 5411 ┆ null   ┆ No       │\n",
       "│ 0    ┆ 0    ┆ 2002 ┆ 9     ┆ … ┆ 91754.0 ┆ 5411 ┆ null   ┆ No       │\n",
       "│ 0    ┆ 0    ┆ 2002 ┆ 9     ┆ … ┆ 91754.0 ┆ 5651 ┆ null   ┆ No       │\n",
       "│ 0    ┆ 0    ┆ 2002 ┆ 9     ┆ … ┆ 91750.0 ┆ 5912 ┆ null   ┆ No       │\n",
       "└──────┴──────┴──────┴───────┴───┴─────────┴──────┴────────┴──────────┘"
      ]
     },
     "execution_count": 3,
     "metadata": {},
     "output_type": "execute_result"
    }
   ],
   "source": [
    "df.head()"
   ]
  },
  {
   "cell_type": "code",
   "execution_count": 4,
   "metadata": {},
   "outputs": [
    {
     "name": "stderr",
     "output_type": "stream",
     "text": [
      "/tmp/ipykernel_3910666/3542586215.py:30: DeprecationWarning: `seconds` is deprecated. It has been renamed to `total_seconds`.\n",
      "  timedelta=pl.col(\"timestamp\").sub(pl.col(\"timestamp\").shift()).dt.seconds(),\n"
     ]
    }
   ],
   "source": [
    "(\n",
    "    df.filter(pl.col(\"user\") < 100)\n",
    "    .select(pl.all(), timeparts=pl.col(\"time\").str.split(\":\"))\n",
    "    .select(\n",
    "        pl.all(),\n",
    "        hour=pl.col(\"timeparts\").list.first(),\n",
    "        minute=pl.col(\"timeparts\").list.last(),\n",
    "    )\n",
    "    .select(\n",
    "        pl.all(),\n",
    "        timestamp=pl.datetime(pl.col(\"year\"), pl.col(\"month\"), pl.col(\"day\"), pl.col(\"hour\"), pl.col(\"minute\")),\n",
    "    )\n",
    "    .select(\n",
    "        \"use_chip\",\n",
    "        \"merchant_state\",\n",
    "        \"merchant_city\",\n",
    "        \"mcc\",\n",
    "        \"timestamp\",\n",
    "        amount=pl.col(\"amount\").str.strip_prefix(\"$\").str.to_decimal(),\n",
    "        merchant_name=pl.col(\"merchant_name\").cast(pl.Utf8),\n",
    "        target=pl.col(\"is_fraud\"),\n",
    "        event_id=pl.col(\"timestamp\").cast(pl.Utf8),\n",
    "        sequence_id=pl.col(\"user\"),\n",
    "    )\n",
    "    .sort(\"timestamp\")\n",
    "    .select(\n",
    "        pl.all(),\n",
    "        event_order=pl.col(\"event_id\").cum_count().over(\"sequence_id\"),\n",
    "        timedelta=pl.col(\"timestamp\").sub(pl.col(\"timestamp\").shift()).dt.seconds(),\n",
    "    )\n",
    "    .write_parquet(\"mini_ledger.parquet\")\n",
    ")"
   ]
  },
  {
   "cell_type": "code",
   "execution_count": 5,
   "metadata": {},
   "outputs": [],
   "source": [
    "dicts = [{\"a\": 1}, {\"b\": 2}, {\"c\": 3}, {}, {}]"
   ]
  },
  {
   "cell_type": "code",
   "execution_count": 6,
   "metadata": {},
   "outputs": [
    {
     "data": {
      "text/plain": [
       "[{'a': 1}, {'b': 2}, {'c': 3}, {}, {}]"
      ]
     },
     "execution_count": 6,
     "metadata": {},
     "output_type": "execute_result"
    }
   ],
   "source": [
    "dicts"
   ]
  },
  {
   "cell_type": "code",
   "execution_count": null,
   "metadata": {},
   "outputs": [],
   "source": []
  },
  {
   "cell_type": "code",
   "execution_count": null,
   "metadata": {},
   "outputs": [],
   "source": []
  },
  {
   "cell_type": "code",
   "execution_count": null,
   "metadata": {},
   "outputs": [],
   "source": []
  }
 ],
 "metadata": {
  "kernelspec": {
   "display_name": "muvartis-o4TcNzRh-py3.10",
   "language": "python",
   "name": "python3"
  },
  "language_info": {
   "codemirror_mode": {
    "name": "ipython",
    "version": 3
   },
   "file_extension": ".py",
   "mimetype": "text/x-python",
   "name": "python",
   "nbconvert_exporter": "python",
   "pygments_lexer": "ipython3",
   "version": "3.11.8"
  }
 },
 "nbformat": 4,
 "nbformat_minor": 2
}

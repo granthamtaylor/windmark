{
 "cells": [
  {
   "cell_type": "code",
   "execution_count": 1,
   "metadata": {},
   "outputs": [],
   "source": [
    "import polars as pl\n",
    "\n",
    "%load_ext autoreload\n",
    "%autoreload 2"
   ]
  },
  {
   "cell_type": "markdown",
   "metadata": {},
   "source": []
  },
  {
   "cell_type": "code",
   "execution_count": 2,
   "metadata": {},
   "outputs": [],
   "source": [
    "df = pl.read_csv(\"/home/grantham/Desktop/windmark/data/transactions.v1.csv\")\n",
    "\n",
    "df.columns = [col.lower().replace(\"?\", \"\").replace(\" \", \"_\") for col in df.columns]"
   ]
  },
  {
   "cell_type": "code",
   "execution_count": 3,
   "metadata": {},
   "outputs": [
    {
     "data": {
      "text/plain": [
       "['user',\n",
       " 'card',\n",
       " 'year',\n",
       " 'month',\n",
       " 'day',\n",
       " 'time',\n",
       " 'amount',\n",
       " 'use_chip',\n",
       " 'merchant_name',\n",
       " 'merchant_city',\n",
       " 'merchant_state',\n",
       " 'zip',\n",
       " 'mcc',\n",
       " 'errors',\n",
       " 'is_fraud']"
      ]
     },
     "execution_count": 3,
     "metadata": {},
     "output_type": "execute_result"
    }
   ],
   "source": [
    "df.columns"
   ]
  },
  {
   "cell_type": "code",
   "execution_count": 4,
   "metadata": {},
   "outputs": [
    {
     "name": "stderr",
     "output_type": "stream",
     "text": [
      "/tmp/ipykernel_21467/2803677089.py:30: DeprecationWarning: `seconds` is deprecated. It has been renamed to `total_seconds`.\n",
      "  timedelta=pl.col(\"timestamp\").sub(pl.col(\"timestamp\").shift()).dt.seconds(),\n"
     ]
    }
   ],
   "source": [
    "\n",
    "(\n",
    "    df\n",
    "    .filter(pl.col('user') < 100)\n",
    "    .select(pl.all(), timeparts=pl.col(\"time\").str.split(\":\"))\n",
    "    .select(\n",
    "        pl.all(),\n",
    "        hour=pl.col(\"timeparts\").list.first(),\n",
    "        minute=pl.col(\"timeparts\").list.last(),\n",
    "    )\n",
    "    .select(\n",
    "        pl.all(),\n",
    "        timestamp=pl.datetime(pl.col(\"year\"), pl.col(\"month\"), pl.col(\"day\"), pl.col(\"hour\"), pl.col(\"minute\")),\n",
    "    )\n",
    "    .select(\n",
    "        \"use_chip\",\n",
    "        \"merchant_state\",\n",
    "        \"merchant_city\",\n",
    "        \"mcc\",\n",
    "        \"timestamp\",\n",
    "        amount=pl.col(\"amount\").str.strip_prefix(\"$\").str.to_decimal(),\n",
    "        merchant_name=pl.col(\"merchant_name\").cast(pl.Utf8),\n",
    "        target=pl.col(\"is_fraud\"),\n",
    "        event_id=pl.col(\"timestamp\").cast(pl.Utf8),\n",
    "        sequence_id=pl.col(\"user\"),\n",
    "    )\n",
    "    .sort(\"timestamp\")\n",
    "    .select(\n",
    "        pl.all(),\n",
    "        event_order=pl.col(\"event_id\").cum_count().over(\"sequence_id\"),\n",
    "        timedelta=pl.col(\"timestamp\").sub(pl.col(\"timestamp\").shift()).dt.seconds(),\n",
    "    )\n",
    "    .write_parquet(\"ledger.parquet\")\n",
    ")"
   ]
  },
  {
   "cell_type": "code",
   "execution_count": 5,
   "metadata": {},
   "outputs": [],
   "source": [
    "dicts = [{\"a\": 1}, {\"b\": 2}, {\"c\": 3}, {}, {}]"
   ]
  },
  {
   "cell_type": "code",
   "execution_count": 6,
   "metadata": {},
   "outputs": [
    {
     "data": {
      "text/plain": [
       "[{'a': 1}, {'b': 2}, {'c': 3}, {}, {}]"
      ]
     },
     "execution_count": 6,
     "metadata": {},
     "output_type": "execute_result"
    }
   ],
   "source": [
    "dicts"
   ]
  },
  {
   "cell_type": "code",
   "execution_count": null,
   "metadata": {},
   "outputs": [],
   "source": []
  },
  {
   "cell_type": "code",
   "execution_count": null,
   "metadata": {},
   "outputs": [],
   "source": []
  },
  {
   "cell_type": "code",
   "execution_count": null,
   "metadata": {},
   "outputs": [],
   "source": []
  }
 ],
 "metadata": {
  "kernelspec": {
   "display_name": "muvartis-o4TcNzRh-py3.10",
   "language": "python",
   "name": "python3"
  },
  "language_info": {
   "codemirror_mode": {
    "name": "ipython",
    "version": 3
   },
   "file_extension": ".py",
   "mimetype": "text/x-python",
   "name": "python",
   "nbconvert_exporter": "python",
   "pygments_lexer": "ipython3",
   "version": "3.11.8"
  }
 },
 "nbformat": 4,
 "nbformat_minor": 2
}

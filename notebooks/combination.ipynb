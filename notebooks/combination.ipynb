{
 "cells": [
  {
   "cell_type": "code",
   "execution_count": 32,
   "metadata": {},
   "outputs": [
    {
     "name": "stdout",
     "output_type": "stream",
     "text": [
      "8190\n"
     ]
    }
   ],
   "source": [
    "from math import comb, factorial\n",
    "\n",
    "def ablate(n_fields: int, n_max_ablated_fields: int) -> int:\n",
    "    \n",
    "    assert isinstance(n_fields, int)\n",
    "    assert isinstance(n_max_ablated_fields, int)\n",
    "    assert 0 < n_max_ablated_fields < n_fields\n",
    "\n",
    "    total = 0\n",
    "    for k in range(n_max_ablated_fields + 1):\n",
    "        total += comb(n_fields, k)\n",
    "    \n",
    "    # remove case in which no fields are ablated\n",
    "    total -= 1\n",
    "    \n",
    "    return total\n",
    "\n",
    "# Example usage: Calculate the number of ways to select up to 4 items from 10\n",
    "n_fields = 13\n",
    "n_max_ablated_fields = 12\n",
    "print(ablate(n_fields, n_max_ablated_fields))\n"
   ]
  },
  {
   "cell_type": "code",
   "execution_count": 38,
   "metadata": {},
   "outputs": [],
   "source": [
    "def ablate(n_fields: int) -> int:\n",
    "    \n",
    "    total = 0\n",
    "\n",
    "    for n_refit in range(n_fields + 1):\n",
    "        total += n_refit\n",
    "        \n",
    "    return total"
   ]
  },
  {
   "cell_type": "code",
   "execution_count": 39,
   "metadata": {},
   "outputs": [
    {
     "data": {
      "text/plain": [
       "91"
      ]
     },
     "execution_count": 39,
     "metadata": {},
     "output_type": "execute_result"
    }
   ],
   "source": [
    "ablate(13)"
   ]
  },
  {
   "cell_type": "code",
   "execution_count": 37,
   "metadata": {},
   "outputs": [
    {
     "data": {
      "text/plain": [
       "78.0"
      ]
     },
     "execution_count": 37,
     "metadata": {},
     "output_type": "execute_result"
    }
   ],
   "source": [
    "(12 * (12 + 1)) / 2"
   ]
  },
  {
   "cell_type": "code",
   "execution_count": null,
   "metadata": {},
   "outputs": [],
   "source": []
  }
 ],
 "metadata": {
  "kernelspec": {
   "display_name": "windmark-gThMBSDt-py3.11",
   "language": "python",
   "name": "python3"
  },
  "language_info": {
   "codemirror_mode": {
    "name": "ipython",
    "version": 3
   },
   "file_extension": ".py",
   "mimetype": "text/x-python",
   "name": "python",
   "nbconvert_exporter": "python",
   "pygments_lexer": "ipython3",
   "version": "3.11.8"
  }
 },
 "nbformat": 4,
 "nbformat_minor": 2
}

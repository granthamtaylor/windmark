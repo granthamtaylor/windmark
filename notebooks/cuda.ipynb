{
 "cells": [
  {
   "cell_type": "code",
   "execution_count": 22,
   "metadata": {},
   "outputs": [],
   "source": [
    "from collections import namedtuple\n",
    "from enum import Enum\n",
    "\n",
    "class Field(namedtuple('Field', ['name', 'static']), Enum):\n",
    "\n",
    "    NUMBERS = ('NUMBERS', False)\n",
    "    NUMBER = ('NUMBER', True)\n",
    "    CATEGORIES = ('CATEGORIES', False)\n",
    "    CATEGORY = ('CATEGORY', True)\n",
    "    ENTITIES = ('ENTITIES', False)\n",
    "    TIMESTAMPS = ('TIMESTAMPS', False)\n",
    "    TIMESTAMP = ('TIMESTAMP', False)\n",
    "\n",
    "    def __str__(self) -> str:\n",
    "        return self.name\n"
   ]
  },
  {
   "cell_type": "code",
   "execution_count": 24,
   "metadata": {},
   "outputs": [
    {
     "data": {
      "text/plain": [
       "'NUMBERS'"
      ]
     },
     "execution_count": 24,
     "metadata": {},
     "output_type": "execute_result"
    }
   ],
   "source": [
    "str(Field.NUMBERS)"
   ]
  },
  {
   "cell_type": "code",
   "execution_count": null,
   "metadata": {},
   "outputs": [],
   "source": []
  },
  {
   "cell_type": "code",
   "execution_count": null,
   "metadata": {},
   "outputs": [],
   "source": []
  }
 ],
 "metadata": {
  "kernelspec": {
   "display_name": "windmark-gThMBSDt-py3.11",
   "language": "python",
   "name": "python3"
  },
  "language_info": {
   "codemirror_mode": {
    "name": "ipython",
    "version": 3
   },
   "file_extension": ".py",
   "mimetype": "text/x-python",
   "name": "python",
   "nbconvert_exporter": "python",
   "pygments_lexer": "ipython3",
   "version": "3.11.8"
  }
 },
 "nbformat": 4,
 "nbformat_minor": 2
}

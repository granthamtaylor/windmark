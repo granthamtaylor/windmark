{
 "cells": [
  {
   "cell_type": "code",
   "execution_count": 19,
   "metadata": {},
   "outputs": [],
   "source": [
    "import random\n",
    "\n",
    "import polars as pl"
   ]
  },
  {
   "cell_type": "code",
   "execution_count": 70,
   "metadata": {},
   "outputs": [],
   "source": [
    "numbers = random.sample(range(0, 1000000), 100000)\n",
    "groups = random.sample(range(0, 1000000), 100000)\n",
    "\n",
    "df = (\n",
    "    pl.DataFrame([\n",
    "        pl.Series(name=\"numbers\", values=numbers),\n",
    "        pl.Series(name=\"groups\", values=groups),\n",
    "    ])\n",
    "    .select(\n",
    "        pl.col('numbers').mod(2) == 0,\n",
    "        pl.col('groups').mod(3123)\n",
    "    )\n",
    "    .group_by('groups')\n",
    "    .agg('numbers')\n",
    ")"
   ]
  },
  {
   "cell_type": "code",
   "execution_count": 71,
   "metadata": {},
   "outputs": [
    {
     "data": {
      "text/html": [
       "<div><style>\n",
       ".dataframe > thead > tr,\n",
       ".dataframe > tbody > tr {\n",
       "  text-align: right;\n",
       "  white-space: pre-wrap;\n",
       "}\n",
       "</style>\n",
       "<small>shape: (3_123, 2)</small><table border=\"1\" class=\"dataframe\"><thead><tr><th>groups</th><th>numbers</th></tr><tr><td>i64</td><td>list[bool]</td></tr></thead><tbody><tr><td>1057</td><td>[true, false, … true]</td></tr><tr><td>923</td><td>[false, true, … true]</td></tr><tr><td>1846</td><td>[true, true, … false]</td></tr><tr><td>2367</td><td>[true, false, … false]</td></tr><tr><td>2891</td><td>[true, true, … false]</td></tr><tr><td>&hellip;</td><td>&hellip;</td></tr><tr><td>2620</td><td>[true, true, … false]</td></tr><tr><td>649</td><td>[true, false, … false]</td></tr><tr><td>652</td><td>[false, false, … true]</td></tr><tr><td>1572</td><td>[false, true, … false]</td></tr><tr><td>786</td><td>[true, true, … true]</td></tr></tbody></table></div>"
      ],
      "text/plain": [
       "shape: (3_123, 2)\n",
       "┌────────┬────────────────────────┐\n",
       "│ groups ┆ numbers                │\n",
       "│ ---    ┆ ---                    │\n",
       "│ i64    ┆ list[bool]             │\n",
       "╞════════╪════════════════════════╡\n",
       "│ 1057   ┆ [true, false, … true]  │\n",
       "│ 923    ┆ [false, true, … true]  │\n",
       "│ 1846   ┆ [true, true, … false]  │\n",
       "│ 2367   ┆ [true, false, … false] │\n",
       "│ 2891   ┆ [true, true, … false]  │\n",
       "│ …      ┆ …                      │\n",
       "│ 2620   ┆ [true, true, … false]  │\n",
       "│ 649    ┆ [true, false, … false] │\n",
       "│ 652    ┆ [false, false, … true] │\n",
       "│ 1572   ┆ [false, true, … false] │\n",
       "│ 786    ┆ [true, true, … true]   │\n",
       "└────────┴────────────────────────┘"
      ]
     },
     "execution_count": 71,
     "metadata": {},
     "output_type": "execute_result"
    }
   ],
   "source": [
    "df"
   ]
  },
  {
   "cell_type": "code",
   "execution_count": 72,
   "metadata": {},
   "outputs": [],
   "source": [
    "df.write_avro('../data/df.avro')"
   ]
  },
  {
   "cell_type": "code",
   "execution_count": 73,
   "metadata": {},
   "outputs": [
    {
     "data": {
      "text/html": [
       "<div><style>\n",
       ".dataframe > thead > tr,\n",
       ".dataframe > tbody > tr {\n",
       "  text-align: right;\n",
       "  white-space: pre-wrap;\n",
       "}\n",
       "</style>\n",
       "<small>shape: (3_123, 2)</small><table border=\"1\" class=\"dataframe\"><thead><tr><th>groups</th><th>numbers</th></tr><tr><td>i64</td><td>list[bool]</td></tr></thead><tbody><tr><td>1057</td><td>[true, false, … true]</td></tr><tr><td>923</td><td>[false, true, … true]</td></tr><tr><td>1846</td><td>[true, true, … false]</td></tr><tr><td>2367</td><td>[true, false, … false]</td></tr><tr><td>2891</td><td>[true, true, … false]</td></tr><tr><td>&hellip;</td><td>&hellip;</td></tr><tr><td>2620</td><td>[true, true, … false]</td></tr><tr><td>649</td><td>[true, false, … false]</td></tr><tr><td>652</td><td>[false, false, … true]</td></tr><tr><td>1572</td><td>[false, true, … false]</td></tr><tr><td>786</td><td>[true, true, … true]</td></tr></tbody></table></div>"
      ],
      "text/plain": [
       "shape: (3_123, 2)\n",
       "┌────────┬────────────────────────┐\n",
       "│ groups ┆ numbers                │\n",
       "│ ---    ┆ ---                    │\n",
       "│ i64    ┆ list[bool]             │\n",
       "╞════════╪════════════════════════╡\n",
       "│ 1057   ┆ [true, false, … true]  │\n",
       "│ 923    ┆ [false, true, … true]  │\n",
       "│ 1846   ┆ [true, true, … false]  │\n",
       "│ 2367   ┆ [true, false, … false] │\n",
       "│ 2891   ┆ [true, true, … false]  │\n",
       "│ …      ┆ …                      │\n",
       "│ 2620   ┆ [true, true, … false]  │\n",
       "│ 649    ┆ [true, false, … false] │\n",
       "│ 652    ┆ [false, false, … true] │\n",
       "│ 1572   ┆ [false, true, … false] │\n",
       "│ 786    ┆ [true, true, … true]   │\n",
       "└────────┴────────────────────────┘"
      ]
     },
     "execution_count": 73,
     "metadata": {},
     "output_type": "execute_result"
    }
   ],
   "source": [
    "pl.read_avro('../data/df.avro')"
   ]
  },
  {
   "cell_type": "code",
   "execution_count": 1,
   "metadata": {},
   "outputs": [
    {
     "data": {
      "text/plain": [
       "0.001"
      ]
     },
     "execution_count": 1,
     "metadata": {},
     "output_type": "execute_result"
    }
   ],
   "source": [
    "0.1e-2"
   ]
  },
  {
   "cell_type": "code",
   "execution_count": null,
   "metadata": {},
   "outputs": [],
   "source": []
  }
 ],
 "metadata": {
  "kernelspec": {
   "display_name": "windmark-gThMBSDt-py3.11",
   "language": "python",
   "name": "python3"
  },
  "language_info": {
   "codemirror_mode": {
    "name": "ipython",
    "version": 3
   },
   "file_extension": ".py",
   "mimetype": "text/x-python",
   "name": "python",
   "nbconvert_exporter": "python",
   "pygments_lexer": "ipython3",
   "version": "3.11.8"
  }
 },
 "nbformat": 4,
 "nbformat_minor": 2
}

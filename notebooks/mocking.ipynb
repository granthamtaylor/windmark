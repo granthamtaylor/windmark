{
 "cells": [
  {
   "cell_type": "code",
   "execution_count": 4,
   "metadata": {},
   "outputs": [],
   "source": [
    "import polars as pl"
   ]
  },
  {
   "cell_type": "code",
   "execution_count": 10,
   "metadata": {},
   "outputs": [],
   "source": [
    "df = pl.read_parquet(\"../data/ledger.parquet\")"
   ]
  },
  {
   "cell_type": "code",
   "execution_count": 11,
   "metadata": {},
   "outputs": [],
   "source": [
    "(\n",
    "    df\n",
    "    .select(\n",
    "        pl.exclude('mcc'),\n",
    "        mcc=pl.col('mcc').shuffle(),\n",
    "    )\n",
    "    .write_parquet(\"../data/shuffled-mcc-ledger.parquet\")\n",
    ")"
   ]
  },
  {
   "cell_type": "code",
   "execution_count": 1,
   "metadata": {},
   "outputs": [],
   "source": [
    "from flytekit import task, workflow\n",
    "from dataclasses import dataclass, field\n",
    "from mashumaro.mixins.json import DataClassJSONMixin\n",
    "import json\n",
    "\n",
    "@dataclass\n",
    "class Foo(DataClassJSONMixin):\n",
    "    x: float\n",
    "    is_int: bool = field(init=False)\n",
    "    def __post_init__(self):\n",
    "        if not hasattr(self, \"is_int\"):\n",
    "            self.is_int = isinstance(self.x, int)\n",
    "    @classmethod\n",
    "    def from_json(cls, input: str) -> \"Foo\":\n",
    "        input = json.loads(input)\n",
    "        print(\"from_json was called\", flush=True)\n",
    "        new_instance = cls(input[\"x\"])\n",
    "        # Persist metadata about integers if already present\n",
    "        if \"is_int\" in input:\n",
    "            new_instance.is_int = input[\"is_int\"]\n",
    "        return new_instance\n",
    "    @property\n",
    "    def typed_x(self) -> float | int:\n",
    "        if self.is_int:\n",
    "            return int(self.x)\n",
    "        else:\n",
    "            return float(self.x)"
   ]
  },
  {
   "cell_type": "code",
   "execution_count": 4,
   "metadata": {},
   "outputs": [
    {
     "name": "stdout",
     "output_type": "stream",
     "text": [
      "from_json was called\n"
     ]
    },
    {
     "data": {
      "text/plain": [
       "Foo(x=32, is_int=True)"
      ]
     },
     "execution_count": 4,
     "metadata": {},
     "output_type": "execute_result"
    }
   ],
   "source": [
    "Foo.from_json('{\"x\": 32}')"
   ]
  },
  {
   "cell_type": "code",
   "execution_count": 6,
   "metadata": {},
   "outputs": [
    {
     "name": "stdout",
     "output_type": "stream",
     "text": [
      "2024-04-17 14:06\n"
     ]
    }
   ],
   "source": [
    "from datetime import datetime\n",
    "\n",
    "now = datetime.now() # current date and time\n",
    "\n",
    "print(now.strftime(\"%Y-%m-%d %H:%M\"))\t"
   ]
  },
  {
   "cell_type": "code",
   "execution_count": null,
   "metadata": {},
   "outputs": [],
   "source": []
  }
 ],
 "metadata": {
  "kernelspec": {
   "display_name": "windmark-gThMBSDt-py3.11",
   "language": "python",
   "name": "python3"
  },
  "language_info": {
   "codemirror_mode": {
    "name": "ipython",
    "version": 3
   },
   "file_extension": ".py",
   "mimetype": "text/x-python",
   "name": "python",
   "nbconvert_exporter": "python",
   "pygments_lexer": "ipython3",
   "version": "3.11.8"
  }
 },
 "nbformat": 4,
 "nbformat_minor": 2
}

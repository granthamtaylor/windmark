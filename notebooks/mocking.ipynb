{
 "cells": [
  {
   "cell_type": "code",
   "execution_count": 4,
   "metadata": {},
   "outputs": [],
   "source": [
    "import polars as pl"
   ]
  },
  {
   "cell_type": "code",
   "execution_count": 10,
   "metadata": {},
   "outputs": [],
   "source": [
    "df = pl.read_parquet(\"../data/ledger.parquet\")"
   ]
  },
  {
   "cell_type": "code",
   "execution_count": 11,
   "metadata": {},
   "outputs": [],
   "source": [
    "(\n",
    "    df\n",
    "    .select(\n",
    "        pl.exclude('mcc'),\n",
    "        mcc=pl.col('mcc').shuffle(),\n",
    "    )\n",
    "    .write_parquet(\"../data/shuffled-mcc-ledger.parquet\")\n",
    ")"
   ]
  },
  {
   "cell_type": "code",
   "execution_count": 22,
   "metadata": {},
   "outputs": [
    {
     "name": "stdout",
     "output_type": "stream",
     "text": [
      "MyOutput(3.1232: float)\n",
      "MyOutput(33: int)\n"
     ]
    }
   ],
   "source": [
    "from dataclasses import dataclass\n",
    "from mashumaro.mixins.json import DataClassJSONMixin\n",
    "\n",
    "@dataclass\n",
    "class MyOutput(DataClassJSONMixin):\n",
    "    \n",
    "    _value: float\n",
    "    _is_int: bool\n",
    "    \n",
    "    @classmethod\n",
    "    def from_value(cls, value: float|int) -> \"MyOutput\":\n",
    "        \n",
    "        assert isinstance(value, (float, int)), \\\n",
    "            f\"value must be of type int or float, not {type(value)}\"\n",
    "        \n",
    "        if isinstance(value, int):\n",
    "            return cls(_is_int =True, _value=float(value))\n",
    "        else:\n",
    "            return cls(_is_int =False, _value=value)\n",
    "    \n",
    "    @property\n",
    "    def value(self) -> float|int:\n",
    "        \n",
    "        if self._is_int:\n",
    "            return int(self._value)\n",
    "        else:\n",
    "            return float(self._value)\n",
    "        \n",
    "    def __repr__(self):\n",
    "        \n",
    "        _type = \"int\" if self._is_int else \"float\"\n",
    "        return f\"{self.__class__.__name__}({self.value}: {_type})\"\n",
    "\n",
    "\n",
    "my_output_instance = MyOutput.from_value(3.1232)\n",
    "serialized = my_output_instance.to_json()\n",
    "deserialized = MyOutput.from_json(serialized)\n",
    "\n",
    "print(deserialized) # MyOutput(3.1232: float)\n",
    "\n",
    "my_output_instance = MyOutput.from_value(33)\n",
    "serialized = my_output_instance.to_json()\n",
    "deserialized = MyOutput.from_json(serialized)\n",
    "\n",
    "print(deserialized) # MyOutput(33: int)"
   ]
  },
  {
   "cell_type": "code",
   "execution_count": 27,
   "metadata": {},
   "outputs": [
    {
     "name": "stdout",
     "output_type": "stream",
     "text": [
      "MyOutput(32: int)\n"
     ]
    }
   ],
   "source": [
    "from flytekit import workflow, task\n",
    "\n",
    "@task\n",
    "def a() -> MyOutput:\n",
    "    return MyOutput.from_value(32)\n",
    "\n",
    "@task\n",
    "def b(arg: MyOutput):\n",
    "    print(arg)\n",
    "\n",
    "\n",
    "@workflow\n",
    "def test():\n",
    "    result = a()\n",
    "    b(arg=result)\n",
    "    \n",
    "test()"
   ]
  },
  {
   "cell_type": "code",
   "execution_count": 10,
   "metadata": {},
   "outputs": [],
   "source": []
  },
  {
   "cell_type": "code",
   "execution_count": 11,
   "metadata": {},
   "outputs": [
    {
     "data": {
      "text/plain": [
       "MyOutput(my_integer_value=1, my_float_value=1.3)"
      ]
     },
     "execution_count": 11,
     "metadata": {},
     "output_type": "execute_result"
    }
   ],
   "source": [
    "deserialized"
   ]
  },
  {
   "cell_type": "code",
   "execution_count": null,
   "metadata": {},
   "outputs": [],
   "source": []
  },
  {
   "cell_type": "code",
   "execution_count": null,
   "metadata": {},
   "outputs": [],
   "source": []
  }
 ],
 "metadata": {
  "kernelspec": {
   "display_name": "windmark-gThMBSDt-py3.11",
   "language": "python",
   "name": "python3"
  },
  "language_info": {
   "codemirror_mode": {
    "name": "ipython",
    "version": 3
   },
   "file_extension": ".py",
   "mimetype": "text/x-python",
   "name": "python",
   "nbconvert_exporter": "python",
   "pygments_lexer": "ipython3",
   "version": "3.11.8"
  }
 },
 "nbformat": 4,
 "nbformat_minor": 2
}

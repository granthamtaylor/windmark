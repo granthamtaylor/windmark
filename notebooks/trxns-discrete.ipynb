{
 "cells": [
  {
   "cell_type": "code",
   "execution_count": 1,
   "metadata": {},
   "outputs": [],
   "source": [
    "from typing import Callable\n",
    "\n",
    "import polars as pl\n",
    "import polars.selectors as cs\n",
    "from faker import Faker\n",
    "\n",
    "fake = Faker()\n",
    "\n",
    "%load_ext autoreload\n",
    "%autoreload 2"
   ]
  },
  {
   "cell_type": "code",
   "execution_count": 2,
   "metadata": {},
   "outputs": [],
   "source": [
    "datapath = \"/home/grantham/windmark/data/ledgers/trxns.csv\"\n",
    "\n",
    "df = pl.read_csv(datapath).filter(pl.col(\"User\") < 500)"
   ]
  },
  {
   "cell_type": "code",
   "execution_count": 3,
   "metadata": {},
   "outputs": [
    {
     "data": {
      "text/html": [
       "<div><style>\n",
       ".dataframe > thead > tr,\n",
       ".dataframe > tbody > tr {\n",
       "  text-align: right;\n",
       "  white-space: pre-wrap;\n",
       "}\n",
       "</style>\n",
       "<small>shape: (5, 15)</small><table border=\"1\" class=\"dataframe\"><thead><tr><th>User</th><th>Card</th><th>Year</th><th>Month</th><th>Day</th><th>Time</th><th>Amount</th><th>Use Chip</th><th>Merchant Name</th><th>Merchant City</th><th>Merchant State</th><th>Zip</th><th>MCC</th><th>Errors?</th><th>Is Fraud?</th></tr><tr><td>i64</td><td>i64</td><td>i64</td><td>i64</td><td>i64</td><td>str</td><td>str</td><td>str</td><td>i64</td><td>str</td><td>str</td><td>f64</td><td>i64</td><td>str</td><td>str</td></tr></thead><tbody><tr><td>0</td><td>0</td><td>2002</td><td>9</td><td>1</td><td>&quot;06:21&quot;</td><td>&quot;$134.09&quot;</td><td>&quot;Swipe Transaction&quot;</td><td>3527213246127876953</td><td>&quot;La Verne&quot;</td><td>&quot;CA&quot;</td><td>91750.0</td><td>5300</td><td>null</td><td>&quot;No&quot;</td></tr><tr><td>0</td><td>0</td><td>2002</td><td>9</td><td>1</td><td>&quot;06:42&quot;</td><td>&quot;$38.48&quot;</td><td>&quot;Swipe Transaction&quot;</td><td>-727612092139916043</td><td>&quot;Monterey Park&quot;</td><td>&quot;CA&quot;</td><td>91754.0</td><td>5411</td><td>null</td><td>&quot;No&quot;</td></tr><tr><td>0</td><td>0</td><td>2002</td><td>9</td><td>2</td><td>&quot;06:22&quot;</td><td>&quot;$120.34&quot;</td><td>&quot;Swipe Transaction&quot;</td><td>-727612092139916043</td><td>&quot;Monterey Park&quot;</td><td>&quot;CA&quot;</td><td>91754.0</td><td>5411</td><td>null</td><td>&quot;No&quot;</td></tr><tr><td>0</td><td>0</td><td>2002</td><td>9</td><td>2</td><td>&quot;17:45&quot;</td><td>&quot;$128.95&quot;</td><td>&quot;Swipe Transaction&quot;</td><td>3414527459579106770</td><td>&quot;Monterey Park&quot;</td><td>&quot;CA&quot;</td><td>91754.0</td><td>5651</td><td>null</td><td>&quot;No&quot;</td></tr><tr><td>0</td><td>0</td><td>2002</td><td>9</td><td>3</td><td>&quot;06:23&quot;</td><td>&quot;$104.71&quot;</td><td>&quot;Swipe Transaction&quot;</td><td>5817218446178736267</td><td>&quot;La Verne&quot;</td><td>&quot;CA&quot;</td><td>91750.0</td><td>5912</td><td>null</td><td>&quot;No&quot;</td></tr></tbody></table></div>"
      ],
      "text/plain": [
       "shape: (5, 15)\n",
       "┌──────┬──────┬──────┬───────┬───┬─────────┬──────┬─────────┬───────────┐\n",
       "│ User ┆ Card ┆ Year ┆ Month ┆ … ┆ Zip     ┆ MCC  ┆ Errors? ┆ Is Fraud? │\n",
       "│ ---  ┆ ---  ┆ ---  ┆ ---   ┆   ┆ ---     ┆ ---  ┆ ---     ┆ ---       │\n",
       "│ i64  ┆ i64  ┆ i64  ┆ i64   ┆   ┆ f64     ┆ i64  ┆ str     ┆ str       │\n",
       "╞══════╪══════╪══════╪═══════╪═══╪═════════╪══════╪═════════╪═══════════╡\n",
       "│ 0    ┆ 0    ┆ 2002 ┆ 9     ┆ … ┆ 91750.0 ┆ 5300 ┆ null    ┆ No        │\n",
       "│ 0    ┆ 0    ┆ 2002 ┆ 9     ┆ … ┆ 91754.0 ┆ 5411 ┆ null    ┆ No        │\n",
       "│ 0    ┆ 0    ┆ 2002 ┆ 9     ┆ … ┆ 91754.0 ┆ 5411 ┆ null    ┆ No        │\n",
       "│ 0    ┆ 0    ┆ 2002 ┆ 9     ┆ … ┆ 91754.0 ┆ 5651 ┆ null    ┆ No        │\n",
       "│ 0    ┆ 0    ┆ 2002 ┆ 9     ┆ … ┆ 91750.0 ┆ 5912 ┆ null    ┆ No        │\n",
       "└──────┴──────┴──────┴───────┴───┴─────────┴──────┴─────────┴───────────┘"
      ]
     },
     "execution_count": 3,
     "metadata": {},
     "output_type": "execute_result"
    }
   ],
   "source": [
    "df.head()"
   ]
  },
  {
   "cell_type": "code",
   "execution_count": 4,
   "metadata": {},
   "outputs": [
    {
     "data": {
      "text/html": [
       "<div><style>\n",
       ".dataframe > thead > tr,\n",
       ".dataframe > tbody > tr {\n",
       "  text-align: right;\n",
       "  white-space: pre-wrap;\n",
       "}\n",
       "</style>\n",
       "<small>shape: (3,)</small><table border=\"1\" class=\"dataframe\"><thead><tr><th>Use Chip</th></tr><tr><td>str</td></tr></thead><tbody><tr><td>&quot;Chip Transaction&quot;</td></tr><tr><td>&quot;Online Transaction&quot;</td></tr><tr><td>&quot;Swipe Transaction&quot;</td></tr></tbody></table></div>"
      ],
      "text/plain": [
       "shape: (3,)\n",
       "Series: 'Use Chip' [str]\n",
       "[\n",
       "\t\"Chip Transaction\"\n",
       "\t\"Online Transaction\"\n",
       "\t\"Swipe Transaction\"\n",
       "]"
      ]
     },
     "execution_count": 4,
     "metadata": {},
     "output_type": "execute_result"
    }
   ],
   "source": [
    "df.get_column(\"Use Chip\").unique()"
   ]
  },
  {
   "cell_type": "code",
   "execution_count": 5,
   "metadata": {},
   "outputs": [
    {
     "name": "stdout",
     "output_type": "stream",
     "text": [
      "{'Technical Glitch', 'Bad Expiration', 'Insufficient Balance', 'Bad Zipcode', 'Bad PIN', 'Bad CVV', 'Bad Card Number'}\n"
     ]
    }
   ],
   "source": [
    "errors = (\n",
    "    pl.read_csv(datapath)\n",
    "    .get_column(\"Errors?\")\n",
    "    .drop_nulls()\n",
    "    .unique()\n",
    "    .to_list()\n",
    ")\n",
    "\n",
    "unique_errors = set(\"\".join(errors).split(\",\"))\n",
    "\n",
    "unique_errors.remove(\"\")\n",
    "\n",
    "print(unique_errors)"
   ]
  },
  {
   "cell_type": "code",
   "execution_count": 6,
   "metadata": {},
   "outputs": [],
   "source": [
    "df = pl.read_csv(datapath).filter(pl.col(\"User\") < 500)\n",
    "\n",
    "df.columns = [col.lower().replace(\"?\", \"\").replace(\" \", \"_\") for col in df.columns]\n",
    "\n",
    "def mock(dataframe: pl.DataFrame, name: str, generator: Callable = fake.unique.company):\n",
    "    values: list[str] = dataframe.get_column(name).cast(pl.String).unique().to_list()\n",
    "\n",
    "    mapping = {value: generator() for value in values}\n",
    "\n",
    "    return dataframe.select(pl.exclude(name), pl.col(name).replace_strict(mapping).alias(name))\n",
    "\n",
    "\n",
    "df = mock(dataframe=df, name=\"merchant_name\", generator=fake.unique.company)\n",
    "df = mock(dataframe=df, name=\"card\", generator=fake.unique.credit_card_number)\n",
    "df = mock(dataframe=df, name=\"user\", generator=fake.unique.name)\n",
    "\n",
    "ledger = (\n",
    "    df\n",
    "    # .filter(pl.col(\"user\") < 100)\n",
    "    .select(pl.all(), timeparts=pl.col(\"time\").str.split(\":\"))\n",
    "    .select(\n",
    "        pl.all(),\n",
    "        hour=pl.col(\"timeparts\").list.first(),\n",
    "        minute=pl.col(\"timeparts\").list.last(),\n",
    "    )\n",
    "    .select(\n",
    "        pl.all(),\n",
    "        timestamp=pl.datetime(pl.col(\"year\"), pl.col(\"month\"), pl.col(\"day\"), pl.col(\"hour\"), pl.col(\"minute\")),\n",
    "    )\n",
    "    .select(\n",
    "        \"use_chip\",\n",
    "        \"merchant_state\",\n",
    "        \"merchant_city\",\n",
    "        pl.col(\"mcc\").cast(pl.String),\n",
    "        \"card\",\n",
    "        \"timestamp\",\n",
    "        *[\n",
    "            pl.col(\"errors\").fill_null(\"\").str.contains(error).cast(pl.String).alias(f'has_{error.lower().replace(\" \", \"_\")}')\n",
    "            for error in unique_errors\n",
    "        ],\n",
    "        amount=pl.col(\"amount\").str.strip_prefix(\"$\").str.to_decimal(),\n",
    "        merchant_name=pl.col(\"merchant_name\").cast(pl.Utf8),\n",
    "        is_fraud=pl.col(\"is_fraud\"),\n",
    "        transaction_id=pl.col(\"timestamp\").cast(pl.Utf8),\n",
    "        customer_id=pl.col(\"user\"),\n",
    "    )\n",
    "    .sort(\"timestamp\")\n",
    "    .select(\n",
    "        pl.all(),\n",
    "        order_id=pl.col(\"transaction_id\").cum_count().over(\"customer_id\"),\n",
    "        timedelta=pl.col(\"timestamp\").sub(pl.col(\"timestamp\").shift().over(\"customer_id\")).dt.total_seconds(),\n",
    "        tenure=pl.col(\"timestamp\").sub(pl.col(\"timestamp\").first().over(\"customer_id\")).dt.total_seconds(),\n",
    "    )\n",
    ")"
   ]
  },
  {
   "cell_type": "code",
   "execution_count": 7,
   "metadata": {},
   "outputs": [
    {
     "data": {
      "text/html": [
       "<div><style>\n",
       ".dataframe > thead > tr,\n",
       ".dataframe > tbody > tr {\n",
       "  text-align: right;\n",
       "  white-space: pre-wrap;\n",
       "}\n",
       "</style>\n",
       "<small>shape: (5, 21)</small><table border=\"1\" class=\"dataframe\"><thead><tr><th>use_chip</th><th>merchant_state</th><th>merchant_city</th><th>mcc</th><th>card</th><th>timestamp</th><th>has_technical_glitch</th><th>has_bad_expiration</th><th>has_insufficient_balance</th><th>has_bad_zipcode</th><th>has_bad_pin</th><th>has_bad_cvv</th><th>has_bad_card_number</th><th>amount</th><th>merchant_name</th><th>is_fraud</th><th>transaction_id</th><th>customer_id</th><th>order_id</th><th>timedelta</th><th>tenure</th></tr><tr><td>str</td><td>str</td><td>str</td><td>str</td><td>str</td><td>datetime[μs]</td><td>str</td><td>str</td><td>str</td><td>str</td><td>str</td><td>str</td><td>str</td><td>decimal[*,2]</td><td>str</td><td>str</td><td>str</td><td>str</td><td>u32</td><td>i64</td><td>i64</td></tr></thead><tbody><tr><td>&quot;Swipe Transaction&quot;</td><td>&quot;CA&quot;</td><td>&quot;Sacramento&quot;</td><td>&quot;3058&quot;</td><td>&quot;6563748441765294&quot;</td><td>1991-11-25 06:55:00</td><td>&quot;false&quot;</td><td>&quot;false&quot;</td><td>&quot;false&quot;</td><td>&quot;false&quot;</td><td>&quot;false&quot;</td><td>&quot;false&quot;</td><td>&quot;false&quot;</td><td>355.71</td><td>&quot;Lopez, Ponce and Mendoza&quot;</td><td>&quot;No&quot;</td><td>&quot;1991-11-25 06:55:00.000000&quot;</td><td>&quot;Maria Rivas&quot;</td><td>1</td><td>null</td><td>0</td></tr><tr><td>&quot;Swipe Transaction&quot;</td><td>&quot;CA&quot;</td><td>&quot;San Jose&quot;</td><td>&quot;4829&quot;</td><td>&quot;6563748441765294&quot;</td><td>1991-12-01 06:51:00</td><td>&quot;false&quot;</td><td>&quot;false&quot;</td><td>&quot;false&quot;</td><td>&quot;false&quot;</td><td>&quot;false&quot;</td><td>&quot;false&quot;</td><td>&quot;false&quot;</td><td>100.00</td><td>&quot;Chan, Williams and Stone&quot;</td><td>&quot;No&quot;</td><td>&quot;1991-12-01 06:51:00.000000&quot;</td><td>&quot;Maria Rivas&quot;</td><td>2</td><td>518160</td><td>518160</td></tr><tr><td>&quot;Swipe Transaction&quot;</td><td>&quot;CA&quot;</td><td>&quot;Watsonville&quot;</td><td>&quot;5411&quot;</td><td>&quot;6563748441765294&quot;</td><td>1991-12-01 09:36:00</td><td>&quot;false&quot;</td><td>&quot;false&quot;</td><td>&quot;false&quot;</td><td>&quot;false&quot;</td><td>&quot;false&quot;</td><td>&quot;false&quot;</td><td>&quot;false&quot;</td><td>2.10</td><td>&quot;Nelson PLC&quot;</td><td>&quot;No&quot;</td><td>&quot;1991-12-01 09:36:00.000000&quot;</td><td>&quot;Maria Rivas&quot;</td><td>3</td><td>9900</td><td>528060</td></tr><tr><td>&quot;Swipe Transaction&quot;</td><td>&quot;CA&quot;</td><td>&quot;Watsonville&quot;</td><td>&quot;5411&quot;</td><td>&quot;6563748441765294&quot;</td><td>1991-12-01 09:44:00</td><td>&quot;false&quot;</td><td>&quot;false&quot;</td><td>&quot;false&quot;</td><td>&quot;false&quot;</td><td>&quot;false&quot;</td><td>&quot;false&quot;</td><td>&quot;false&quot;</td><td>48.93</td><td>&quot;Sullivan, Le and Lewis&quot;</td><td>&quot;No&quot;</td><td>&quot;1991-12-01 09:44:00.000000&quot;</td><td>&quot;Maria Rivas&quot;</td><td>4</td><td>480</td><td>528540</td></tr><tr><td>&quot;Swipe Transaction&quot;</td><td>&quot;CA&quot;</td><td>&quot;Watsonville&quot;</td><td>&quot;5912&quot;</td><td>&quot;6563748441765294&quot;</td><td>1991-12-01 10:21:00</td><td>&quot;false&quot;</td><td>&quot;false&quot;</td><td>&quot;false&quot;</td><td>&quot;false&quot;</td><td>&quot;false&quot;</td><td>&quot;false&quot;</td><td>&quot;false&quot;</td><td>52.23</td><td>&quot;Perez-Hendricks&quot;</td><td>&quot;No&quot;</td><td>&quot;1991-12-01 10:21:00.000000&quot;</td><td>&quot;Maria Rivas&quot;</td><td>5</td><td>2220</td><td>530760</td></tr></tbody></table></div>"
      ],
      "text/plain": [
       "shape: (5, 21)\n",
       "┌─────────────┬─────────────┬─────────────┬──────┬───┬─────────────┬──────────┬───────────┬────────┐\n",
       "│ use_chip    ┆ merchant_st ┆ merchant_ci ┆ mcc  ┆ … ┆ customer_id ┆ order_id ┆ timedelta ┆ tenure │\n",
       "│ ---         ┆ ate         ┆ ty          ┆ ---  ┆   ┆ ---         ┆ ---      ┆ ---       ┆ ---    │\n",
       "│ str         ┆ ---         ┆ ---         ┆ str  ┆   ┆ str         ┆ u32      ┆ i64       ┆ i64    │\n",
       "│             ┆ str         ┆ str         ┆      ┆   ┆             ┆          ┆           ┆        │\n",
       "╞═════════════╪═════════════╪═════════════╪══════╪═══╪═════════════╪══════════╪═══════════╪════════╡\n",
       "│ Swipe       ┆ CA          ┆ Sacramento  ┆ 3058 ┆ … ┆ Maria Rivas ┆ 1        ┆ null      ┆ 0      │\n",
       "│ Transaction ┆             ┆             ┆      ┆   ┆             ┆          ┆           ┆        │\n",
       "│ Swipe       ┆ CA          ┆ San Jose    ┆ 4829 ┆ … ┆ Maria Rivas ┆ 2        ┆ 518160    ┆ 518160 │\n",
       "│ Transaction ┆             ┆             ┆      ┆   ┆             ┆          ┆           ┆        │\n",
       "│ Swipe       ┆ CA          ┆ Watsonville ┆ 5411 ┆ … ┆ Maria Rivas ┆ 3        ┆ 9900      ┆ 528060 │\n",
       "│ Transaction ┆             ┆             ┆      ┆   ┆             ┆          ┆           ┆        │\n",
       "│ Swipe       ┆ CA          ┆ Watsonville ┆ 5411 ┆ … ┆ Maria Rivas ┆ 4        ┆ 480       ┆ 528540 │\n",
       "│ Transaction ┆             ┆             ┆      ┆   ┆             ┆          ┆           ┆        │\n",
       "│ Swipe       ┆ CA          ┆ Watsonville ┆ 5912 ┆ … ┆ Maria Rivas ┆ 5        ┆ 2220      ┆ 530760 │\n",
       "│ Transaction ┆             ┆             ┆      ┆   ┆             ┆          ┆           ┆        │\n",
       "└─────────────┴─────────────┴─────────────┴──────┴───┴─────────────┴──────────┴───────────┴────────┘"
      ]
     },
     "execution_count": 7,
     "metadata": {},
     "output_type": "execute_result"
    }
   ],
   "source": [
    "ledger.head()"
   ]
  },
  {
   "cell_type": "code",
   "execution_count": 8,
   "metadata": {},
   "outputs": [],
   "source": [
    "from zlib import crc32\n",
    "\n",
    "def assign_split(column: str) -> pl.Expr:\n",
    "\n",
    "    seed = (\n",
    "        pl.col(column)\n",
    "        .cast(pl.String)\n",
    "        .map_elements(lambda x: float(crc32(str.encode(x)) & 0xFFFFFFFF), return_dtype=pl.Float32)\n",
    "        .mul(1 / 2**32)\n",
    "    )\n",
    "\n",
    "    return (\n",
    "        pl.when(seed.is_between(0.0, 0.6))\n",
    "        .then(pl.lit(\"train\"))\n",
    "        .when(seed.is_between(0.6, 0.8))\n",
    "        .then(pl.lit(\"validate\"))\n",
    "        .when(seed.is_between(0.8, 1.0))\n",
    "        .then(pl.lit(\"test\"))\n",
    "        .otherwise(pl.lit(\"train\"))\n",
    "    )"
   ]
  },
  {
   "cell_type": "code",
   "execution_count": 9,
   "metadata": {},
   "outputs": [],
   "source": [
    "fields = [\n",
    "    'use_chip',\n",
    "    'merchant_state',\n",
    "    'merchant_city',\n",
    "    'mcc',\n",
    "    'card',\n",
    "    'timestamp',\n",
    "    'has_technical_glitch',\n",
    "    'has_bad_pin',\n",
    "    'has_bad_zipcode',\n",
    "    'has_insufficient_balance',\n",
    "    'has_bad_cvv',\n",
    "    'has_bad_card_number',\n",
    "    'has_bad_expiration',\n",
    "    'amount',\n",
    "    'merchant_name',\n",
    "    'timedelta',\n",
    "    'tenure',\n",
    "]"
   ]
  },
  {
   "cell_type": "code",
   "execution_count": 10,
   "metadata": {},
   "outputs": [],
   "source": [
    "lifestreams = (\n",
    "    ledger.select(\n",
    "        *[field for field in fields],\n",
    "        'is_fraud',\n",
    "        'transaction_id',\n",
    "        'customer_id',\n",
    "        'order_id',\n",
    "        split=assign_split('customer_id'),\n",
    "    )\n",
    "    .select(\n",
    "        (cs.numeric() - cs.by_name('order_id')).qcut(16).cast(pl.String),\n",
    "        'order_id',\n",
    "        ~cs.numeric()\n",
    "    )\n",
    "    .sort(\"customer_id\", \"order_id\")\n",
    "    .group_by(\"customer_id\", maintain_order=True)\n",
    "    .agg(\n",
    "        *[field for field in fields],\n",
    "        'transaction_id',\n",
    "        is_fraud=pl.col('is_fraud'),\n",
    "        split=pl.col(\"split\").last(),\n",
    "    )\n",
    "    .iter_slices(5)\n",
    ")\n"
   ]
  },
  {
   "cell_type": "code",
   "execution_count": null,
   "metadata": {},
   "outputs": [],
   "source": []
  },
  {
   "cell_type": "code",
   "execution_count": 11,
   "metadata": {},
   "outputs": [],
   "source": [
    "for index, lifestream in enumerate(lifestreams):\n",
    "    lifestream.write_ndjson(f\"../data/lifestreams/trxns_discrete/trxns-{index}.ndjson\")"
   ]
  },
  {
   "cell_type": "code",
   "execution_count": 12,
   "metadata": {},
   "outputs": [
    {
     "data": {
      "text/html": [
       "<div><style>\n",
       ".dataframe > thead > tr,\n",
       ".dataframe > tbody > tr {\n",
       "  text-align: right;\n",
       "  white-space: pre-wrap;\n",
       "}\n",
       "</style>\n",
       "<small>shape: (5, 21)</small><table border=\"1\" class=\"dataframe\"><thead><tr><th>customer_id</th><th>use_chip</th><th>merchant_state</th><th>merchant_city</th><th>mcc</th><th>card</th><th>timestamp</th><th>has_technical_glitch</th><th>has_bad_pin</th><th>has_bad_zipcode</th><th>has_insufficient_balance</th><th>has_bad_cvv</th><th>has_bad_card_number</th><th>has_bad_expiration</th><th>amount</th><th>merchant_name</th><th>timedelta</th><th>tenure</th><th>transaction_id</th><th>is_fraud</th><th>split</th></tr><tr><td>str</td><td>list[str]</td><td>list[str]</td><td>list[str]</td><td>list[str]</td><td>list[str]</td><td>list[datetime[μs]]</td><td>list[str]</td><td>list[str]</td><td>list[str]</td><td>list[str]</td><td>list[str]</td><td>list[str]</td><td>list[str]</td><td>list[str]</td><td>list[str]</td><td>list[str]</td><td>list[str]</td><td>list[str]</td><td>list[str]</td><td>str</td></tr></thead><tbody><tr><td>&quot;Wesley Le&quot;</td><td>[&quot;Online Transaction&quot;, &quot;Chip Transaction&quot;, … &quot;Chip Transaction&quot;]</td><td>[null, &quot;RI&quot;, … &quot;RI&quot;]</td><td>[&quot; ONLINE&quot;, &quot;Cranston&quot;, … &quot;Cranston&quot;]</td><td>[&quot;7393&quot;, &quot;5411&quot;, … &quot;5812&quot;]</td><td>[&quot;3544317050053029&quot;, &quot;3544317050053029&quot;, … &quot;3544317050053029&quot;]</td><td>[2020-02-01 07:29:00, 2020-02-01 09:31:00, … 2020-02-28 11:52:00]</td><td>[&quot;false&quot;, &quot;false&quot;, … &quot;false&quot;]</td><td>[&quot;false&quot;, &quot;false&quot;, … &quot;false&quot;]</td><td>[&quot;false&quot;, &quot;false&quot;, … &quot;false&quot;]</td><td>[&quot;false&quot;, &quot;false&quot;, … &quot;false&quot;]</td><td>[&quot;false&quot;, &quot;false&quot;, … &quot;false&quot;]</td><td>[&quot;false&quot;, &quot;false&quot;, … &quot;false&quot;]</td><td>[&quot;false&quot;, &quot;false&quot;, … &quot;false&quot;]</td><td>[&quot;(30.39, 38.41]&quot;, &quot;(9.85, 13.67]&quot;, … &quot;(0.5, 2.58]&quot;]</td><td>[&quot;Malone Group&quot;, &quot;Stevens-Anderson&quot;, … &quot;White, Cochran and Ferrell&quot;]</td><td>[null, &quot;(6720, 9660]&quot;, … &quot;(23520, 32040]&quot;]</td><td>[&quot;(-inf, 34646763.75]&quot;, &quot;(-inf, 34646763.75]&quot;, … &quot;(-inf, 34646763.75]&quot;]</td><td>[&quot;2020-02-01 07:29:00.000000&quot;, &quot;2020-02-01 09:31:00.000000&quot;, … &quot;2020-02-28 11:52:00.000000&quot;]</td><td>[&quot;No&quot;, &quot;No&quot;, … &quot;No&quot;]</td><td>&quot;test&quot;</td></tr><tr><td>&quot;William Harvey&quot;</td><td>[&quot;Swipe Transaction&quot;, &quot;Swipe Transaction&quot;, … &quot;Online Transaction&quot;]</td><td>[&quot;TX&quot;, &quot;TX&quot;, … null]</td><td>[&quot;Del Valle&quot;, &quot;Seguin&quot;, … &quot; ONLINE&quot;]</td><td>[&quot;3260&quot;, &quot;5541&quot;, … &quot;5311&quot;]</td><td>[&quot;345509619558905&quot;, &quot;345509619558905&quot;, … &quot;345509619558905&quot;]</td><td>[2002-08-18 06:30:00, 2002-09-01 11:48:00, … 2020-02-28 23:58:00]</td><td>[&quot;false&quot;, &quot;false&quot;, … &quot;false&quot;]</td><td>[&quot;false&quot;, &quot;false&quot;, … &quot;false&quot;]</td><td>[&quot;false&quot;, &quot;false&quot;, … &quot;false&quot;]</td><td>[&quot;false&quot;, &quot;false&quot;, … &quot;false&quot;]</td><td>[&quot;false&quot;, &quot;false&quot;, … &quot;false&quot;]</td><td>[&quot;false&quot;, &quot;false&quot;, … &quot;false&quot;]</td><td>[&quot;false&quot;, &quot;false&quot;, … &quot;false&quot;]</td><td>[&quot;(140, inf]&quot;, &quot;(13.67, 18.22]&quot;, … &quot;(38.41, 46.68]&quot;]</td><td>[&quot;Horton-Elliott&quot;, &quot;Hughes-Mclaughlin&quot;, … &quot;Steele, Williamson and Alvarez&quot;]</td><td>[null, &quot;(85680, inf]&quot;, … &quot;(23520, 32040]&quot;]</td><td>[&quot;(-inf, 34646763.75]&quot;, &quot;(-inf, 34646763.75]&quot;, … &quot;(542457660, inf]&quot;]</td><td>[&quot;2002-08-18 06:30:00.000000&quot;, &quot;2002-09-01 11:48:00.000000&quot;, … &quot;2020-02-28 23:58:00.000000&quot;]</td><td>[&quot;No&quot;, &quot;No&quot;, … &quot;No&quot;]</td><td>&quot;train&quot;</td></tr><tr><td>&quot;William Martinez&quot;</td><td>[&quot;Swipe Transaction&quot;, &quot;Swipe Transaction&quot;, … &quot;Chip Transaction&quot;]</td><td>[&quot;FL&quot;, &quot;FL&quot;, … &quot;FL&quot;]</td><td>[&quot;Fort Lauderdale&quot;, &quot;Valrico&quot;, … &quot;Melbourne&quot;]</td><td>[&quot;3000&quot;, &quot;3174&quot;, … &quot;5814&quot;]</td><td>[&quot;4871824726483&quot;, &quot;4871824726483&quot;, … &quot;4871824726483&quot;]</td><td>[1999-05-22 11:16:00, 1999-11-21 00:12:00, … 2020-02-28 19:12:00]</td><td>[&quot;false&quot;, &quot;false&quot;, … &quot;false&quot;]</td><td>[&quot;false&quot;, &quot;false&quot;, … &quot;false&quot;]</td><td>[&quot;false&quot;, &quot;false&quot;, … &quot;false&quot;]</td><td>[&quot;false&quot;, &quot;false&quot;, … &quot;false&quot;]</td><td>[&quot;false&quot;, &quot;false&quot;, … &quot;false&quot;]</td><td>[&quot;false&quot;, &quot;false&quot;, … &quot;false&quot;]</td><td>[&quot;false&quot;, &quot;false&quot;, … &quot;false&quot;]</td><td>[&quot;(140, inf]&quot;, &quot;(140, inf]&quot;, … &quot;(46.68, 56.44]&quot;]</td><td>[&quot;Rosario-Ruiz&quot;, &quot;Yang and Sons&quot;, … &quot;Crawford, Mathews and Lopez&quot;]</td><td>[null, &quot;(85680, inf]&quot;, … &quot;(13140, 17640]&quot;]</td><td>[&quot;(-inf, 34646763.75]&quot;, &quot;(-inf, 34646763.75]&quot;, … &quot;(542457660, inf]&quot;]</td><td>[&quot;1999-05-22 11:16:00.000000&quot;, &quot;1999-11-21 00:12:00.000000&quot;, … &quot;2020-02-28 19:12:00.000000&quot;]</td><td>[&quot;No&quot;, &quot;No&quot;, … &quot;No&quot;]</td><td>&quot;train&quot;</td></tr><tr><td>&quot;William Thompson&quot;</td><td>[&quot;Swipe Transaction&quot;, &quot;Swipe Transaction&quot;, … &quot;Chip Transaction&quot;]</td><td>[&quot;VT&quot;, &quot;IL&quot;, … &quot;IL&quot;]</td><td>[&quot;Ludlow&quot;, &quot;Yorkville&quot;, … &quot;Yorkville&quot;]</td><td>[&quot;3504&quot;, &quot;5812&quot;, … &quot;5211&quot;]</td><td>[&quot;3544317050053029&quot;, &quot;3544317050053029&quot;, … &quot;3544317050053029&quot;]</td><td>[2011-09-13 20:24:00, 2012-01-01 08:18:00, … 2020-02-28 12:31:00]</td><td>[&quot;false&quot;, &quot;false&quot;, … &quot;false&quot;]</td><td>[&quot;false&quot;, &quot;false&quot;, … &quot;false&quot;]</td><td>[&quot;false&quot;, &quot;false&quot;, … &quot;false&quot;]</td><td>[&quot;false&quot;, &quot;false&quot;, … &quot;false&quot;]</td><td>[&quot;false&quot;, &quot;false&quot;, … &quot;false&quot;]</td><td>[&quot;false&quot;, &quot;false&quot;, … &quot;false&quot;]</td><td>[&quot;false&quot;, &quot;false&quot;, … &quot;false&quot;]</td><td>[&quot;(140, inf]&quot;, &quot;(5.6, 9.85]&quot;, … &quot;(56.44, 67.18]&quot;]</td><td>[&quot;Mullins-Bryant&quot;, &quot;Sanders LLC&quot;, … &quot;Burns-Olson&quot;]</td><td>[null, &quot;(85680, inf]&quot;, … &quot;(4260, 6720]&quot;]</td><td>[&quot;(-inf, 34646763.75]&quot;, &quot;(-inf, 34646763.75]&quot;, … &quot;(251737020, 282492675]&quot;]</td><td>[&quot;2011-09-13 20:24:00.000000&quot;, &quot;2012-01-01 08:18:00.000000&quot;, … &quot;2020-02-28 12:31:00.000000&quot;]</td><td>[&quot;No&quot;, &quot;No&quot;, … &quot;No&quot;]</td><td>&quot;test&quot;</td></tr><tr><td>&quot;Yvonne Rogers&quot;</td><td>[&quot;Swipe Transaction&quot;, &quot;Swipe Transaction&quot;, … &quot;Swipe Transaction&quot;]</td><td>[&quot;MO&quot;, &quot;MO&quot;, … &quot;MO&quot;]</td><td>[&quot;Maryland Heights&quot;, &quot;Bridgeton&quot;, … &quot;Maryland Heights&quot;]</td><td>[&quot;8021&quot;, &quot;5311&quot;, … &quot;5814&quot;]</td><td>[&quot;3544317050053029&quot;, &quot;3544317050053029&quot;, … &quot;3544317050053029&quot;]</td><td>[2020-02-01 16:18:00, 2020-02-03 01:13:00, … 2020-02-28 18:22:00]</td><td>[&quot;false&quot;, &quot;false&quot;, … &quot;false&quot;]</td><td>[&quot;false&quot;, &quot;false&quot;, … &quot;false&quot;]</td><td>[&quot;false&quot;, &quot;false&quot;, … &quot;false&quot;]</td><td>[&quot;false&quot;, &quot;false&quot;, … &quot;false&quot;]</td><td>[&quot;false&quot;, &quot;false&quot;, … &quot;false&quot;]</td><td>[&quot;false&quot;, &quot;false&quot;, … &quot;false&quot;]</td><td>[&quot;false&quot;, &quot;false&quot;, … &quot;false&quot;]</td><td>[&quot;(140, inf]&quot;, &quot;(38.41, 46.68]&quot;, … &quot;(38.41, 46.68]&quot;]</td><td>[&quot;Robinson PLC&quot;, &quot;Hancock-Thomas&quot;, … &quot;Lloyd-Allison&quot;]</td><td>[null, &quot;(85680, inf]&quot;, … &quot;(17640, 23520]&quot;]</td><td>[&quot;(-inf, 34646763.75]&quot;, &quot;(-inf, 34646763.75]&quot;, … &quot;(-inf, 34646763.75]&quot;]</td><td>[&quot;2020-02-01 16:18:00.000000&quot;, &quot;2020-02-03 01:13:00.000000&quot;, … &quot;2020-02-28 18:22:00.000000&quot;]</td><td>[&quot;No&quot;, &quot;No&quot;, … &quot;No&quot;]</td><td>&quot;test&quot;</td></tr></tbody></table></div>"
      ],
      "text/plain": [
       "shape: (5, 21)\n",
       "┌────────────┬────────────┬────────────┬───────────┬───┬───────────┬───────────┬───────────┬───────┐\n",
       "│ customer_i ┆ use_chip   ┆ merchant_s ┆ merchant_ ┆ … ┆ tenure    ┆ transacti ┆ is_fraud  ┆ split │\n",
       "│ d          ┆ ---        ┆ tate       ┆ city      ┆   ┆ ---       ┆ on_id     ┆ ---       ┆ ---   │\n",
       "│ ---        ┆ list[str]  ┆ ---        ┆ ---       ┆   ┆ list[str] ┆ ---       ┆ list[str] ┆ str   │\n",
       "│ str        ┆            ┆ list[str]  ┆ list[str] ┆   ┆           ┆ list[str] ┆           ┆       │\n",
       "╞════════════╪════════════╪════════════╪═══════════╪═══╪═══════════╪═══════════╪═══════════╪═══════╡\n",
       "│ Wesley Le  ┆ [\"Online   ┆ [null,     ┆ [\"        ┆ … ┆ [\"(-inf,  ┆ [\"2020-02 ┆ [\"No\",    ┆ test  │\n",
       "│            ┆ Transactio ┆ \"RI\", …    ┆ ONLINE\",  ┆   ┆ 34646763. ┆ -01 07:29 ┆ \"No\", …   ┆       │\n",
       "│            ┆ n\", \"Chip  ┆ \"RI\"]      ┆ \"Cranston ┆   ┆ 75]\",     ┆ :00.00000 ┆ \"No\"]     ┆       │\n",
       "│            ┆ T…         ┆            ┆ \", …      ┆   ┆ \"(-inf…   ┆ 0\",…      ┆           ┆       │\n",
       "│            ┆            ┆            ┆ \"Cra…     ┆   ┆           ┆           ┆           ┆       │\n",
       "│ William    ┆ [\"Swipe    ┆ [\"TX\",     ┆ [\"Del     ┆ … ┆ [\"(-inf,  ┆ [\"2002-08 ┆ [\"No\",    ┆ train │\n",
       "│ Harvey     ┆ Transactio ┆ \"TX\", …    ┆ Valle\",   ┆   ┆ 34646763. ┆ -18 06:30 ┆ \"No\", …   ┆       │\n",
       "│            ┆ n\", \"Swipe ┆ null]      ┆ \"Seguin\", ┆   ┆ 75]\",     ┆ :00.00000 ┆ \"No\"]     ┆       │\n",
       "│            ┆ T…         ┆            ┆ … \" ON…   ┆   ┆ \"(-inf…   ┆ 0\",…      ┆           ┆       │\n",
       "│ William    ┆ [\"Swipe    ┆ [\"FL\",     ┆ [\"Fort    ┆ … ┆ [\"(-inf,  ┆ [\"1999-05 ┆ [\"No\",    ┆ train │\n",
       "│ Martinez   ┆ Transactio ┆ \"FL\", …    ┆ Lauderdal ┆   ┆ 34646763. ┆ -22 11:16 ┆ \"No\", …   ┆       │\n",
       "│            ┆ n\", \"Swipe ┆ \"FL\"]      ┆ e\", \"Valr ┆   ┆ 75]\",     ┆ :00.00000 ┆ \"No\"]     ┆       │\n",
       "│            ┆ T…         ┆            ┆ ico\",…    ┆   ┆ \"(-inf…   ┆ 0\",…      ┆           ┆       │\n",
       "│ William    ┆ [\"Swipe    ┆ [\"VT\",     ┆ [\"Ludlow\" ┆ … ┆ [\"(-inf,  ┆ [\"2011-09 ┆ [\"No\",    ┆ test  │\n",
       "│ Thompson   ┆ Transactio ┆ \"IL\", …    ┆ , \"Yorkvi ┆   ┆ 34646763. ┆ -13 20:24 ┆ \"No\", …   ┆       │\n",
       "│            ┆ n\", \"Swipe ┆ \"IL\"]      ┆ lle\", …   ┆   ┆ 75]\",     ┆ :00.00000 ┆ \"No\"]     ┆       │\n",
       "│            ┆ T…         ┆            ┆ \"Yor…     ┆   ┆ \"(-inf…   ┆ 0\",…      ┆           ┆       │\n",
       "│ Yvonne     ┆ [\"Swipe    ┆ [\"MO\",     ┆ [\"Marylan ┆ … ┆ [\"(-inf,  ┆ [\"2020-02 ┆ [\"No\",    ┆ test  │\n",
       "│ Rogers     ┆ Transactio ┆ \"MO\", …    ┆ d         ┆   ┆ 34646763. ┆ -01 16:18 ┆ \"No\", …   ┆       │\n",
       "│            ┆ n\", \"Swipe ┆ \"MO\"]      ┆ Heights\", ┆   ┆ 75]\",     ┆ :00.00000 ┆ \"No\"]     ┆       │\n",
       "│            ┆ T…         ┆            ┆ \"Bridgeto ┆   ┆ \"(-inf…   ┆ 0\",…      ┆           ┆       │\n",
       "│            ┆            ┆            ┆ …         ┆   ┆           ┆           ┆           ┆       │\n",
       "└────────────┴────────────┴────────────┴───────────┴───┴───────────┴───────────┴───────────┴───────┘"
      ]
     },
     "execution_count": 12,
     "metadata": {},
     "output_type": "execute_result"
    }
   ],
   "source": [
    "lifestream"
   ]
  },
  {
   "cell_type": "code",
   "execution_count": 13,
   "metadata": {},
   "outputs": [
    {
     "data": {
      "text/html": [
       "<div><style>\n",
       ".dataframe > thead > tr,\n",
       ".dataframe > tbody > tr {\n",
       "  text-align: right;\n",
       "  white-space: pre-wrap;\n",
       "}\n",
       "</style>\n",
       "<small>shape: (5, 21)</small><table border=\"1\" class=\"dataframe\"><thead><tr><th>customer_id</th><th>use_chip</th><th>merchant_state</th><th>merchant_city</th><th>mcc</th><th>card</th><th>timestamp</th><th>has_technical_glitch</th><th>has_bad_pin</th><th>has_bad_zipcode</th><th>has_insufficient_balance</th><th>has_bad_cvv</th><th>has_bad_card_number</th><th>has_bad_expiration</th><th>amount</th><th>merchant_name</th><th>timedelta</th><th>tenure</th><th>transaction_id</th><th>is_fraud</th><th>split</th></tr><tr><td>str</td><td>list[str]</td><td>list[str]</td><td>list[str]</td><td>list[str]</td><td>list[str]</td><td>list[datetime[μs]]</td><td>list[str]</td><td>list[str]</td><td>list[str]</td><td>list[str]</td><td>list[str]</td><td>list[str]</td><td>list[str]</td><td>list[str]</td><td>list[str]</td><td>list[str]</td><td>list[str]</td><td>list[str]</td><td>list[str]</td><td>str</td></tr></thead><tbody><tr><td>&quot;Wesley Le&quot;</td><td>[&quot;Online Transaction&quot;, &quot;Chip Transaction&quot;, … &quot;Chip Transaction&quot;]</td><td>[null, &quot;RI&quot;, … &quot;RI&quot;]</td><td>[&quot; ONLINE&quot;, &quot;Cranston&quot;, … &quot;Cranston&quot;]</td><td>[&quot;7393&quot;, &quot;5411&quot;, … &quot;5812&quot;]</td><td>[&quot;3544317050053029&quot;, &quot;3544317050053029&quot;, … &quot;3544317050053029&quot;]</td><td>[2020-02-01 07:29:00, 2020-02-01 09:31:00, … 2020-02-28 11:52:00]</td><td>[&quot;false&quot;, &quot;false&quot;, … &quot;false&quot;]</td><td>[&quot;false&quot;, &quot;false&quot;, … &quot;false&quot;]</td><td>[&quot;false&quot;, &quot;false&quot;, … &quot;false&quot;]</td><td>[&quot;false&quot;, &quot;false&quot;, … &quot;false&quot;]</td><td>[&quot;false&quot;, &quot;false&quot;, … &quot;false&quot;]</td><td>[&quot;false&quot;, &quot;false&quot;, … &quot;false&quot;]</td><td>[&quot;false&quot;, &quot;false&quot;, … &quot;false&quot;]</td><td>[&quot;(30.39, 38.41]&quot;, &quot;(9.85, 13.67]&quot;, … &quot;(0.5, 2.58]&quot;]</td><td>[&quot;Malone Group&quot;, &quot;Stevens-Anderson&quot;, … &quot;White, Cochran and Ferrell&quot;]</td><td>[null, &quot;(6720, 9660]&quot;, … &quot;(23520, 32040]&quot;]</td><td>[&quot;(-inf, 34646763.75]&quot;, &quot;(-inf, 34646763.75]&quot;, … &quot;(-inf, 34646763.75]&quot;]</td><td>[&quot;2020-02-01 07:29:00.000000&quot;, &quot;2020-02-01 09:31:00.000000&quot;, … &quot;2020-02-28 11:52:00.000000&quot;]</td><td>[&quot;No&quot;, &quot;No&quot;, … &quot;No&quot;]</td><td>&quot;test&quot;</td></tr><tr><td>&quot;William Harvey&quot;</td><td>[&quot;Swipe Transaction&quot;, &quot;Swipe Transaction&quot;, … &quot;Online Transaction&quot;]</td><td>[&quot;TX&quot;, &quot;TX&quot;, … null]</td><td>[&quot;Del Valle&quot;, &quot;Seguin&quot;, … &quot; ONLINE&quot;]</td><td>[&quot;3260&quot;, &quot;5541&quot;, … &quot;5311&quot;]</td><td>[&quot;345509619558905&quot;, &quot;345509619558905&quot;, … &quot;345509619558905&quot;]</td><td>[2002-08-18 06:30:00, 2002-09-01 11:48:00, … 2020-02-28 23:58:00]</td><td>[&quot;false&quot;, &quot;false&quot;, … &quot;false&quot;]</td><td>[&quot;false&quot;, &quot;false&quot;, … &quot;false&quot;]</td><td>[&quot;false&quot;, &quot;false&quot;, … &quot;false&quot;]</td><td>[&quot;false&quot;, &quot;false&quot;, … &quot;false&quot;]</td><td>[&quot;false&quot;, &quot;false&quot;, … &quot;false&quot;]</td><td>[&quot;false&quot;, &quot;false&quot;, … &quot;false&quot;]</td><td>[&quot;false&quot;, &quot;false&quot;, … &quot;false&quot;]</td><td>[&quot;(140, inf]&quot;, &quot;(13.67, 18.22]&quot;, … &quot;(38.41, 46.68]&quot;]</td><td>[&quot;Horton-Elliott&quot;, &quot;Hughes-Mclaughlin&quot;, … &quot;Steele, Williamson and Alvarez&quot;]</td><td>[null, &quot;(85680, inf]&quot;, … &quot;(23520, 32040]&quot;]</td><td>[&quot;(-inf, 34646763.75]&quot;, &quot;(-inf, 34646763.75]&quot;, … &quot;(542457660, inf]&quot;]</td><td>[&quot;2002-08-18 06:30:00.000000&quot;, &quot;2002-09-01 11:48:00.000000&quot;, … &quot;2020-02-28 23:58:00.000000&quot;]</td><td>[&quot;No&quot;, &quot;No&quot;, … &quot;No&quot;]</td><td>&quot;train&quot;</td></tr><tr><td>&quot;William Martinez&quot;</td><td>[&quot;Swipe Transaction&quot;, &quot;Swipe Transaction&quot;, … &quot;Chip Transaction&quot;]</td><td>[&quot;FL&quot;, &quot;FL&quot;, … &quot;FL&quot;]</td><td>[&quot;Fort Lauderdale&quot;, &quot;Valrico&quot;, … &quot;Melbourne&quot;]</td><td>[&quot;3000&quot;, &quot;3174&quot;, … &quot;5814&quot;]</td><td>[&quot;4871824726483&quot;, &quot;4871824726483&quot;, … &quot;4871824726483&quot;]</td><td>[1999-05-22 11:16:00, 1999-11-21 00:12:00, … 2020-02-28 19:12:00]</td><td>[&quot;false&quot;, &quot;false&quot;, … &quot;false&quot;]</td><td>[&quot;false&quot;, &quot;false&quot;, … &quot;false&quot;]</td><td>[&quot;false&quot;, &quot;false&quot;, … &quot;false&quot;]</td><td>[&quot;false&quot;, &quot;false&quot;, … &quot;false&quot;]</td><td>[&quot;false&quot;, &quot;false&quot;, … &quot;false&quot;]</td><td>[&quot;false&quot;, &quot;false&quot;, … &quot;false&quot;]</td><td>[&quot;false&quot;, &quot;false&quot;, … &quot;false&quot;]</td><td>[&quot;(140, inf]&quot;, &quot;(140, inf]&quot;, … &quot;(46.68, 56.44]&quot;]</td><td>[&quot;Rosario-Ruiz&quot;, &quot;Yang and Sons&quot;, … &quot;Crawford, Mathews and Lopez&quot;]</td><td>[null, &quot;(85680, inf]&quot;, … &quot;(13140, 17640]&quot;]</td><td>[&quot;(-inf, 34646763.75]&quot;, &quot;(-inf, 34646763.75]&quot;, … &quot;(542457660, inf]&quot;]</td><td>[&quot;1999-05-22 11:16:00.000000&quot;, &quot;1999-11-21 00:12:00.000000&quot;, … &quot;2020-02-28 19:12:00.000000&quot;]</td><td>[&quot;No&quot;, &quot;No&quot;, … &quot;No&quot;]</td><td>&quot;train&quot;</td></tr><tr><td>&quot;William Thompson&quot;</td><td>[&quot;Swipe Transaction&quot;, &quot;Swipe Transaction&quot;, … &quot;Chip Transaction&quot;]</td><td>[&quot;VT&quot;, &quot;IL&quot;, … &quot;IL&quot;]</td><td>[&quot;Ludlow&quot;, &quot;Yorkville&quot;, … &quot;Yorkville&quot;]</td><td>[&quot;3504&quot;, &quot;5812&quot;, … &quot;5211&quot;]</td><td>[&quot;3544317050053029&quot;, &quot;3544317050053029&quot;, … &quot;3544317050053029&quot;]</td><td>[2011-09-13 20:24:00, 2012-01-01 08:18:00, … 2020-02-28 12:31:00]</td><td>[&quot;false&quot;, &quot;false&quot;, … &quot;false&quot;]</td><td>[&quot;false&quot;, &quot;false&quot;, … &quot;false&quot;]</td><td>[&quot;false&quot;, &quot;false&quot;, … &quot;false&quot;]</td><td>[&quot;false&quot;, &quot;false&quot;, … &quot;false&quot;]</td><td>[&quot;false&quot;, &quot;false&quot;, … &quot;false&quot;]</td><td>[&quot;false&quot;, &quot;false&quot;, … &quot;false&quot;]</td><td>[&quot;false&quot;, &quot;false&quot;, … &quot;false&quot;]</td><td>[&quot;(140, inf]&quot;, &quot;(5.6, 9.85]&quot;, … &quot;(56.44, 67.18]&quot;]</td><td>[&quot;Mullins-Bryant&quot;, &quot;Sanders LLC&quot;, … &quot;Burns-Olson&quot;]</td><td>[null, &quot;(85680, inf]&quot;, … &quot;(4260, 6720]&quot;]</td><td>[&quot;(-inf, 34646763.75]&quot;, &quot;(-inf, 34646763.75]&quot;, … &quot;(251737020, 282492675]&quot;]</td><td>[&quot;2011-09-13 20:24:00.000000&quot;, &quot;2012-01-01 08:18:00.000000&quot;, … &quot;2020-02-28 12:31:00.000000&quot;]</td><td>[&quot;No&quot;, &quot;No&quot;, … &quot;No&quot;]</td><td>&quot;test&quot;</td></tr><tr><td>&quot;Yvonne Rogers&quot;</td><td>[&quot;Swipe Transaction&quot;, &quot;Swipe Transaction&quot;, … &quot;Swipe Transaction&quot;]</td><td>[&quot;MO&quot;, &quot;MO&quot;, … &quot;MO&quot;]</td><td>[&quot;Maryland Heights&quot;, &quot;Bridgeton&quot;, … &quot;Maryland Heights&quot;]</td><td>[&quot;8021&quot;, &quot;5311&quot;, … &quot;5814&quot;]</td><td>[&quot;3544317050053029&quot;, &quot;3544317050053029&quot;, … &quot;3544317050053029&quot;]</td><td>[2020-02-01 16:18:00, 2020-02-03 01:13:00, … 2020-02-28 18:22:00]</td><td>[&quot;false&quot;, &quot;false&quot;, … &quot;false&quot;]</td><td>[&quot;false&quot;, &quot;false&quot;, … &quot;false&quot;]</td><td>[&quot;false&quot;, &quot;false&quot;, … &quot;false&quot;]</td><td>[&quot;false&quot;, &quot;false&quot;, … &quot;false&quot;]</td><td>[&quot;false&quot;, &quot;false&quot;, … &quot;false&quot;]</td><td>[&quot;false&quot;, &quot;false&quot;, … &quot;false&quot;]</td><td>[&quot;false&quot;, &quot;false&quot;, … &quot;false&quot;]</td><td>[&quot;(140, inf]&quot;, &quot;(38.41, 46.68]&quot;, … &quot;(38.41, 46.68]&quot;]</td><td>[&quot;Robinson PLC&quot;, &quot;Hancock-Thomas&quot;, … &quot;Lloyd-Allison&quot;]</td><td>[null, &quot;(85680, inf]&quot;, … &quot;(17640, 23520]&quot;]</td><td>[&quot;(-inf, 34646763.75]&quot;, &quot;(-inf, 34646763.75]&quot;, … &quot;(-inf, 34646763.75]&quot;]</td><td>[&quot;2020-02-01 16:18:00.000000&quot;, &quot;2020-02-03 01:13:00.000000&quot;, … &quot;2020-02-28 18:22:00.000000&quot;]</td><td>[&quot;No&quot;, &quot;No&quot;, … &quot;No&quot;]</td><td>&quot;test&quot;</td></tr></tbody></table></div>"
      ],
      "text/plain": [
       "shape: (5, 21)\n",
       "┌────────────┬────────────┬────────────┬───────────┬───┬───────────┬───────────┬───────────┬───────┐\n",
       "│ customer_i ┆ use_chip   ┆ merchant_s ┆ merchant_ ┆ … ┆ tenure    ┆ transacti ┆ is_fraud  ┆ split │\n",
       "│ d          ┆ ---        ┆ tate       ┆ city      ┆   ┆ ---       ┆ on_id     ┆ ---       ┆ ---   │\n",
       "│ ---        ┆ list[str]  ┆ ---        ┆ ---       ┆   ┆ list[str] ┆ ---       ┆ list[str] ┆ str   │\n",
       "│ str        ┆            ┆ list[str]  ┆ list[str] ┆   ┆           ┆ list[str] ┆           ┆       │\n",
       "╞════════════╪════════════╪════════════╪═══════════╪═══╪═══════════╪═══════════╪═══════════╪═══════╡\n",
       "│ Wesley Le  ┆ [\"Online   ┆ [null,     ┆ [\"        ┆ … ┆ [\"(-inf,  ┆ [\"2020-02 ┆ [\"No\",    ┆ test  │\n",
       "│            ┆ Transactio ┆ \"RI\", …    ┆ ONLINE\",  ┆   ┆ 34646763. ┆ -01 07:29 ┆ \"No\", …   ┆       │\n",
       "│            ┆ n\", \"Chip  ┆ \"RI\"]      ┆ \"Cranston ┆   ┆ 75]\",     ┆ :00.00000 ┆ \"No\"]     ┆       │\n",
       "│            ┆ T…         ┆            ┆ \", …      ┆   ┆ \"(-inf…   ┆ 0\",…      ┆           ┆       │\n",
       "│            ┆            ┆            ┆ \"Cra…     ┆   ┆           ┆           ┆           ┆       │\n",
       "│ William    ┆ [\"Swipe    ┆ [\"TX\",     ┆ [\"Del     ┆ … ┆ [\"(-inf,  ┆ [\"2002-08 ┆ [\"No\",    ┆ train │\n",
       "│ Harvey     ┆ Transactio ┆ \"TX\", …    ┆ Valle\",   ┆   ┆ 34646763. ┆ -18 06:30 ┆ \"No\", …   ┆       │\n",
       "│            ┆ n\", \"Swipe ┆ null]      ┆ \"Seguin\", ┆   ┆ 75]\",     ┆ :00.00000 ┆ \"No\"]     ┆       │\n",
       "│            ┆ T…         ┆            ┆ … \" ON…   ┆   ┆ \"(-inf…   ┆ 0\",…      ┆           ┆       │\n",
       "│ William    ┆ [\"Swipe    ┆ [\"FL\",     ┆ [\"Fort    ┆ … ┆ [\"(-inf,  ┆ [\"1999-05 ┆ [\"No\",    ┆ train │\n",
       "│ Martinez   ┆ Transactio ┆ \"FL\", …    ┆ Lauderdal ┆   ┆ 34646763. ┆ -22 11:16 ┆ \"No\", …   ┆       │\n",
       "│            ┆ n\", \"Swipe ┆ \"FL\"]      ┆ e\", \"Valr ┆   ┆ 75]\",     ┆ :00.00000 ┆ \"No\"]     ┆       │\n",
       "│            ┆ T…         ┆            ┆ ico\",…    ┆   ┆ \"(-inf…   ┆ 0\",…      ┆           ┆       │\n",
       "│ William    ┆ [\"Swipe    ┆ [\"VT\",     ┆ [\"Ludlow\" ┆ … ┆ [\"(-inf,  ┆ [\"2011-09 ┆ [\"No\",    ┆ test  │\n",
       "│ Thompson   ┆ Transactio ┆ \"IL\", …    ┆ , \"Yorkvi ┆   ┆ 34646763. ┆ -13 20:24 ┆ \"No\", …   ┆       │\n",
       "│            ┆ n\", \"Swipe ┆ \"IL\"]      ┆ lle\", …   ┆   ┆ 75]\",     ┆ :00.00000 ┆ \"No\"]     ┆       │\n",
       "│            ┆ T…         ┆            ┆ \"Yor…     ┆   ┆ \"(-inf…   ┆ 0\",…      ┆           ┆       │\n",
       "│ Yvonne     ┆ [\"Swipe    ┆ [\"MO\",     ┆ [\"Marylan ┆ … ┆ [\"(-inf,  ┆ [\"2020-02 ┆ [\"No\",    ┆ test  │\n",
       "│ Rogers     ┆ Transactio ┆ \"MO\", …    ┆ d         ┆   ┆ 34646763. ┆ -01 16:18 ┆ \"No\", …   ┆       │\n",
       "│            ┆ n\", \"Swipe ┆ \"MO\"]      ┆ Heights\", ┆   ┆ 75]\",     ┆ :00.00000 ┆ \"No\"]     ┆       │\n",
       "│            ┆ T…         ┆            ┆ \"Bridgeto ┆   ┆ \"(-inf…   ┆ 0\",…      ┆           ┆       │\n",
       "│            ┆            ┆            ┆ …         ┆   ┆           ┆           ┆           ┆       │\n",
       "└────────────┴────────────┴────────────┴───────────┴───┴───────────┴───────────┴───────────┴───────┘"
      ]
     },
     "execution_count": 13,
     "metadata": {},
     "output_type": "execute_result"
    }
   ],
   "source": [
    "lifestream"
   ]
  },
  {
   "cell_type": "code",
   "execution_count": null,
   "metadata": {},
   "outputs": [],
   "source": []
  }
 ],
 "metadata": {
  "kernelspec": {
   "display_name": "muvartis-o4TcNzRh-py3.10",
   "language": "python",
   "name": "python3"
  },
  "language_info": {
   "codemirror_mode": {
    "name": "ipython",
    "version": 3
   },
   "file_extension": ".py",
   "mimetype": "text/x-python",
   "name": "python",
   "nbconvert_exporter": "python",
   "pygments_lexer": "ipython3",
   "version": "3.11.8"
  }
 },
 "nbformat": 4,
 "nbformat_minor": 2
}

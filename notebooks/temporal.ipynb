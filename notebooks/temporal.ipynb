{
 "cells": [
  {
   "cell_type": "code",
   "execution_count": 2,
   "metadata": {},
   "outputs": [],
   "source": [
    "import numpy as np\n"
   ]
  },
  {
   "cell_type": "code",
   "execution_count": 6,
   "metadata": {},
   "outputs": [
    {
     "name": "stdout",
     "output_type": "stream",
     "text": [
      "[45296  5025 86399 56710]\n"
     ]
    }
   ],
   "source": [
    "# Example numpy array of datetime64 objects with time\n",
    "timestamps = np.array(['2023-01-01T12:34:56', '2023-04-15T01:23:45', '2023-07-23T23:59:59', '2023-12-31T15:45:10'], dtype='datetime64[s]')\n",
    "\n",
    "def seconds_of_day(values):\n",
    "    return (values - values.astype('datetime64[D]')).astype(int)\n",
    "\n",
    "\n",
    "# Apply the function\n",
    "seconds_in_day = seconds_of_day(timestamps)\n",
    "\n",
    "print(seconds_in_day)\n"
   ]
  },
  {
   "cell_type": "code",
   "execution_count": null,
   "metadata": {},
   "outputs": [],
   "source": []
  },
  {
   "cell_type": "code",
   "execution_count": null,
   "metadata": {},
   "outputs": [],
   "source": []
  }
 ],
 "metadata": {
  "kernelspec": {
   "display_name": "windmark-gThMBSDt-py3.11",
   "language": "python",
   "name": "python3"
  },
  "language_info": {
   "codemirror_mode": {
    "name": "ipython",
    "version": 3
   },
   "file_extension": ".py",
   "mimetype": "text/x-python",
   "name": "python",
   "nbconvert_exporter": "python",
   "pygments_lexer": "ipython3",
   "version": "3.11.8"
  }
 },
 "nbformat": 4,
 "nbformat_minor": 2
}

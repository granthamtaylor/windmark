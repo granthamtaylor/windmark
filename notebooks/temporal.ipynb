{
 "cells": [
  {
   "cell_type": "code",
   "execution_count": 2,
   "metadata": {},
   "outputs": [],
   "source": [
    "import numpy as np\n"
   ]
  },
  {
   "cell_type": "code",
   "execution_count": 8,
   "metadata": {},
   "outputs": [
    {
     "name": "stdout",
     "output_type": "stream",
     "text": [
      "[0.52425926 0.05815972 0.99998843 0.65636574]\n"
     ]
    }
   ],
   "source": [
    "# Example numpy array of datetime64 objects with time\n",
    "timestamps = np.array(['2023-01-02T12:34:56', '2023-04-15T01:23:45', '2023-07-23T23:59:59', '2023-12-10T15:45:10'], dtype='datetime64[s]')\n",
    "\n",
    "def week_of_year(values):\n",
    "    return np.nan_to_num((values - values.astype(\"datetime64[D]\")).astype(int)) * (1 / (1440 * 60))\n",
    "\n",
    "\n",
    "# Apply the function\n",
    "seconds_in_day = week_of_year(timestamps)\n",
    "\n",
    "print(seconds_in_day)\n"
   ]
  },
  {
   "cell_type": "code",
   "execution_count": null,
   "metadata": {},
   "outputs": [],
   "source": []
  }
 ],
 "metadata": {
  "kernelspec": {
   "display_name": "windmark-gThMBSDt-py3.11",
   "language": "python",
   "name": "python3"
  },
  "language_info": {
   "codemirror_mode": {
    "name": "ipython",
    "version": 3
   },
   "file_extension": ".py",
   "mimetype": "text/x-python",
   "name": "python",
   "nbconvert_exporter": "python",
   "pygments_lexer": "ipython3",
   "version": "3.11.8"
  }
 },
 "nbformat": 4,
 "nbformat_minor": 2
}

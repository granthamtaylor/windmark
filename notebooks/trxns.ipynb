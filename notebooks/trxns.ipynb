{
 "cells": [
  {
   "cell_type": "code",
   "execution_count": 1,
   "metadata": {},
   "outputs": [],
   "source": [
    "from typing import Callable\n",
    "\n",
    "import polars as pl\n",
    "from faker import Faker\n",
    "\n",
    "fake = Faker()\n",
    "\n",
    "%load_ext autoreload\n",
    "%autoreload 2"
   ]
  },
  {
   "cell_type": "code",
   "execution_count": 2,
   "metadata": {},
   "outputs": [],
   "source": [
    "df = pl.read_csv(\"/home/grantham/windmark/data/transactions.v1.csv\").filter(pl.col(\"User\") < 500)"
   ]
  },
  {
   "cell_type": "code",
   "execution_count": 3,
   "metadata": {},
   "outputs": [
    {
     "data": {
      "text/html": [
       "<div><style>\n",
       ".dataframe > thead > tr,\n",
       ".dataframe > tbody > tr {\n",
       "  text-align: right;\n",
       "  white-space: pre-wrap;\n",
       "}\n",
       "</style>\n",
       "<small>shape: (5, 15)</small><table border=\"1\" class=\"dataframe\"><thead><tr><th>User</th><th>Card</th><th>Year</th><th>Month</th><th>Day</th><th>Time</th><th>Amount</th><th>Use Chip</th><th>Merchant Name</th><th>Merchant City</th><th>Merchant State</th><th>Zip</th><th>MCC</th><th>Errors?</th><th>Is Fraud?</th></tr><tr><td>i64</td><td>i64</td><td>i64</td><td>i64</td><td>i64</td><td>str</td><td>str</td><td>str</td><td>i64</td><td>str</td><td>str</td><td>f64</td><td>i64</td><td>str</td><td>str</td></tr></thead><tbody><tr><td>0</td><td>0</td><td>2002</td><td>9</td><td>1</td><td>&quot;06:21&quot;</td><td>&quot;$134.09&quot;</td><td>&quot;Swipe Transact…</td><td>3527213246127876953</td><td>&quot;La Verne&quot;</td><td>&quot;CA&quot;</td><td>91750.0</td><td>5300</td><td>null</td><td>&quot;No&quot;</td></tr><tr><td>0</td><td>0</td><td>2002</td><td>9</td><td>1</td><td>&quot;06:42&quot;</td><td>&quot;$38.48&quot;</td><td>&quot;Swipe Transact…</td><td>-727612092139916043</td><td>&quot;Monterey Park&quot;</td><td>&quot;CA&quot;</td><td>91754.0</td><td>5411</td><td>null</td><td>&quot;No&quot;</td></tr><tr><td>0</td><td>0</td><td>2002</td><td>9</td><td>2</td><td>&quot;06:22&quot;</td><td>&quot;$120.34&quot;</td><td>&quot;Swipe Transact…</td><td>-727612092139916043</td><td>&quot;Monterey Park&quot;</td><td>&quot;CA&quot;</td><td>91754.0</td><td>5411</td><td>null</td><td>&quot;No&quot;</td></tr><tr><td>0</td><td>0</td><td>2002</td><td>9</td><td>2</td><td>&quot;17:45&quot;</td><td>&quot;$128.95&quot;</td><td>&quot;Swipe Transact…</td><td>3414527459579106770</td><td>&quot;Monterey Park&quot;</td><td>&quot;CA&quot;</td><td>91754.0</td><td>5651</td><td>null</td><td>&quot;No&quot;</td></tr><tr><td>0</td><td>0</td><td>2002</td><td>9</td><td>3</td><td>&quot;06:23&quot;</td><td>&quot;$104.71&quot;</td><td>&quot;Swipe Transact…</td><td>5817218446178736267</td><td>&quot;La Verne&quot;</td><td>&quot;CA&quot;</td><td>91750.0</td><td>5912</td><td>null</td><td>&quot;No&quot;</td></tr></tbody></table></div>"
      ],
      "text/plain": [
       "shape: (5, 15)\n",
       "┌──────┬──────┬──────┬───────┬───┬─────────┬──────┬─────────┬───────────┐\n",
       "│ User ┆ Card ┆ Year ┆ Month ┆ … ┆ Zip     ┆ MCC  ┆ Errors? ┆ Is Fraud? │\n",
       "│ ---  ┆ ---  ┆ ---  ┆ ---   ┆   ┆ ---     ┆ ---  ┆ ---     ┆ ---       │\n",
       "│ i64  ┆ i64  ┆ i64  ┆ i64   ┆   ┆ f64     ┆ i64  ┆ str     ┆ str       │\n",
       "╞══════╪══════╪══════╪═══════╪═══╪═════════╪══════╪═════════╪═══════════╡\n",
       "│ 0    ┆ 0    ┆ 2002 ┆ 9     ┆ … ┆ 91750.0 ┆ 5300 ┆ null    ┆ No        │\n",
       "│ 0    ┆ 0    ┆ 2002 ┆ 9     ┆ … ┆ 91754.0 ┆ 5411 ┆ null    ┆ No        │\n",
       "│ 0    ┆ 0    ┆ 2002 ┆ 9     ┆ … ┆ 91754.0 ┆ 5411 ┆ null    ┆ No        │\n",
       "│ 0    ┆ 0    ┆ 2002 ┆ 9     ┆ … ┆ 91754.0 ┆ 5651 ┆ null    ┆ No        │\n",
       "│ 0    ┆ 0    ┆ 2002 ┆ 9     ┆ … ┆ 91750.0 ┆ 5912 ┆ null    ┆ No        │\n",
       "└──────┴──────┴──────┴───────┴───┴─────────┴──────┴─────────┴───────────┘"
      ]
     },
     "execution_count": 3,
     "metadata": {},
     "output_type": "execute_result"
    }
   ],
   "source": [
    "df.head()"
   ]
  },
  {
   "cell_type": "code",
   "execution_count": 4,
   "metadata": {},
   "outputs": [
    {
     "data": {
      "text/html": [
       "<div><style>\n",
       ".dataframe > thead > tr,\n",
       ".dataframe > tbody > tr {\n",
       "  text-align: right;\n",
       "  white-space: pre-wrap;\n",
       "}\n",
       "</style>\n",
       "<small>shape: (3,)</small><table border=\"1\" class=\"dataframe\"><thead><tr><th>Use Chip</th></tr><tr><td>str</td></tr></thead><tbody><tr><td>&quot;Swipe Transact…</td></tr><tr><td>&quot;Online Transac…</td></tr><tr><td>&quot;Chip Transacti…</td></tr></tbody></table></div>"
      ],
      "text/plain": [
       "shape: (3,)\n",
       "Series: 'Use Chip' [str]\n",
       "[\n",
       "\t\"Swipe Transact…\n",
       "\t\"Online Transac…\n",
       "\t\"Chip Transacti…\n",
       "]"
      ]
     },
     "execution_count": 4,
     "metadata": {},
     "output_type": "execute_result"
    }
   ],
   "source": [
    "df.get_column(\"Use Chip\").unique()"
   ]
  },
  {
   "cell_type": "code",
   "execution_count": 5,
   "metadata": {},
   "outputs": [
    {
     "name": "stdout",
     "output_type": "stream",
     "text": [
      "{'Bad CVV', 'Bad Card Number', 'Technical Glitch', 'Bad Expiration', 'Insufficient Balance', 'Bad Zipcode', 'Bad PIN'}\n"
     ]
    }
   ],
   "source": [
    "errors = (\n",
    "    pl.read_csv(\"/home/grantham/windmark/data/transactions.v1.csv\")\n",
    "    .get_column(\"Errors?\")\n",
    "    .drop_nulls()\n",
    "    .unique()\n",
    "    .to_list()\n",
    ")\n",
    "\n",
    "unique_errors = set(\"\".join(errors).split(\",\"))\n",
    "\n",
    "unique_errors.remove(\"\")\n",
    "\n",
    "print(unique_errors)"
   ]
  },
  {
   "cell_type": "code",
   "execution_count": 6,
   "metadata": {},
   "outputs": [],
   "source": [
    "df = pl.read_csv(\"/home/grantham/windmark/data/transactions.v1.csv\").filter(pl.col(\"User\") < 500)\n",
    "\n",
    "df.columns = [col.lower().replace(\"?\", \"\").replace(\" \", \"_\") for col in df.columns]\n",
    "\n",
    "def mock(dataframe: pl.DataFrame, name: str, generator: Callable = fake.unique.company):\n",
    "    values: list[str] = dataframe.get_column(name).cast(pl.String).unique().to_list()\n",
    "\n",
    "    mapping = {value: generator() for value in values}\n",
    "\n",
    "    return dataframe.select(pl.exclude(name), pl.col(name).replace(mapping).alias(name))\n",
    "\n",
    "\n",
    "df = mock(dataframe=df, name=\"merchant_name\", generator=fake.unique.company)\n",
    "df = mock(dataframe=df, name=\"card\", generator=fake.unique.credit_card_number)\n",
    "df = mock(dataframe=df, name=\"user\", generator=fake.unique.name)\n",
    "\n",
    "ledger = (\n",
    "    df\n",
    "    # .filter(pl.col(\"user\") < 100)\n",
    "    .select(pl.all(), timeparts=pl.col(\"time\").str.split(\":\"))\n",
    "    .select(\n",
    "        pl.all(),\n",
    "        hour=pl.col(\"timeparts\").list.first(),\n",
    "        minute=pl.col(\"timeparts\").list.last(),\n",
    "    )\n",
    "    .select(\n",
    "        pl.all(),\n",
    "        timestamp=pl.datetime(pl.col(\"year\"), pl.col(\"month\"), pl.col(\"day\"), pl.col(\"hour\"), pl.col(\"minute\")),\n",
    "    )\n",
    "    .select(\n",
    "        \"use_chip\",\n",
    "        \"merchant_state\",\n",
    "        \"merchant_city\",\n",
    "        pl.col(\"mcc\").cast(pl.String),\n",
    "        \"card\",\n",
    "        \"timestamp\",\n",
    "        *[\n",
    "            pl.col(\"errors\").fill_null(\"\").str.contains(error).cast(pl.String).alias(f'has_{error.lower().replace(\" \", \"_\")}')\n",
    "            for error in unique_errors\n",
    "        ],\n",
    "        amount=pl.col(\"amount\").str.strip_prefix(\"$\").str.to_decimal(),\n",
    "        merchant_name=pl.col(\"merchant_name\").cast(pl.Utf8),\n",
    "        is_fraud=pl.col(\"is_fraud\"),\n",
    "        transaction_id=pl.col(\"timestamp\").cast(pl.Utf8),\n",
    "        customer_id=pl.col(\"user\"),\n",
    "    )\n",
    "    .sort(\"timestamp\")\n",
    "    .select(\n",
    "        pl.all(),\n",
    "        order_id=pl.col(\"transaction_id\").cum_count().over(\"customer_id\"),\n",
    "        timedelta=pl.col(\"timestamp\").sub(pl.col(\"timestamp\").shift().over(\"customer_id\")).dt.total_seconds(),\n",
    "        tenure=pl.col(\"timestamp\").sub(pl.col(\"timestamp\").first().over(\"customer_id\")).dt.total_seconds(),\n",
    "    )\n",
    ")"
   ]
  },
  {
   "cell_type": "code",
   "execution_count": 7,
   "metadata": {},
   "outputs": [
    {
     "data": {
      "text/html": [
       "<div><style>\n",
       ".dataframe > thead > tr,\n",
       ".dataframe > tbody > tr {\n",
       "  text-align: right;\n",
       "  white-space: pre-wrap;\n",
       "}\n",
       "</style>\n",
       "<small>shape: (5, 21)</small><table border=\"1\" class=\"dataframe\"><thead><tr><th>use_chip</th><th>merchant_state</th><th>merchant_city</th><th>mcc</th><th>card</th><th>timestamp</th><th>has_bad_cvv</th><th>has_bad_card_number</th><th>has_technical_glitch</th><th>has_bad_expiration</th><th>has_insufficient_balance</th><th>has_bad_zipcode</th><th>has_bad_pin</th><th>amount</th><th>merchant_name</th><th>is_fraud</th><th>transaction_id</th><th>customer_id</th><th>order_id</th><th>timedelta</th><th>tenure</th></tr><tr><td>str</td><td>str</td><td>str</td><td>str</td><td>str</td><td>datetime[μs]</td><td>str</td><td>str</td><td>str</td><td>str</td><td>str</td><td>str</td><td>str</td><td>decimal[*,2]</td><td>str</td><td>str</td><td>str</td><td>str</td><td>u32</td><td>i64</td><td>i64</td></tr></thead><tbody><tr><td>&quot;Swipe Transact…</td><td>&quot;CA&quot;</td><td>&quot;Sacramento&quot;</td><td>&quot;3058&quot;</td><td>&quot;675957263535&quot;</td><td>1991-11-25 06:55:00</td><td>&quot;false&quot;</td><td>&quot;false&quot;</td><td>&quot;false&quot;</td><td>&quot;false&quot;</td><td>&quot;false&quot;</td><td>&quot;false&quot;</td><td>&quot;false&quot;</td><td>355.71</td><td>&quot;Jackson-Vazque…</td><td>&quot;No&quot;</td><td>&quot;1991-11-25 06:…</td><td>&quot;Joseph Bailey&quot;</td><td>1</td><td>null</td><td>0</td></tr><tr><td>&quot;Swipe Transact…</td><td>&quot;CA&quot;</td><td>&quot;San Jose&quot;</td><td>&quot;4829&quot;</td><td>&quot;675957263535&quot;</td><td>1991-12-01 06:51:00</td><td>&quot;false&quot;</td><td>&quot;false&quot;</td><td>&quot;false&quot;</td><td>&quot;false&quot;</td><td>&quot;false&quot;</td><td>&quot;false&quot;</td><td>&quot;false&quot;</td><td>100</td><td>&quot;Reyes Group&quot;</td><td>&quot;No&quot;</td><td>&quot;1991-12-01 06:…</td><td>&quot;Joseph Bailey&quot;</td><td>2</td><td>518160</td><td>518160</td></tr><tr><td>&quot;Swipe Transact…</td><td>&quot;CA&quot;</td><td>&quot;Watsonville&quot;</td><td>&quot;5411&quot;</td><td>&quot;675957263535&quot;</td><td>1991-12-01 09:36:00</td><td>&quot;false&quot;</td><td>&quot;false&quot;</td><td>&quot;false&quot;</td><td>&quot;false&quot;</td><td>&quot;false&quot;</td><td>&quot;false&quot;</td><td>&quot;false&quot;</td><td>2.10</td><td>&quot;Hernandez-Duar…</td><td>&quot;No&quot;</td><td>&quot;1991-12-01 09:…</td><td>&quot;Joseph Bailey&quot;</td><td>3</td><td>9900</td><td>528060</td></tr><tr><td>&quot;Swipe Transact…</td><td>&quot;CA&quot;</td><td>&quot;Watsonville&quot;</td><td>&quot;5411&quot;</td><td>&quot;675957263535&quot;</td><td>1991-12-01 09:44:00</td><td>&quot;false&quot;</td><td>&quot;false&quot;</td><td>&quot;false&quot;</td><td>&quot;false&quot;</td><td>&quot;false&quot;</td><td>&quot;false&quot;</td><td>&quot;false&quot;</td><td>48.93</td><td>&quot;Payne, Howard …</td><td>&quot;No&quot;</td><td>&quot;1991-12-01 09:…</td><td>&quot;Joseph Bailey&quot;</td><td>4</td><td>480</td><td>528540</td></tr><tr><td>&quot;Swipe Transact…</td><td>&quot;CA&quot;</td><td>&quot;Watsonville&quot;</td><td>&quot;5912&quot;</td><td>&quot;675957263535&quot;</td><td>1991-12-01 10:21:00</td><td>&quot;false&quot;</td><td>&quot;false&quot;</td><td>&quot;false&quot;</td><td>&quot;false&quot;</td><td>&quot;false&quot;</td><td>&quot;false&quot;</td><td>&quot;false&quot;</td><td>52.23</td><td>&quot;Simmons, Graha…</td><td>&quot;No&quot;</td><td>&quot;1991-12-01 10:…</td><td>&quot;Joseph Bailey&quot;</td><td>5</td><td>2220</td><td>530760</td></tr></tbody></table></div>"
      ],
      "text/plain": [
       "shape: (5, 21)\n",
       "┌─────────────┬─────────────┬─────────────┬──────┬───┬─────────────┬──────────┬───────────┬────────┐\n",
       "│ use_chip    ┆ merchant_st ┆ merchant_ci ┆ mcc  ┆ … ┆ customer_id ┆ order_id ┆ timedelta ┆ tenure │\n",
       "│ ---         ┆ ate         ┆ ty          ┆ ---  ┆   ┆ ---         ┆ ---      ┆ ---       ┆ ---    │\n",
       "│ str         ┆ ---         ┆ ---         ┆ str  ┆   ┆ str         ┆ u32      ┆ i64       ┆ i64    │\n",
       "│             ┆ str         ┆ str         ┆      ┆   ┆             ┆          ┆           ┆        │\n",
       "╞═════════════╪═════════════╪═════════════╪══════╪═══╪═════════════╪══════════╪═══════════╪════════╡\n",
       "│ Swipe       ┆ CA          ┆ Sacramento  ┆ 3058 ┆ … ┆ Joseph      ┆ 1        ┆ null      ┆ 0      │\n",
       "│ Transaction ┆             ┆             ┆      ┆   ┆ Bailey      ┆          ┆           ┆        │\n",
       "│ Swipe       ┆ CA          ┆ San Jose    ┆ 4829 ┆ … ┆ Joseph      ┆ 2        ┆ 518160    ┆ 518160 │\n",
       "│ Transaction ┆             ┆             ┆      ┆   ┆ Bailey      ┆          ┆           ┆        │\n",
       "│ Swipe       ┆ CA          ┆ Watsonville ┆ 5411 ┆ … ┆ Joseph      ┆ 3        ┆ 9900      ┆ 528060 │\n",
       "│ Transaction ┆             ┆             ┆      ┆   ┆ Bailey      ┆          ┆           ┆        │\n",
       "│ Swipe       ┆ CA          ┆ Watsonville ┆ 5411 ┆ … ┆ Joseph      ┆ 4        ┆ 480       ┆ 528540 │\n",
       "│ Transaction ┆             ┆             ┆      ┆   ┆ Bailey      ┆          ┆           ┆        │\n",
       "│ Swipe       ┆ CA          ┆ Watsonville ┆ 5912 ┆ … ┆ Joseph      ┆ 5        ┆ 2220      ┆ 530760 │\n",
       "│ Transaction ┆             ┆             ┆      ┆   ┆ Bailey      ┆          ┆           ┆        │\n",
       "└─────────────┴─────────────┴─────────────┴──────┴───┴─────────────┴──────────┴───────────┴────────┘"
      ]
     },
     "execution_count": 7,
     "metadata": {},
     "output_type": "execute_result"
    }
   ],
   "source": [
    "ledger.head()"
   ]
  },
  {
   "cell_type": "code",
   "execution_count": 8,
   "metadata": {},
   "outputs": [],
   "source": [
    "from zlib import crc32\n",
    "\n",
    "def assign_split(column: str) -> pl.Expr:\n",
    "\n",
    "    seed = (\n",
    "        pl.col(column)\n",
    "        .cast(pl.String)\n",
    "        .map_elements(lambda x: float(crc32(str.encode(x)) & 0xFFFFFFFF), return_dtype=pl.Float32)\n",
    "        .mul(1 / 2**32)\n",
    "    )\n",
    "\n",
    "    return (\n",
    "        pl.when(seed.is_between(0.0, 0.6))\n",
    "        .then(pl.lit(\"train\"))\n",
    "        .when(seed.is_between(0.6, 0.8))\n",
    "        .then(pl.lit(\"validate\"))\n",
    "        .when(seed.is_between(0.8, 1.0))\n",
    "        .then(pl.lit(\"test\"))\n",
    "        .otherwise(pl.lit(\"train\"))\n",
    "    )"
   ]
  },
  {
   "cell_type": "code",
   "execution_count": 9,
   "metadata": {},
   "outputs": [],
   "source": [
    "fields = [\n",
    "    'use_chip',\n",
    "    'merchant_state',\n",
    "    'merchant_city',\n",
    "    'mcc',\n",
    "    'card',\n",
    "    'timestamp',\n",
    "    'has_technical_glitch',\n",
    "    'has_bad_pin',\n",
    "    'has_bad_zipcode',\n",
    "    'has_insufficient_balance',\n",
    "    'has_bad_cvv',\n",
    "    'has_bad_card_number',\n",
    "    'has_bad_expiration',\n",
    "    'amount',\n",
    "    'merchant_name',\n",
    "    # 'is_fraud',\n",
    "    # 'transaction_id',\n",
    "    # 'customer_id',\n",
    "    # 'order_id',\n",
    "    'timedelta',\n",
    "    'tenure',\n",
    "]"
   ]
  },
  {
   "cell_type": "code",
   "execution_count": 19,
   "metadata": {},
   "outputs": [],
   "source": [
    "lifestreams = (\n",
    "    ledger.select(\n",
    "        *[field for field in fields],\n",
    "        'is_fraud',\n",
    "        'transaction_id',\n",
    "        'customer_id',\n",
    "        'order_id',\n",
    "        split=assign_split('customer_id'),\n",
    "    )\n",
    "    .sort(\"customer_id\", \"order_id\")\n",
    "    .group_by(\"customer_id\", maintain_order=True)\n",
    "    .agg(\n",
    "        *[field for field in fields],\n",
    "        'transaction_id',\n",
    "        size=pl.len().cast(pl.Int32),\n",
    "        is_fraud=pl.col('is_fraud'),\n",
    "        split=pl.col(\"split\").last(),\n",
    "    )\n",
    "    .iter_slices(5)\n",
    ")"
   ]
  },
  {
   "cell_type": "code",
   "execution_count": 17,
   "metadata": {},
   "outputs": [],
   "source": [
    "x = next(iter(lifestreams))"
   ]
  },
  {
   "cell_type": "code",
   "execution_count": 21,
   "metadata": {},
   "outputs": [],
   "source": [
    "for index, lifestream in enumerate(lifestreams):\n",
    "    lifestream.write_avro(f\"lifestreams/lifestream-{index}.avro\", name=\"lifestream\")"
   ]
  },
  {
   "cell_type": "code",
   "execution_count": 18,
   "metadata": {},
   "outputs": [
    {
     "data": {
      "text/html": [
       "<div><style>\n",
       ".dataframe > thead > tr,\n",
       ".dataframe > tbody > tr {\n",
       "  text-align: right;\n",
       "  white-space: pre-wrap;\n",
       "}\n",
       "</style>\n",
       "<small>shape: (5, 22)</small><table border=\"1\" class=\"dataframe\"><thead><tr><th>customer_id</th><th>use_chip</th><th>merchant_state</th><th>merchant_city</th><th>mcc</th><th>card</th><th>timestamp</th><th>has_technical_glitch</th><th>has_bad_pin</th><th>has_bad_zipcode</th><th>has_insufficient_balance</th><th>has_bad_cvv</th><th>has_bad_card_number</th><th>has_bad_expiration</th><th>amount</th><th>merchant_name</th><th>timedelta</th><th>tenure</th><th>transaction_id</th><th>size</th><th>target</th><th>split</th></tr><tr><td>str</td><td>list[str]</td><td>list[str]</td><td>list[str]</td><td>list[str]</td><td>list[str]</td><td>list[datetime[μs]]</td><td>list[str]</td><td>list[str]</td><td>list[str]</td><td>list[str]</td><td>list[str]</td><td>list[str]</td><td>list[str]</td><td>list[decimal[*,2]]</td><td>list[str]</td><td>list[i64]</td><td>list[i64]</td><td>list[str]</td><td>i32</td><td>list[str]</td><td>str</td></tr></thead><tbody><tr><td>&quot;Adam Wright&quot;</td><td>[&quot;Swipe Transaction&quot;, &quot;Online Transaction&quot;, … &quot;Swipe Transaction&quot;]</td><td>[&quot;CA&quot;, null, … &quot;AZ&quot;]</td><td>[&quot;Calabasas&quot;, &quot; ONLINE&quot;, … &quot;Chandler&quot;]</td><td>[&quot;3006&quot;, &quot;4511&quot;, … &quot;4121&quot;]</td><td>[&quot;349944068043057&quot;, &quot;349944068043057&quot;, … &quot;4634009271034&quot;]</td><td>[2001-05-14 13:45:00, 2001-12-02 16:58:00, … 2020-02-28 23:00:00]</td><td>[&quot;false&quot;, &quot;false&quot;, … &quot;false&quot;]</td><td>[&quot;false&quot;, &quot;false&quot;, … &quot;false&quot;]</td><td>[&quot;false&quot;, &quot;false&quot;, … &quot;false&quot;]</td><td>[&quot;false&quot;, &quot;false&quot;, … &quot;false&quot;]</td><td>[&quot;false&quot;, &quot;false&quot;, … &quot;false&quot;]</td><td>[&quot;false&quot;, &quot;false&quot;, … &quot;false&quot;]</td><td>[&quot;false&quot;, &quot;false&quot;, … &quot;false&quot;]</td><td>[977.28, 976.14, … 12.86]</td><td>[&quot;Riley, Ball and Johnson&quot;, &quot;Knight, Brown and Cook&quot;, … &quot;Owen, Jackson and Allen&quot;]</td><td>[null, 17464380, … 2460]</td><td>[0, 17464380, … 593082900]</td><td>[&quot;2001-05-14 13:45:00.000000&quot;, &quot;2001-12-02 16:58:00.000000&quot;, … &quot;2020-02-28 23:00:00.000000&quot;]</td><td>30392</td><td>[&quot;No&quot;, &quot;No&quot;, … &quot;No&quot;]</td><td>&quot;train&quot;</td></tr><tr><td>&quot;Adrian Norris&quot;</td><td>[&quot;Swipe Transaction&quot;, &quot;Online Transaction&quot;, … &quot;Swipe Transaction&quot;]</td><td>[&quot;GA&quot;, null, … &quot;GA&quot;]</td><td>[&quot;Centerville&quot;, &quot; ONLINE&quot;, … &quot;Thomson&quot;]</td><td>[&quot;3132&quot;, &quot;4722&quot;, … &quot;5541&quot;]</td><td>[&quot;349944068043057&quot;, &quot;349944068043057&quot;, … &quot;4634009271034&quot;]</td><td>[2005-06-10 14:34:00, 2006-02-28 21:48:00, … 2020-02-28 20:07:00]</td><td>[&quot;false&quot;, &quot;false&quot;, … &quot;false&quot;]</td><td>[&quot;false&quot;, &quot;false&quot;, … &quot;false&quot;]</td><td>[&quot;false&quot;, &quot;false&quot;, … &quot;false&quot;]</td><td>[&quot;false&quot;, &quot;false&quot;, … &quot;false&quot;]</td><td>[&quot;false&quot;, &quot;false&quot;, … &quot;false&quot;]</td><td>[&quot;false&quot;, &quot;false&quot;, … &quot;false&quot;]</td><td>[&quot;false&quot;, &quot;false&quot;, … &quot;false&quot;]</td><td>[378.91, 613.41, … 72.81]</td><td>[&quot;Vance-Lowery&quot;, &quot;Rose-Taylor&quot;, … &quot;Henderson Group&quot;]</td><td>[null, 22749240, … 3480]</td><td>[0, 22749240, … 464506380]</td><td>[&quot;2005-06-10 14:34:00.000000&quot;, &quot;2006-02-28 21:48:00.000000&quot;, … &quot;2020-02-28 20:07:00.000000&quot;]</td><td>12598</td><td>[&quot;No&quot;, &quot;No&quot;, … &quot;No&quot;]</td><td>&quot;train&quot;</td></tr><tr><td>&quot;Alejandra Bail…</td><td>[&quot;Chip Transaction&quot;, &quot;Swipe Transaction&quot;, … &quot;Online Transaction&quot;]</td><td>[&quot;CA&quot;, &quot;CA&quot;, … null]</td><td>[&quot;Union City&quot;, &quot;Sunol&quot;, … &quot; ONLINE&quot;]</td><td>[&quot;5812&quot;, &quot;5541&quot;, … &quot;4121&quot;]</td><td>[&quot;4634009271034&quot;, &quot;4634009271034&quot;, … &quot;4634009271034&quot;]</td><td>[2020-01-01 08:15:00, 2020-01-01 08:43:00, … 2020-02-28 15:11:00]</td><td>[&quot;false&quot;, &quot;false&quot;, … &quot;false&quot;]</td><td>[&quot;false&quot;, &quot;false&quot;, … &quot;false&quot;]</td><td>[&quot;false&quot;, &quot;false&quot;, … &quot;false&quot;]</td><td>[&quot;false&quot;, &quot;false&quot;, … &quot;false&quot;]</td><td>[&quot;false&quot;, &quot;false&quot;, … &quot;false&quot;]</td><td>[&quot;false&quot;, &quot;false&quot;, … &quot;false&quot;]</td><td>[&quot;false&quot;, &quot;false&quot;, … &quot;false&quot;]</td><td>[5.14, 2.91, … 40.98]</td><td>[&quot;Ewing-Brewer&quot;, &quot;Martinez, Richardson and Young&quot;, … &quot;Frazier-Clark&quot;]</td><td>[null, 1680, … 2460]</td><td>[0, 1680, … 5036160]</td><td>[&quot;2020-01-01 08:15:00.000000&quot;, &quot;2020-01-01 08:43:00.000000&quot;, … &quot;2020-02-28 15:11:00.000000&quot;]</td><td>225</td><td>[&quot;No&quot;, &quot;No&quot;, … &quot;No&quot;]</td><td>&quot;test&quot;</td></tr><tr><td>&quot;Alejandra Cald…</td><td>[&quot;Chip Transaction&quot;, &quot;Chip Transaction&quot;, … &quot;Chip Transaction&quot;]</td><td>[&quot;CA&quot;, &quot;CA&quot;, … &quot;CA&quot;]</td><td>[&quot;Redding&quot;, &quot;Redding&quot;, … &quot;Redding&quot;]</td><td>[&quot;5541&quot;, &quot;5912&quot;, … &quot;5499&quot;]</td><td>[&quot;349944068043057&quot;, &quot;349944068043057&quot;, … &quot;349944068043057&quot;]</td><td>[2020-01-01 06:32:00, 2020-01-02 07:25:00, … 2020-02-28 17:48:00]</td><td>[&quot;false&quot;, &quot;false&quot;, … &quot;false&quot;]</td><td>[&quot;false&quot;, &quot;false&quot;, … &quot;false&quot;]</td><td>[&quot;false&quot;, &quot;false&quot;, … &quot;false&quot;]</td><td>[&quot;false&quot;, &quot;false&quot;, … &quot;false&quot;]</td><td>[&quot;false&quot;, &quot;false&quot;, … &quot;false&quot;]</td><td>[&quot;false&quot;, &quot;false&quot;, … &quot;false&quot;]</td><td>[&quot;false&quot;, &quot;false&quot;, … &quot;false&quot;]</td><td>[4.33, 13.31, … 1.45]</td><td>[&quot;Bird, Hicks and Mitchell&quot;, &quot;Mitchell-Johnson&quot;, … &quot;Mcdonald, Duncan and Conley&quot;]</td><td>[null, 89580, … 40680]</td><td>[0, 89580, … 5051760]</td><td>[&quot;2020-01-01 06:32:00.000000&quot;, &quot;2020-01-02 07:25:00.000000&quot;, … &quot;2020-02-28 17:48:00.000000&quot;]</td><td>171</td><td>[&quot;No&quot;, &quot;No&quot;, … &quot;No&quot;]</td><td>&quot;validate&quot;</td></tr><tr><td>&quot;Alex Hudson&quot;</td><td>[&quot;Chip Transaction&quot;, &quot;Chip Transaction&quot;, … &quot;Chip Transaction&quot;]</td><td>[&quot;CT&quot;, &quot;NJ&quot;, … &quot;NJ&quot;]</td><td>[&quot;Uncasville&quot;, &quot;Jersey City&quot;, … &quot;Jersey City&quot;]</td><td>[&quot;7995&quot;, &quot;4829&quot;, … &quot;4829&quot;]</td><td>[&quot;4634009271034&quot;, &quot;4634009271034&quot;, … &quot;4634009271034&quot;]</td><td>[2020-01-01 13:40:00, 2020-01-01 14:22:00, … 2020-02-28 14:20:00]</td><td>[&quot;false&quot;, &quot;false&quot;, … &quot;false&quot;]</td><td>[&quot;false&quot;, &quot;false&quot;, … &quot;false&quot;]</td><td>[&quot;false&quot;, &quot;false&quot;, … &quot;false&quot;]</td><td>[&quot;false&quot;, &quot;false&quot;, … &quot;false&quot;]</td><td>[&quot;false&quot;, &quot;false&quot;, … &quot;false&quot;]</td><td>[&quot;false&quot;, &quot;false&quot;, … &quot;false&quot;]</td><td>[&quot;false&quot;, &quot;false&quot;, … &quot;false&quot;]</td><td>[30.08, 0, … 0]</td><td>[&quot;Richardson, Nelson and Miller&quot;, &quot;Reyes Group&quot;, … &quot;Reyes Group&quot;]</td><td>[null, 2520, … 780]</td><td>[0, 2520, … 5013600]</td><td>[&quot;2020-01-01 13:40:00.000000&quot;, &quot;2020-01-01 14:22:00.000000&quot;, … &quot;2020-02-28 14:20:00.000000&quot;]</td><td>225</td><td>[&quot;No&quot;, &quot;No&quot;, … &quot;No&quot;]</td><td>&quot;train&quot;</td></tr></tbody></table></div>"
      ],
      "text/plain": [
       "shape: (5, 22)\n",
       "┌────────────┬────────────┬────────────┬────────────┬───┬───────────┬───────┬───────────┬──────────┐\n",
       "│ customer_i ┆ use_chip   ┆ merchant_s ┆ merchant_c ┆ … ┆ transacti ┆ size  ┆ target    ┆ split    │\n",
       "│ d          ┆ ---        ┆ tate       ┆ ity        ┆   ┆ on_id     ┆ ---   ┆ ---       ┆ ---      │\n",
       "│ ---        ┆ list[str]  ┆ ---        ┆ ---        ┆   ┆ ---       ┆ i32   ┆ list[str] ┆ str      │\n",
       "│ str        ┆            ┆ list[str]  ┆ list[str]  ┆   ┆ list[str] ┆       ┆           ┆          │\n",
       "╞════════════╪════════════╪════════════╪════════════╪═══╪═══════════╪═══════╪═══════════╪══════════╡\n",
       "│ Adam       ┆ [\"Swipe    ┆ [\"CA\",     ┆ [\"Calabasa ┆ … ┆ [\"2001-05 ┆ 30392 ┆ [\"No\",    ┆ train    │\n",
       "│ Wright     ┆ Transactio ┆ null, …    ┆ s\", \"      ┆   ┆ -14 13:45 ┆       ┆ \"No\", …   ┆          │\n",
       "│            ┆ n\",        ┆ \"AZ\"]      ┆ ONLINE\", … ┆   ┆ :00.00000 ┆       ┆ \"No\"]     ┆          │\n",
       "│            ┆ \"Online    ┆            ┆ \"Chan…     ┆   ┆ 0\", \"…    ┆       ┆           ┆          │\n",
       "│            ┆ Tr…        ┆            ┆            ┆   ┆           ┆       ┆           ┆          │\n",
       "│ Adrian     ┆ [\"Swipe    ┆ [\"GA\",     ┆ [\"Centervi ┆ … ┆ [\"2005-06 ┆ 12598 ┆ [\"No\",    ┆ train    │\n",
       "│ Norris     ┆ Transactio ┆ null, …    ┆ lle\", \"    ┆   ┆ -10 14:34 ┆       ┆ \"No\", …   ┆          │\n",
       "│            ┆ n\",        ┆ \"GA\"]      ┆ ONLINE\", … ┆   ┆ :00.00000 ┆       ┆ \"No\"]     ┆          │\n",
       "│            ┆ \"Online    ┆            ┆ \"Th…       ┆   ┆ 0\", \"…    ┆       ┆           ┆          │\n",
       "│            ┆ Tr…        ┆            ┆            ┆   ┆           ┆       ┆           ┆          │\n",
       "│ Alejandra  ┆ [\"Chip Tra ┆ [\"CA\",     ┆ [\"Union    ┆ … ┆ [\"2020-01 ┆ 225   ┆ [\"No\",    ┆ test     │\n",
       "│ Bailey     ┆ nsaction\", ┆ \"CA\", …    ┆ City\",     ┆   ┆ -01 08:15 ┆       ┆ \"No\", …   ┆          │\n",
       "│            ┆ \"Swipe     ┆ null]      ┆ \"Sunol\", … ┆   ┆ :00.00000 ┆       ┆ \"No\"]     ┆          │\n",
       "│            ┆ Tran…      ┆            ┆ \" ONLI…    ┆   ┆ 0\", \"…    ┆       ┆           ┆          │\n",
       "│ Alejandra  ┆ [\"Chip Tra ┆ [\"CA\",     ┆ [\"Redding\" ┆ … ┆ [\"2020-01 ┆ 171   ┆ [\"No\",    ┆ validate │\n",
       "│ Caldwell   ┆ nsaction\", ┆ \"CA\", …    ┆ ,          ┆   ┆ -01 06:32 ┆       ┆ \"No\", …   ┆          │\n",
       "│            ┆ \"Chip      ┆ \"CA\"]      ┆ \"Redding\", ┆   ┆ :00.00000 ┆       ┆ \"No\"]     ┆          │\n",
       "│            ┆ Trans…     ┆            ┆ … \"Reddin… ┆   ┆ 0\", \"…    ┆       ┆           ┆          │\n",
       "│ Alex       ┆ [\"Chip Tra ┆ [\"CT\",     ┆ [\"Uncasvil ┆ … ┆ [\"2020-01 ┆ 225   ┆ [\"No\",    ┆ train    │\n",
       "│ Hudson     ┆ nsaction\", ┆ \"NJ\", …    ┆ le\",       ┆   ┆ -01 13:40 ┆       ┆ \"No\", …   ┆          │\n",
       "│            ┆ \"Chip      ┆ \"NJ\"]      ┆ \"Jersey    ┆   ┆ :00.00000 ┆       ┆ \"No\"]     ┆          │\n",
       "│            ┆ Trans…     ┆            ┆ City\", … … ┆   ┆ 0\", \"…    ┆       ┆           ┆          │\n",
       "└────────────┴────────────┴────────────┴────────────┴───┴───────────┴───────┴───────────┴──────────┘"
      ]
     },
     "execution_count": 18,
     "metadata": {},
     "output_type": "execute_result"
    }
   ],
   "source": [
    "x"
   ]
  },
  {
   "cell_type": "code",
   "execution_count": null,
   "metadata": {},
   "outputs": [],
   "source": []
  }
 ],
 "metadata": {
  "kernelspec": {
   "display_name": "muvartis-o4TcNzRh-py3.10",
   "language": "python",
   "name": "python3"
  },
  "language_info": {
   "codemirror_mode": {
    "name": "ipython",
    "version": 3
   },
   "file_extension": ".py",
   "mimetype": "text/x-python",
   "name": "python",
   "nbconvert_exporter": "python",
   "pygments_lexer": "ipython3",
   "version": "3.11.8"
  }
 },
 "nbformat": 4,
 "nbformat_minor": 2
}

{
 "cells": [
  {
   "cell_type": "code",
   "execution_count": 1,
   "metadata": {},
   "outputs": [],
   "source": [
    "from typing import Callable\n",
    "\n",
    "import polars as pl\n",
    "from faker import Faker\n",
    "\n",
    "fake = Faker()\n",
    "\n",
    "%load_ext autoreload\n",
    "%autoreload 2"
   ]
  },
  {
   "cell_type": "code",
   "execution_count": 2,
   "metadata": {},
   "outputs": [],
   "source": [
    "datapath = \"/home/grantham/windmark/data/ledgers/trxns.csv\"\n",
    "\n",
    "df = pl.read_csv(datapath).filter(pl.col(\"User\") < 500)"
   ]
  },
  {
   "cell_type": "code",
   "execution_count": 3,
   "metadata": {},
   "outputs": [
    {
     "data": {
      "text/html": [
       "<div><style>\n",
       ".dataframe > thead > tr,\n",
       ".dataframe > tbody > tr {\n",
       "  text-align: right;\n",
       "  white-space: pre-wrap;\n",
       "}\n",
       "</style>\n",
       "<small>shape: (5, 15)</small><table border=\"1\" class=\"dataframe\"><thead><tr><th>User</th><th>Card</th><th>Year</th><th>Month</th><th>Day</th><th>Time</th><th>Amount</th><th>Use Chip</th><th>Merchant Name</th><th>Merchant City</th><th>Merchant State</th><th>Zip</th><th>MCC</th><th>Errors?</th><th>Is Fraud?</th></tr><tr><td>i64</td><td>i64</td><td>i64</td><td>i64</td><td>i64</td><td>str</td><td>str</td><td>str</td><td>i64</td><td>str</td><td>str</td><td>f64</td><td>i64</td><td>str</td><td>str</td></tr></thead><tbody><tr><td>0</td><td>0</td><td>2002</td><td>9</td><td>1</td><td>&quot;06:21&quot;</td><td>&quot;$134.09&quot;</td><td>&quot;Swipe Transaction&quot;</td><td>3527213246127876953</td><td>&quot;La Verne&quot;</td><td>&quot;CA&quot;</td><td>91750.0</td><td>5300</td><td>null</td><td>&quot;No&quot;</td></tr><tr><td>0</td><td>0</td><td>2002</td><td>9</td><td>1</td><td>&quot;06:42&quot;</td><td>&quot;$38.48&quot;</td><td>&quot;Swipe Transaction&quot;</td><td>-727612092139916043</td><td>&quot;Monterey Park&quot;</td><td>&quot;CA&quot;</td><td>91754.0</td><td>5411</td><td>null</td><td>&quot;No&quot;</td></tr><tr><td>0</td><td>0</td><td>2002</td><td>9</td><td>2</td><td>&quot;06:22&quot;</td><td>&quot;$120.34&quot;</td><td>&quot;Swipe Transaction&quot;</td><td>-727612092139916043</td><td>&quot;Monterey Park&quot;</td><td>&quot;CA&quot;</td><td>91754.0</td><td>5411</td><td>null</td><td>&quot;No&quot;</td></tr><tr><td>0</td><td>0</td><td>2002</td><td>9</td><td>2</td><td>&quot;17:45&quot;</td><td>&quot;$128.95&quot;</td><td>&quot;Swipe Transaction&quot;</td><td>3414527459579106770</td><td>&quot;Monterey Park&quot;</td><td>&quot;CA&quot;</td><td>91754.0</td><td>5651</td><td>null</td><td>&quot;No&quot;</td></tr><tr><td>0</td><td>0</td><td>2002</td><td>9</td><td>3</td><td>&quot;06:23&quot;</td><td>&quot;$104.71&quot;</td><td>&quot;Swipe Transaction&quot;</td><td>5817218446178736267</td><td>&quot;La Verne&quot;</td><td>&quot;CA&quot;</td><td>91750.0</td><td>5912</td><td>null</td><td>&quot;No&quot;</td></tr></tbody></table></div>"
      ],
      "text/plain": [
       "shape: (5, 15)\n",
       "┌──────┬──────┬──────┬───────┬───┬─────────┬──────┬─────────┬───────────┐\n",
       "│ User ┆ Card ┆ Year ┆ Month ┆ … ┆ Zip     ┆ MCC  ┆ Errors? ┆ Is Fraud? │\n",
       "│ ---  ┆ ---  ┆ ---  ┆ ---   ┆   ┆ ---     ┆ ---  ┆ ---     ┆ ---       │\n",
       "│ i64  ┆ i64  ┆ i64  ┆ i64   ┆   ┆ f64     ┆ i64  ┆ str     ┆ str       │\n",
       "╞══════╪══════╪══════╪═══════╪═══╪═════════╪══════╪═════════╪═══════════╡\n",
       "│ 0    ┆ 0    ┆ 2002 ┆ 9     ┆ … ┆ 91750.0 ┆ 5300 ┆ null    ┆ No        │\n",
       "│ 0    ┆ 0    ┆ 2002 ┆ 9     ┆ … ┆ 91754.0 ┆ 5411 ┆ null    ┆ No        │\n",
       "│ 0    ┆ 0    ┆ 2002 ┆ 9     ┆ … ┆ 91754.0 ┆ 5411 ┆ null    ┆ No        │\n",
       "│ 0    ┆ 0    ┆ 2002 ┆ 9     ┆ … ┆ 91754.0 ┆ 5651 ┆ null    ┆ No        │\n",
       "│ 0    ┆ 0    ┆ 2002 ┆ 9     ┆ … ┆ 91750.0 ┆ 5912 ┆ null    ┆ No        │\n",
       "└──────┴──────┴──────┴───────┴───┴─────────┴──────┴─────────┴───────────┘"
      ]
     },
     "execution_count": 3,
     "metadata": {},
     "output_type": "execute_result"
    }
   ],
   "source": [
    "df.head()"
   ]
  },
  {
   "cell_type": "code",
   "execution_count": 4,
   "metadata": {},
   "outputs": [
    {
     "data": {
      "text/html": [
       "<div><style>\n",
       ".dataframe > thead > tr,\n",
       ".dataframe > tbody > tr {\n",
       "  text-align: right;\n",
       "  white-space: pre-wrap;\n",
       "}\n",
       "</style>\n",
       "<small>shape: (3,)</small><table border=\"1\" class=\"dataframe\"><thead><tr><th>Use Chip</th></tr><tr><td>str</td></tr></thead><tbody><tr><td>&quot;Swipe Transaction&quot;</td></tr><tr><td>&quot;Online Transaction&quot;</td></tr><tr><td>&quot;Chip Transaction&quot;</td></tr></tbody></table></div>"
      ],
      "text/plain": [
       "shape: (3,)\n",
       "Series: 'Use Chip' [str]\n",
       "[\n",
       "\t\"Swipe Transaction\"\n",
       "\t\"Online Transaction\"\n",
       "\t\"Chip Transaction\"\n",
       "]"
      ]
     },
     "execution_count": 4,
     "metadata": {},
     "output_type": "execute_result"
    }
   ],
   "source": [
    "df.get_column(\"Use Chip\").unique()"
   ]
  },
  {
   "cell_type": "code",
   "execution_count": 5,
   "metadata": {},
   "outputs": [
    {
     "name": "stdout",
     "output_type": "stream",
     "text": [
      "{'Insufficient Balance', 'Technical Glitch', 'Bad Zipcode', 'Bad Expiration', 'Bad CVV', 'Bad PIN', 'Bad Card Number'}\n"
     ]
    }
   ],
   "source": [
    "errors = (\n",
    "    pl.read_csv(datapath)\n",
    "    .get_column(\"Errors?\")\n",
    "    .drop_nulls()\n",
    "    .unique()\n",
    "    .to_list()\n",
    ")\n",
    "\n",
    "unique_errors = set(\"\".join(errors).split(\",\"))\n",
    "\n",
    "unique_errors.remove(\"\")\n",
    "\n",
    "print(unique_errors)"
   ]
  },
  {
   "cell_type": "code",
   "execution_count": 6,
   "metadata": {},
   "outputs": [],
   "source": [
    "df = pl.read_csv(datapath).filter(pl.col(\"User\") < 500)\n",
    "\n",
    "df.columns = [col.lower().replace(\"?\", \"\").replace(\" \", \"_\") for col in df.columns]\n",
    "\n",
    "def mock(dataframe: pl.DataFrame, name: str, generator: Callable = fake.unique.company):\n",
    "    values: list[str] = dataframe.get_column(name).cast(pl.String).unique().to_list()\n",
    "\n",
    "    mapping = {value: generator() for value in values}\n",
    "\n",
    "    return dataframe.select(pl.exclude(name), pl.col(name).replace_strict(mapping).alias(name))\n",
    "\n",
    "\n",
    "df = mock(dataframe=df, name=\"merchant_name\", generator=fake.unique.company)\n",
    "df = mock(dataframe=df, name=\"card\", generator=fake.unique.credit_card_number)\n",
    "df = mock(dataframe=df, name=\"user\", generator=fake.unique.name)\n",
    "\n",
    "ledger = (\n",
    "    df\n",
    "    # .filter(pl.col(\"user\") < 100)\n",
    "    .select(pl.all(), timeparts=pl.col(\"time\").str.split(\":\"))\n",
    "    .select(\n",
    "        pl.all(),\n",
    "        hour=pl.col(\"timeparts\").list.first(),\n",
    "        minute=pl.col(\"timeparts\").list.last(),\n",
    "    )\n",
    "    .select(\n",
    "        pl.all(),\n",
    "        timestamp=pl.datetime(pl.col(\"year\"), pl.col(\"month\"), pl.col(\"day\"), pl.col(\"hour\"), pl.col(\"minute\")),\n",
    "    )\n",
    "    .select(\n",
    "        \"use_chip\",\n",
    "        \"merchant_state\",\n",
    "        \"merchant_city\",\n",
    "        pl.col(\"mcc\").cast(pl.String),\n",
    "        \"card\",\n",
    "        \"timestamp\",\n",
    "        *[\n",
    "            pl.col(\"errors\").fill_null(\"\").str.contains(error).cast(pl.String).alias(f'has_{error.lower().replace(\" \", \"_\")}')\n",
    "            for error in unique_errors\n",
    "        ],\n",
    "        amount=pl.col(\"amount\").str.strip_prefix(\"$\").str.to_decimal(),\n",
    "        merchant_name=pl.col(\"merchant_name\").cast(pl.Utf8),\n",
    "        is_fraud=pl.col(\"is_fraud\"),\n",
    "        transaction_id=pl.col(\"timestamp\").cast(pl.Utf8),\n",
    "        customer_id=pl.col(\"user\"),\n",
    "    )\n",
    "    .sort(\"timestamp\")\n",
    "    .select(\n",
    "        pl.all(),\n",
    "        order_id=pl.col(\"transaction_id\").cum_count().over(\"customer_id\"),\n",
    "        timedelta=pl.col(\"timestamp\").sub(pl.col(\"timestamp\").shift().over(\"customer_id\")).dt.total_seconds(),\n",
    "        tenure=pl.col(\"timestamp\").sub(pl.col(\"timestamp\").first().over(\"customer_id\")).dt.total_seconds(),\n",
    "    )\n",
    ")"
   ]
  },
  {
   "cell_type": "code",
   "execution_count": 7,
   "metadata": {},
   "outputs": [
    {
     "data": {
      "text/html": [
       "<div><style>\n",
       ".dataframe > thead > tr,\n",
       ".dataframe > tbody > tr {\n",
       "  text-align: right;\n",
       "  white-space: pre-wrap;\n",
       "}\n",
       "</style>\n",
       "<small>shape: (5, 21)</small><table border=\"1\" class=\"dataframe\"><thead><tr><th>use_chip</th><th>merchant_state</th><th>merchant_city</th><th>mcc</th><th>card</th><th>timestamp</th><th>has_insufficient_balance</th><th>has_technical_glitch</th><th>has_bad_zipcode</th><th>has_bad_expiration</th><th>has_bad_cvv</th><th>has_bad_pin</th><th>has_bad_card_number</th><th>amount</th><th>merchant_name</th><th>is_fraud</th><th>transaction_id</th><th>customer_id</th><th>order_id</th><th>timedelta</th><th>tenure</th></tr><tr><td>str</td><td>str</td><td>str</td><td>str</td><td>str</td><td>datetime[μs]</td><td>str</td><td>str</td><td>str</td><td>str</td><td>str</td><td>str</td><td>str</td><td>decimal[*,2]</td><td>str</td><td>str</td><td>str</td><td>str</td><td>u32</td><td>i64</td><td>i64</td></tr></thead><tbody><tr><td>&quot;Swipe Transaction&quot;</td><td>&quot;CA&quot;</td><td>&quot;Sacramento&quot;</td><td>&quot;3058&quot;</td><td>&quot;4765121420225254273&quot;</td><td>1991-11-25 06:55:00</td><td>&quot;false&quot;</td><td>&quot;false&quot;</td><td>&quot;false&quot;</td><td>&quot;false&quot;</td><td>&quot;false&quot;</td><td>&quot;false&quot;</td><td>&quot;false&quot;</td><td>355.71</td><td>&quot;Garcia, Smith and Clayton&quot;</td><td>&quot;No&quot;</td><td>&quot;1991-11-25 06:55:00.000000&quot;</td><td>&quot;Thomas Macdonald&quot;</td><td>1</td><td>null</td><td>0</td></tr><tr><td>&quot;Swipe Transaction&quot;</td><td>&quot;CA&quot;</td><td>&quot;San Jose&quot;</td><td>&quot;4829&quot;</td><td>&quot;4765121420225254273&quot;</td><td>1991-12-01 06:51:00</td><td>&quot;false&quot;</td><td>&quot;false&quot;</td><td>&quot;false&quot;</td><td>&quot;false&quot;</td><td>&quot;false&quot;</td><td>&quot;false&quot;</td><td>&quot;false&quot;</td><td>100.00</td><td>&quot;Patterson, White and Oconnor&quot;</td><td>&quot;No&quot;</td><td>&quot;1991-12-01 06:51:00.000000&quot;</td><td>&quot;Thomas Macdonald&quot;</td><td>2</td><td>518160</td><td>518160</td></tr><tr><td>&quot;Swipe Transaction&quot;</td><td>&quot;CA&quot;</td><td>&quot;Watsonville&quot;</td><td>&quot;5411&quot;</td><td>&quot;4765121420225254273&quot;</td><td>1991-12-01 09:36:00</td><td>&quot;false&quot;</td><td>&quot;false&quot;</td><td>&quot;false&quot;</td><td>&quot;false&quot;</td><td>&quot;false&quot;</td><td>&quot;false&quot;</td><td>&quot;false&quot;</td><td>2.10</td><td>&quot;Thompson, Castillo and Smith&quot;</td><td>&quot;No&quot;</td><td>&quot;1991-12-01 09:36:00.000000&quot;</td><td>&quot;Thomas Macdonald&quot;</td><td>3</td><td>9900</td><td>528060</td></tr><tr><td>&quot;Swipe Transaction&quot;</td><td>&quot;CA&quot;</td><td>&quot;Watsonville&quot;</td><td>&quot;5411&quot;</td><td>&quot;4765121420225254273&quot;</td><td>1991-12-01 09:44:00</td><td>&quot;false&quot;</td><td>&quot;false&quot;</td><td>&quot;false&quot;</td><td>&quot;false&quot;</td><td>&quot;false&quot;</td><td>&quot;false&quot;</td><td>&quot;false&quot;</td><td>48.93</td><td>&quot;Espinoza, Lang and Solis&quot;</td><td>&quot;No&quot;</td><td>&quot;1991-12-01 09:44:00.000000&quot;</td><td>&quot;Thomas Macdonald&quot;</td><td>4</td><td>480</td><td>528540</td></tr><tr><td>&quot;Swipe Transaction&quot;</td><td>&quot;CA&quot;</td><td>&quot;Watsonville&quot;</td><td>&quot;5912&quot;</td><td>&quot;4765121420225254273&quot;</td><td>1991-12-01 10:21:00</td><td>&quot;false&quot;</td><td>&quot;false&quot;</td><td>&quot;false&quot;</td><td>&quot;false&quot;</td><td>&quot;false&quot;</td><td>&quot;false&quot;</td><td>&quot;false&quot;</td><td>52.23</td><td>&quot;Green-Ward&quot;</td><td>&quot;No&quot;</td><td>&quot;1991-12-01 10:21:00.000000&quot;</td><td>&quot;Thomas Macdonald&quot;</td><td>5</td><td>2220</td><td>530760</td></tr></tbody></table></div>"
      ],
      "text/plain": [
       "shape: (5, 21)\n",
       "┌─────────────┬─────────────┬─────────────┬──────┬───┬─────────────┬──────────┬───────────┬────────┐\n",
       "│ use_chip    ┆ merchant_st ┆ merchant_ci ┆ mcc  ┆ … ┆ customer_id ┆ order_id ┆ timedelta ┆ tenure │\n",
       "│ ---         ┆ ate         ┆ ty          ┆ ---  ┆   ┆ ---         ┆ ---      ┆ ---       ┆ ---    │\n",
       "│ str         ┆ ---         ┆ ---         ┆ str  ┆   ┆ str         ┆ u32      ┆ i64       ┆ i64    │\n",
       "│             ┆ str         ┆ str         ┆      ┆   ┆             ┆          ┆           ┆        │\n",
       "╞═════════════╪═════════════╪═════════════╪══════╪═══╪═════════════╪══════════╪═══════════╪════════╡\n",
       "│ Swipe       ┆ CA          ┆ Sacramento  ┆ 3058 ┆ … ┆ Thomas      ┆ 1        ┆ null      ┆ 0      │\n",
       "│ Transaction ┆             ┆             ┆      ┆   ┆ Macdonald   ┆          ┆           ┆        │\n",
       "│ Swipe       ┆ CA          ┆ San Jose    ┆ 4829 ┆ … ┆ Thomas      ┆ 2        ┆ 518160    ┆ 518160 │\n",
       "│ Transaction ┆             ┆             ┆      ┆   ┆ Macdonald   ┆          ┆           ┆        │\n",
       "│ Swipe       ┆ CA          ┆ Watsonville ┆ 5411 ┆ … ┆ Thomas      ┆ 3        ┆ 9900      ┆ 528060 │\n",
       "│ Transaction ┆             ┆             ┆      ┆   ┆ Macdonald   ┆          ┆           ┆        │\n",
       "│ Swipe       ┆ CA          ┆ Watsonville ┆ 5411 ┆ … ┆ Thomas      ┆ 4        ┆ 480       ┆ 528540 │\n",
       "│ Transaction ┆             ┆             ┆      ┆   ┆ Macdonald   ┆          ┆           ┆        │\n",
       "│ Swipe       ┆ CA          ┆ Watsonville ┆ 5912 ┆ … ┆ Thomas      ┆ 5        ┆ 2220      ┆ 530760 │\n",
       "│ Transaction ┆             ┆             ┆      ┆   ┆ Macdonald   ┆          ┆           ┆        │\n",
       "└─────────────┴─────────────┴─────────────┴──────┴───┴─────────────┴──────────┴───────────┴────────┘"
      ]
     },
     "execution_count": 7,
     "metadata": {},
     "output_type": "execute_result"
    }
   ],
   "source": [
    "ledger.head()"
   ]
  },
  {
   "cell_type": "code",
   "execution_count": 8,
   "metadata": {},
   "outputs": [],
   "source": [
    "from zlib import crc32\n",
    "\n",
    "def assign_split(column: str) -> pl.Expr:\n",
    "\n",
    "    seed = (\n",
    "        pl.col(column)\n",
    "        .cast(pl.String)\n",
    "        .map_elements(lambda x: float(crc32(str.encode(x)) & 0xFFFFFFFF), return_dtype=pl.Float32)\n",
    "        .mul(1 / 2**32)\n",
    "    )\n",
    "\n",
    "    return (\n",
    "        pl.when(seed.is_between(0.0, 0.6))\n",
    "        .then(pl.lit(\"train\"))\n",
    "        .when(seed.is_between(0.6, 0.8))\n",
    "        .then(pl.lit(\"validate\"))\n",
    "        .when(seed.is_between(0.8, 1.0))\n",
    "        .then(pl.lit(\"test\"))\n",
    "        .otherwise(pl.lit(\"train\"))\n",
    "    )"
   ]
  },
  {
   "cell_type": "code",
   "execution_count": 9,
   "metadata": {},
   "outputs": [],
   "source": [
    "fields = [\n",
    "    'use_chip',\n",
    "    'merchant_state',\n",
    "    'merchant_city',\n",
    "    'mcc',\n",
    "    'card',\n",
    "    'timestamp',\n",
    "    'has_technical_glitch',\n",
    "    'has_bad_pin',\n",
    "    'has_bad_zipcode',\n",
    "    'has_insufficient_balance',\n",
    "    'has_bad_cvv',\n",
    "    'has_bad_card_number',\n",
    "    'has_bad_expiration',\n",
    "    'amount',\n",
    "    'merchant_name',\n",
    "    # 'is_fraud',\n",
    "    # 'transaction_id',\n",
    "    # 'customer_id',\n",
    "    # 'order_id',\n",
    "    'timedelta',\n",
    "    'tenure',\n",
    "]"
   ]
  },
  {
   "cell_type": "code",
   "execution_count": 10,
   "metadata": {},
   "outputs": [],
   "source": [
    "lifestreams = (\n",
    "    ledger.select(\n",
    "        *[field for field in fields],\n",
    "        'is_fraud',\n",
    "        'transaction_id',\n",
    "        'customer_id',\n",
    "        'order_id',\n",
    "        split=assign_split('customer_id'),\n",
    "    )\n",
    "    .sort(\"customer_id\", \"order_id\")\n",
    "    .group_by(\"customer_id\", maintain_order=True)\n",
    "    .agg(\n",
    "        *[field for field in fields],\n",
    "        'transaction_id',\n",
    "        size=pl.len().cast(pl.Int32),\n",
    "        is_fraud=pl.col('is_fraud'),\n",
    "        split=pl.col(\"split\").last(),\n",
    "    )\n",
    "    .iter_slices(5)\n",
    ")"
   ]
  },
  {
   "cell_type": "code",
   "execution_count": 11,
   "metadata": {},
   "outputs": [],
   "source": [
    "for index, lifestream in enumerate(lifestreams):\n",
    "    lifestream.write_ndjson(f\"../data/lifestreams/trxns/trxns-{index}.ndjson\")"
   ]
  },
  {
   "cell_type": "code",
   "execution_count": 12,
   "metadata": {},
   "outputs": [
    {
     "data": {
      "text/html": [
       "<div><style>\n",
       ".dataframe > thead > tr,\n",
       ".dataframe > tbody > tr {\n",
       "  text-align: right;\n",
       "  white-space: pre-wrap;\n",
       "}\n",
       "</style>\n",
       "<small>shape: (5, 22)</small><table border=\"1\" class=\"dataframe\"><thead><tr><th>customer_id</th><th>use_chip</th><th>merchant_state</th><th>merchant_city</th><th>mcc</th><th>card</th><th>timestamp</th><th>has_technical_glitch</th><th>has_bad_pin</th><th>has_bad_zipcode</th><th>has_insufficient_balance</th><th>has_bad_cvv</th><th>has_bad_card_number</th><th>has_bad_expiration</th><th>amount</th><th>merchant_name</th><th>timedelta</th><th>tenure</th><th>transaction_id</th><th>size</th><th>is_fraud</th><th>split</th></tr><tr><td>str</td><td>list[str]</td><td>list[str]</td><td>list[str]</td><td>list[str]</td><td>list[str]</td><td>list[datetime[μs]]</td><td>list[str]</td><td>list[str]</td><td>list[str]</td><td>list[str]</td><td>list[str]</td><td>list[str]</td><td>list[str]</td><td>list[decimal[*,2]]</td><td>list[str]</td><td>list[i64]</td><td>list[i64]</td><td>list[str]</td><td>i32</td><td>list[str]</td><td>str</td></tr></thead><tbody><tr><td>&quot;Zachary Booth&quot;</td><td>[&quot;Swipe Transaction&quot;, &quot;Swipe Transaction&quot;, … &quot;Swipe Transaction&quot;]</td><td>[&quot;NY&quot;, &quot;NY&quot;, … &quot;NY&quot;]</td><td>[&quot;Horseheads&quot;, &quot;Canaseraga&quot;, … &quot;Brooktondale&quot;]</td><td>[&quot;7832&quot;, &quot;5499&quot;, … &quot;5211&quot;]</td><td>[&quot;5163165729772924&quot;, &quot;5163165729772924&quot;, … &quot;4241445643534330&quot;]</td><td>[2020-01-02 11:48:00, 2020-01-03 21:08:00, … 2020-02-28 12:34:00]</td><td>[&quot;false&quot;, &quot;false&quot;, … &quot;false&quot;]</td><td>[&quot;false&quot;, &quot;false&quot;, … &quot;false&quot;]</td><td>[&quot;false&quot;, &quot;false&quot;, … &quot;false&quot;]</td><td>[&quot;false&quot;, &quot;false&quot;, … &quot;false&quot;]</td><td>[&quot;false&quot;, &quot;false&quot;, … &quot;false&quot;]</td><td>[&quot;false&quot;, &quot;false&quot;, … &quot;false&quot;]</td><td>[&quot;false&quot;, &quot;false&quot;, … &quot;false&quot;]</td><td>[24.47, -96.00, … 46.44]</td><td>[&quot;Thomas-Vang&quot;, &quot;Dawson, Castillo and Mcdowell&quot;, … &quot;Powell, Smith and Bryant&quot;]</td><td>[null, 120000, … 75480]</td><td>[0, 120000, … 4927560]</td><td>[&quot;2020-01-02 11:48:00.000000&quot;, &quot;2020-01-03 21:08:00.000000&quot;, … &quot;2020-02-28 12:34:00.000000&quot;]</td><td>86</td><td>[&quot;No&quot;, &quot;No&quot;, … &quot;No&quot;]</td><td>&quot;train&quot;</td></tr><tr><td>&quot;Zachary Hutchinson&quot;</td><td>[&quot;Swipe Transaction&quot;, &quot;Swipe Transaction&quot;, … &quot;Chip Transaction&quot;]</td><td>[&quot;OK&quot;, &quot;LA&quot;, … &quot;NC&quot;]</td><td>[&quot;Roland&quot;, &quot;Abbeville&quot;, … &quot;Goldsboro&quot;]</td><td>[&quot;3000&quot;, &quot;5541&quot;, … &quot;5411&quot;]</td><td>[&quot;4829359803135&quot;, &quot;4829359803135&quot;, … &quot;4829359803135&quot;]</td><td>[2009-06-12 07:18:00, 2009-07-01 12:04:00, … 2020-02-28 11:38:00]</td><td>[&quot;false&quot;, &quot;false&quot;, … &quot;false&quot;]</td><td>[&quot;false&quot;, &quot;false&quot;, … &quot;false&quot;]</td><td>[&quot;false&quot;, &quot;false&quot;, … &quot;false&quot;]</td><td>[&quot;false&quot;, &quot;false&quot;, … &quot;false&quot;]</td><td>[&quot;false&quot;, &quot;false&quot;, … &quot;false&quot;]</td><td>[&quot;false&quot;, &quot;false&quot;, … &quot;false&quot;]</td><td>[&quot;false&quot;, &quot;false&quot;, … &quot;false&quot;]</td><td>[1161.92, 11.44, … 11.57]</td><td>[&quot;Boyd-Rivera&quot;, &quot;Spears-Taylor&quot;, … &quot;Stewart, Mccarthy and Rose&quot;]</td><td>[null, 1658760, … 1260]</td><td>[0, 1658760, … 338098800]</td><td>[&quot;2009-06-12 07:18:00.000000&quot;, &quot;2009-07-01 12:04:00.000000&quot;, … &quot;2020-02-28 11:38:00.000000&quot;]</td><td>18284</td><td>[&quot;No&quot;, &quot;No&quot;, … &quot;No&quot;]</td><td>&quot;train&quot;</td></tr><tr><td>&quot;Zachary Michael&quot;</td><td>[&quot;Swipe Transaction&quot;, &quot;Swipe Transaction&quot;, … &quot;Chip Transaction&quot;]</td><td>[&quot;TX&quot;, &quot;TX&quot;, … &quot;TX&quot;]</td><td>[&quot;Houston&quot;, &quot;Houston&quot;, … &quot;Diboll&quot;]</td><td>[&quot;5541&quot;, &quot;5912&quot;, … &quot;5541&quot;]</td><td>[&quot;4829359803135&quot;, &quot;4829359803135&quot;, … &quot;4829359803135&quot;]</td><td>[2006-10-01 09:52:00, 2006-10-01 11:01:00, … 2020-02-28 09:48:00]</td><td>[&quot;false&quot;, &quot;false&quot;, … &quot;false&quot;]</td><td>[&quot;false&quot;, &quot;false&quot;, … &quot;false&quot;]</td><td>[&quot;false&quot;, &quot;false&quot;, … &quot;false&quot;]</td><td>[&quot;false&quot;, &quot;false&quot;, … &quot;false&quot;]</td><td>[&quot;false&quot;, &quot;false&quot;, … &quot;false&quot;]</td><td>[&quot;false&quot;, &quot;false&quot;, … &quot;false&quot;]</td><td>[&quot;false&quot;, &quot;false&quot;, … &quot;false&quot;]</td><td>[12.24, 112.48, … 11.05]</td><td>[&quot;Spears-Taylor&quot;, &quot;Avila-Fitzpatrick&quot;, … &quot;Spears-Taylor&quot;]</td><td>[null, 4140, … 360]</td><td>[0, 4140, … 423186960]</td><td>[&quot;2006-10-01 09:52:00.000000&quot;, &quot;2006-10-01 11:01:00.000000&quot;, … &quot;2020-02-28 09:48:00.000000&quot;]</td><td>10978</td><td>[&quot;No&quot;, &quot;No&quot;, … &quot;No&quot;]</td><td>&quot;train&quot;</td></tr><tr><td>&quot;Zachary Perez&quot;</td><td>[&quot;Swipe Transaction&quot;, &quot;Swipe Transaction&quot;, … &quot;Chip Transaction&quot;]</td><td>[&quot;ID&quot;, &quot;UT&quot;, … &quot;ID&quot;]</td><td>[&quot;Sagle&quot;, &quot;Kaysville&quot;, … &quot;Fernwood&quot;]</td><td>[&quot;7832&quot;, &quot;5300&quot;, … &quot;7538&quot;]</td><td>[&quot;4241445643534330&quot;, &quot;4241445643534330&quot;, … &quot;4829359803135&quot;]</td><td>[2003-10-01 11:00:00, 2003-10-01 13:15:00, … 2020-02-28 18:52:00]</td><td>[&quot;false&quot;, &quot;false&quot;, … &quot;false&quot;]</td><td>[&quot;false&quot;, &quot;false&quot;, … &quot;false&quot;]</td><td>[&quot;false&quot;, &quot;false&quot;, … &quot;false&quot;]</td><td>[&quot;false&quot;, &quot;false&quot;, … &quot;false&quot;]</td><td>[&quot;false&quot;, &quot;false&quot;, … &quot;false&quot;]</td><td>[&quot;false&quot;, &quot;false&quot;, … &quot;false&quot;]</td><td>[&quot;false&quot;, &quot;false&quot;, … &quot;false&quot;]</td><td>[27.12, 42.81, … 33.50]</td><td>[&quot;Thomas-Vang&quot;, &quot;Bird, Foley and Lee&quot;, … &quot;Villegas-Ortiz&quot;]</td><td>[null, 8100, … 5340]</td><td>[0, 8100, … 517909920]</td><td>[&quot;2003-10-01 11:00:00.000000&quot;, &quot;2003-10-01 13:15:00.000000&quot;, … &quot;2020-02-28 18:52:00.000000&quot;]</td><td>21468</td><td>[&quot;No&quot;, &quot;No&quot;, … &quot;No&quot;]</td><td>&quot;train&quot;</td></tr><tr><td>&quot;Zachary Thompson&quot;</td><td>[&quot;Chip Transaction&quot;, &quot;Chip Transaction&quot;, … &quot;Swipe Transaction&quot;]</td><td>[&quot;OH&quot;, &quot;OH&quot;, … &quot;OH&quot;]</td><td>[&quot;Columbus&quot;, &quot;Columbus&quot;, … &quot;Columbus&quot;]</td><td>[&quot;5812&quot;, &quot;5814&quot;, … &quot;5812&quot;]</td><td>[&quot;5163165729772924&quot;, &quot;5163165729772924&quot;, … &quot;4241445643534330&quot;]</td><td>[2020-01-01 18:35:00, 2020-01-01 20:15:00, … 2020-02-28 19:16:00]</td><td>[&quot;false&quot;, &quot;false&quot;, … &quot;false&quot;]</td><td>[&quot;false&quot;, &quot;false&quot;, … &quot;false&quot;]</td><td>[&quot;false&quot;, &quot;false&quot;, … &quot;false&quot;]</td><td>[&quot;false&quot;, &quot;false&quot;, … &quot;false&quot;]</td><td>[&quot;false&quot;, &quot;false&quot;, … &quot;false&quot;]</td><td>[&quot;false&quot;, &quot;false&quot;, … &quot;false&quot;]</td><td>[&quot;false&quot;, &quot;false&quot;, … &quot;false&quot;]</td><td>[63.60, 66.80, … 56.18]</td><td>[&quot;Kim Inc&quot;, &quot;Blake, Gray and Chandler&quot;, … &quot;Kim Inc&quot;]</td><td>[null, 6000, … 21840]</td><td>[0, 6000, … 5013660]</td><td>[&quot;2020-01-01 18:35:00.000000&quot;, &quot;2020-01-01 20:15:00.000000&quot;, … &quot;2020-02-28 19:16:00.000000&quot;]</td><td>55</td><td>[&quot;No&quot;, &quot;No&quot;, … &quot;No&quot;]</td><td>&quot;train&quot;</td></tr></tbody></table></div>"
      ],
      "text/plain": [
       "shape: (5, 22)\n",
       "┌─────────────┬────────────┬────────────┬────────────┬───┬────────────┬───────┬────────────┬───────┐\n",
       "│ customer_id ┆ use_chip   ┆ merchant_s ┆ merchant_c ┆ … ┆ transactio ┆ size  ┆ is_fraud   ┆ split │\n",
       "│ ---         ┆ ---        ┆ tate       ┆ ity        ┆   ┆ n_id       ┆ ---   ┆ ---        ┆ ---   │\n",
       "│ str         ┆ list[str]  ┆ ---        ┆ ---        ┆   ┆ ---        ┆ i32   ┆ list[str]  ┆ str   │\n",
       "│             ┆            ┆ list[str]  ┆ list[str]  ┆   ┆ list[str]  ┆       ┆            ┆       │\n",
       "╞═════════════╪════════════╪════════════╪════════════╪═══╪════════════╪═══════╪════════════╪═══════╡\n",
       "│ Zachary     ┆ [\"Swipe    ┆ [\"NY\",     ┆ [\"Horsehea ┆ … ┆ [\"2020-01- ┆ 86    ┆ [\"No\",     ┆ train │\n",
       "│ Booth       ┆ Transactio ┆ \"NY\", …    ┆ ds\", \"Cana ┆   ┆ 02 11:48:0 ┆       ┆ \"No\", …    ┆       │\n",
       "│             ┆ n\", \"Swipe ┆ \"NY\"]      ┆ seraga\",   ┆   ┆ 0.000000\", ┆       ┆ \"No\"]      ┆       │\n",
       "│             ┆ T…         ┆            ┆ ……         ┆   ┆ …          ┆       ┆            ┆       │\n",
       "│ Zachary     ┆ [\"Swipe    ┆ [\"OK\",     ┆ [\"Roland\", ┆ … ┆ [\"2009-06- ┆ 18284 ┆ [\"No\",     ┆ train │\n",
       "│ Hutchinson  ┆ Transactio ┆ \"LA\", …    ┆ \"Abbeville ┆   ┆ 12 07:18:0 ┆       ┆ \"No\", …    ┆       │\n",
       "│             ┆ n\", \"Swipe ┆ \"NC\"]      ┆ \", … \"Gol… ┆   ┆ 0.000000\", ┆       ┆ \"No\"]      ┆       │\n",
       "│             ┆ T…         ┆            ┆            ┆   ┆ …          ┆       ┆            ┆       │\n",
       "│ Zachary     ┆ [\"Swipe    ┆ [\"TX\",     ┆ [\"Houston\" ┆ … ┆ [\"2006-10- ┆ 10978 ┆ [\"No\",     ┆ train │\n",
       "│ Michael     ┆ Transactio ┆ \"TX\", …    ┆ ,          ┆   ┆ 01 09:52:0 ┆       ┆ \"No\", …    ┆       │\n",
       "│             ┆ n\", \"Swipe ┆ \"TX\"]      ┆ \"Houston\", ┆   ┆ 0.000000\", ┆       ┆ \"No\"]      ┆       │\n",
       "│             ┆ T…         ┆            ┆ … \"Dibo…   ┆   ┆ …          ┆       ┆            ┆       │\n",
       "│ Zachary     ┆ [\"Swipe    ┆ [\"ID\",     ┆ [\"Sagle\",  ┆ … ┆ [\"2003-10- ┆ 21468 ┆ [\"No\",     ┆ train │\n",
       "│ Perez       ┆ Transactio ┆ \"UT\", …    ┆ \"Kaysville ┆   ┆ 01 11:00:0 ┆       ┆ \"No\", …    ┆       │\n",
       "│             ┆ n\", \"Swipe ┆ \"ID\"]      ┆ \", …       ┆   ┆ 0.000000\", ┆       ┆ \"No\"]      ┆       │\n",
       "│             ┆ T…         ┆            ┆ \"Fern…     ┆   ┆ …          ┆       ┆            ┆       │\n",
       "│ Zachary     ┆ [\"Chip Tra ┆ [\"OH\",     ┆ [\"Columbus ┆ … ┆ [\"2020-01- ┆ 55    ┆ [\"No\",     ┆ train │\n",
       "│ Thompson    ┆ nsaction\", ┆ \"OH\", …    ┆ \", \"Columb ┆   ┆ 01 18:35:0 ┆       ┆ \"No\", …    ┆       │\n",
       "│             ┆ \"Chip Tra… ┆ \"OH\"]      ┆ us\", …     ┆   ┆ 0.000000\", ┆       ┆ \"No\"]      ┆       │\n",
       "│             ┆            ┆            ┆ \"Co…       ┆   ┆ …          ┆       ┆            ┆       │\n",
       "└─────────────┴────────────┴────────────┴────────────┴───┴────────────┴───────┴────────────┴───────┘"
      ]
     },
     "execution_count": 12,
     "metadata": {},
     "output_type": "execute_result"
    }
   ],
   "source": [
    "lifestream"
   ]
  },
  {
   "cell_type": "code",
   "execution_count": null,
   "metadata": {},
   "outputs": [],
   "source": []
  }
 ],
 "metadata": {
  "kernelspec": {
   "display_name": "muvartis-o4TcNzRh-py3.10",
   "language": "python",
   "name": "python3"
  },
  "language_info": {
   "codemirror_mode": {
    "name": "ipython",
    "version": 3
   },
   "file_extension": ".py",
   "mimetype": "text/x-python",
   "name": "python",
   "nbconvert_exporter": "python",
   "pygments_lexer": "ipython3",
   "version": "3.11.8"
  }
 },
 "nbformat": 4,
 "nbformat_minor": 2
}

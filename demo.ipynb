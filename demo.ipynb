{
 "cells": [
  {
   "cell_type": "markdown",
   "metadata": {},
   "source": [
    "# Windmark Training Pipeline Demonstration"
   ]
  },
  {
   "cell_type": "code",
   "execution_count": 11,
   "metadata": {},
   "outputs": [],
   "source": [
    "import polars as pl\n",
    "\n",
    "import windmark as wm"
   ]
  },
  {
   "cell_type": "code",
   "execution_count": 12,
   "metadata": {},
   "outputs": [],
   "source": [
    "ledger = \"/home/grantham/windmark/data/quarter_ledger.parquet\""
   ]
  },
  {
   "cell_type": "code",
   "execution_count": 13,
   "metadata": {
    "tags": []
   },
   "outputs": [
    {
     "data": {
      "text/html": [
       "<div><style>\n",
       ".dataframe > thead > tr,\n",
       ".dataframe > tbody > tr {\n",
       "  text-align: right;\n",
       "  white-space: pre-wrap;\n",
       "}\n",
       "</style>\n",
       "<small>shape: (10, 20)</small><table border=\"1\" class=\"dataframe\"><thead><tr><th>use_chip</th><th>merchant_state</th><th>merchant_city</th><th>mcc</th><th>card</th><th>timestamp</th><th>has_bad_cvv</th><th>has_bad_pin</th><th>has_bad_expiration</th><th>has_bad_zipcode</th><th>has_bad_card_number</th><th>has_technical_glitch</th><th>has_insufficient_balance</th><th>amount</th><th>merchant_name</th><th>target</th><th>transaction_id</th><th>customer_id</th><th>order_id</th><th>timedelta</th></tr><tr><td>str</td><td>str</td><td>str</td><td>i64</td><td>str</td><td>datetime[μs]</td><td>bool</td><td>bool</td><td>bool</td><td>bool</td><td>bool</td><td>bool</td><td>bool</td><td>f64</td><td>str</td><td>str</td><td>str</td><td>str</td><td>u32</td><td>i64</td></tr></thead><tbody><tr><td>&quot;Chip Transacti…</td><td>&quot;CA&quot;</td><td>&quot;Watsonville&quot;</td><td>7538</td><td>&quot;502025075610&quot;</td><td>2020-02-27 09:10:00</td><td>false</td><td>false</td><td>false</td><td>false</td><td>false</td><td>false</td><td>false</td><td>27.77</td><td>&quot;Higgins, Bond …</td><td>&quot;No&quot;</td><td>&quot;2020-02-27 09:…</td><td>&quot;Kenneth Chapma…</td><td>82346</td><td>60</td></tr><tr><td>&quot;Chip Transacti…</td><td>&quot;CA&quot;</td><td>&quot;Watsonville&quot;</td><td>7538</td><td>&quot;34653790880949…</td><td>2020-02-27 10:48:00</td><td>false</td><td>false</td><td>false</td><td>false</td><td>false</td><td>false</td><td>false</td><td>25.97</td><td>&quot;Wilkerson-Harr…</td><td>&quot;No&quot;</td><td>&quot;2020-02-27 10:…</td><td>&quot;Kenneth Chapma…</td><td>82347</td><td>0</td></tr><tr><td>&quot;Chip Transacti…</td><td>&quot;CA&quot;</td><td>&quot;Watsonville&quot;</td><td>5812</td><td>&quot;35774201853993…</td><td>2020-02-27 11:33:00</td><td>false</td><td>false</td><td>false</td><td>false</td><td>false</td><td>false</td><td>false</td><td>12.14</td><td>&quot;Gibbs, Dixon a…</td><td>&quot;No&quot;</td><td>&quot;2020-02-27 11:…</td><td>&quot;Kenneth Chapma…</td><td>82348</td><td>0</td></tr><tr><td>&quot;Swipe Transact…</td><td>&quot;CA&quot;</td><td>&quot;San Jose&quot;</td><td>4829</td><td>&quot;35412309978311…</td><td>2020-02-27 16:55:00</td><td>false</td><td>false</td><td>false</td><td>false</td><td>false</td><td>false</td><td>false</td><td>140.0</td><td>&quot;Warren, Valdez…</td><td>&quot;No&quot;</td><td>&quot;2020-02-27 16:…</td><td>&quot;Kenneth Chapma…</td><td>82349</td><td>0</td></tr><tr><td>&quot;Swipe Transact…</td><td>&quot;CA&quot;</td><td>&quot;San Jose&quot;</td><td>4829</td><td>&quot;35412309978311…</td><td>2020-02-27 18:12:00</td><td>false</td><td>false</td><td>false</td><td>false</td><td>false</td><td>false</td><td>false</td><td>100.0</td><td>&quot;Warren, Valdez…</td><td>&quot;No&quot;</td><td>&quot;2020-02-27 18:…</td><td>&quot;Kenneth Chapma…</td><td>82350</td><td>0</td></tr><tr><td>&quot;Swipe Transact…</td><td>&quot;CA&quot;</td><td>&quot;San Jose&quot;</td><td>4829</td><td>&quot;34653790880949…</td><td>2020-02-27 18:51:00</td><td>false</td><td>false</td><td>false</td><td>false</td><td>false</td><td>false</td><td>false</td><td>140.0</td><td>&quot;Warren, Valdez…</td><td>&quot;No&quot;</td><td>&quot;2020-02-27 18:…</td><td>&quot;Kenneth Chapma…</td><td>82351</td><td>0</td></tr><tr><td>&quot;Chip Transacti…</td><td>&quot;CA&quot;</td><td>&quot;Watsonville&quot;</td><td>5411</td><td>&quot;35412309978311…</td><td>2020-02-27 22:03:00</td><td>false</td><td>false</td><td>false</td><td>false</td><td>false</td><td>false</td><td>false</td><td>10.39</td><td>&quot;Bentley-Romero…</td><td>&quot;No&quot;</td><td>&quot;2020-02-27 22:…</td><td>&quot;Kenneth Chapma…</td><td>82352</td><td>0</td></tr><tr><td>&quot;Swipe Transact…</td><td>&quot;CA&quot;</td><td>&quot;Merced&quot;</td><td>5719</td><td>&quot;35412309978311…</td><td>2020-02-28 09:48:00</td><td>false</td><td>false</td><td>false</td><td>false</td><td>false</td><td>false</td><td>false</td><td>23.39</td><td>&quot;Walters, Moore…</td><td>&quot;No&quot;</td><td>&quot;2020-02-28 09:…</td><td>&quot;Kenneth Chapma…</td><td>82353</td><td>0</td></tr><tr><td>&quot;Chip Transacti…</td><td>&quot;CA&quot;</td><td>&quot;Watsonville&quot;</td><td>7538</td><td>&quot;502025075610&quot;</td><td>2020-02-28 14:02:00</td><td>false</td><td>false</td><td>false</td><td>false</td><td>false</td><td>false</td><td>false</td><td>22.0</td><td>&quot;Higgins, Bond …</td><td>&quot;No&quot;</td><td>&quot;2020-02-28 14:…</td><td>&quot;Kenneth Chapma…</td><td>82354</td><td>0</td></tr><tr><td>&quot;Swipe Transact…</td><td>&quot;CA&quot;</td><td>&quot;San Jose&quot;</td><td>4829</td><td>&quot;35412309978311…</td><td>2020-02-28 16:46:00</td><td>false</td><td>false</td><td>false</td><td>false</td><td>false</td><td>false</td><td>false</td><td>120.0</td><td>&quot;Warren, Valdez…</td><td>&quot;No&quot;</td><td>&quot;2020-02-28 16:…</td><td>&quot;Kenneth Chapma…</td><td>82355</td><td>0</td></tr></tbody></table></div>"
      ],
      "text/plain": [
       "shape: (10, 20)\n",
       "┌────────────┬────────────┬────────────┬──────┬───┬────────────┬────────────┬──────────┬───────────┐\n",
       "│ use_chip   ┆ merchant_s ┆ merchant_c ┆ mcc  ┆ … ┆ transactio ┆ customer_i ┆ order_id ┆ timedelta │\n",
       "│ ---        ┆ tate       ┆ ity        ┆ ---  ┆   ┆ n_id       ┆ d          ┆ ---      ┆ ---       │\n",
       "│ str        ┆ ---        ┆ ---        ┆ i64  ┆   ┆ ---        ┆ ---        ┆ u32      ┆ i64       │\n",
       "│            ┆ str        ┆ str        ┆      ┆   ┆ str        ┆ str        ┆          ┆           │\n",
       "╞════════════╪════════════╪════════════╪══════╪═══╪════════════╪════════════╪══════════╪═══════════╡\n",
       "│ Chip Trans ┆ CA         ┆ Watsonvill ┆ 7538 ┆ … ┆ 2020-02-27 ┆ Kenneth    ┆ 82346    ┆ 60        │\n",
       "│ action     ┆            ┆ e          ┆      ┆   ┆ 09:10:00.0 ┆ Chapman    ┆          ┆           │\n",
       "│            ┆            ┆            ┆      ┆   ┆ 00000      ┆            ┆          ┆           │\n",
       "│ Chip Trans ┆ CA         ┆ Watsonvill ┆ 7538 ┆ … ┆ 2020-02-27 ┆ Kenneth    ┆ 82347    ┆ 0         │\n",
       "│ action     ┆            ┆ e          ┆      ┆   ┆ 10:48:00.0 ┆ Chapman    ┆          ┆           │\n",
       "│            ┆            ┆            ┆      ┆   ┆ 00000      ┆            ┆          ┆           │\n",
       "│ Chip Trans ┆ CA         ┆ Watsonvill ┆ 5812 ┆ … ┆ 2020-02-27 ┆ Kenneth    ┆ 82348    ┆ 0         │\n",
       "│ action     ┆            ┆ e          ┆      ┆   ┆ 11:33:00.0 ┆ Chapman    ┆          ┆           │\n",
       "│            ┆            ┆            ┆      ┆   ┆ 00000      ┆            ┆          ┆           │\n",
       "│ Swipe Tran ┆ CA         ┆ San Jose   ┆ 4829 ┆ … ┆ 2020-02-27 ┆ Kenneth    ┆ 82349    ┆ 0         │\n",
       "│ saction    ┆            ┆            ┆      ┆   ┆ 16:55:00.0 ┆ Chapman    ┆          ┆           │\n",
       "│            ┆            ┆            ┆      ┆   ┆ 00000      ┆            ┆          ┆           │\n",
       "│ Swipe Tran ┆ CA         ┆ San Jose   ┆ 4829 ┆ … ┆ 2020-02-27 ┆ Kenneth    ┆ 82350    ┆ 0         │\n",
       "│ saction    ┆            ┆            ┆      ┆   ┆ 18:12:00.0 ┆ Chapman    ┆          ┆           │\n",
       "│            ┆            ┆            ┆      ┆   ┆ 00000      ┆            ┆          ┆           │\n",
       "│ Swipe Tran ┆ CA         ┆ San Jose   ┆ 4829 ┆ … ┆ 2020-02-27 ┆ Kenneth    ┆ 82351    ┆ 0         │\n",
       "│ saction    ┆            ┆            ┆      ┆   ┆ 18:51:00.0 ┆ Chapman    ┆          ┆           │\n",
       "│            ┆            ┆            ┆      ┆   ┆ 00000      ┆            ┆          ┆           │\n",
       "│ Chip Trans ┆ CA         ┆ Watsonvill ┆ 5411 ┆ … ┆ 2020-02-27 ┆ Kenneth    ┆ 82352    ┆ 0         │\n",
       "│ action     ┆            ┆ e          ┆      ┆   ┆ 22:03:00.0 ┆ Chapman    ┆          ┆           │\n",
       "│            ┆            ┆            ┆      ┆   ┆ 00000      ┆            ┆          ┆           │\n",
       "│ Swipe Tran ┆ CA         ┆ Merced     ┆ 5719 ┆ … ┆ 2020-02-28 ┆ Kenneth    ┆ 82353    ┆ 0         │\n",
       "│ saction    ┆            ┆            ┆      ┆   ┆ 09:48:00.0 ┆ Chapman    ┆          ┆           │\n",
       "│            ┆            ┆            ┆      ┆   ┆ 00000      ┆            ┆          ┆           │\n",
       "│ Chip Trans ┆ CA         ┆ Watsonvill ┆ 7538 ┆ … ┆ 2020-02-28 ┆ Kenneth    ┆ 82354    ┆ 0         │\n",
       "│ action     ┆            ┆ e          ┆      ┆   ┆ 14:02:00.0 ┆ Chapman    ┆          ┆           │\n",
       "│            ┆            ┆            ┆      ┆   ┆ 00000      ┆            ┆          ┆           │\n",
       "│ Swipe Tran ┆ CA         ┆ San Jose   ┆ 4829 ┆ … ┆ 2020-02-28 ┆ Kenneth    ┆ 82355    ┆ 0         │\n",
       "│ saction    ┆            ┆            ┆      ┆   ┆ 16:46:00.0 ┆ Chapman    ┆          ┆           │\n",
       "│            ┆            ┆            ┆      ┆   ┆ 00000      ┆            ┆          ┆           │\n",
       "└────────────┴────────────┴────────────┴──────┴───┴────────────┴────────────┴──────────┴───────────┘"
      ]
     },
     "execution_count": 13,
     "metadata": {},
     "output_type": "execute_result"
    }
   ],
   "source": [
    "(\n",
    "    pl.read_parquet(ledger)\n",
    "    .filter(pl.col(\"customer_id\") == pl.col(\"customer_id\").first())\n",
    "    .sort(pl.col(\"order_id\"))\n",
    "    .tail(10)\n",
    ")"
   ]
  },
  {
   "cell_type": "markdown",
   "metadata": {},
   "source": [
    "### Modeling this complex data with traditional ML techniques is extremely challenging\n",
    "\n",
    "Transforming this sequence of transactions into a tabular data format will require months of exploration and tens of thousands of dollars in compute.\n",
    "The process of tabular feature engineering will require exploring thousands of potential aggregative window functions to thoroughly represent the behavior exhibited in previous transactions.\n",
    "\n",
    "<style> td, th {border: none!important;} </style>\n",
    "\n",
    "| ![tabular](docs/diagrams/tabular.drawio.svg) |\n",
    "|:--:| \n",
    "| *Model development requirements for modeling complex sequential data* |"
   ]
  },
  {
   "cell_type": "markdown",
   "metadata": {},
   "source": [
    "### There is a better way to model this complex sequential data in its natural form.\n",
    "\n",
    "Instead of transforming this complex sequential data to fit the construct of a tabular model, we may instead build a custom model architecture that is able to learn from the data as it already exists.\n",
    "\n",
    "The complex sequences of customer activity are sampled to create training observations.\n",
    "An event within a sequence is sampled the previous events' fields are collated to create a 2D training observation.\n",
    "Thousands of such observations are created every second to feed a custom model architecture.\n",
    "\n",
    "<style> td, th {border: none!important;} </style>\n",
    "\n",
    "| ![tabular](docs/diagrams/context.drawio.svg) |\n",
    "|:--:| \n",
    "| *example process of sample a sequence's events of fields to an observation* |"
   ]
  },
  {
   "cell_type": "code",
   "execution_count": 14,
   "metadata": {},
   "outputs": [],
   "source": [
    "# create a custom \"schema\" that represents the data to be modeled\n",
    "schema = wm.Schema.create(\n",
    "    # index of each unique \"sequence\"\n",
    "    sequence_id=\"customer_id\",\n",
    "    # index of each unique \"event\" within a \"sequence\"\n",
    "    event_id=\"transaction_id\",\n",
    "    # how to sort the events within a sequence\n",
    "    order_by=\"order_id\",\n",
    "    # classification or regression target during fine-tuning\n",
    "    target_id=\"target\",\n",
    "    # the desired \"fields\" available within each event\n",
    "    use_chip=\"discrete\",\n",
    "    merchant_state=\"discrete\",\n",
    "    merchant_city=\"discrete\",\n",
    "    merchant_name=\"entity\",\n",
    "    has_bad_pin=\"discrete\",\n",
    "    has_bad_zipcode=\"discrete\",\n",
    "    has_bad_card_number=\"discrete\",\n",
    "    has_insufficient_balance=\"discrete\",\n",
    "    has_bad_expiration=\"discrete\",\n",
    "    has_technical_glitch=\"discrete\",\n",
    "    has_bad_cvv=\"discrete\",\n",
    "    card=\"entity\",\n",
    "    mcc=\"discrete\",\n",
    "    amount=\"continuous\",\n",
    "    timedelta=\"continuous\",\n",
    "    timestamp=\"temporal\",\n",
    ")"
   ]
  },
  {
   "cell_type": "code",
   "execution_count": 15,
   "metadata": {},
   "outputs": [],
   "source": [
    "# model architecture, pre-training, and fine-tuning configuration\n",
    "params = wm.Hyperparameters(\n",
    "    n_steps=30,\n",
    "    batch_size=128,\n",
    "    max_epochs=16,\n",
    "    d_field=48,\n",
    ")\n",
    "\n",
    "# how to perform a stratified split among the sequences to create training, validation, and test data\n",
    "split = wm.SequenceSplitter(train=0.70, validate=0.15, test=0.15)"
   ]
  },
  {
   "cell_type": "markdown",
   "metadata": {},
   "source": [
    "The model architecture is able to support a wide variety of complex, **nullable** input field types, including:\n",
    "- `discrete`: Categorical values with a finite number of levels (transaction type, merchant category code, boolean flags, city / states)\n",
    "- `continuous`: Numerical values of any co distribution (transaction amount, time differences, current account balance)\n",
    "- `entity`: Categorical values with an infinite number of levels (card numbers, merchant names, IP addresses, device IDs)\n",
    "- `temporal`: Timestamp values (current transaction date, customer sign up date)\n",
    "\n",
    "We anticipate providing support for the following additional field types:\n",
    "- `textual`: Raw unstructured text (comments, tweet contents, user feedback, call transcripts)\n",
    "- `geospatial`: Geographic coordinates (rideshare pickup location, merchant address, tweet location)\n",
    "\n",
    "Any of these field values can be `null`."
   ]
  },
  {
   "cell_type": "markdown",
   "metadata": {},
   "source": [
    "### The two dimensional observation may be modeled with customer model architecture that is dynamically defined by the sequence structure\n",
    "\n",
    "The following model architecture was dynamically constructed for four fields:\n",
    "- transaction type (`discrete`)\n",
    "- transaction amounts (`continuous`)\n",
    "- current account balance (`continuous`)\n",
    "- transaction timestamp (`temporal`)\n",
    "\n",
    "Gray fields indicate a non-valued `null` state.\n",
    "\n",
    "<style> td, th { border: none!important; } </style>\n",
    "\n",
    "| ![architecture](docs/diagrams/architecture.drawio.svg) | \n",
    "|:--:| \n",
    "| *example model architecture* |"
   ]
  },
  {
   "cell_type": "markdown",
   "metadata": {},
   "source": [
    "### The pipeline is able to automate the entire training process from end-to-end\n",
    "\n",
    "The model architecture will instantiate with the requested schema.\n",
    "The pipeline will pre-train in a manner similar to how Large Language Models (LLMs) are able to learn from unlabeled text.\n",
    "Lastly, the pipeline will fine-tune the pre-trained to solve any classification problem.\n",
    "\n",
    "<style> td, th { border: none!important; } </style>\n",
    "| ![pipeline](docs/diagrams/pipeline.drawio.svg) | \n",
    "|:--:| \n",
    "| *pipeline implementation overview* |"
   ]
  },
  {
   "cell_type": "code",
   "execution_count": 16,
   "metadata": {},
   "outputs": [
    {
     "data": {
      "text/html": [
       "<pre style=\"white-space:pre;overflow-x:auto;line-height:normal;font-family:Menlo,'DejaVu Sans Mono',consolas,'Courier New',monospace\"><span style=\"font-style: italic\">           BalanceManager(kappa=12.50%)            </span>\n",
       "┏━━━━━━━━━━━━━━━━━━━━━━━━━┳━━━━━━━━━━━┳━━━━━━━━━━━┓\n",
       "┃<span style=\"font-weight: bold\">            Class Labels </span>┃<span style=\"font-weight: bold\"> \"No\"      </span>┃<span style=\"font-weight: bold\"> \"Yes\"     </span>┃\n",
       "┡━━━━━━━━━━━━━━━━━━━━━━━━━╇━━━━━━━━━━━╇━━━━━━━━━━━┩\n",
       "│<span style=\"color: #008080; text-decoration-color: #008080\">            Label Counts </span>│<span style=\"color: #800080; text-decoration-color: #800080\"> 5,920,547 </span>│<span style=\"color: #800080; text-decoration-color: #800080\"> 6,847     </span>│\n",
       "│<span style=\"color: #008080; text-decoration-color: #008080\"> Population Distribution </span>│<span style=\"color: #800080; text-decoration-color: #800080\"> 99.8845%  </span>│<span style=\"color: #800080; text-decoration-color: #800080\"> 0.1155%   </span>│\n",
       "│<span style=\"color: #008080; text-decoration-color: #008080\">   Modified Distribution </span>│<span style=\"color: #800080; text-decoration-color: #800080\"> 93.6489%  </span>│<span style=\"color: #800080; text-decoration-color: #800080\"> 6.3511%   </span>│\n",
       "│<span style=\"color: #008080; text-decoration-color: #008080\">    Marginal Sample Rate </span>│<span style=\"color: #800080; text-decoration-color: #800080\"> 1.7053%   </span>│<span style=\"color: #800080; text-decoration-color: #800080\"> 100.0000% </span>│\n",
       "│<span style=\"color: #008080; text-decoration-color: #008080\">            Loss Weights </span>│<span style=\"color: #800080; text-decoration-color: #800080\"> 1.0       </span>│<span style=\"color: #800080; text-decoration-color: #800080\"> 14.75     </span>│\n",
       "└─────────────────────────┴───────────┴───────────┘\n",
       "</pre>\n"
      ],
      "text/plain": [
       "\u001b[3m           BalanceManager(kappa=12.50%)            \u001b[0m\n",
       "┏━━━━━━━━━━━━━━━━━━━━━━━━━┳━━━━━━━━━━━┳━━━━━━━━━━━┓\n",
       "┃\u001b[1m \u001b[0m\u001b[1m           Class Labels\u001b[0m\u001b[1m \u001b[0m┃\u001b[1m \u001b[0m\u001b[1m\"No\"     \u001b[0m\u001b[1m \u001b[0m┃\u001b[1m \u001b[0m\u001b[1m\"Yes\"    \u001b[0m\u001b[1m \u001b[0m┃\n",
       "┡━━━━━━━━━━━━━━━━━━━━━━━━━╇━━━━━━━━━━━╇━━━━━━━━━━━┩\n",
       "│\u001b[36m \u001b[0m\u001b[36m           Label Counts\u001b[0m\u001b[36m \u001b[0m│\u001b[35m \u001b[0m\u001b[35m5,920,547\u001b[0m\u001b[35m \u001b[0m│\u001b[35m \u001b[0m\u001b[35m6,847    \u001b[0m\u001b[35m \u001b[0m│\n",
       "│\u001b[36m \u001b[0m\u001b[36mPopulation Distribution\u001b[0m\u001b[36m \u001b[0m│\u001b[35m \u001b[0m\u001b[35m99.8845% \u001b[0m\u001b[35m \u001b[0m│\u001b[35m \u001b[0m\u001b[35m0.1155%  \u001b[0m\u001b[35m \u001b[0m│\n",
       "│\u001b[36m \u001b[0m\u001b[36m  Modified Distribution\u001b[0m\u001b[36m \u001b[0m│\u001b[35m \u001b[0m\u001b[35m93.6489% \u001b[0m\u001b[35m \u001b[0m│\u001b[35m \u001b[0m\u001b[35m6.3511%  \u001b[0m\u001b[35m \u001b[0m│\n",
       "│\u001b[36m \u001b[0m\u001b[36m   Marginal Sample Rate\u001b[0m\u001b[36m \u001b[0m│\u001b[35m \u001b[0m\u001b[35m1.7053%  \u001b[0m\u001b[35m \u001b[0m│\u001b[35m \u001b[0m\u001b[35m100.0000%\u001b[0m\u001b[35m \u001b[0m│\n",
       "│\u001b[36m \u001b[0m\u001b[36m           Loss Weights\u001b[0m\u001b[36m \u001b[0m│\u001b[35m \u001b[0m\u001b[35m1.0      \u001b[0m\u001b[35m \u001b[0m│\u001b[35m \u001b[0m\u001b[35m14.75    \u001b[0m\u001b[35m \u001b[0m│\n",
       "└─────────────────────────┴───────────┴───────────┘\n"
      ]
     },
     "metadata": {},
     "output_type": "display_data"
    },
    {
     "data": {
      "text/html": [
       "<pre style=\"white-space:pre;overflow-x:auto;line-height:normal;font-family:Menlo,'DejaVu Sans Mono',consolas,'Courier New',monospace\"><span style=\"color: #800000; text-decoration-color: #800000\">INFO:</span> finished preprocessing <span style=\"color: #008080; text-decoration-color: #008080; font-weight: bold\">51</span> lifestream shards\n",
       "</pre>\n"
      ],
      "text/plain": [
       "\u001b[31mINFO:\u001b[0m finished preprocessing \u001b[1;36m51\u001b[0m lifestream shards\n"
      ]
     },
     "metadata": {},
     "output_type": "display_data"
    },
    {
     "name": "stderr",
     "output_type": "stream",
     "text": [
      "Using bfloat16 Automatic Mixed Precision (AMP)\n",
      "GPU available: True (cuda), used: True\n",
      "TPU available: False, using: 0 TPU cores\n",
      "IPU available: False, using: 0 IPUs\n",
      "HPU available: False, using: 0 HPUs\n",
      "LOCAL_RANK: 0 - CUDA_VISIBLE_DEVICES: [0]\n"
     ]
    },
    {
     "data": {
      "text/html": [
       "<pre style=\"white-space:pre;overflow-x:auto;line-height:normal;font-family:Menlo,'DejaVu Sans Mono',consolas,'Courier New',monospace\">┏━━━┳━━━━━━━━━━━━━━━━━━━━━━━━┳━━━━━━━━━━━━━━━━━━━━━━━━┳━━━━━━━━┳━━━━━━━━━━━━━━━━━━━━━━━━━┳━━━━━━━━━━━━━━━━━━━━━━━━┓\n",
       "┃<span style=\"color: #800080; text-decoration-color: #800080; font-weight: bold\">   </span>┃<span style=\"color: #800080; text-decoration-color: #800080; font-weight: bold\"> Name                   </span>┃<span style=\"color: #800080; text-decoration-color: #800080; font-weight: bold\"> Type                   </span>┃<span style=\"color: #800080; text-decoration-color: #800080; font-weight: bold\"> Params </span>┃<span style=\"color: #800080; text-decoration-color: #800080; font-weight: bold\">                In sizes </span>┃<span style=\"color: #800080; text-decoration-color: #800080; font-weight: bold\">              Out sizes </span>┃\n",
       "┡━━━╇━━━━━━━━━━━━━━━━━━━━━━━━╇━━━━━━━━━━━━━━━━━━━━━━━━╇━━━━━━━━╇━━━━━━━━━━━━━━━━━━━━━━━━━╇━━━━━━━━━━━━━━━━━━━━━━━━┩\n",
       "│<span style=\"color: #7f7f7f; text-decoration-color: #7f7f7f\"> 0 </span>│ modular_field_embedder │ ModularFieldEmbedding… │  532 K │<span style=\"color: #c0c0c0; text-decoration-color: #c0c0c0\">                   [128] </span>│<span style=\"color: #c0c0c0; text-decoration-color: #c0c0c0\">     [128, 128, 16, 48] </span>│\n",
       "│<span style=\"color: #7f7f7f; text-decoration-color: #7f7f7f\"> 1 </span>│ field_encoder          │ FieldEncoder           │  417 K │<span style=\"color: #c0c0c0; text-decoration-color: #c0c0c0\">    [[128, 128, 16, 48], </span>│<span style=\"color: #c0c0c0; text-decoration-color: #c0c0c0\">        [128, 128, 768] </span>│\n",
       "│<span style=\"color: #7f7f7f; text-decoration-color: #7f7f7f\">   </span>│                        │                        │        │<span style=\"color: #c0c0c0; text-decoration-color: #c0c0c0\">        [16384, 16, 16]] </span>│<span style=\"color: #c0c0c0; text-decoration-color: #c0c0c0\">                        </span>│\n",
       "│<span style=\"color: #7f7f7f; text-decoration-color: #7f7f7f\"> 2 </span>│ event_encoder          │ EventEncoder           │ 44.2 M │<span style=\"color: #c0c0c0; text-decoration-color: #c0c0c0\"> [[128, 128, 768], [128, </span>│<span style=\"color: #c0c0c0; text-decoration-color: #c0c0c0\">     [[128, 768], [128, </span>│\n",
       "│<span style=\"color: #7f7f7f; text-decoration-color: #7f7f7f\">   </span>│                        │                        │        │<span style=\"color: #c0c0c0; text-decoration-color: #c0c0c0\">              128, 128]] </span>│<span style=\"color: #c0c0c0; text-decoration-color: #c0c0c0\">             128, 768]] </span>│\n",
       "│<span style=\"color: #7f7f7f; text-decoration-color: #7f7f7f\"> 3 </span>│ event_decoder          │ EventDecoder           │  8.6 M │<span style=\"color: #c0c0c0; text-decoration-color: #c0c0c0\">         [128, 128, 768] </span>│<span style=\"color: #c0c0c0; text-decoration-color: #c0c0c0\">                  [128] </span>│\n",
       "│<span style=\"color: #7f7f7f; text-decoration-color: #7f7f7f\"> 4 </span>│ decision_head          │ DecisionHead           │  214 K │<span style=\"color: #c0c0c0; text-decoration-color: #c0c0c0\">              [128, 768] </span>│<span style=\"color: #c0c0c0; text-decoration-color: #c0c0c0\">               [128, 2] </span>│\n",
       "│<span style=\"color: #7f7f7f; text-decoration-color: #7f7f7f\"> 5 </span>│ metrics                │ ModuleDict             │      0 │<span style=\"color: #c0c0c0; text-decoration-color: #c0c0c0\">                       ? </span>│<span style=\"color: #c0c0c0; text-decoration-color: #c0c0c0\">                      ? </span>│\n",
       "└───┴────────────────────────┴────────────────────────┴────────┴─────────────────────────┴────────────────────────┘\n",
       "</pre>\n"
      ],
      "text/plain": [
       "┏━━━┳━━━━━━━━━━━━━━━━━━━━━━━━┳━━━━━━━━━━━━━━━━━━━━━━━━┳━━━━━━━━┳━━━━━━━━━━━━━━━━━━━━━━━━━┳━━━━━━━━━━━━━━━━━━━━━━━━┓\n",
       "┃\u001b[1;35m \u001b[0m\u001b[1;35m \u001b[0m\u001b[1;35m \u001b[0m┃\u001b[1;35m \u001b[0m\u001b[1;35mName                  \u001b[0m\u001b[1;35m \u001b[0m┃\u001b[1;35m \u001b[0m\u001b[1;35mType                  \u001b[0m\u001b[1;35m \u001b[0m┃\u001b[1;35m \u001b[0m\u001b[1;35mParams\u001b[0m\u001b[1;35m \u001b[0m┃\u001b[1;35m \u001b[0m\u001b[1;35m               In sizes\u001b[0m\u001b[1;35m \u001b[0m┃\u001b[1;35m \u001b[0m\u001b[1;35m             Out sizes\u001b[0m\u001b[1;35m \u001b[0m┃\n",
       "┡━━━╇━━━━━━━━━━━━━━━━━━━━━━━━╇━━━━━━━━━━━━━━━━━━━━━━━━╇━━━━━━━━╇━━━━━━━━━━━━━━━━━━━━━━━━━╇━━━━━━━━━━━━━━━━━━━━━━━━┩\n",
       "│\u001b[2m \u001b[0m\u001b[2m0\u001b[0m\u001b[2m \u001b[0m│ modular_field_embedder │ ModularFieldEmbedding… │  532 K │\u001b[37m \u001b[0m\u001b[37m                  [128]\u001b[0m\u001b[37m \u001b[0m│\u001b[37m \u001b[0m\u001b[37m    [128, 128, 16, 48]\u001b[0m\u001b[37m \u001b[0m│\n",
       "│\u001b[2m \u001b[0m\u001b[2m1\u001b[0m\u001b[2m \u001b[0m│ field_encoder          │ FieldEncoder           │  417 K │\u001b[37m \u001b[0m\u001b[37m   [[128, 128, 16, 48],\u001b[0m\u001b[37m \u001b[0m│\u001b[37m \u001b[0m\u001b[37m       [128, 128, 768]\u001b[0m\u001b[37m \u001b[0m│\n",
       "│\u001b[2m   \u001b[0m│                        │                        │        │\u001b[37m \u001b[0m\u001b[37m       [16384, 16, 16]]\u001b[0m\u001b[37m \u001b[0m│\u001b[37m                        \u001b[0m│\n",
       "│\u001b[2m \u001b[0m\u001b[2m2\u001b[0m\u001b[2m \u001b[0m│ event_encoder          │ EventEncoder           │ 44.2 M │\u001b[37m \u001b[0m\u001b[37m[[128, 128, 768], [128,\u001b[0m\u001b[37m \u001b[0m│\u001b[37m \u001b[0m\u001b[37m    [[128, 768], [128,\u001b[0m\u001b[37m \u001b[0m│\n",
       "│\u001b[2m   \u001b[0m│                        │                        │        │\u001b[37m \u001b[0m\u001b[37m             128, 128]]\u001b[0m\u001b[37m \u001b[0m│\u001b[37m \u001b[0m\u001b[37m            128, 768]]\u001b[0m\u001b[37m \u001b[0m│\n",
       "│\u001b[2m \u001b[0m\u001b[2m3\u001b[0m\u001b[2m \u001b[0m│ event_decoder          │ EventDecoder           │  8.6 M │\u001b[37m \u001b[0m\u001b[37m        [128, 128, 768]\u001b[0m\u001b[37m \u001b[0m│\u001b[37m \u001b[0m\u001b[37m                 [128]\u001b[0m\u001b[37m \u001b[0m│\n",
       "│\u001b[2m \u001b[0m\u001b[2m4\u001b[0m\u001b[2m \u001b[0m│ decision_head          │ DecisionHead           │  214 K │\u001b[37m \u001b[0m\u001b[37m             [128, 768]\u001b[0m\u001b[37m \u001b[0m│\u001b[37m \u001b[0m\u001b[37m              [128, 2]\u001b[0m\u001b[37m \u001b[0m│\n",
       "│\u001b[2m \u001b[0m\u001b[2m5\u001b[0m\u001b[2m \u001b[0m│ metrics                │ ModuleDict             │      0 │\u001b[37m \u001b[0m\u001b[37m                      ?\u001b[0m\u001b[37m \u001b[0m│\u001b[37m \u001b[0m\u001b[37m                     ?\u001b[0m\u001b[37m \u001b[0m│\n",
       "└───┴────────────────────────┴────────────────────────┴────────┴─────────────────────────┴────────────────────────┘\n"
      ]
     },
     "metadata": {},
     "output_type": "display_data"
    },
    {
     "data": {
      "text/html": [
       "<pre style=\"white-space:pre;overflow-x:auto;line-height:normal;font-family:Menlo,'DejaVu Sans Mono',consolas,'Courier New',monospace\"><span style=\"font-weight: bold\">Trainable params</span>: 54.0 M                                                                                           \n",
       "<span style=\"font-weight: bold\">Non-trainable params</span>: 0                                                                                            \n",
       "<span style=\"font-weight: bold\">Total params</span>: 54.0 M                                                                                               \n",
       "<span style=\"font-weight: bold\">Total estimated model params size (MB)</span>: 216                                                                        \n",
       "</pre>\n"
      ],
      "text/plain": [
       "\u001b[1mTrainable params\u001b[0m: 54.0 M                                                                                           \n",
       "\u001b[1mNon-trainable params\u001b[0m: 0                                                                                            \n",
       "\u001b[1mTotal params\u001b[0m: 54.0 M                                                                                               \n",
       "\u001b[1mTotal estimated model params size (MB)\u001b[0m: 216                                                                        \n"
      ]
     },
     "metadata": {},
     "output_type": "display_data"
    },
    {
     "data": {
      "application/vnd.jupyter.widget-view+json": {
       "model_id": "5b8818691e1047bb8e0b034d5ae9e646",
       "version_major": 2,
       "version_minor": 0
      },
      "text/plain": [
       "Output()"
      ]
     },
     "metadata": {},
     "output_type": "display_data"
    },
    {
     "name": "stderr",
     "output_type": "stream",
     "text": [
      "`Trainer.fit` stopped: `max_epochs=16` reached.\n"
     ]
    },
    {
     "data": {
      "text/html": [
       "<pre style=\"white-space:pre;overflow-x:auto;line-height:normal;font-family:Menlo,'DejaVu Sans Mono',consolas,'Courier New',monospace\"></pre>\n"
      ],
      "text/plain": []
     },
     "metadata": {},
     "output_type": "display_data"
    },
    {
     "data": {
      "text/html": [
       "<pre style=\"white-space:pre;overflow-x:auto;line-height:normal;font-family:Menlo,'DejaVu Sans Mono',consolas,'Courier New',monospace\">\n",
       "</pre>\n"
      ],
      "text/plain": [
       "\n"
      ]
     },
     "metadata": {},
     "output_type": "display_data"
    },
    {
     "name": "stderr",
     "output_type": "stream",
     "text": [
      "LOCAL_RANK: 0 - CUDA_VISIBLE_DEVICES: [0]\n"
     ]
    },
    {
     "data": {
      "application/vnd.jupyter.widget-view+json": {
       "model_id": "e300ec605d9e4b099d72560263b841c3",
       "version_major": 2,
       "version_minor": 0
      },
      "text/plain": [
       "Output()"
      ]
     },
     "metadata": {},
     "output_type": "display_data"
    },
    {
     "data": {
      "text/html": [
       "<pre style=\"white-space:pre;overflow-x:auto;line-height:normal;font-family:Menlo,'DejaVu Sans Mono',consolas,'Courier New',monospace\">┏━━━━━━━━━━━━━━━━━━━━━━━━━━━━━━━━━━━━━━━━━━━━━┳━━━━━━━━━━━━━━━━━━━━━━━━━━━━━━━━━━━━━━━━━━━━━┓\n",
       "┃<span style=\"font-weight: bold\">                 Test metric                 </span>┃<span style=\"font-weight: bold\">                DataLoader 0                 </span>┃\n",
       "┡━━━━━━━━━━━━━━━━━━━━━━━━━━━━━━━━━━━━━━━━━━━━━╇━━━━━━━━━━━━━━━━━━━━━━━━━━━━━━━━━━━━━━━━━━━━━┩\n",
       "│<span style=\"color: #008080; text-decoration-color: #008080\">          pretrain-test/amount-loss          </span>│<span style=\"color: #800080; text-decoration-color: #800080\">              0.539547860622406              </span>│\n",
       "│<span style=\"color: #008080; text-decoration-color: #008080\">           pretrain-test/card-loss           </span>│<span style=\"color: #800080; text-decoration-color: #800080\">             0.1594550460577011              </span>│\n",
       "│<span style=\"color: #008080; text-decoration-color: #008080\">   pretrain-test/has_bad_card_number-loss    </span>│<span style=\"color: #800080; text-decoration-color: #800080\">            0.001052044564858079             </span>│\n",
       "│<span style=\"color: #008080; text-decoration-color: #008080\">       pretrain-test/has_bad_cvv-loss        </span>│<span style=\"color: #800080; text-decoration-color: #800080\">            0.0009279341902583838            </span>│\n",
       "│<span style=\"color: #008080; text-decoration-color: #008080\">    pretrain-test/has_bad_expiration-loss    </span>│<span style=\"color: #800080; text-decoration-color: #800080\">             0.00106014811899513             </span>│\n",
       "│<span style=\"color: #008080; text-decoration-color: #008080\">       pretrain-test/has_bad_pin-loss        </span>│<span style=\"color: #800080; text-decoration-color: #800080\">            0.003561760298907757             </span>│\n",
       "│<span style=\"color: #008080; text-decoration-color: #008080\">     pretrain-test/has_bad_zipcode-loss      </span>│<span style=\"color: #800080; text-decoration-color: #800080\">            0.0010433311108499765            </span>│\n",
       "│<span style=\"color: #008080; text-decoration-color: #008080\"> pretrain-test/has_insufficient_balance-loss </span>│<span style=\"color: #800080; text-decoration-color: #800080\">            0.008396533317863941             </span>│\n",
       "│<span style=\"color: #008080; text-decoration-color: #008080\">   pretrain-test/has_technical_glitch-loss   </span>│<span style=\"color: #800080; text-decoration-color: #800080\">            0.003421868197619915             </span>│\n",
       "│<span style=\"color: #008080; text-decoration-color: #008080\">             pretrain-test/loss              </span>│<span style=\"color: #800080; text-decoration-color: #800080\">             2.7949917316436768              </span>│\n",
       "│<span style=\"color: #008080; text-decoration-color: #008080\">           pretrain-test/mcc-loss            </span>│<span style=\"color: #800080; text-decoration-color: #800080\">             0.37871336936950684             </span>│\n",
       "│<span style=\"color: #008080; text-decoration-color: #008080\">      pretrain-test/merchant_city-loss       </span>│<span style=\"color: #800080; text-decoration-color: #800080\">             0.24180449545383453             </span>│\n",
       "│<span style=\"color: #008080; text-decoration-color: #008080\">      pretrain-test/merchant_name-loss       </span>│<span style=\"color: #800080; text-decoration-color: #800080\">             0.6936334371566772              </span>│\n",
       "│<span style=\"color: #008080; text-decoration-color: #008080\">      pretrain-test/merchant_state-loss      </span>│<span style=\"color: #800080; text-decoration-color: #800080\">             0.08392751961946487             </span>│\n",
       "│<span style=\"color: #008080; text-decoration-color: #008080\">        pretrain-test/timedelta-loss         </span>│<span style=\"color: #800080; text-decoration-color: #800080\">             0.40676558017730713             </span>│\n",
       "│<span style=\"color: #008080; text-decoration-color: #008080\">        pretrain-test/timestamp-loss         </span>│<span style=\"color: #800080; text-decoration-color: #800080\">             0.23698922991752625             </span>│\n",
       "│<span style=\"color: #008080; text-decoration-color: #008080\">         pretrain-test/use_chip-loss         </span>│<span style=\"color: #800080; text-decoration-color: #800080\">             0.03469187393784523             </span>│\n",
       "└─────────────────────────────────────────────┴─────────────────────────────────────────────┘\n",
       "</pre>\n"
      ],
      "text/plain": [
       "┏━━━━━━━━━━━━━━━━━━━━━━━━━━━━━━━━━━━━━━━━━━━━━┳━━━━━━━━━━━━━━━━━━━━━━━━━━━━━━━━━━━━━━━━━━━━━┓\n",
       "┃\u001b[1m \u001b[0m\u001b[1m                Test metric                \u001b[0m\u001b[1m \u001b[0m┃\u001b[1m \u001b[0m\u001b[1m               DataLoader 0                \u001b[0m\u001b[1m \u001b[0m┃\n",
       "┡━━━━━━━━━━━━━━━━━━━━━━━━━━━━━━━━━━━━━━━━━━━━━╇━━━━━━━━━━━━━━━━━━━━━━━━━━━━━━━━━━━━━━━━━━━━━┩\n",
       "│\u001b[36m \u001b[0m\u001b[36m         pretrain-test/amount-loss         \u001b[0m\u001b[36m \u001b[0m│\u001b[35m \u001b[0m\u001b[35m             0.539547860622406             \u001b[0m\u001b[35m \u001b[0m│\n",
       "│\u001b[36m \u001b[0m\u001b[36m          pretrain-test/card-loss          \u001b[0m\u001b[36m \u001b[0m│\u001b[35m \u001b[0m\u001b[35m            0.1594550460577011             \u001b[0m\u001b[35m \u001b[0m│\n",
       "│\u001b[36m \u001b[0m\u001b[36m  pretrain-test/has_bad_card_number-loss   \u001b[0m\u001b[36m \u001b[0m│\u001b[35m \u001b[0m\u001b[35m           0.001052044564858079            \u001b[0m\u001b[35m \u001b[0m│\n",
       "│\u001b[36m \u001b[0m\u001b[36m      pretrain-test/has_bad_cvv-loss       \u001b[0m\u001b[36m \u001b[0m│\u001b[35m \u001b[0m\u001b[35m           0.0009279341902583838           \u001b[0m\u001b[35m \u001b[0m│\n",
       "│\u001b[36m \u001b[0m\u001b[36m   pretrain-test/has_bad_expiration-loss   \u001b[0m\u001b[36m \u001b[0m│\u001b[35m \u001b[0m\u001b[35m            0.00106014811899513            \u001b[0m\u001b[35m \u001b[0m│\n",
       "│\u001b[36m \u001b[0m\u001b[36m      pretrain-test/has_bad_pin-loss       \u001b[0m\u001b[36m \u001b[0m│\u001b[35m \u001b[0m\u001b[35m           0.003561760298907757            \u001b[0m\u001b[35m \u001b[0m│\n",
       "│\u001b[36m \u001b[0m\u001b[36m    pretrain-test/has_bad_zipcode-loss     \u001b[0m\u001b[36m \u001b[0m│\u001b[35m \u001b[0m\u001b[35m           0.0010433311108499765           \u001b[0m\u001b[35m \u001b[0m│\n",
       "│\u001b[36m \u001b[0m\u001b[36mpretrain-test/has_insufficient_balance-loss\u001b[0m\u001b[36m \u001b[0m│\u001b[35m \u001b[0m\u001b[35m           0.008396533317863941            \u001b[0m\u001b[35m \u001b[0m│\n",
       "│\u001b[36m \u001b[0m\u001b[36m  pretrain-test/has_technical_glitch-loss  \u001b[0m\u001b[36m \u001b[0m│\u001b[35m \u001b[0m\u001b[35m           0.003421868197619915            \u001b[0m\u001b[35m \u001b[0m│\n",
       "│\u001b[36m \u001b[0m\u001b[36m            pretrain-test/loss             \u001b[0m\u001b[36m \u001b[0m│\u001b[35m \u001b[0m\u001b[35m            2.7949917316436768             \u001b[0m\u001b[35m \u001b[0m│\n",
       "│\u001b[36m \u001b[0m\u001b[36m          pretrain-test/mcc-loss           \u001b[0m\u001b[36m \u001b[0m│\u001b[35m \u001b[0m\u001b[35m            0.37871336936950684            \u001b[0m\u001b[35m \u001b[0m│\n",
       "│\u001b[36m \u001b[0m\u001b[36m     pretrain-test/merchant_city-loss      \u001b[0m\u001b[36m \u001b[0m│\u001b[35m \u001b[0m\u001b[35m            0.24180449545383453            \u001b[0m\u001b[35m \u001b[0m│\n",
       "│\u001b[36m \u001b[0m\u001b[36m     pretrain-test/merchant_name-loss      \u001b[0m\u001b[36m \u001b[0m│\u001b[35m \u001b[0m\u001b[35m            0.6936334371566772             \u001b[0m\u001b[35m \u001b[0m│\n",
       "│\u001b[36m \u001b[0m\u001b[36m     pretrain-test/merchant_state-loss     \u001b[0m\u001b[36m \u001b[0m│\u001b[35m \u001b[0m\u001b[35m            0.08392751961946487            \u001b[0m\u001b[35m \u001b[0m│\n",
       "│\u001b[36m \u001b[0m\u001b[36m       pretrain-test/timedelta-loss        \u001b[0m\u001b[36m \u001b[0m│\u001b[35m \u001b[0m\u001b[35m            0.40676558017730713            \u001b[0m\u001b[35m \u001b[0m│\n",
       "│\u001b[36m \u001b[0m\u001b[36m       pretrain-test/timestamp-loss        \u001b[0m\u001b[36m \u001b[0m│\u001b[35m \u001b[0m\u001b[35m            0.23698922991752625            \u001b[0m\u001b[35m \u001b[0m│\n",
       "│\u001b[36m \u001b[0m\u001b[36m        pretrain-test/use_chip-loss        \u001b[0m\u001b[36m \u001b[0m│\u001b[35m \u001b[0m\u001b[35m            0.03469187393784523            \u001b[0m\u001b[35m \u001b[0m│\n",
       "└─────────────────────────────────────────────┴─────────────────────────────────────────────┘\n"
      ]
     },
     "metadata": {},
     "output_type": "display_data"
    },
    {
     "data": {
      "text/html": [
       "<pre style=\"white-space:pre;overflow-x:auto;line-height:normal;font-family:Menlo,'DejaVu Sans Mono',consolas,'Courier New',monospace\"></pre>\n"
      ],
      "text/plain": []
     },
     "metadata": {},
     "output_type": "display_data"
    },
    {
     "data": {
      "text/html": [
       "<pre style=\"white-space:pre;overflow-x:auto;line-height:normal;font-family:Menlo,'DejaVu Sans Mono',consolas,'Courier New',monospace\">\n",
       "</pre>\n"
      ],
      "text/plain": [
       "\n"
      ]
     },
     "metadata": {},
     "output_type": "display_data"
    },
    {
     "name": "stderr",
     "output_type": "stream",
     "text": [
      "Using bfloat16 Automatic Mixed Precision (AMP)\n",
      "GPU available: True (cuda), used: True\n",
      "TPU available: False, using: 0 TPU cores\n",
      "IPU available: False, using: 0 IPUs\n",
      "HPU available: False, using: 0 HPUs\n",
      "LOCAL_RANK: 0 - CUDA_VISIBLE_DEVICES: [0]\n"
     ]
    },
    {
     "data": {
      "text/html": [
       "<pre style=\"white-space:pre;overflow-x:auto;line-height:normal;font-family:Menlo,'DejaVu Sans Mono',consolas,'Courier New',monospace\">┏━━━┳━━━━━━━━━━━━━━━━━━━━━━━━┳━━━━━━━━━━━━━━━━━━━━━━━━┳━━━━━━━━┳━━━━━━━━━━━━━━━━━━━━━━━━━┳━━━━━━━━━━━━━━━━━━━━━━━━┓\n",
       "┃<span style=\"color: #800080; text-decoration-color: #800080; font-weight: bold\">   </span>┃<span style=\"color: #800080; text-decoration-color: #800080; font-weight: bold\"> Name                   </span>┃<span style=\"color: #800080; text-decoration-color: #800080; font-weight: bold\"> Type                   </span>┃<span style=\"color: #800080; text-decoration-color: #800080; font-weight: bold\"> Params </span>┃<span style=\"color: #800080; text-decoration-color: #800080; font-weight: bold\">                In sizes </span>┃<span style=\"color: #800080; text-decoration-color: #800080; font-weight: bold\">              Out sizes </span>┃\n",
       "┡━━━╇━━━━━━━━━━━━━━━━━━━━━━━━╇━━━━━━━━━━━━━━━━━━━━━━━━╇━━━━━━━━╇━━━━━━━━━━━━━━━━━━━━━━━━━╇━━━━━━━━━━━━━━━━━━━━━━━━┩\n",
       "│<span style=\"color: #7f7f7f; text-decoration-color: #7f7f7f\"> 0 </span>│ modular_field_embedder │ ModularFieldEmbedding… │  532 K │<span style=\"color: #c0c0c0; text-decoration-color: #c0c0c0\">                   [128] </span>│<span style=\"color: #c0c0c0; text-decoration-color: #c0c0c0\">     [128, 128, 16, 48] </span>│\n",
       "│<span style=\"color: #7f7f7f; text-decoration-color: #7f7f7f\"> 1 </span>│ field_encoder          │ FieldEncoder           │  417 K │<span style=\"color: #c0c0c0; text-decoration-color: #c0c0c0\">    [[128, 128, 16, 48], </span>│<span style=\"color: #c0c0c0; text-decoration-color: #c0c0c0\">        [128, 128, 768] </span>│\n",
       "│<span style=\"color: #7f7f7f; text-decoration-color: #7f7f7f\">   </span>│                        │                        │        │<span style=\"color: #c0c0c0; text-decoration-color: #c0c0c0\">        [16384, 16, 16]] </span>│<span style=\"color: #c0c0c0; text-decoration-color: #c0c0c0\">                        </span>│\n",
       "│<span style=\"color: #7f7f7f; text-decoration-color: #7f7f7f\"> 2 </span>│ event_encoder          │ EventEncoder           │ 44.2 M │<span style=\"color: #c0c0c0; text-decoration-color: #c0c0c0\"> [[128, 128, 768], [128, </span>│<span style=\"color: #c0c0c0; text-decoration-color: #c0c0c0\">     [[128, 768], [128, </span>│\n",
       "│<span style=\"color: #7f7f7f; text-decoration-color: #7f7f7f\">   </span>│                        │                        │        │<span style=\"color: #c0c0c0; text-decoration-color: #c0c0c0\">              128, 128]] </span>│<span style=\"color: #c0c0c0; text-decoration-color: #c0c0c0\">             128, 768]] </span>│\n",
       "│<span style=\"color: #7f7f7f; text-decoration-color: #7f7f7f\"> 3 </span>│ event_decoder          │ EventDecoder           │  8.6 M │<span style=\"color: #c0c0c0; text-decoration-color: #c0c0c0\">         [128, 128, 768] </span>│<span style=\"color: #c0c0c0; text-decoration-color: #c0c0c0\">                  [128] </span>│\n",
       "│<span style=\"color: #7f7f7f; text-decoration-color: #7f7f7f\"> 4 </span>│ decision_head          │ DecisionHead           │  214 K │<span style=\"color: #c0c0c0; text-decoration-color: #c0c0c0\">              [128, 768] </span>│<span style=\"color: #c0c0c0; text-decoration-color: #c0c0c0\">               [128, 2] </span>│\n",
       "│<span style=\"color: #7f7f7f; text-decoration-color: #7f7f7f\"> 5 </span>│ metrics                │ ModuleDict             │      0 │<span style=\"color: #c0c0c0; text-decoration-color: #c0c0c0\">                       ? </span>│<span style=\"color: #c0c0c0; text-decoration-color: #c0c0c0\">                      ? </span>│\n",
       "└───┴────────────────────────┴────────────────────────┴────────┴─────────────────────────┴────────────────────────┘\n",
       "</pre>\n"
      ],
      "text/plain": [
       "┏━━━┳━━━━━━━━━━━━━━━━━━━━━━━━┳━━━━━━━━━━━━━━━━━━━━━━━━┳━━━━━━━━┳━━━━━━━━━━━━━━━━━━━━━━━━━┳━━━━━━━━━━━━━━━━━━━━━━━━┓\n",
       "┃\u001b[1;35m \u001b[0m\u001b[1;35m \u001b[0m\u001b[1;35m \u001b[0m┃\u001b[1;35m \u001b[0m\u001b[1;35mName                  \u001b[0m\u001b[1;35m \u001b[0m┃\u001b[1;35m \u001b[0m\u001b[1;35mType                  \u001b[0m\u001b[1;35m \u001b[0m┃\u001b[1;35m \u001b[0m\u001b[1;35mParams\u001b[0m\u001b[1;35m \u001b[0m┃\u001b[1;35m \u001b[0m\u001b[1;35m               In sizes\u001b[0m\u001b[1;35m \u001b[0m┃\u001b[1;35m \u001b[0m\u001b[1;35m             Out sizes\u001b[0m\u001b[1;35m \u001b[0m┃\n",
       "┡━━━╇━━━━━━━━━━━━━━━━━━━━━━━━╇━━━━━━━━━━━━━━━━━━━━━━━━╇━━━━━━━━╇━━━━━━━━━━━━━━━━━━━━━━━━━╇━━━━━━━━━━━━━━━━━━━━━━━━┩\n",
       "│\u001b[2m \u001b[0m\u001b[2m0\u001b[0m\u001b[2m \u001b[0m│ modular_field_embedder │ ModularFieldEmbedding… │  532 K │\u001b[37m \u001b[0m\u001b[37m                  [128]\u001b[0m\u001b[37m \u001b[0m│\u001b[37m \u001b[0m\u001b[37m    [128, 128, 16, 48]\u001b[0m\u001b[37m \u001b[0m│\n",
       "│\u001b[2m \u001b[0m\u001b[2m1\u001b[0m\u001b[2m \u001b[0m│ field_encoder          │ FieldEncoder           │  417 K │\u001b[37m \u001b[0m\u001b[37m   [[128, 128, 16, 48],\u001b[0m\u001b[37m \u001b[0m│\u001b[37m \u001b[0m\u001b[37m       [128, 128, 768]\u001b[0m\u001b[37m \u001b[0m│\n",
       "│\u001b[2m   \u001b[0m│                        │                        │        │\u001b[37m \u001b[0m\u001b[37m       [16384, 16, 16]]\u001b[0m\u001b[37m \u001b[0m│\u001b[37m                        \u001b[0m│\n",
       "│\u001b[2m \u001b[0m\u001b[2m2\u001b[0m\u001b[2m \u001b[0m│ event_encoder          │ EventEncoder           │ 44.2 M │\u001b[37m \u001b[0m\u001b[37m[[128, 128, 768], [128,\u001b[0m\u001b[37m \u001b[0m│\u001b[37m \u001b[0m\u001b[37m    [[128, 768], [128,\u001b[0m\u001b[37m \u001b[0m│\n",
       "│\u001b[2m   \u001b[0m│                        │                        │        │\u001b[37m \u001b[0m\u001b[37m             128, 128]]\u001b[0m\u001b[37m \u001b[0m│\u001b[37m \u001b[0m\u001b[37m            128, 768]]\u001b[0m\u001b[37m \u001b[0m│\n",
       "│\u001b[2m \u001b[0m\u001b[2m3\u001b[0m\u001b[2m \u001b[0m│ event_decoder          │ EventDecoder           │  8.6 M │\u001b[37m \u001b[0m\u001b[37m        [128, 128, 768]\u001b[0m\u001b[37m \u001b[0m│\u001b[37m \u001b[0m\u001b[37m                 [128]\u001b[0m\u001b[37m \u001b[0m│\n",
       "│\u001b[2m \u001b[0m\u001b[2m4\u001b[0m\u001b[2m \u001b[0m│ decision_head          │ DecisionHead           │  214 K │\u001b[37m \u001b[0m\u001b[37m             [128, 768]\u001b[0m\u001b[37m \u001b[0m│\u001b[37m \u001b[0m\u001b[37m              [128, 2]\u001b[0m\u001b[37m \u001b[0m│\n",
       "│\u001b[2m \u001b[0m\u001b[2m5\u001b[0m\u001b[2m \u001b[0m│ metrics                │ ModuleDict             │      0 │\u001b[37m \u001b[0m\u001b[37m                      ?\u001b[0m\u001b[37m \u001b[0m│\u001b[37m \u001b[0m\u001b[37m                     ?\u001b[0m\u001b[37m \u001b[0m│\n",
       "└───┴────────────────────────┴────────────────────────┴────────┴─────────────────────────┴────────────────────────┘\n"
      ]
     },
     "metadata": {},
     "output_type": "display_data"
    },
    {
     "data": {
      "text/html": [
       "<pre style=\"white-space:pre;overflow-x:auto;line-height:normal;font-family:Menlo,'DejaVu Sans Mono',consolas,'Courier New',monospace\"><span style=\"font-weight: bold\">Trainable params</span>: 214 K                                                                                            \n",
       "<span style=\"font-weight: bold\">Non-trainable params</span>: 53.8 M                                                                                       \n",
       "<span style=\"font-weight: bold\">Total params</span>: 54.0 M                                                                                               \n",
       "<span style=\"font-weight: bold\">Total estimated model params size (MB)</span>: 216                                                                        \n",
       "</pre>\n"
      ],
      "text/plain": [
       "\u001b[1mTrainable params\u001b[0m: 214 K                                                                                            \n",
       "\u001b[1mNon-trainable params\u001b[0m: 53.8 M                                                                                       \n",
       "\u001b[1mTotal params\u001b[0m: 54.0 M                                                                                               \n",
       "\u001b[1mTotal estimated model params size (MB)\u001b[0m: 216                                                                        \n"
      ]
     },
     "metadata": {},
     "output_type": "display_data"
    },
    {
     "data": {
      "application/vnd.jupyter.widget-view+json": {
       "model_id": "c44b27a76df54fb78051b9f126eca18c",
       "version_major": 2,
       "version_minor": 0
      },
      "text/plain": [
       "Output()"
      ]
     },
     "metadata": {},
     "output_type": "display_data"
    },
    {
     "name": "stderr",
     "output_type": "stream",
     "text": [
      "`Trainer.fit` stopped: `max_epochs=16` reached.\n"
     ]
    },
    {
     "data": {
      "text/html": [
       "<pre style=\"white-space:pre;overflow-x:auto;line-height:normal;font-family:Menlo,'DejaVu Sans Mono',consolas,'Courier New',monospace\"></pre>\n"
      ],
      "text/plain": []
     },
     "metadata": {},
     "output_type": "display_data"
    },
    {
     "data": {
      "text/html": [
       "<pre style=\"white-space:pre;overflow-x:auto;line-height:normal;font-family:Menlo,'DejaVu Sans Mono',consolas,'Courier New',monospace\">\n",
       "</pre>\n"
      ],
      "text/plain": [
       "\n"
      ]
     },
     "metadata": {},
     "output_type": "display_data"
    },
    {
     "name": "stderr",
     "output_type": "stream",
     "text": [
      "LOCAL_RANK: 0 - CUDA_VISIBLE_DEVICES: [0]\n"
     ]
    },
    {
     "data": {
      "application/vnd.jupyter.widget-view+json": {
       "model_id": "5e0b9a80547242be953d78e265edd325",
       "version_major": 2,
       "version_minor": 0
      },
      "text/plain": [
       "Output()"
      ]
     },
     "metadata": {},
     "output_type": "display_data"
    },
    {
     "data": {
      "text/html": [
       "<pre style=\"white-space:pre;overflow-x:auto;line-height:normal;font-family:Menlo,'DejaVu Sans Mono',consolas,'Courier New',monospace\">┏━━━━━━━━━━━━━━━━━━━━━━━━━━━┳━━━━━━━━━━━━━━━━━━━━━━━━━━━┓\n",
       "┃<span style=\"font-weight: bold\">        Test metric        </span>┃<span style=\"font-weight: bold\">       DataLoader 0        </span>┃\n",
       "┡━━━━━━━━━━━━━━━━━━━━━━━━━━━╇━━━━━━━━━━━━━━━━━━━━━━━━━━━┩\n",
       "│<span style=\"color: #008080; text-decoration-color: #008080\">     finetune-test/acc     </span>│<span style=\"color: #800080; text-decoration-color: #800080\">     0.998762845993042     </span>│\n",
       "│<span style=\"color: #008080; text-decoration-color: #008080\">     finetune-test/ap      </span>│<span style=\"color: #800080; text-decoration-color: #800080\">    0.5012737512588501     </span>│\n",
       "│<span style=\"color: #008080; text-decoration-color: #008080\">     finetune-test/auc     </span>│<span style=\"color: #800080; text-decoration-color: #800080\">    0.7834432125091553     </span>│\n",
       "│<span style=\"color: #008080; text-decoration-color: #008080\">     finetune-test/f1      </span>│<span style=\"color: #800080; text-decoration-color: #800080\">     0.998762845993042     </span>│\n",
       "│<span style=\"color: #008080; text-decoration-color: #008080\">    finetune-test/loss     </span>│<span style=\"color: #800080; text-decoration-color: #800080\">    0.2195008546113968     </span>│\n",
       "└───────────────────────────┴───────────────────────────┘\n",
       "</pre>\n"
      ],
      "text/plain": [
       "┏━━━━━━━━━━━━━━━━━━━━━━━━━━━┳━━━━━━━━━━━━━━━━━━━━━━━━━━━┓\n",
       "┃\u001b[1m \u001b[0m\u001b[1m       Test metric       \u001b[0m\u001b[1m \u001b[0m┃\u001b[1m \u001b[0m\u001b[1m      DataLoader 0       \u001b[0m\u001b[1m \u001b[0m┃\n",
       "┡━━━━━━━━━━━━━━━━━━━━━━━━━━━╇━━━━━━━━━━━━━━━━━━━━━━━━━━━┩\n",
       "│\u001b[36m \u001b[0m\u001b[36m    finetune-test/acc    \u001b[0m\u001b[36m \u001b[0m│\u001b[35m \u001b[0m\u001b[35m    0.998762845993042    \u001b[0m\u001b[35m \u001b[0m│\n",
       "│\u001b[36m \u001b[0m\u001b[36m    finetune-test/ap     \u001b[0m\u001b[36m \u001b[0m│\u001b[35m \u001b[0m\u001b[35m   0.5012737512588501    \u001b[0m\u001b[35m \u001b[0m│\n",
       "│\u001b[36m \u001b[0m\u001b[36m    finetune-test/auc    \u001b[0m\u001b[36m \u001b[0m│\u001b[35m \u001b[0m\u001b[35m   0.7834432125091553    \u001b[0m\u001b[35m \u001b[0m│\n",
       "│\u001b[36m \u001b[0m\u001b[36m    finetune-test/f1     \u001b[0m\u001b[36m \u001b[0m│\u001b[35m \u001b[0m\u001b[35m    0.998762845993042    \u001b[0m\u001b[35m \u001b[0m│\n",
       "│\u001b[36m \u001b[0m\u001b[36m   finetune-test/loss    \u001b[0m\u001b[36m \u001b[0m│\u001b[35m \u001b[0m\u001b[35m   0.2195008546113968    \u001b[0m\u001b[35m \u001b[0m│\n",
       "└───────────────────────────┴───────────────────────────┘\n"
      ]
     },
     "metadata": {},
     "output_type": "display_data"
    },
    {
     "data": {
      "text/html": [
       "<pre style=\"white-space:pre;overflow-x:auto;line-height:normal;font-family:Menlo,'DejaVu Sans Mono',consolas,'Courier New',monospace\"></pre>\n"
      ],
      "text/plain": []
     },
     "metadata": {},
     "output_type": "display_data"
    },
    {
     "data": {
      "text/html": [
       "<pre style=\"white-space:pre;overflow-x:auto;line-height:normal;font-family:Menlo,'DejaVu Sans Mono',consolas,'Courier New',monospace\">\n",
       "</pre>\n"
      ],
      "text/plain": [
       "\n"
      ]
     },
     "metadata": {},
     "output_type": "display_data"
    },
    {
     "name": "stderr",
     "output_type": "stream",
     "text": [
      "Using bfloat16 Automatic Mixed Precision (AMP)\n",
      "GPU available: True (cuda), used: True\n",
      "TPU available: False, using: 0 TPU cores\n",
      "IPU available: False, using: 0 IPUs\n",
      "HPU available: False, using: 0 HPUs\n",
      "LOCAL_RANK: 0 - CUDA_VISIBLE_DEVICES: [0]\n"
     ]
    },
    {
     "data": {
      "application/vnd.jupyter.widget-view+json": {
       "model_id": "27f4805a92af40cfb6c0bc2173e27a07",
       "version_major": 2,
       "version_minor": 0
      },
      "text/plain": [
       "Output()"
      ]
     },
     "metadata": {},
     "output_type": "display_data"
    },
    {
     "data": {
      "text/html": [
       "<pre style=\"white-space:pre;overflow-x:auto;line-height:normal;font-family:Menlo,'DejaVu Sans Mono',consolas,'Courier New',monospace\">/home/grantham/.cache/pypoetry/virtualenvs/windmark-gThMBSDt-py3.11/lib/python3.11/site-packages/lightning/pytorch/\n",
       "loops/prediction_loop.py:305: Couldn't infer the batch indices fetched from your dataloader: `DataLoader`\n",
       "</pre>\n"
      ],
      "text/plain": [
       "/home/grantham/.cache/pypoetry/virtualenvs/windmark-gThMBSDt-py3.11/lib/python3.11/site-packages/lightning/pytorch/\n",
       "loops/prediction_loop.py:305: Couldn't infer the batch indices fetched from your dataloader: `DataLoader`\n"
      ]
     },
     "metadata": {},
     "output_type": "display_data"
    }
   ],
   "source": [
    "wm.train(datapath=ledger, schema=schema, params=params, split=split)"
   ]
  },
  {
   "cell_type": "markdown",
   "metadata": {},
   "source": [
    "### Features currently in development:\n",
    "- Data quality checks and data exploration visualizations\n",
    "- Larger-than-memory data preprocessing (Spark)\n",
    "- Support for alternative supervised learning tasks (Regression, Survival)\n",
    "- Automatically generated report of model performance\n",
    "- Model deployment pipeline"
   ]
  }
 ],
 "metadata": {
  "kernelspec": {
   "display_name": "windmark-gThMBSDt-py3.11",
   "language": "python",
   "name": "python3"
  },
  "language_info": {
   "codemirror_mode": {
    "name": "ipython",
    "version": 3
   },
   "file_extension": ".py",
   "mimetype": "text/x-python",
   "name": "python",
   "nbconvert_exporter": "python",
   "pygments_lexer": "ipython3",
   "version": "3.11.8"
  }
 },
 "nbformat": 4,
 "nbformat_minor": 2
}
